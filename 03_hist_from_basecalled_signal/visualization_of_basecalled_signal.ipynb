{
 "cells": [
  {
   "cell_type": "markdown",
   "id": "a238dbc8",
   "metadata": {},
   "source": [
    "# Histograms from basecalled signals"
   ]
  },
  {
   "cell_type": "code",
   "execution_count": 1,
   "id": "200d6f7c",
   "metadata": {},
   "outputs": [],
   "source": [
    "import re\n",
    "import numpy as np\n",
    "import matplotlib.pyplot as plt\n",
    "from glob import glob\n",
    "\n",
    "import pysam\n",
    "\n",
    "from itertools import cycle\n",
    "color_cycle = cycle(['r', 'g', 'b', 'orange'])\n",
    "FS = 15 # fontsize"
   ]
  },
  {
   "cell_type": "code",
   "execution_count": 2,
   "id": "8c496f30",
   "metadata": {},
   "outputs": [],
   "source": [
    "def read_fast5(fname, single_or_multi_read, get_read_ids=False):\n",
    "    'from !bsc_szakdoga/github/python_scripts/fast5_analysis.ipynb'\n",
    "    from ont_fast5_api.fast5_interface import get_fast5_file\n",
    "    def raw_to_current(rawdata, offset, range_, digitisation):\n",
    "        return list((np.array(rawdata) + offset) * range_ / digitisation)\n",
    "    \n",
    "    if single_or_multi_read not in ['s', 'm']:\n",
    "        raise ValueError('single_or_multi variable must be \"s\" or \"m\".')\n",
    "    data = []\n",
    "    read_ids = []\n",
    "    with get_fast5_file(fname, mode=\"r\") as f:\n",
    "        for read in f.get_reads():\n",
    "            ch=read.get_channel_info()\n",
    "            data.append(raw_to_current(read.get_raw_data(), ch['offset'], ch['range'], ch['digitisation']))\n",
    "            if single_or_multi_read=='s':\n",
    "                read_ids.append(read.read_id)\n",
    "            if single_or_multi_read=='m':\n",
    "                read_ids.append(read.read_id)\n",
    "    if single_or_multi_read == 's':\n",
    "        if get_read_ids:\n",
    "            return np.array(data[0]), read_ids\n",
    "        return np.array(data[0]) # single read --> dim=1\n",
    "    elif single_or_multi_read == 'm':\n",
    "        if get_read_ids:\n",
    "            return np.array(data, dtype='object'), read_ids\n",
    "        return np.array(data, dtype='object')"
   ]
  },
  {
   "cell_type": "markdown",
   "id": "84f2ef1f",
   "metadata": {},
   "source": [
    "Number of indices in a SAM file's line: 21\n",
    "- fast5 file name: index=17\n",
    "- Read ID: index=0\n",
    "- bases: index=9\n",
    "- move table: index=11\n",
    "    - sequence: .spilt(',')[2:]\n",
    "    - stride: .spilt(',')[1]\n",
    "- raw signal trim offset: index=19"
   ]
  },
  {
   "cell_type": "code",
   "execution_count": 1,
   "id": "7fc6e8e0",
   "metadata": {},
   "outputs": [],
   "source": [
    "# a random line in SAM file\n",
    "x = ['000cbe51-4f2c-4a39-837e-83028141945e', '0', 'p300_ID3', '11', '60', '43S41M1I83M1D66M2D19M2D41M2D5M1D5M2D19M1I91M1D11M1D30M1I40M3D105M1D19M3D12M1D11M3D35M3D157M2D3M2I5M1I7M1I80M1D5M1D50M1D52M1I17M1I20M3D5M1D12M1D40M1I5M30S', '*', '0', '0', 'GCAATCCATGCTTCGTTCAGTTACGTGTGCTCTGCATATGCTGCAAATGCTGCAGGCATGGTTCCAGTTTCCATGAATCCAGGGCCCTAACATGGGACAACCGCAACCAGGAATGACTTCTAATGGCCCTCTACCTGGCCCAAGTATGATCCGTGGCAGTGTGCCAAACAGATGATGCCTCGAATAACTCCACAATCTGGTTTGAATCAATTTGGCCAGATGAGCATGGCCCAGCCCTATTGTACCCCGGCAAGCCTCCTCTTCAGCACCATGGACAGTTGGCTCAACCTGGAGCTCAACCGCCTGGGCTGTAGATGTCATGTCGCAACAGCCTTCCCAGCAGGGCCAGTTCCTTCCTCAGACTCAGTTCCCATCACAGGGAATGAATGTAACAAATATCCCTTTGGCTCCGTCCGTGGTCAAGCTCAGTGTCTCAAGCACAAATGTCTGGTTCTTCCCTGCCCGGTGAACTCTCCTATAGTGCCTCCAGGGTCTCAGAGCCACATTCACTGTCCCCAGCTTCCTCAACCAGCTCTTCATCAGAATTCACCCTCGCCTGTACCTAGTCGTACCCCCACCCCTCACCATACTCCCCCAAGCATGGGGCTCAGCAGCCACCGGCAGCAATTCCAGCCCTGTTCCTACTCCTGCCATGCCACCTGGGCCACGGTCCCAGGCTCATCCCCCTCCAAGGCAGACACCTACACCACCAACAACACAACTTCCCCAACAAGTGCAGCCTTCACTTCCTGCTGCACCTTCTGCTGACCAGCCCCAGCAGCAGCCTCGCTCGCAGCAGAGCACAGCAGCGTCTGTTCCTACCCCAGCAGCACCGCCTTCCCCTCCACCAGCCTCCCAACTCCACTTTCCCAGCCAGCTGTAAGCATTGAAGGACAGGTATCCGATCCTCCATCTACTGGTAGCACAGAAGTGAATATGAGCCATTGCTGAGAAGCAGCCTTCCCAGGAAGTGAAGATGGAGGCCAAAATGAAGTGGATCAACCAGAACCAGCAGATACTCAGCCGGAGGATGTTCCAGAGTCCTAAAGTGGAAGACTGTAAAAATGGAATCTACCGAAACAGAGAAAGCACTGAGTTAAAACTGAAATAAAAGAGGAGGAAGACCAGCCAAGTACTTCCAGCTGCTGATCATCTTGGGATCCAGTGGTGGTAA', \"#&'&11.%%%$$&$(.2)&.'($$%&$0(252*)/05556-+(.34151271-+68:3..)6)2,)*;<?9:8779;..42-'&9=<8<302''*6.10&''-00(.+'624<98834:*7<>;;88;:@<<912-$&&)(...9:>;=IB>9333101124634**'79;>>;9&&.7@6--0(+4/.05:8;/>6=81>AB:>AB3:5;<?13:>=9<:@:<>:7787:>=48<5-&)*.*,145303;:;$1-4669833439;<;=<:=:2/--=?77>;B>2;=;@=*;;>,5'75.678,(-92+**0($$'(.)(((%12)99079<@;:65%-(35:;88&5*5.-/-.40,77:=-*:>>7878:>7'$899AD000;21./-666+**=98,677698?669:5,#'/6;;5619:-(*++62**(*./-5-.1/-21.&'.-+/1%156447.&((&'+./.($/2//31&&46A=:38:8=75)%2%9:5/2)3571563:963237:;=5)7:<-;<>-:?6;C1>54258=79;9687>81399+1047868<6/,,7:;;0858;8>:;8:766<8;867;38587&&(7;=;520--;<><79&*43('-%)+.6:&=@<9:;<?;8)47831.55)**??B=?<236+.%&&*9<;-',447*/;?;:45:7869;9<76;;774'/+57:>=?=5<=.:3;5349GD=9:<3>06:76:9)8;CBD;++,3'$598=<<677=@=-:+14+,+'37;:9:538989584,0;98'/,9511401.0/16277.985367<75388401%/.$$&20(/-66741-.71%%53%5..%%689;=882///474+(,&'&.7;66/6176,25:749;0,,,*)/5(&)8:5;21(4..&01&+,,)**(/$9<:+++)$$##&&*+5&)+7:60(+=8:;098=>964579>B3;75699<>:B@?6;97/-(((.,9<>??64&4-())4/(6-899511:<?;91646+63:,,>7'0+1-1::9?><C<00*68537<7566?<:695=8@?4'11389-///.-:5?9)79;8%65*333,6&*26=;@591,023+000/395*(6*812,**68>786099%*#$#570;9=;.14AA:1+$'%&%%%%$%\", 'NM:i:75', 'ms:i:1811', 'AS:i:1796', 'nn:i:0', 'tp:A:P', 'cm:i:107', 's1:i:744', 's2:i:0', 'de:f:0.0526', 'rl:i:0', \"mv:array('b', [5, 1, 0, 0, 0, 0, 1, 1, 1, 0, 1, 1, 1, 0, 0, 0, 0, 0, 1, 0, 0, 1, 1, 0, 0, 0, 1, 1, 1, 0, 1, 0, 1, 0, 1, 1, 1, 0, 0, 1, 1, 0, 0, 1, 1, 0, 0, 1, 0, 1, 1, 0, 0, 0, 0, 0, 1, 1, 0, 0, 0, 0, 0, 1, 1, 0, 0, 0, 1, 1, 1, 0, 0, 1, 1, 0, 1, 1, 0, 1, 1, 0, 1, 1, 0, 0, 1, 1, 1, 0, 0, 1, 0, 1, 1, 0, 1, 0, 1, 1, 0, 0, 0, 0, 1, 0, 0, 0, 1, 1, 0, 0, 0, 0, 0, 0, 1, 0, 1, 1, 1, 0, 1, 0, 0, 1, 0, 1, 1, 0, 1, 0, 0, 1, 1, 0, 0, 1, 1, 0, 0, 1, 1, 0, 1, 1, 0, 1, 1, 1, 0, 1, 0, 1, 1, 0, 0, 1, 1, 0, 0, 0, 1, 1, 1, 0, 0, 0, 0, 0, 0, 0, 0, 0, 0, 1, 1, 1, 0, 0, 1, 0, 0, 0, 0, 1, 1, 0, 1, 0, 1, 0, 1, 1, 0, 0, 0, 1, 1, 0, 1, 1, 0, 1, 0, 1, 1, 0, 0, 0, 1, 0, 1, 1, 0, 1, 1, 1, 0, 1, 0, 1, 1, 0, 1, 1, 0, 0, 1, 1, 1, 1, 1, 0, 0, 0, 1, 1, 1, 0, 1, 1, 1, 1, 0, 0, 1, 0, 1, 1, 0, 1, 1, 0, 1, 0, 1, 1, 0, 1, 0, 1, 1, 0, 1, 0, 1, 0, 1, 1, 0, 0, 1, 1, 1, 0, 1, 1, 0, 1, 0, 1, 1, 0, 0, 1, 0, 0, 1, 1, 0, 0, 0, 1, 1, 1, 0, 0, 0, 0, 1, 1, 1, 0, 0, 0, 0, 0, 0, 0, 0, 0, 1, 0, 1, 1, 1, 0, 0, 1, 1, 1, 1, 1, 0, 1, 1, 0, 0, 1, 1, 0, 0, 1, 1, 0, 1, 0, 0, 1, 0, 0, 0, 0, 0, 1, 1, 1, 0, 0, 0, 1, 1, 1, 0, 1, 1, 0, 0, 1, 1, 0, 1, 1, 0, 1, 1, 1, 1, 1, 1, 1, 1, 1, 1, 0, 0, 0, 1, 0, 1, 0, 1, 1, 0, 0, 1, 1, 0, 0, 0, 1, 1, 0, 1, 0, 0, 0, 1, 1, 0, 1, 0, 0, 0, 0, 0, 0, 0, 1, 0, 1, 1, 0, 0, 1, 1, 0, 0, 0, 1, 1, 0, 1, 1, 0, 1, 0, 0, 1, 1, 0, 1, 1, 0, 0, 0, 1, 1, 1, 0, 0, 1, 1, 0, 0, 0, 1, 1, 0, 0, 1, 1, 0, 1, 1, 1, 0, 0, 0, 1, 1, 0, 0, 1, 0, 0, 0, 0, 1, 1, 0, 1, 1, 0, 1, 0, 0, 1, 1, 1, 1, 1, 0, 0, 1, 1, 1, 1, 1, 1, 1, 1, 0, 0, 1, 0, 1, 1, 0, 0, 1, 0, 1, 1, 0, 0, 0, 0, 0, 0, 1, 1, 1, 0, 1, 1, 0, 1, 1, 0, 1, 0, 1, 1, 0, 1, 1, 1, 1, 0, 0, 0, 1, 0, 1, 1, 1, 0, 1, 0, 1, 0, 1, 1, 1, 1, 0, 1, 1, 0, 0, 0, 1, 0, 1, 1, 0, 0, 0, 0, 1, 1, 0, 1, 1, 0, 0, 1, 1, 0, 1, 0, 1, 1, 0, 0, 1, 1, 1, 0, 0, 0, 0, 0, 0, 1, 1, 0, 0, 1, 1, 0, 0, 1, 0, 1, 1, 0, 0, 1, 1, 0, 0, 1, 0, 0, 1, 0, 1, 1, 1, 0, 0, 1, 1, 0, 0, 1, 1, 0, 1, 1, 0, 0, 1, 1, 0, 0, 0, 0, 0, 0, 0, 0, 0, 1, 0, 1, 1, 0, 0, 1, 1, 0, 1, 0, 1, 1, 1, 0, 1, 1, 1, 0, 0, 1, 1, 0, 0, 0, 0, 1, 1, 0, 0, 0, 1, 1, 0, 1, 0, 1, 1, 0, 0, 0, 0, 1, 0, 0, 0, 0, 1, 1, 1, 0, 1, 1, 1, 0, 1, 1, 1, 1, 0, 1, 1, 0, 0, 0, 0, 0, 0, 0, 1, 1, 1, 1, 0, 0, 1, 1, 0, 0, 1, 1, 1, 1, 0, 1, 1, 0, 1, 1, 0, 1, 1, 0, 1, 1, 0, 0, 0, 1, 0, 1, 1, 1, 0, 1, 0, 1, 0, 1, 1, 1, 1, 0, 1, 1, 0, 1, 1, 0, 1, 1, 0, 1, 1, 0, 0, 1, 1, 1, 0, 0, 1, 1, 1, 0, 1, 0, 0, 0, 0, 0, 1, 1, 0, 1, 1, 1, 0, 0, 1, 0, 1, 1, 1, 0, 1, 0, 0, 0, 1, 0, 0, 1, 1, 1, 1, 0, 0, 0, 1, 0, 0, 1, 1, 1, 0, 0, 0, 1, 0, 0, 1, 1, 1, 0, 1, 1, 0, 0, 1, 1, 0, 1, 0, 1, 1, 1, 0, 0, 0, 0, 0, 1, 1, 0, 1, 1, 0, 0, 0, 1, 1, 0, 0, 0, 0, 1, 1, 0, 0, 1, 1, 0, 1, 0, 1, 0, 1, 0, 0, 1, 1, 1, 0, 1, 0, 1, 1, 0, 0, 1, 1, 0, 0, 0, 1, 1, 0, 1, 0, 0, 1, 1, 1, 0, 0, 1, 1, 0, 0, 1, 1, 0, 0, 1, 0, 1, 1, 0, 1, 1, 1, 1, 1, 0, 1, 1, 0, 0, 1, 1, 0, 0, 1, 0, 1, 1, 0, 1, 1, 1, 0, 1, 1, 0, 0, 0, 1, 0, 1, 1, 1, 1, 0, 1, 1, 0, 1, 1, 1, 0, 0, 0, 0, 0, 0, 1, 0, 1, 1, 0, 1, 0, 0, 1, 1, 0, 0, 1, 1, 0, 0, 1, 1, 1, 0, 0, 1, 0, 0, 0, 0, 0, 0, 1, 1, 0, 0, 0, 1, 0, 0, 1, 1, 1, 1, 0, 1, 0, 1, 0, 1, 1, 1, 0, 0, 1, 1, 1, 0, 1, 1, 0, 1, 1, 1, 1, 1, 0, 1, 1, 0, 0, 1, 1, 0, 1, 1, 0, 0, 1, 1, 0, 1, 1, 0, 1, 1, 1, 0, 0, 1, 1, 0, 1, 0, 0, 1, 0, 1, 1, 0, 0, 0, 1, 1, 1, 1, 0, 1, 1, 0, 0, 1, 0, 0, 0, 1, 0, 1, 1, 0, 1, 0, 0, 1, 1, 0, 0, 0, 1, 0, 1, 1, 0, 0, 1, 1, 0, 0, 0, 1, 1, 0, 1, 1, 0, 1, 0, 1, 1, 0, 1, 1, 0, 1, 0, 0, 1, 1, 1, 1, 0, 1, 1, 0, 1, 0, 0, 1, 0, 0, 1, 1, 0, 0, 1, 1, 0, 1, 1, 0, 1, 1, 1, 0, 0, 0, 0, 1, 0, 1, 1, 0, 0, 1, 1, 1, 1, 0, 0, 0, 0, 0, 0, 1, 1, 0, 1, 0, 0, 0, 0, 0, 1, 1, 0, 0, 0, 1, 0, 0, 0, 0, 0, 0, 1, 1, 1, 1, 0, 1, 0, 1, 0, 1, 1, 1, 1, 0, 1, 1, 0, 1, 1, 1, 1, 1, 0, 0, 1, 0, 1, 1, 0, 1, 1, 0, 0, 1, 0, 1, 1, 0, 0, 1, 0, 0, 0, 0, 0, 1, 1, 0, 0, 0, 0, 1, 1, 0, 1, 1, 0, 0, 1, 1, 1, 1, 0, 0, 0, 1, 0, 0, 1, 1, 0, 0, 1, 1, 0, 1, 1, 0, 1, 0, 1, 0, 0, 0, 0, 0, 0, 0, 1, 1, 1, 1, 0, 0, 0, 0, 0, 1, 1, 0, 0, 1, 1, 0, 1, 1, 1, 0, 0, 0, 1, 1, 0, 0, 0, 0, 0, 0, 1, 0, 0, 1, 1, 0, 0, 1, 1, 0, 1, 0, 1, 0, 0, 1, 1, 0, 0, 0, 1, 1, 1, 1, 0, 0, 1, 1, 1, 0, 1, 0, 0, 0, 1, 1, 1, 0, 1, 0, 1, 1, 0, 0, 0, 0, 0, 1, 0, 1, 1, 1, 0, 0, 0, 1, 1, 0, 1, 0, 1, 1, 1, 0, 0, 1, 1, 0, 0, 1, 1, 0, 1, 0, 1, 1, 1, 0, 1, 1, 0, 0, 1, 1, 0, 0, 0, 1, 0, 1, 0, 0, 1, 1, 1, 1, 0, 1, 0, 1, 1, 0, 1, 1, 0, 1, 1, 1, 0, 1, 1, 0, 1, 1, 1, 0, 0, 0, 1, 1, 1, 0, 0, 0, 1, 1, 0, 0, 0, 1, 1, 0, 0, 0, 0, 0, 0, 1, 1, 0, 0, 1, 1, 1, 0, 0, 1, 1, 1, 0, 0, 1, 1, 1, 0, 1, 1, 0, 1, 1, 0, 0, 0, 0, 0, 0, 1, 0, 0, 0, 0, 0, 1, 0, 0, 0, 1, 1, 1, 0, 1, 1, 0, 1, 1, 1, 1, 1, 0, 0, 0, 1, 1, 0, 0, 1, 1, 0, 0, 0, 0, 1, 1, 0, 0, 1, 0, 0, 1, 1, 0, 1, 1, 0, 1, 1, 1, 1, 0, 0, 0, 0, 1, 1, 0, 1, 1, 0, 0, 1, 1, 0, 0, 1, 1, 0, 0, 1, 0, 1, 1, 0, 1, 1, 1, 0, 1, 1, 0, 1, 1, 0, 0, 0, 0, 1, 0, 0, 1, 1, 1, 0, 0, 0, 1, 0, 1, 0, 0, 1, 1, 0, 0, 1, 0, 0, 1, 1, 1, 1, 0, 0, 1, 1, 0, 1, 0, 1, 1, 0, 0, 0, 1, 0, 0, 0, 0, 1, 1, 0, 1, 1, 0, 1, 1, 0, 1, 1, 0, 1, 1, 0, 1, 1, 0, 0, 0, 1, 0, 1, 0, 0, 0, 0, 1, 1, 0, 1, 1, 0, 1, 1, 0, 1, 0, 1, 1, 0, 1, 1, 1, 1, 0, 1, 1, 1, 0, 0, 0, 1, 1, 0, 0, 1, 1, 0, 0, 1, 1, 0, 0, 0, 1, 1, 1, 0, 1, 1, 1, 1, 1, 0, 1, 1, 0, 0, 1, 1, 1, 0, 1, 0, 0, 1, 1, 0, 1, 1, 1, 1, 0, 0, 0, 1, 0, 1, 1, 1, 0, 1, 0, 1, 1, 0, 0, 1, 0, 0, 0, 1, 1, 0, 0, 0, 1, 1, 0, 0, 0, 0, 1, 1, 0, 1, 1, 1, 0, 0, 0, 0, 0, 1, 0, 1, 1, 1, 0, 0, 1, 1, 1, 1, 0, 0, 0, 1, 0, 1, 1, 0, 0, 1, 1, 1, 0, 0, 0, 1, 0, 0, 1, 1, 1, 0, 1, 1, 0, 1, 1, 1, 0, 0, 1, 1, 0, 1, 1, 1, 0, 0, 0, 0, 1, 1, 1, 0, 0, 0, 1, 0, 0, 1, 1, 0, 0, 1, 1, 0, 0, 1, 1, 1, 1, 0, 0, 0, 1, 0, 1, 1, 0, 1, 0, 1, 0, 0, 1, 0, 0, 1, 1, 1, 1, 1, 0, 0, 1, 1, 0, 1, 1, 0, 0, 1, 1, 0, 1, 1, 0, 0, 0, 1, 1, 0, 1, 1, 0, 0, 0, 0, 0, 1, 1, 1, 0, 1, 0, 0, 0, 1, 0, 1, 1, 0, 1, 0, 1, 1, 0, 1, 1, 0, 0, 0, 1, 0, 0, 0, 1, 1, 0, 0, 1, 1, 0, 0, 0, 0, 1, 1, 0, 0, 0, 1, 1, 0, 0, 0, 1, 0, 0, 0, 0, 0, 1, 1, 1, 0, 1, 0, 1, 1, 0, 0, 0, 0, 1, 1, 0, 0, 1, 1, 1, 1, 0, 0, 0, 0, 1, 1, 0, 0, 0, 0, 0, 1, 0, 1, 0, 1, 1, 0, 0, 0, 0, 0, 1, 1, 0, 0, 1, 1, 0, 0, 1, 1, 0, 0, 0, 1, 1, 0, 0, 1, 1, 1, 0, 1, 1, 0, 1, 0, 0, 1, 0, 0, 1, 1, 0, 1, 1, 0, 1, 1, 0, 0, 0, 0, 0, 1, 1, 1, 1, 0, 0, 1, 1, 0, 0, 0, 0, 0, 0, 0, 0, 0, 1, 1, 0, 0, 1, 0, 0, 1, 1, 1, 0, 0, 1, 1, 0, 0, 0, 1, 1, 1, 0, 0, 0, 1, 1, 0, 1, 1, 0, 1, 1, 0, 1, 0, 0, 0, 1, 1, 1, 0, 0, 1, 1, 0, 0, 0, 1, 1, 0, 1, 1, 0, 0, 0, 0, 0, 0, 0, 0, 0, 0, 0, 0, 0, 1, 1, 1, 1, 0, 0, 0, 0, 0, 1, 1, 1, 0, 0, 1, 1, 1, 0, 0, 0, 1, 1, 0, 0, 1, 1, 0, 0, 1, 0, 1, 1, 0, 1, 1, 0, 0, 1, 1, 1, 0, 0, 1, 1, 1, 0, 1, 1, 1, 0, 1, 1, 1, 0, 1, 1, 0, 0, 0, 1, 1, 0, 0, 0, 1, 1, 0, 1, 1, 0, 1, 0, 1, 1, 0, 1, 0, 0, 0, 0, 0, 0, 0, 0, 0, 1, 0, 0, 0, 0, 1, 1, 1, 0, 0, 0, 0, 1, 1, 1, 0, 0, 0, 0, 0, 0, 1, 1, 0, 0, 0, 0, 1, 0, 0, 1, 0, 1, 1, 1, 0, 1, 1, 0, 1, 1, 0, 0, 1, 1, 0, 0, 0, 0, 0, 1, 1, 0, 0, 0, 1, 1, 0, 1, 0, 0, 1, 1, 0, 0, 1, 0, 0, 0, 1, 0, 1, 1, 0, 0, 0, 0, 0, 1, 1, 0, 0, 0, 1, 1, 0, 0, 0, 1, 1, 0, 0, 1, 0, 0, 0, 1, 1, 0, 1, 1, 0, 0, 0, 0, 1, 1, 0, 1, 1, 0, 1, 1, 0, 1, 1, 0, 1, 1, 0, 1, 0, 1, 1, 0, 0, 0, 1, 1, 1, 0, 1, 1, 0, 0, 1, 1, 0, 0, 1, 0, 1, 1, 0, 0, 1, 1, 0, 0, 0, 1, 1, 1, 1, 0, 0, 0, 1, 1, 1, 0, 1, 1, 0, 1, 1, 0, 1, 1, 0, 0, 0, 0, 0, 1, 1, 1, 0, 0, 0, 0, 1, 1, 0, 0, 0, 0, 1, 1, 1, 0, 1, 1, 0, 0, 1, 0, 0, 0, 1, 0, 1, 1, 0, 0, 0, 0])\", 'qs:11', 'mx:1', 'ch:81', 'rn:20907', 'st:2023-05-04T14:14:54Z', 'f5:aok310_fail_79243871_ea11eee1_24.fast5', 'ns:11838', 'ts:80', 'RG:ea11eee16ddf064fa19494bde91891ec609b0aa5_2020-07-03_dna_r9.4.1_minion_384_8cfe4e0d']"
   ]
  },
  {
   "cell_type": "code",
   "execution_count": 2,
   "id": "8dded90e-32ea-44dc-9cea-300cbd846999",
   "metadata": {},
   "outputs": [
    {
     "name": "stdout",
     "output_type": "stream",
     "text": [
      "idx=0 -- 000cbe51-4f2c-4a39-837e-8...\n",
      "idx=1 -- 0\n",
      "idx=2 -- p300_ID3\n",
      "idx=3 -- 11\n",
      "idx=4 -- 60\n",
      "idx=5 -- 43S41M1I83M1D66M2D19M2D41...\n",
      "idx=6 -- *\n",
      "idx=7 -- 0\n",
      "idx=8 -- 0\n",
      "idx=9 -- GCAATCCATGCTTCGTTCAGTTACG...\n",
      "idx=10 -- #&'&11.%%%$$&$(.2)&.'($$%...\n",
      "idx=11 -- NM:i:75\n",
      "idx=12 -- ms:i:1811\n",
      "idx=13 -- AS:i:1796\n",
      "idx=14 -- nn:i:0\n",
      "idx=15 -- tp:A:P\n",
      "idx=16 -- cm:i:107\n",
      "idx=17 -- s1:i:744\n",
      "idx=18 -- s2:i:0\n",
      "idx=19 -- de:f:0.0526\n",
      "idx=20 -- rl:i:0\n",
      "idx=21 -- mv:array('b', [5, 1, 0, 0...\n",
      "idx=22 -- qs:11\n",
      "idx=23 -- mx:1\n",
      "idx=24 -- ch:81\n",
      "idx=25 -- rn:20907\n",
      "idx=26 -- st:2023-05-04T14:14:54Z\n",
      "idx=27 -- f5:aok310_fail_79243871_e...\n",
      "idx=28 -- ns:11838\n",
      "idx=29 -- ts:80\n",
      "idx=30 -- RG:ea11eee16ddf064fa19494...\n"
     ]
    }
   ],
   "source": [
    "max_chars = 25\n",
    "for i, key in enumerate(x):\n",
    "    if len(key)>max_chars:\n",
    "        print(f\"idx={i} -- {key[:max_chars]}...\")\n",
    "    else:\n",
    "        print(f\"idx={i} -- {key}\")\n",
    "        "
   ]
  },
  {
   "cell_type": "code",
   "execution_count": 4,
   "id": "980515ba",
   "metadata": {},
   "outputs": [],
   "source": [
    "def read_sam(sam_file_name):\n",
    "    with open(sam_file_name, 'r') as file:\n",
    "        sam_files = file.read().split('\\n')\n",
    "    result = []\n",
    "    for i in range(len(sam_files)-1):\n",
    "        sam = sam_files[i].split('\\t')\n",
    "        if len(sam)==31:\n",
    "            read_id = sam[0]\n",
    "            bases = list(sam[9]) # splitted to characters\n",
    "            stride = int(sam[21].split(',')[1].split('[')[1])\n",
    "            move_table = np.array(sam[21].split(',')[2:-2], dtype='int')\n",
    "            fast5_file = sam[27][3:]\n",
    "            trim_offset = int(sam[29][3:])\n",
    "            data = {'fast5_file_name':fast5_file, 'read_id':read_id,\n",
    "                    'bases':bases, 'move_table':move_table,\n",
    "                    'stride': stride, 'ts':trim_offset}\n",
    "            result.append(data)\n",
    "    print(f'read_sam(): {len(result)} lines in the SAM file.')\n",
    "    return np.array(result)\n",
    "\n",
    "\n",
    "def find_read_id_index(string_list, search_string):\n",
    "    string_array = np.array(string_list)\n",
    "    index = np.where(np.char.find(string_array, search_string) != -1)[0]\n",
    "    if len(index) == 1:\n",
    "        return index[0]\n",
    "    print(f'Error: no or more indices found; len(index)={len(index)}')\n",
    "    return None\n",
    "\n",
    "def split_raw_signal(raw_signal, move_table, stride):\n",
    "    start_of_bases = (np.where(move_table == 1)[0]) * stride\n",
    "    signals = [raw_signal[i:j] for i, j in zip(start_of_bases, start_of_bases[1:])]\n",
    "    mean_signals = [np.mean(raw_signal[i:j]) for i, j in zip(start_of_bases, start_of_bases[1:])]\n",
    "    return start_of_bases, signals, mean_signals\n",
    "\n",
    "def replace_T_to_U(data):\n",
    "    for record in data:\n",
    "        record['bases'] = ['U' if base == 'T' else base for base in record['bases']]\n",
    "    return np.array(data)"
   ]
  },
  {
   "cell_type": "code",
   "execution_count": 6,
   "id": "415f8a35",
   "metadata": {},
   "outputs": [],
   "source": [
    "def clip_reads_to_region(input_file, output_file, ref_name, start, end):\n",
    "    # Ágitól ()\n",
    "    with pysam.AlignmentFile(input_file, \"r\") as infile, pysam.AlignmentFile(output_file, \"w\", header=infile.header) as outfile:\n",
    "        for read in infile.fetch(ref_name, start, end):\n",
    "            if not read.is_unmapped:\n",
    "                new_seq = ''\n",
    "                new_qual = ''\n",
    "                ref_pos = read.reference_start\n",
    "                seq_pos = 0\n",
    "\n",
    "                for length, op in read.cigartuples:\n",
    "                    if op == 0:  # Match or mismatch (M)\n",
    "                        for _ in range(length):\n",
    "                            if start <= ref_pos < end:\n",
    "                                new_seq += read.query_sequence[seq_pos]\n",
    "                                new_qual += chr(read.query_qualities[seq_pos] + 33)\n",
    "                            ref_pos += 1\n",
    "                            seq_pos += 1\n",
    "                    elif op == 1:  # Insertion (I)\n",
    "                        seq_pos += length\n",
    "                    elif op == 2:  # Deletion (D)\n",
    "                        ref_pos += length\n",
    "                    elif op == 4:  # Soft clipping (S)\n",
    "                        seq_pos += length\n",
    "                    elif op == 5:  # Hard clipping (H)\n",
    "                        continue\n",
    "                    elif op == 6:  # Padding (P)\n",
    "                        continue\n",
    "\n",
    "                # Ensure the read spans the entire region\n",
    "                if read.reference_start <= start and read.reference_end >= end:\n",
    "                    if new_seq:\n",
    "                        read.query_sequence = new_seq\n",
    "                        read.query_qualities = new_qual\n",
    "                        read.reference_start = max(read.reference_start, start)\n",
    "                        outfile.write(read)\n",
    "    return None"
   ]
  },
  {
   "cell_type": "markdown",
   "id": "13b442b0",
   "metadata": {},
   "source": [
    "---\n",
    "# Uracil"
   ]
  },
  {
   "cell_type": "code",
   "execution_count": 5,
   "id": "694dcdb9",
   "metadata": {},
   "outputs": [],
   "source": [
    "path_to_Uracil_sam = '/v/projects/nanopore/balazs/data/uracil_0504/'\n",
    "path_to_Uracil_fast5 = '/v/projects/nanopore/agnes/signal_visualization/uracil0504/guppy/workspace/'\n",
    "\n",
    "U_sam_files = glob(path_to_Uracil_sam+'*0.sam')\n",
    "U_sam_files = sorted(U_sam_files, key=lambda x: int(re.search(r'_(\\d+)_0\\.sam$', x).group(1)))\n",
    "\n",
    "#U_fast5_files = glob(path_to_Uracil_fast5+'*.fast5')"
   ]
  },
  {
   "cell_type": "markdown",
   "id": "79c0a988",
   "metadata": {},
   "source": [
    "**Example**"
   ]
  },
  {
   "cell_type": "code",
   "execution_count": 6,
   "id": "514cbe84",
   "metadata": {
    "scrolled": true
   },
   "outputs": [
    {
     "name": "stdout",
     "output_type": "stream",
     "text": [
      "read_sam(): 3739 lines in the SAM file.\n"
     ]
    }
   ],
   "source": [
    "# Read SAM file\n",
    "data = read_sam(U_sam_files[2])\n",
    "fast5_file_path = path_to_Uracil_fast5 + data[0]['fast5_file_name']\n",
    "fast5_signals, read_ids = read_fast5(fast5_file_path, 'm', get_read_ids=True)"
   ]
  },
  {
   "cell_type": "code",
   "execution_count": 35,
   "id": "f3e7d4d4",
   "metadata": {},
   "outputs": [],
   "source": [
    "data = replace_T_to_U(data)"
   ]
  },
  {
   "cell_type": "code",
   "execution_count": 36,
   "id": "8922b8e5",
   "metadata": {},
   "outputs": [],
   "source": [
    "read_id_index = find_read_id_index(read_ids, data[0]['read_id'])"
   ]
  },
  {
   "cell_type": "code",
   "execution_count": 37,
   "id": "f91944f2",
   "metadata": {},
   "outputs": [],
   "source": [
    "signal = fast5_signals[read_id_index][data[0]['ts']:]"
   ]
  },
  {
   "cell_type": "code",
   "execution_count": 38,
   "id": "60d6a739",
   "metadata": {},
   "outputs": [],
   "source": [
    "start_of_bases, splitted_signal, mean_signals = split_raw_signal(signal, data[0]['move_table'], data[0]['stride'])"
   ]
  },
  {
   "cell_type": "code",
   "execution_count": 42,
   "id": "ad584431",
   "metadata": {},
   "outputs": [
    {
     "data": {
      "image/png": "[encoded data removed]",
      "text/plain": [
       "<Figure size 1200x600 with 1 Axes>"
      ]
     },
     "metadata": {},
     "output_type": "display_data"
    }
   ],
   "source": [
    "xlim_min, xlim_max = 0, 250\n",
    "\n",
    "plt.figure(figsize=(12,6))\n",
    "plt.xlim(xlim_min, xlim_max)\n",
    "#plt.plot(signal, 'o--', color='cyan', markersize=2, linewidth=1)\n",
    "plt.plot(signal, 'o', color='k', markersize=2)\n",
    "\n",
    "plt.hlines(mean_signals, start_of_bases[:-1], start_of_bases[1:], color='red')\n",
    "x = np.array([start_of_bases[:-1], start_of_bases[1:]]).mean(axis=0)\n",
    "where = np.where((start_of_bases <= xlim_max) & (start_of_bases>=xlim_min))[0]\n",
    "#for i in range(where[0], where[-1]):\n",
    "#    plt.text(x[i]-1, mean_signals[i]+1, data[0]['bases'][i], color='red')\n",
    "    \n",
    "#plt.title('Part of the Dataset Uracil', fontsize=FS+3)\n",
    "plt.xlabel('Signal index', fontsize=FS)\n",
    "plt.ylabel('Signal value [pA]', fontsize=FS)\n",
    "plt.grid()\n",
    "plt.ylim(40,130)\n",
    "plt.savefig('figures/signal_example.pdf', bbox_inches='tight')"
   ]
  },
  {
   "cell_type": "code",
   "execution_count": 53,
   "id": "d9a6a39d-985d-4557-af68-6ebd0a6cde4d",
   "metadata": {},
   "outputs": [
    {
     "data": {
      "image/png": "[encoded data removed]",
      "text/plain": [
       "<Figure size 1200x600 with 1 Axes>"
      ]
     },
     "metadata": {},
     "output_type": "display_data"
    }
   ],
   "source": [
    "np.random.seed(42)\n",
    "segments = [\n",
    "    (0, 50, 96),\n",
    "    (50, 80, 106),\n",
    "    (80, 120, 70),\n",
    "    (120, 150, 64),\n",
    "    (150, 180, 100),\n",
    "    (180, 195, 112),\n",
    "    (195, 230, 83),\n",
    "    (230, 250, 91)\n",
    "]\n",
    "n = 250\n",
    "signal_sim = np.zeros(n)\n",
    "for start, end, value in segments:\n",
    "    signal_sim[start:end] = value\n",
    "\n",
    "noise = np.random.normal(0, 2, n)\n",
    "noisy_signal = signal_sim + noise\n",
    "indices = np.arange(n)\n",
    "\n",
    "\n",
    "plt.figure(figsize=(12,6))\n",
    "plt.scatter(indices, noisy_signal, color='black', s=10)\n",
    "for start, end, value in segments:\n",
    "    plt.plot(indices[start:end], [value] * (end - start), color='red', linewidth=2)\n",
    "\n",
    "plt.xlabel('Signal index', fontsize=FS)\n",
    "plt.ylabel('Signal value [pA]', fontsize=FS)\n",
    "plt.grid()\n",
    "plt.ylim(40,130)\n",
    "plt.xlim(0,250)\n",
    "plt.savefig('figures/signal_simulation.pdf', bbox_inches='tight')\n",
    "plt.show()"
   ]
  },
  {
   "cell_type": "code",
   "execution_count": 14,
   "id": "863f7f49",
   "metadata": {},
   "outputs": [],
   "source": [
    "input_file = U_sam_files[0]\n",
    "output_file = \"../../data/uracil_0405_regions/clipped_region.sam\"\n",
    "ref_name = \"reference_name\"  # replace with your reference name\n",
    "start = 1000  # replace with your start position\n",
    "end = 2000    # replace with your end position\n",
    "\n",
    "#clip_reads_to_region(input_file, output_file, ref_name, start, end)"
   ]
  },
  {
   "cell_type": "code",
   "execution_count": null,
   "id": "21f7148e",
   "metadata": {},
   "outputs": [],
   "source": [
    "sam_file_tr =  pysam.AlignmentFile(input_file, mode=\"r\", check_sq=False)"
   ]
  },
  {
   "cell_type": "code",
   "execution_count": null,
   "id": "d462d270",
   "metadata": {},
   "outputs": [],
   "source": [
    "sam_file_tr.references"
   ]
  },
  {
   "cell_type": "code",
   "execution_count": null,
   "id": "0cf37502",
   "metadata": {},
   "outputs": [],
   "source": [
    "import pysam\n",
    "import subprocess\n",
    "\n",
    "def check_bam_file(bam_file):\n",
    "    try:\n",
    "        # Check if BAM file has a proper header\n",
    "        header = pysam.view(\"-H\", bam_file)\n",
    "        if not header:\n",
    "            print(f\"Error: BAM file {bam_file} is missing a header.\")\n",
    "            return False\n",
    "\n",
    "        # Check if BAM file is indexed\n",
    "        if not pysam.index(bam_file):\n",
    "            print(f\"Indexing BAM file {bam_file}.\")\n",
    "            pysam.index(bam_file)\n",
    "        \n",
    "        # Verify the BAM file\n",
    "        result = subprocess.run([\"samtools\", \"quickcheck\", bam_file], capture_output=True)\n",
    "        if result.returncode != 0:\n",
    "            print(f\"Error: BAM file {bam_file} is corrupted or invalid.\")\n",
    "            return False\n",
    "        \n",
    "        return True\n",
    "    except Exception as e:\n",
    "        print(f\"An error occurred: {e}\")\n",
    "        return False\n",
    "\n",
    "def get_reference_names(bam_file):\n",
    "    if not check_bam_file(bam_file):\n",
    "        return []\n",
    "\n",
    "    with pysam.AlignmentFile(bam_file, \"r\") as infile:\n",
    "        references = infile.references\n",
    "    return references\n",
    "\n",
    "# Example usage:\n",
    "input_bam =\"/v/projects/nanopore/agnes/signal_visualization/uracil0504/guppy/pass/bam_runid_ea11eee16ddf064fa19494bde91891ec609b0aa5_0_0.bam\"\n",
    "\n",
    "ref_names = get_reference_names(input_bam)\n",
    "if not ref_names:\n",
    "    print(\"No references found or BAM file is invalid.\")\n",
    "else:\n",
    "    print(\"Available reference names:\", ref_names)\n"
   ]
  },
  {
   "cell_type": "markdown",
   "id": "5ebafebf",
   "metadata": {},
   "source": [
    "---\n",
    "# Thymine"
   ]
  },
  {
   "cell_type": "code",
   "execution_count": null,
   "id": "9380ce56",
   "metadata": {},
   "outputs": [],
   "source": [
    "# OLD codes\n",
    "path_to_Thymine = ('/v/volumes/nanopore/timin_uracil/0421Timin/no_sample/' +\n",
    "                 '20230421_1152_MC-114328_aoa546_235c7b69/fast5_pass/')\n",
    "fnames_T = glob(path_to_Thymine+'*')\n",
    "len_fnames_T = len(fnames_T)\n",
    "len_fnames_T # more multi reads"
   ]
  },
  {
   "cell_type": "code",
   "execution_count": null,
   "id": "e208a3df",
   "metadata": {},
   "outputs": [],
   "source": [
    "Thymine = read_fast5(fnames_T[0], 'm')\n",
    "Thymine.shape"
   ]
  },
  {
   "cell_type": "code",
   "execution_count": null,
   "id": "6e259cff",
   "metadata": {},
   "outputs": [],
   "source": []
  }
 ],
 "metadata": {
  "finalized": {
   "timestamp": 1716907623250,
   "trusted": true
  },
  "kernelspec": {
   "display_name": "Python [conda env:base] *",
   "language": "python",
   "name": "conda-base-py"
  },
  "language_info": {
   "codemirror_mode": {
    "name": "ipython",
    "version": 3
   },
   "file_extension": ".py",
   "mimetype": "text/x-python",
   "name": "python",
   "nbconvert_exporter": "python",
   "pygments_lexer": "ipython3",
   "version": "3.12.2"
  }
 },
 "nbformat": 4,
 "nbformat_minor": 5
}
