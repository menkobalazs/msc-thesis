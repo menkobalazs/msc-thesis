{
 "cells": [
  {
   "cell_type": "markdown",
   "id": "5d102b1c",
   "metadata": {},
   "source": [
    "# Covert `Guppy`'s `.bam` file to `.sam` file to get `move_table`\n",
    "\n",
    "```pyython\n",
    "%%bash\n",
    "samtools view \"$BAM\" > \"$DEST\"\n",
    "```"
   ]
  },
  {
   "cell_type": "code",
   "execution_count": 1,
   "id": "d62ef262",
   "metadata": {},
   "outputs": [
    {
     "name": "stdout",
     "output_type": "stream",
     "text": [
      "\n",
      "Program: samtools (Tools for alignments in the SAM format)\n",
      "Version: 1.6 (using htslib 1.6)\n",
      "\n",
      "Usage:   samtools <command> [options]\n",
      "\n",
      "Commands:\n",
      "  -- Indexing\n",
      "     dict           create a sequence dictionary file\n",
      "     faidx          index/extract FASTA\n",
      "     index          index alignment\n",
      "\n",
      "  -- Editing\n",
      "     calmd          recalculate MD/NM tags and '=' bases\n",
      "     fixmate        fix mate information\n",
      "     reheader       replace BAM header\n",
      "     rmdup          remove PCR duplicates\n",
      "     targetcut      cut fosmid regions (for fosmid pool only)\n",
      "     addreplacerg   adds or replaces RG tags\n",
      "     markdup        mark duplicates\n",
      "\n",
      "  -- File operations\n",
      "     collate        shuffle and group alignments by name\n",
      "     cat            concatenate BAMs\n",
      "     merge          merge sorted alignments\n",
      "     mpileup        multi-way pileup\n",
      "     sort           sort alignment file\n",
      "     split          splits a file by read group\n",
      "     quickcheck     quickly check if SAM/BAM/CRAM file appears intact\n",
      "     fastq          converts a BAM to a FASTQ\n",
      "     fasta          converts a BAM to a FASTA\n",
      "\n",
      "  -- Statistics\n",
      "     bedcov         read depth per BED region\n",
      "     depth          compute the depth\n",
      "     flagstat       simple stats\n",
      "     idxstats       BAM index stats\n",
      "     phase          phase heterozygotes\n",
      "     stats          generate stats (former bamcheck)\n",
      "\n",
      "  -- Viewing\n",
      "     flags          explain BAM flags\n",
      "     tview          text alignment viewer\n",
      "     view           SAM<->BAM<->CRAM conversion\n",
      "     depad          convert padded BAM to unpadded BAM\n",
      "\n"
     ]
    }
   ],
   "source": [
    "%%bash\n",
    "samtools --help"
   ]
  },
  {
   "cell_type": "markdown",
   "id": "1cb782fa-bc91-4acb-a8f9-032cdd9b7887",
   "metadata": {},
   "source": [
    "## Example\n",
    "\n",
    "```python\n",
    "%%bash\n",
    "# only one file\n",
    "\n",
    "DEST=/v/projects/nanopore/balazs/data/uracil_0405_sam_move_table/bam_0_0.sam\n",
    "BAM_FILES=/v/projects/nanopore/agnes/signal_visualization/uracil0504/guppy/pass/\n",
    "BAM_0_0=bam_runid_ea11eee16ddf064fa19494bde91891ec609b0aa5_0_0.bam\n",
    "BAM_FULL_PATH=${BAM_FILES}${BAM_0_0}\n",
    "\n",
    "samtools view $BAM_FULL_PATH > $DEST\n",
    "```"
   ]
  },
  {
   "cell_type": "markdown",
   "id": "a9048b2b",
   "metadata": {},
   "source": [
    "## Create SAM files from `timin0421` data"
   ]
  },
  {
   "cell_type": "code",
   "execution_count": 4,
   "id": "bbdf0fd0",
   "metadata": {},
   "outputs": [],
   "source": [
    "%%bash\n",
    "# for all files\n",
    "\n",
    "# Directory containing BAM files\n",
    "BAM_FILES=\"/v/projects/nanopore/agnes/signal_visualization/data/timin0421/pass/\"\n",
    "# Destination directory for SAM files\n",
    "DEST_DIR=\"/v/projects/nanopore/balazs/data/thymine_0421_sam_move_table/\"\n",
    "\n",
    "# Ensure the destination directory exists\n",
    "mkdir -p $DEST_DIR\n",
    "\n",
    "# Iterate through all BAM files in the BAM_FILES directory\n",
    "for BAM in ${BAM_FILES}*.bam; do\n",
    "    # Extract the base name of the BAM file (without directory and extension)\n",
    "    BAM_BASE=$(basename \"$BAM\" .bam)\n",
    "    # Construct the full path for the destination SAM file\n",
    "    DEST=\"${DEST_DIR}${BAM_BASE}.sam\"\n",
    "    # Convert BAM to SAM and save to the destination\n",
    "    samtools view \"$BAM\" > \"$DEST\"\n",
    "    # Sort SAM file\n",
    "    samtools sort -n \"$DEST\" -o \"$DEST\" ## use 'sort -n' for sort by read id\n",
    "    sed -i '1d' \"$DEST\"\n",
    "done\n"
   ]
  },
  {
   "cell_type": "markdown",
   "id": "1ef6e02e-d9cb-4e9b-bcbb-4ee133c96f18",
   "metadata": {},
   "source": [
    "## Create SAM files from `uracil0504` data"
   ]
  },
  {
   "cell_type": "code",
   "execution_count": 5,
   "id": "83d5c012-fd64-4c84-b716-698b3e1645c1",
   "metadata": {},
   "outputs": [
    {
     "name": "stderr",
     "output_type": "stream",
     "text": [
      "[bam_sort_core] merging from 1 files and 1 in-memory blocks...\n"
     ]
    }
   ],
   "source": [
    "%%bash\n",
    "# for all files\n",
    "\n",
    "# Directory containing BAM files\n",
    "BAM_FILES=\"/v/projects/nanopore/agnes/signal_visualization/uracil0504/guppy/pass/\"\n",
    "# Destination directory for SAM files\n",
    "DEST_DIR=\"/v/projects/nanopore/balazs/data/uracil_0405_sam_move_table/\"\n",
    "\n",
    "# Ensure the destination directory exists\n",
    "mkdir -p $DEST_DIR\n",
    "\n",
    "# Iterate through all BAM files in the BAM_FILES directory\n",
    "for BAM in ${BAM_FILES}*.bam; do\n",
    "    # Extract the base name of the BAM file (without directory and extension)\n",
    "    BAM_BASE=$(basename \"$BAM\" .bam)\n",
    "    # Construct the full path for the destination SAM file\n",
    "    DEST=\"${DEST_DIR}${BAM_BASE}.sam\"\n",
    "    # Convert BAM to SAM and save to the destination\n",
    "    samtools view \"$BAM\" > \"$DEST\"\n",
    "    # Sort SAM file\n",
    "    samtools sort -n \"$DEST\" -o \"$DEST\" ## use 'sort -n' for sort by read id\n",
    "    sed -i '1d' \"$DEST\"\n",
    "done\n"
   ]
  }
 ],
 "metadata": {
  "finalized": {
   "timestamp": 1732113308424,
   "trusted": true
  },
  "kernelspec": {
   "display_name": "Python [conda env:base] *",
   "language": "python",
   "name": "conda-base-py"
  },
  "language_info": {
   "codemirror_mode": {
    "name": "ipython",
    "version": 3
   },
   "file_extension": ".py",
   "mimetype": "text/x-python",
   "name": "python",
   "nbconvert_exporter": "python",
   "pygments_lexer": "ipython3",
   "version": "3.12.2"
  }
 },
 "nbformat": 4,
 "nbformat_minor": 5
}
