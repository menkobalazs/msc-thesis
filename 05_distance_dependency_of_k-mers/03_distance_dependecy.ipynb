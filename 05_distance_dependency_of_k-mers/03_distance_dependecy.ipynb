{
 "cells": [
  {
   "cell_type": "code",
   "execution_count": 1,
   "id": "b5d9e00a-6adf-40bf-9dec-b202421ae8e2",
   "metadata": {},
   "outputs": [],
   "source": [
    "import re\n",
    "import numpy as np\n",
    "import pandas as pd\n",
    "import matplotlib.pyplot as plt\n",
    "from glob import glob\n",
    "from tqdm import tqdm\n",
    "\n",
    "FS = 12 # fontsize"
   ]
  },
  {
   "cell_type": "code",
   "execution_count": 2,
   "id": "69580878-b0fa-4922-b2aa-ca09271c4941",
   "metadata": {},
   "outputs": [],
   "source": [
    "def read_fast5(fname, single_or_multi_read, get_read_ids=False):\n",
    "    'read only one fast5 file'\n",
    "    from ont_fast5_api.fast5_interface import get_fast5_file\n",
    "    def raw_to_current(rawdata, offset, range_, digitisation):\n",
    "        return list((np.array(rawdata) + offset) * range_ / digitisation)\n",
    "    \n",
    "    if single_or_multi_read not in ['s', 'm']:\n",
    "        raise ValueError('single_or_multi variable must be \"s\" or \"m\".')\n",
    "    data = []\n",
    "    read_ids = []\n",
    "    with get_fast5_file(fname, mode=\"r\") as f:\n",
    "        for read in f.get_reads():\n",
    "            ch=read.get_channel_info()\n",
    "            data.append(raw_to_current(read.get_raw_data(), ch['offset'], ch['range'], ch['digitisation']))\n",
    "            read_ids.append(read.read_id)\n",
    "    if single_or_multi_read == 's':\n",
    "        if get_read_ids:\n",
    "            return np.array(data[0]), read_ids\n",
    "        return np.array(data[0]) # single read --> dim=1\n",
    "    elif single_or_multi_read == 'm':\n",
    "        if get_read_ids:\n",
    "            return np.array(data, dtype='object'), read_ids\n",
    "        return np.array(data, dtype='object')\n",
    "\n",
    "def find_read_id_index(string_list, search_string):\n",
    "    string_array = np.array(string_list)\n",
    "    index = np.where(np.char.find(string_array, search_string) != -1)[0]\n",
    "    if len(index) == 1:\n",
    "        return index[0]\n",
    "    print(f'Error: no or more indices found; len(index)={len(index)}')\n",
    "    return None\n",
    "\n",
    "def split_raw_signal(raw_signal, move_table, stride):\n",
    "    start_of_bases = (np.where(move_table == 1)[0]) * stride\n",
    "    signals = [raw_signal[i:j] for i, j in zip(start_of_bases, start_of_bases[1:])]\n",
    "    mean_signals = [np.mean(raw_signal[i:j]) for i, j in zip(start_of_bases, start_of_bases[1:])]\n",
    "    return start_of_bases, signals, mean_signals\n",
    "\n",
    "def replace_T_to_U(data):\n",
    "    if  type(data) not in [list, np.ndarray]:\n",
    "        raise TypeError(f'sam_file_names must be a list')\n",
    "    for record in tqdm(data, total=len(data), desc='Replacing'):\n",
    "        record['sequence'] = np.array(['U' if base == 'T' else base for base in record['sequence']])\n",
    "    return np.array(data)"
   ]
  },
  {
   "cell_type": "code",
   "execution_count": 3,
   "id": "d52f027d-20ed-4d75-9108-c2cba44241ee",
   "metadata": {},
   "outputs": [],
   "source": [
    "def get_data(sam):\n",
    "    pattern = re.compile(r'(\\d+)([MIDNSHP=X])')\n",
    "    cigar_str = np.array(pattern.findall(sam[5])).T\n",
    "    mv_table = np.fromstring(sam[21].split(\"[\")[1].split(\"]\")[0], sep=',', dtype=int)\n",
    "    return  {\n",
    "        'read_id':sam[0], \n",
    "        'sam_flag':int(sam[1]),\n",
    "        'mapped_position':int(sam[3]),\n",
    "        'map_quality':int(sam[4]),\n",
    "        'cigar_str':(cigar_str[0].astype(int), cigar_str[1]),\n",
    "        'sequence':np.array(list(sam[9])),\n",
    "        'move_table':mv_table[1:],\n",
    "        'stride':mv_table[0],\n",
    "        'trim_offset':int(sam[29][3:]),\n",
    "        'fast5_file_name':sam[27][3:]\n",
    "       } \n",
    "\n",
    "def read_sam(sam_file_names, min_length=0, max_length=1e5, min_MAPQ=0, wrong_flags={4, 256, 272, 2048, 2064}):\n",
    "    ''' read sam file '''\n",
    "    ### For more files\n",
    "    if  type(sam_file_names) == list:\n",
    "        all_sam_data = []\n",
    "        for sam_file_name in tqdm(sam_file_names, total=len(sam_file_names), desc='Loading data'):\n",
    "            with open(sam_file_name, 'r') as file:\n",
    "                sam_file = file.read().split('\\n')[:-1]\n",
    "                sam_file = [line for line in sam_file if not line.startswith('@')]\n",
    "            one_sam_data = []\n",
    "            for line in sam_file:\n",
    "                sam = line.split('\\t')\n",
    "                # There are cases, when tags (or the whole sequence) are missing (or in a few cases one line added.)\n",
    "                if len(sam)==31:\n",
    "                    data = get_data(sam)\n",
    "                    if (len(data['sequence']) <= max_length and\n",
    "                        len(data['sequence']) >= min_length and\n",
    "                        data['map_quality'] >= min_MAPQ and\n",
    "                        data['sam_flag'] not in wrong_flags                     \n",
    "                       ): one_sam_data.append(data)\n",
    "            all_sam_data.append(np.array(one_sam_data, dtype='object'))\n",
    "        return np.hstack(all_sam_data, dtype='object')\n",
    "        \n",
    "    ### For only one file\n",
    "    elif  type(sam_file_names) == str:\n",
    "        with open(sam_file_names, 'r') as file:\n",
    "            sam_file = file.read().split('\\n')[:-1]\n",
    "            sam_file = [line for line in sam_file if not line.startswith('@')]\n",
    "        sam_data = []\n",
    "        for line in tqdm(sam_file,  total=len(sam_file), desc=\"Loading file\"):\n",
    "            sam = line.split('\\t')\n",
    "            if len(sam)==31:\n",
    "                data = get_data(sam)\n",
    "                if (len(data['sequence']) <= max_length and\n",
    "                    len(data['sequence']) >= min_length and\n",
    "                    data['map_quality'] >= min_MAPQ and\n",
    "                    data['sam_flag'] not in wrong_flags                     \n",
    "                   ): sam_data.append(data)\n",
    "        return np.array(sam_data, dtype='object')\n",
    "\n",
    "    else:\n",
    "        raise TypeError(f\"'sam_file_names' must be a string or list of strings, not {type(sam_file_names)}\")"
   ]
  },
  {
   "cell_type": "code",
   "execution_count": 28,
   "id": "af5a61c6-1c1a-4887-8aac-f88bc65e660f",
   "metadata": {},
   "outputs": [],
   "source": [
    "def get_feature_from_sam_data(data, feature):\n",
    "    return np.array([entry[feature] for entry in data ], dtype='object')\n",
    "\n",
    "def search_in_data(data, key, element):\n",
    "    for entry in data:\n",
    "        if entry[key] == element:\n",
    "            return entry\n",
    "    return None"
   ]
  },
  {
   "cell_type": "markdown",
   "id": "93811d14-f6be-42d7-a4ed-8bcbd3e780f0",
   "metadata": {},
   "source": [
    "---\n",
    "# Reference file"
   ]
  },
  {
   "cell_type": "code",
   "execution_count": 5,
   "id": "1ef1330a-a20f-4bf3-a9ac-9481056f0999",
   "metadata": {},
   "outputs": [
    {
     "name": "stdout",
     "output_type": "stream",
     "text": [
      "Length of ref sequence: 1164\n"
     ]
    },
    {
     "data": {
      "text/plain": [
       "array(['A', 'A', 'C', ..., 'C', 'A', 'G'], dtype='<U1')"
      ]
     },
     "execution_count": 5,
     "metadata": {},
     "output_type": "execute_result"
    }
   ],
   "source": [
    "with open(\"/v/volumes/nanopore/ref/p300_ID3.fasta\", 'r') as file:\n",
    "    p300_ID3_ref = file.read().split('\\n')[1]\n",
    "p300_ID3_ref = np.array(list(p300_ID3_ref))\n",
    "print(f'Length of ref sequence: {len(p300_ID3_ref)}')\n",
    "p300_ID3_ref"
   ]
  },
  {
   "cell_type": "markdown",
   "id": "788cc864-94e4-4d0c-b9e7-850cbff37c55",
   "metadata": {},
   "source": [
    "The position of that thymine which has the furthest distances from another thymine in both two directions."
   ]
  },
  {
   "cell_type": "code",
   "execution_count": 6,
   "id": "3288bae4-a093-41d1-95b3-45e062259392",
   "metadata": {},
   "outputs": [
    {
     "name": "stdout",
     "output_type": "stream",
     "text": [
      "The position: 692\n",
      "Distances: [ 6 15 20  1]\n"
     ]
    },
    {
     "data": {
      "text/plain": [
       "array(['T', 'C', 'C', 'A', 'A', 'G', 'G', 'C', 'A', 'G', 'A', 'C', 'A',\n",
       "       'C', 'C', 'T', 'A', 'C', 'A', 'C', 'C', 'A', 'C', 'C', 'A', 'A',\n",
       "       'C', 'A', 'A', 'C', 'A', 'C', 'A', 'A', 'C', 'T'], dtype='<U1')"
      ]
     },
     "execution_count": 6,
     "metadata": {},
     "output_type": "execute_result"
    }
   ],
   "source": [
    "def find_the_greatest_neighbors(dst):\n",
    "    'Squared geometric mean'\n",
    "    geom_mean_sq = []\n",
    "    for i in range(len(dst)-1):\n",
    "        geom_mean_sq.append(dst[i]*dst[i+1] )\n",
    "    return np.argmax(geom_mean_sq)+1\n",
    "\n",
    "positions = np.where(p300_ID3_ref == 'T')[0]\n",
    "distances = np.diff(positions)\n",
    "position = find_the_greatest_neighbors(distances)\n",
    "print(f\"The position: {positions[position]}\")\n",
    "print(f\"Distances: {distances[position-2: position+2]}\")\n",
    "p300_ID3_ref[positions[position]-15:positions[position]+21]"
   ]
  },
  {
   "cell_type": "code",
   "execution_count": 7,
   "id": "ba5a0ad2-0763-48ac-a87a-3b81ce34820d",
   "metadata": {},
   "outputs": [
    {
     "data": {
      "text/plain": [
       "array(['G', 'C', 'T', 'C', 'C', 'A', 'G', 'T', 'G', 'T', 'C', 'T', 'C',\n",
       "       'A', 'A', 'G', 'C', 'A', 'C', 'A', 'A'], dtype='<U1')"
      ]
     },
     "execution_count": 7,
     "metadata": {},
     "output_type": "execute_result"
    }
   ],
   "source": [
    "p300_ID3_ref[399:420]"
   ]
  },
  {
   "cell_type": "markdown",
   "id": "1ccf767e-6d06-4c56-936c-4b1e84c5c048",
   "metadata": {},
   "source": [
    "---\n",
    "# Thymine\n",
    "\n",
    "### Questions:\n",
    "- read reverse strand: should I mirror the sequence? $\\xrightarrow{}$ No, it means complementer chain."
   ]
  },
  {
   "cell_type": "code",
   "execution_count": 8,
   "id": "0f42f88f-289e-45d8-aee3-a797ad82b15d",
   "metadata": {},
   "outputs": [],
   "source": [
    "#path_to_Thymine_fast5 = '/v/projects/nanopore/agnes/signal_visualization/data/timin0421/workspace/'\n",
    "#T_fast5_files = glob(path_to_Thymine_fast5+'*.fast5')\n",
    "#idx1 = 0\n",
    "#T_fast5_file_path = path_to_Thymine_fast5 + T_sam_data[idx1]['fast5_file_name']\n",
    "#fast5_signals, read_ids = read_fast5(T_fast5_file_path, 'm', get_read_ids=True)"
   ]
  },
  {
   "cell_type": "code",
   "execution_count": 24,
   "id": "27426181-2b8b-4133-a47e-b711eb356b84",
   "metadata": {},
   "outputs": [
    {
     "name": "stderr",
     "output_type": "stream",
     "text": [
      "Loading data: 100%|██████████| 7/7 [00:08<00:00,  1.22s/it]\n"
     ]
    }
   ],
   "source": [
    "T_sam_data = read_sam(sorted(glob(\"/v/projects/nanopore/balazs/data/thymine_0421/*0.sam\")),\n",
    "                      min_length=len(p300_ID3_ref)*0.6,\n",
    "                      max_length=len(p300_ID3_ref)*1.1, # more than 100 inserted bases\n",
    "                      min_MAPQ=40,\n",
    "                     )"
   ]
  },
  {
   "cell_type": "code",
   "execution_count": 10,
   "id": "d3da0473-2eb8-4451-b934-96b56cc4410e",
   "metadata": {},
   "outputs": [
    {
     "data": {
      "text/plain": [
       "{'read_id': '00a040a3-847b-4397-bf7e-cbb8fc77fa97',\n",
       " 'sam_flag': 0,\n",
       " 'mapped_position': 4,\n",
       " 'map_quality': 60,\n",
       " 'cigar_str': (array([ 28,  48,   1,  88,   1,  60,   2,   5,   1,   5,   3,   8,   1,\n",
       "           5,   1,  67,   2,   7,   2,  72,   1,  99,   1,  96,   1,  56,\n",
       "           3,   4,   1,  49,   1,  63,   2,  13,   2,  29,   1,  49,   1,\n",
       "          13,   1,  36,   1,   5,   1,   3,   1, 181,   1,  47,   3,  35,\n",
       "           9]),\n",
       "  array(['S', 'M', 'D', 'M', 'I', 'M', 'D', 'M', 'I', 'M', 'D', 'M', 'I',\n",
       "         'M', 'I', 'M', 'I', 'M', 'I', 'M', 'I', 'M', 'D', 'M', 'D', 'M',\n",
       "         'I', 'M', 'I', 'M', 'I', 'M', 'D', 'M', 'I', 'M', 'I', 'M', 'I',\n",
       "         'M', 'I', 'M', 'I', 'M', 'D', 'M', 'D', 'M', 'D', 'M', 'I', 'M',\n",
       "         'S'], dtype='<U3')),\n",
       " 'sequence': array(['A', 'T', 'A', ..., 'G', 'T', 'G'], dtype='<U1'),\n",
       " 'move_table': array([1, 1, 0, ..., 0, 0, 0]),\n",
       " 'stride': 5,\n",
       " 'trim_offset': 125,\n",
       " 'fast5_file_name': 'aoa546_pass_235c7b69_db4f2d16_18.fast5'}"
      ]
     },
     "execution_count": 10,
     "metadata": {},
     "output_type": "execute_result"
    }
   ],
   "source": [
    "T_sam_data[0] # random read from the data"
   ]
  },
  {
   "cell_type": "code",
   "execution_count": 11,
   "id": "dee696ae-7f80-4a83-9da4-ec8fae323a31",
   "metadata": {},
   "outputs": [
    {
     "data": {
      "text/plain": [
       "1203"
      ]
     },
     "execution_count": 11,
     "metadata": {},
     "output_type": "execute_result"
    }
   ],
   "source": [
    "T_sam_data[0]['sequence'].shape[0]"
   ]
  },
  {
   "cell_type": "code",
   "execution_count": 14,
   "id": "a4227467-4707-4101-946e-24825ac9294a",
   "metadata": {},
   "outputs": [],
   "source": [
    "#np.array([T_sam_data[0]['cigar_str'][0], T_sam_data[0]['cigar_str'][1]]).T"
   ]
  },
  {
   "cell_type": "code",
   "execution_count": null,
   "id": "484c07df-3e54-4e27-a37b-ab6636b8974d",
   "metadata": {},
   "outputs": [],
   "source": []
  },
  {
   "cell_type": "code",
   "execution_count": null,
   "id": "e613ed85-31d1-4985-a1ab-2ac145cad243",
   "metadata": {},
   "outputs": [],
   "source": [
    "xlim_min=0\n",
    "xlim_max=50\n",
    "\n",
    "plt.hist(possible_positions, bins=max(possible_positions), color='blue', alpha=0.7)\n",
    "plt.yscale('log')\n",
    "plt.xlim(xlim_min, xlim_max)\n",
    "plt.grid('dotted')\n",
    "plt.xticks(np.arange(xlim_min, xlim_max, 2)+0.5, np.arange(xlim_min, xlim_max, 2))\n",
    "plt.show()"
   ]
  },
  {
   "cell_type": "code",
   "execution_count": null,
   "id": "63814b18-06b1-4896-96c6-e52348cae122",
   "metadata": {},
   "outputs": [],
   "source": [
    "all_bases_T = get_feature_from_sam_data(T_sam_data, 'sequence')\n",
    "\n",
    "all_bases_length_T = []\n",
    "for item in all_bases_T:\n",
    "    all_bases_length_T.append(len(item))\n",
    "\n",
    "plt.plot(sorted(all_bases_length_T))\n",
    "plt.grid()"
   ]
  },
  {
   "cell_type": "markdown",
   "id": "b090ffdb-fdbb-4dd3-bd6a-5098a87da517",
   "metadata": {},
   "source": [
    "---\n",
    "# Uracil"
   ]
  },
  {
   "cell_type": "code",
   "execution_count": 34,
   "id": "d9953916-4ba1-48d2-96a9-32538ab924f8",
   "metadata": {},
   "outputs": [
    {
     "name": "stderr",
     "output_type": "stream",
     "text": [
      "Loading data: 100%|██████████| 67/67 [01:42<00:00,  1.53s/it]\n"
     ]
    }
   ],
   "source": [
    "U_sam_data = read_sam(sorted(glob(\"/v/projects/nanopore/balazs/data/uracil_0504/*0.sam\")),\n",
    "                      min_length=len(p300_ID3_ref)*0.5,\n",
    "                      max_length=len(p300_ID3_ref)*1.1,\n",
    "                      min_MAPQ=40,\n",
    "                     )"
   ]
  },
  {
   "cell_type": "code",
   "execution_count": 37,
   "id": "9ea60302-a4d9-4ed0-b3ba-5a7f3c9074e6",
   "metadata": {},
   "outputs": [
    {
     "data": {
      "text/plain": [
       "1"
      ]
     },
     "execution_count": 37,
     "metadata": {},
     "output_type": "execute_result"
    }
   ],
   "source": [
    "sum(get_feature_from_sam_data(U_sam_data, 'read_id') == '064d1dc6-8970-4302-abeb-4aaa1147e82d')"
   ]
  },
  {
   "cell_type": "code",
   "execution_count": null,
   "id": "1b9de0ff-1177-4400-9362-086c7072bc7b",
   "metadata": {},
   "outputs": [],
   "source": [
    "U_sam_data.shape"
   ]
  },
  {
   "cell_type": "code",
   "execution_count": null,
   "id": "7e632cc6-0a72-4f42-b1a2-48d08de907d3",
   "metadata": {},
   "outputs": [],
   "source": [
    "mapq = get_feature_from_sam_data(U_sam_data, 'map_quality')"
   ]
  },
  {
   "cell_type": "code",
   "execution_count": null,
   "id": "e8c00244-46ad-4ca2-b0ef-a75ae94425c6",
   "metadata": {},
   "outputs": [],
   "source": [
    "plt.plot(mapq)"
   ]
  },
  {
   "cell_type": "code",
   "execution_count": 57,
   "id": "f3a905d3-83b7-4f52-9445-4ccbd80e5ecd",
   "metadata": {},
   "outputs": [],
   "source": [
    "path_to_Uracil_fast5 = '/v/projects/nanopore/agnes/signal_visualization/uracil0504/guppy/workspace/'\n",
    "U_fast5_files = glob(path_to_Uracil_fast5+'*.fast5')\n",
    "\n",
    "#index_of_fast5 = 0\n",
    "#fast5_file_path = path_to_Uracil_fast5 + U_sam_data[index_of_fast5]['fast5_file_name']\n",
    "#fast5_signals, read_ids = read_fast5(fast5_file_path, 'm', get_read_ids=True)"
   ]
  },
  {
   "cell_type": "code",
   "execution_count": null,
   "id": "bedfc0e7-8273-4c4a-903a-9a7efdd69232",
   "metadata": {},
   "outputs": [],
   "source": [
    "# Replace thymine to uracil\n",
    "#U_sam_data = replace_T_to_U(U_sam_data) # ~3min"
   ]
  },
  {
   "cell_type": "code",
   "execution_count": null,
   "id": "e7bbe6d2-566d-4ffc-8b8e-0c8d2ed69365",
   "metadata": {},
   "outputs": [],
   "source": [
    "all_bases_U = get_feature_from_sam_data(U_sam_data, 'sequence')\n",
    "\n",
    "all_bases_length_U = []\n",
    "for item in all_bases_U:\n",
    "    all_bases_length_U.append(len(item))\n",
    "\n",
    "plt.plot(sorted(all_bases_length_U))\n",
    "plt.grid()"
   ]
  },
  {
   "cell_type": "code",
   "execution_count": 58,
   "id": "092f171a-a85f-480c-840c-b36f3233fc49",
   "metadata": {},
   "outputs": [],
   "source": [
    "pileup_first_read = search_in_data(U_sam_data, 'read_id', '064d1dc6-8970-4302-abeb-4aaa1147e82d')"
   ]
  },
  {
   "cell_type": "code",
   "execution_count": 64,
   "id": "96264563-a1b9-4e93-bde3-630ce8b4155e",
   "metadata": {},
   "outputs": [],
   "source": [
    "fast5_file_path = path_to_Uracil_fast5 + pileup_first_read['fast5_file_name']\n",
    "fast5_signals, read_ids = read_fast5(fast5_file_path, 'm', get_read_ids=True)"
   ]
  },
  {
   "cell_type": "code",
   "execution_count": 75,
   "id": "f789fea0-6ad6-4792-b8b3-8dc93ba5e178",
   "metadata": {},
   "outputs": [],
   "source": [
    "read_index = np.where(np.array(read_ids) == '064d1dc6-8970-4302-abeb-4aaa1147e82d')[0][0]"
   ]
  },
  {
   "cell_type": "code",
   "execution_count": 84,
   "id": "919c5076-fc35-40c0-8461-60220aa1dffb",
   "metadata": {},
   "outputs": [
    {
     "data": {
      "text/plain": [
       "[<matplotlib.lines.Line2D at 0x713aa3ebe480>]"
      ]
     },
     "execution_count": 84,
     "metadata": {},
     "output_type": "execute_result"
    },
    {
     "data": {
      "image/png": "[encoded data removed]",
      "text/plain": [
       "<Figure size 640x480 with 1 Axes>"
      ]
     },
     "metadata": {},
     "output_type": "display_data"
    }
   ],
   "source": [
    "plt.plot(fast5_signals[read_index][4746:4900])"
   ]
  },
  {
   "cell_type": "code",
   "execution_count": 97,
   "id": "0efd4b49-a808-4195-955a-b80eef2407b8",
   "metadata": {},
   "outputs": [
    {
     "data": {
      "text/plain": [
       "(array([ 33,  37,   2,   6,   1, 177,   1, 150,   1,  26,   1,  72,   1,\n",
       "         64,   1,   9,   1,   9,   1, 181,   1, 175,   2,  36,   1,  27,\n",
       "          1,  72,   2,  20,   6,  24,   1,   9,   2,  36,  16]),\n",
       " array(['S', 'M', 'D', 'M', 'D', 'M', 'D', 'M', 'D', 'M', 'I', 'M', 'D',\n",
       "        'M', 'I', 'M', 'I', 'M', 'D', 'M', 'D', 'M', 'D', 'M', 'D', 'M',\n",
       "        'D', 'M', 'I', 'M', 'D', 'M', 'D', 'M', 'I', 'M', 'S'], dtype='<U3'))"
      ]
     },
     "execution_count": 97,
     "metadata": {},
     "output_type": "execute_result"
    }
   ],
   "source": [
    "pileup_first_read['cigar_str']"
   ]
  },
  {
   "cell_type": "code",
   "execution_count": null,
   "id": "da0b2371-ee79-49f9-9bb2-df5fad1493c1",
   "metadata": {},
   "outputs": [],
   "source": []
  },
  {
   "cell_type": "code",
   "execution_count": 98,
   "id": "3315580a-cbf5-4fff-b999-8bf08ad12321",
   "metadata": {},
   "outputs": [
    {
     "data": {
      "text/plain": [
       "array(['C', 'A', 'G', 'T', 'G', 'T', 'C', 'T', 'C', 'A', 'A'], dtype='<U1')"
      ]
     },
     "execution_count": 98,
     "metadata": {},
     "output_type": "execute_result"
    }
   ],
   "source": [
    "pileup_first_read['sequence'][33+399:33+410]"
   ]
  }
 ],
 "metadata": {
  "kernelspec": {
   "display_name": "Python [conda env:base] *",
   "language": "python",
   "name": "conda-base-py"
  },
  "language_info": {
   "codemirror_mode": {
    "name": "ipython",
    "version": 3
   },
   "file_extension": ".py",
   "mimetype": "text/x-python",
   "name": "python",
   "nbconvert_exporter": "python",
   "pygments_lexer": "ipython3",
   "version": "3.12.2"
  }
 },
 "nbformat": 4,
 "nbformat_minor": 5
}
