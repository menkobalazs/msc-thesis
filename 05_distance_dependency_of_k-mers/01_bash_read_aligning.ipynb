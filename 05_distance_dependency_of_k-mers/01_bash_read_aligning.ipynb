{
 "cells": [
  {
   "cell_type": "markdown",
   "id": "e1e08347-ec6a-4308-ad07-c78ab115518f",
   "metadata": {},
   "source": [
    "# [SAM file format](https://www.metagenomics.wiki/tools/samtools/bam-sam-file-format)\n",
    "```python\n",
    "%%bash\n",
    "samtools --help\n",
    "```"
   ]
  },
  {
   "cell_type": "markdown",
   "id": "d0b01994-fafc-4d29-bc8f-d8ea6a20cb18",
   "metadata": {},
   "source": [
    "# Minimap2 - [Manual Page](https://lh3.github.io/minimap2/minimap2.html)\n",
    "\n",
    "```python\n",
    "%%bash\n",
    "minimap2=/v/scratch/tools/minimap2/minimap2\n",
    "$minimap2 --help\n",
    "```"
   ]
  },
  {
   "cell_type": "markdown",
   "id": "0c7ebb2c",
   "metadata": {},
   "source": [
    "---\n",
    "# Create SAM files from `timin0421` data"
   ]
  },
  {
   "cell_type": "code",
   "execution_count": null,
   "id": "e85db0d5-7703-42e2-bcd3-7818b30db9c8",
   "metadata": {},
   "outputs": [],
   "source": [
    "%%bash\n",
    "BAM_FILES=\"/v/projects/nanopore/agnes/signal_visualization/data/timin0421/pass/\"\n",
    "SORTED_BAM_FILES=\"/v/projects/nanopore/balazs/data/thymine_0421/temp_bam/\"\n",
    "mkdir -p $SORTED_BAM_FILES\n",
    "\n",
    "for BAM in ${BAM_FILES}*.bam; do\n",
    "    BAM_BASE=$(basename \"$BAM\" .bam)\n",
    "    samtools sort -n \"${BAM_FILES}${BAM_BASE}.bam\" -o \"${SORTED_BAM_FILES}${BAM_BASE}.bam\"\n",
    "done"
   ]
  },
  {
   "cell_type": "code",
   "execution_count": null,
   "id": "64ea09ca-beb0-45d0-a18e-60488de2e451",
   "metadata": {},
   "outputs": [],
   "source": [
    "import os\n",
    "import pysam\n",
    "from glob import glob\n",
    "\n",
    "def filename_from_path(path):\n",
    "    return path.split('/')[-1]\n",
    "\n",
    "bam_files = glob(\"/v/projects/nanopore/balazs/data/thymine_0421/temp_bam/*\")\n",
    "fastq_path = \"/v/projects/nanopore/balazs/data/thymine_0421/temp_fasq/\"\n",
    "os.mkdir(fastq_path)\n",
    "\n",
    "for bam in bam_files:\n",
    "    bam_file = pysam.AlignmentFile(bam, \"rb\", check_sq=False)\n",
    "    with open(fastq_path+filename_from_path(bam)[:-3]+\"fastq\", \"w\") as fq_out:\n",
    "        for read in bam_file:\n",
    "            if read.is_unmapped:\n",
    "                # Get the tags (it returns a list of tuples)\n",
    "                tags = read.get_tags()\n",
    "                # Convert tags to a string for the FASTQ header\n",
    "                metadata = \"\\t\".join(f\"{tag}:{value}\" for tag, value in tags)\n",
    "                # Write the read to FASTQ format with metadata in the header\n",
    "                fq_out.write(f\"@{read.query_name} {metadata}\\n\")\n",
    "                fq_out.write(f\"{read.query_sequence}\\n\")\n",
    "                fq_out.write(\"+\\n\")\n",
    "                fq_out.write(f\"{read.qual}\\n\")"
   ]
  },
  {
   "cell_type": "code",
   "execution_count": null,
   "id": "6fd6dd22-4792-4d82-a957-832d98604ae9",
   "metadata": {
    "scrolled": true
   },
   "outputs": [],
   "source": [
    "%%bash\n",
    "minimap2=/v/scratch/tools/minimap2/minimap2\n",
    "\n",
    "REF_SEQUENCE=\"/v/volumes/nanopore/ref/p300_ID3.fasta\"\n",
    "FASTQ_FILES=\"/v/projects/nanopore/balazs/data/thymine_0421/temp_fasq/\"\n",
    "SAM_PATH=\"/v/projects/nanopore/balazs/data/thymine_0421/\"\n",
    "\n",
    "for FASTQ in ${FASTQ_FILES}*.fastq; do\n",
    "    FASTQ_BASE=$(basename \"$FASTQ\" .fastq)\n",
    "    $minimap2 -ax map-ont -y -t 8 \"$REF_SEQUENCE\" \"${FASTQ_FILES}${FASTQ_BASE}.fastq\" > \"${SAM_PATH}mapped_${FASTQ_BASE}.sam\"\n",
    "done"
   ]
  },
  {
   "cell_type": "code",
   "execution_count": null,
   "id": "779dd2e4-d113-4f5e-be0f-76ed30f98589",
   "metadata": {},
   "outputs": [],
   "source": [
    "%%bash\n",
    "BAM_FILES=\"/v/projects/nanopore/balazs/data/thymine_0421/temp_bam/\"\n",
    "FASTQ_FILES=\"/v/projects/nanopore/balazs/data/thymine_0421/temp_fasq/\"\n",
    "\n",
    "rm -r \"${BAM_FILES}\"\n",
    "rm -r \"${FASTQ_FILES}\""
   ]
  },
  {
   "cell_type": "code",
   "execution_count": 1,
   "id": "6f670d55-bab9-4c9a-b634-9c34fbbc9259",
   "metadata": {},
   "outputs": [
    {
     "name": "stdout",
     "output_type": "stream",
     "text": [
      "@HD\tVN:1.6\tSO:unsorted\tGO:query\n",
      "@SQ\tSN:p300_ID3\tLN:1164\n",
      "@PG\tID:minimap2\tPN:minimap2\tVN:2.28-r1209\tCL:minimap2 -ax map-ont -y -t 8 /v/volumes/nanopore/ref/p300_ID3.fasta /v/projects/nanopore/balazs/data/thymine_0421/fasq/basecalls.fastq\n",
      "000b042c-f087-49bf-8ed3-e0b385e3bb5b\t0\tp300_ID3\t4\t60\t32S48M1D54M2D33M1D54M1D4M1D6M4D60M1D53M5D8M1I21M2D40M1D13M3D4M2I40M1I2M4D4M2D107M1D79M1D4M2D9M1D35M2D153M2I21M1I24M1I77M1D43M1D40M3D24M1D16M1I39M10S\t*\t0\t0\tAATGTACTTCGTTCCAGTTACGTATTGCTCTTATGCTACCAAATGCTGCAGGCATGGTTCCAGTTTCCATGAATCCAGGGCTAACATGGGACAGCCGCAGCCAGGAATGACTTCTAATGGCCCTCTACCTGACCAGTATGATCCGTGGCAGTGTGCCAAGCCAGATGTTACTCGAATAACTCCACAATCTGGTTTGAATCAATTTGGCCAGATGAGCATGGCCAGCCCCTAACCCCGGCAAGCCCCTCCTCTTCAGCACCATGGACGATTGGCTCAACCTGGAGCTCTCAACCGCCTATGGGCTATGGGCCTCGTATGCAACAGCCTTCCAACCAGGGCCAGTTCTCAGACTCCAGTTCCCATCACAGGGAATGGGCAACAAATATCCCTTTGGCTCCGTCCAGCGGTCAAGCTCAGTGTCTCAAGCTTTGTCTCTAGTTCTTCCTGCCCGGTGAACTCTCCTATAATGCCCCTCACTCAGGAGCCACATTCACTGTCCCCAGCTTCCTCAACCAGCTCTTCATCAGAATTCACCCTCGCCTGTACCTAGTCGTACCCCCACCCCTCACCATACTCCCCCAAGCATAGGGCTCAGCAGCCACCAGCAACAACAATTCCAGCCCCTGTTCCTACACCTCCTGCCATGCCACCTGGGCCACAGTCCCAGCTCCATCCCCCTCAAGGCAGACACCTGCACCACCAGCAACACAACTTACAACAGGTGCAGCCTTCACTTCCTGCTGCACCTTCTGCTGATCAGCCCCAGCAGCAGCCTCGCTCACAGCAGAGCACAGCAGCGTCTGTTCCTACCCCAACAGCACCGCTGCTTCCTCCGCAGCCTACAACTCCACTTTCCCAGCCAGCTGTAAAAGCATTGAAGGACAGGTATCAAAATCCTCCATCTACTAGTAGCACAAGAAGTGAATTCTCAGGCCATTGCTGAGAAGCAGCCTTCCCAGGAAGTGAAGATGGAGGCCAAAATGGAAGTGGATCAGCAGAACCAGCAGATACTCAGCCGGAGGATATTTCAGAGTCTAAGTGGAAGACTGTAAAATGGAATCTACCGAAACAGAAGAAAGCACTGAGTTAAAAACTGAAATAAAGAGGAGGAAGACCTGGCCAAGTACTTCAGCTACCCAGTCATCTTAGGATCCAGCAATGCATGC\t'&$$$'(()30071-(++-////2452246'''*==>;;<<<??@??<<;6699;76688.++11/15/012588'%)'+(*-47<=<:7:89;:7666++++1138=>?<=?@;><<<<><:8866;;8:970(%%***+689.,--:::;9={7855&&&&''*)**('&'''%'*++.-)&)+,/=9:=>>??A>?>53442433'&+47651-,,&&'''*+2,*.3440/.++,-024657;9788;=>;2222;;<;:86*((((..19//24478))))=;{9)(('457;;;<<<<777676698899<<==5533778=>><433.//7:;65578(().6877((*889=<;<;:3211679:8,'&&')-.9:;:=<,2<=3224<6332)&')('(+))1123''22:;980(&'''%$$%(+)('''(;<>=:<>97666899=<<99656;<;<<<<))++%#%&+,*'()))267<>>=<==><;;1000563+;<7666:<<=>?@>;?5&%&*8;533246/./065555;;;;;'&%%%&5::78:>:<:97;<<<<<:8<=:=:>>;+**18::33==6666;;;;<<4444;;<><?7545310/05=?@::;;:8;;@??=>=>?>??>><>===>;:7765322/.14,%'.076/**+)+02,+198;88''''::<><....??A{AA>84567:<0002::9:9:BC=;:;>:>????@?=<<<?>@@000/3.*,,,6767211'***&'().378=9<:;;2113***),,/679<<>=10/002:;5455:::644469<<>;460)*+*++)''%%/01527?@@A>=<///0,+++;**))1168;;<=>=<:0)*579?::>23<322;28;;676***)&%&%&%$(*.122>8?>=;***.:99;,55:=@>>1101669;;>=<>98:855452;;;;:::59:;6554('*+/46<<<:+**+6:96,++++++***&&(..*+)0538:;<<@4*&&(*)-.)3667--.756<>>=5899:=<=<;92001@>;71,*-*(',269:98::>@@FD=:::=BA@?./589:>>;/1<79/(''(((''('&(+%&**))('()*+,<<9:<9666;.,16337//,'(%\tNM:i:73\tms:i:1897\tAS:i:1876\tnn:i:0\ttp:A:P\tcm:i:110\ts1:i:783\ts2:i:0\tde:f:0.0455\trl:i:0\tmv:array('b', [5, 1, 1, 0, 0, 0, 1, 1, 1, 0, 0, 1, 0, 1, 0, 0, 1, 0, 0, 1, 0, 0, 0, 0, 1, 0, 1, 0, 1, 0, 0, 0, 0, 0, 1, 0, 1, 1, 0, 1, 0, 0, 1, 1, 1, 0, 0, 0, 1, 0, 1, 0, 0, 1, 0, 1, 1, 0, 0, 1, 0, 1, 0, 0, 1, 1, 0, 1, 1, 0, 1, 1, 1, 1, 0, 1, 1, 1, 1, 1, 1, 0, 1, 1, 1, 0, 1, 0, 1, 1, 0, 1, 0, 1, 0, 0, 0, 0, 0, 0, 0, 1, 0, 1, 0, 0, 0, 0, 1, 1, 0, 1, 0, 1, 1, 0, 1, 1, 1, 0, 1, 0, 1, 1, 1, 0, 1, 1, 0, 1, 0, 1, 1, 1, 0, 1, 1, 0, 1, 0, 1, 1, 0, 0, 1, 0, 1, 1, 0, 1, 1, 1, 0, 1, 1, 0, 1, 1, 1, 0, 1, 1, 0, 1, 1, 0, 1, 1, 1, 1, 0, 1, 0, 1, 0, 1, 0, 0, 1, 0, 1, 0, 1, 0, 1, 0, 1, 1, 0, 1, 1, 0, 1, 1, 1, 1, 0, 1, 0, 1, 0, 1, 1, 0, 0, 0, 0, 1, 0, 1, 0, 1, 1, 0, 0, 0, 1, 1, 1, 0, 1, 0, 1, 1, 0, 1, 0, 1, 1, 1, 1, 1, 0, 1, 1, 0, 1, 1, 1, 1, 0, 1, 0, 1, 0, 1, 0, 1, 0, 1, 1, 0, 1, 0, 1, 0, 1, 0, 1, 1, 1, 0, 0, 0, 1, 0, 0, 0, 0, 0, 0, 1, 0, 0, 0, 0, 0, 1, 0, 1, 1, 0, 1, 1, 1, 1, 0, 0, 1, 1, 0, 1, 1, 1, 1, 0, 1, 1, 0, 1, 0, 1, 0, 1, 0, 0, 1, 0, 1, 0, 1, 0, 1, 0, 0, 1, 1, 0, 1, 0, 1, 1, 1, 1, 0, 1, 1, 1, 1, 0, 1, 1, 0, 1, 0, 0, 0, 1, 1, 0, 1, 1, 1, 0, 1, 1, 0, 1, 1, 1, 0, 1, 0, 1, 1, 0, 1, 1, 0, 0, 0, 1, 0, 1, 0, 0, 1, 1, 0, 0, 1, 0, 0, 1, 1, 0, 1, 0, 1, 1, 0, 1, 1, 0, 1, 1, 0, 0, 0, 1, 0, 1, 0, 0, 0, 1, 1, 0, 1, 1, 0, 1, 0, 1, 1, 1, 0, 1, 0, 1, 0, 1, 1, 0, 0, 0, 0, 1, 0, 1, 0, 1, 0, 1, 1, 1, 0, 1, 0, 0, 1, 0, 1, 1, 0, 1, 1, 1, 1, 1, 1, 1, 1, 0, 1, 1, 1, 1, 1, 1, 0, 1, 1, 1, 1, 0, 1, 1, 0, 0, 0, 1, 0, 1, 0, 1, 0, 1, 0, 1, 1, 0, 1, 1, 1, 0, 1, 1, 0, 1, 1, 0, 1, 0, 1, 1, 0, 1, 0, 0, 0, 0, 1, 0, 0, 0, 1, 1, 1, 0, 1, 0, 0, 1, 1, 1, 0, 1, 1, 1, 0, 1, 1, 0, 1, 0, 1, 0, 1, 1, 0, 1, 1, 0, 1, 1, 1, 0, 0, 1, 0, 0, 1, 0, 0, 1, 1, 0, 1, 0, 0, 1, 0, 1, 0, 0, 0, 1, 0, 1, 0, 1, 0, 1, 0, 0, 1, 0, 0, 1, 1, 0, 0, 1, 1, 0, 0, 0, 1, 0, 1, 0, 0, 1, 0, 1, 0, 0, 1, 1, 0, 1, 0, 1, 1, 1, 1, 0, 1, 0, 1, 1, 0, 0, 1, 1, 0, 0, 1, 0, 0, 0, 0, 0, 0, 1, 1, 0, 0, 0, 1, 0, 1, 0, 1, 0, 0, 1, 0, 1, 1, 1, 0, 1, 1, 0, 0, 1, 1, 1, 0, 1, 1, 1, 1, 0, 1, 1, 1, 1, 1, 1, 1, 0, 1, 1, 1, 1, 0, 1, 0, 0, 0, 0, 0, 1, 0, 1, 0, 1, 0, 1, 0, 1, 0, 0, 1, 0, 0, 0, 0, 0, 1, 1, 0, 0, 1, 1, 0, 1, 0, 1, 1, 0, 0, 1, 0, 1, 1, 1, 1, 0, 1, 1, 1, 0, 1, 1, 0, 1, 1, 0, 1, 1, 1, 0, 0, 1, 1, 1, 0, 1, 0, 1, 0, 1, 1, 0, 1, 0, 1, 0, 0, 0, 0, 0, 0, 0, 0, 1, 0, 1, 1, 0, 1, 0, 1, 1, 1, 0, 1, 1, 1, 1, 1, 0, 1, 1, 0, 1, 0, 1, 1, 0, 0, 1, 0, 1, 0, 1, 1, 0, 1, 1, 0, 1, 1, 1, 0, 1, 1, 1, 1, 0, 1, 0, 0, 1, 0, 0, 1, 1, 1, 1, 1, 0, 1, 0, 0, 0, 0, 1, 0, 1, 0, 1, 1, 0, 0, 1, 1, 0, 0, 1, 1, 0, 1, 0, 1, 1, 0, 1, 1, 0, 0, 0, 1, 0, 0, 0, 0, 0, 0, 0, 0, 1, 1, 0, 0, 0, 1, 0, 1, 0, 1, 0, 0, 1, 0, 0, 1, 0, 1, 1, 0, 0, 1, 1, 0, 1, 0, 1, 0, 1, 0, 1, 1, 0, 1, 1, 0, 1, 0, 1, 0, 1, 0, 0, 0, 0, 1, 1, 0, 0, 1, 0, 1, 1, 0, 1, 1, 1, 1, 0, 1, 0, 1, 1, 1, 1, 1, 0, 1, 0, 1, 1, 0, 1, 0, 1, 0, 1, 0, 1, 0, 1, 0, 1, 0, 1, 1, 0, 0, 1, 0, 0, 0, 0, 1, 0, 1, 0, 1, 0, 1, 1, 1, 0, 1, 0, 1, 1, 0, 0, 1, 0, 1, 0, 1, 1, 0, 0, 0, 1, 0, 1, 1, 1, 1, 0, 1, 1, 1, 0, 1, 1, 0, 1, 0, 1, 0, 1, 1, 0, 1, 1, 0, 1, 0, 1, 1, 1, 0, 0, 1, 1, 0, 0, 1, 1, 1, 0, 1, 0, 0, 1, 0, 0, 0, 1, 1, 0, 0, 0, 1, 0, 1, 0, 1, 0, 0, 1, 0, 1, 1, 1, 0, 1, 0, 0, 0, 1, 0, 1, 1, 0, 1, 1, 1, 0, 1, 1, 0, 1, 1, 0, 1, 1, 1, 1, 1, 0, 1, 0, 1, 0, 1, 0, 1, 1, 1, 0, 0, 0, 1, 1, 0, 1, 0, 1, 0, 0, 1, 1, 0, 1, 0, 0, 1, 0, 1, 0, 1, 0, 1, 1, 0, 0, 1, 0, 0, 0, 1, 0, 1, 0, 0, 0, 0, 0, 1, 1, 0, 0, 0, 1, 0, 1, 0, 0, 1, 0, 0, 1, 0, 0, 0, 1, 1, 0, 0, 0, 0, 0, 0, 0, 0, 1, 1, 0, 0, 1, 0, 1, 0, 1, 1, 0, 0, 1, 0, 0, 1, 1, 0, 1, 0, 1, 0, 0, 0, 1, 0, 1, 0, 0, 1, 0, 1, 0, 1, 0, 1, 0, 0, 0, 1, 0, 1, 0, 1, 0, 0, 1, 1, 0, 1, 0, 1, 0, 1, 1, 0, 0, 0, 0, 0, 1, 0, 0, 1, 1, 0, 1, 0, 1, 0, 1, 0, 1, 0, 0, 0, 1, 0, 1, 0, 1, 0, 1, 0, 1, 0, 1, 0, 0, 1, 1, 1, 0, 1, 0, 0, 1, 0, 1, 0, 1, 0, 1, 0, 0, 0, 0, 0, 0, 0, 0, 0, 0, 1, 0, 1, 0, 0, 0, 1, 0, 1, 0, 1, 0, 1, 1, 0, 1, 1, 0, 0, 0, 1, 0, 1, 0, 1, 0, 0, 1, 0, 1, 0, 1, 0, 0, 0, 0, 0, 0, 1, 0, 1, 0, 1, 1, 0, 0, 1, 1, 0, 1, 0, 1, 1, 0, 1, 0, 1, 0, 1, 0, 0, 0, 0, 0, 1, 0, 1, 0, 0, 1, 0, 0, 1, 1, 0, 0, 0, 0, 1, 1, 1, 0, 1, 0, 0, 1, 0, 1, 0, 1, 0, 1, 1, 0, 1, 0, 1, 0, 0, 0, 1, 0, 1, 0, 1, 1, 0, 1, 1, 1, 0, 1, 1, 0, 0, 0, 1, 1, 0, 1, 0, 1, 0, 0, 1, 0, 1, 0, 1, 1, 0, 1, 0, 1, 0, 0, 1, 1, 0, 1, 0, 0, 1, 0, 1, 1, 0, 0, 1, 0, 1, 1, 0, 0, 1, 0, 1, 0, 1, 0, 1, 0, 1, 0, 0, 1, 0, 0, 0, 0, 0, 0, 1, 0, 1, 1, 0, 1, 0, 1, 1, 0, 0, 0, 0, 0, 1, 0, 1, 1, 0, 0, 1, 1, 0, 0, 1, 1, 0, 1, 0, 1, 1, 0, 1, 0, 1, 0, 1, 1, 0, 0, 1, 0, 1, 1, 0, 1, 1, 0, 0, 1, 0, 0, 1, 0, 1, 0, 1, 0, 0, 1, 1, 0, 1, 0, 1, 0, 1, 0, 1, 0, 1, 0, 1, 1, 0, 1, 0, 1, 0, 1, 0, 1, 1, 1, 0, 1, 0, 0, 1, 0, 1, 0, 1, 0, 1, 1, 1, 1, 0, 1, 0, 1, 0, 1, 0, 0, 1, 0, 1, 0, 0, 1, 0, 1, 0, 1, 1, 1, 1, 0, 0, 1, 1, 1, 0, 1, 1, 0, 1, 1, 0, 1, 0, 1, 0, 1, 1, 0, 1, 1, 1, 0, 1, 0, 1, 1, 1, 1, 0, 1, 0, 1, 1, 0, 1, 1, 1, 1, 1, 0, 1, 1, 1, 1, 0, 1, 1, 0, 1, 0, 1, 1, 1, 0, 1, 1, 0, 1, 0, 0, 0, 1, 0, 1, 1, 0, 1, 1, 1, 1, 0, 1, 0, 1, 1, 0, 1, 1, 1, 0, 1, 1, 1, 0, 1, 0, 0, 1, 0, 1, 0, 1, 1, 0, 1, 1, 0, 1, 1, 0, 1, 1, 1, 0, 0, 1, 1, 0, 0, 1, 1, 1, 0, 1, 1, 0, 1, 0, 1, 1, 0, 0, 0, 1, 0, 1, 1, 0, 0, 1, 0, 1, 0, 1, 1, 0, 0, 1, 0, 1, 0, 1, 0, 1, 1, 1, 0, 1, 1, 1, 0, 0, 1, 1, 0, 1, 0, 0, 1, 0, 1, 0, 1, 0, 0, 1, 1, 1, 0, 0, 0, 0, 0, 0, 0, 1, 0, 0, 1, 1, 1, 0, 0, 1, 0, 1, 1, 0, 0, 1, 0, 1, 0, 0, 1, 0, 1, 0, 1, 1, 1, 0, 0, 0, 1, 1, 0, 1, 1, 1, 0, 1, 0, 1, 0, 1, 1, 0, 0, 1, 0, 1, 0, 1, 1, 1, 1, 0, 1, 1, 1, 1, 0, 1, 0, 0, 1, 1, 1, 0, 0, 1, 0, 1, 0, 1, 1, 0, 1, 0, 1, 0, 0, 1, 1, 0, 0, 0, 0, 0, 1, 0, 0, 1, 0, 1, 1, 0, 1, 1, 0, 1, 1, 1, 0, 1, 0, 0, 1, 0, 1, 0, 1, 1, 1, 0, 1, 1, 0, 1, 1, 0, 1, 0, 1, 1, 0, 1, 1, 1, 0, 0, 1, 0, 1, 0, 1, 0, 1, 1, 0, 1, 0, 1, 0, 1, 0, 1, 0, 1, 1, 0, 1, 1, 0, 0, 1, 0, 0, 1, 0, 1, 0, 1, 0, 1, 0, 0, 0, 1, 0, 1, 1, 0, 1, 0, 0, 0, 1, 1, 0, 0, 1, 1, 0, 1, 0, 1, 0, 1, 0, 1, 1, 0, 0, 1, 1, 0, 1, 0, 1, 1, 0, 0, 1, 1, 1, 1, 1, 0, 1, 1, 0, 1, 1, 1, 0, 1, 1, 0, 1, 0, 1, 1, 0, 1, 0, 1, 0, 1, 0, 1, 1, 0, 1, 1, 1, 0, 1, 0, 1, 1, 0, 1, 0, 0, 1, 1, 0, 0, 0, 0, 0, 0, 1, 0, 1, 1, 1, 1, 0, 1, 0, 1, 0, 1, 0, 1, 1, 0, 1, 1, 0, 1, 0, 1, 0, 1, 1, 1, 0, 1, 0, 1, 1, 0, 1, 1, 1, 0, 1, 0, 1, 0, 0, 1, 0, 1, 0, 1, 0, 1, 0, 1, 1, 0, 1, 1, 0, 1, 0, 1, 0, 1, 1, 0, 1, 1, 0, 0, 1, 1, 1, 1, 1, 0, 1, 1, 0, 1, 1, 0, 1, 1, 1, 0, 1, 1, 1, 0, 1, 1, 0, 1, 1, 0, 1, 1, 0, 1, 0, 1, 1, 1, 1, 0, 1, 0, 1, 0, 0, 1, 0, 1, 0, 1, 1, 0, 1, 0, 1, 0, 1, 0, 1, 1, 1, 0, 0, 1, 1, 1, 0, 1, 0, 1, 1, 1, 0, 0, 1, 0, 1, 1, 0, 1, 1, 0, 0, 0, 1, 1, 1, 0, 1, 1, 0, 1, 0, 1, 1, 1, 1, 0, 1, 1, 0, 1, 1, 0, 1, 1, 1, 0, 1, 1, 1, 1, 0, 1, 0, 1, 1, 1, 0, 1, 1, 0, 1, 1, 0, 1, 1, 1, 1, 1, 1, 1, 0, 1, 1, 1, 1, 0, 0, 1, 0, 1, 0, 1, 0, 0, 1, 0, 0, 1, 0, 1, 0, 1, 0, 0, 1, 1, 0, 0, 1, 1, 1, 0, 1, 0, 1, 0, 1, 0, 1, 1, 0, 1, 0, 1, 1, 0, 0, 1, 0, 1, 0, 1, 0])\tqs:12\tmx:1\tch:88\trn:235354\tst:2023-04-21T16:27:10Z\tf5:aoa546_pass_235c7b69_db4f2d16_7.fast5\tns:11189\tts:275\tRG:db4f2d165a2cb95d870762f8bd1749edb5a64d5d_2021-05-17_dna_r9.4.1_minion_384_d37a2ab9-5BD1B135\n"
     ]
    }
   ],
   "source": [
    "%%bash\n",
    "SAM=\"/v/projects/nanopore/balazs/data/thymine_0421/mapped_basecalls.sam\"\n",
    "head -n 4 \"$SAM\""
   ]
  },
  {
   "cell_type": "markdown",
   "id": "ba394d55-0387-4172-83fa-895435854b39",
   "metadata": {},
   "source": [
    "# Create SAM files from `uracil0504` data"
   ]
  },
  {
   "cell_type": "code",
   "execution_count": null,
   "id": "5772d0db-88dc-4c2e-8043-64f317c5989e",
   "metadata": {},
   "outputs": [],
   "source": [
    "%%bash\n",
    "BAM_FILES=\"/v/projects/nanopore/agnes/signal_visualization/uracil0504/guppy/pass/\"\n",
    "SORTED_BAM_FILES='/v/projects/nanopore/balazs/data/uracil_0504/temp_bam/'\n",
    "mkdir -p $SORTED_BAM_FILES\n",
    "\n",
    "for BAM in ${BAM_FILES}*.bam; do\n",
    "    BAM_BASE=$(basename \"$BAM\" .bam)\n",
    "    samtools sort -n \"${BAM_FILES}${BAM_BASE}.bam\" -o \"${SORTED_BAM_FILES}${BAM_BASE}.bam\"\n",
    "done"
   ]
  },
  {
   "cell_type": "code",
   "execution_count": null,
   "id": "66b186af-ed98-4830-b5fa-b26b21324d57",
   "metadata": {},
   "outputs": [],
   "source": [
    "import os\n",
    "import pysam\n",
    "from glob import glob\n",
    "\n",
    "def filename_from_path(path):\n",
    "    return path.split('/')[-1]\n",
    "\n",
    "bam_files = glob(\"/v/projects/nanopore/balazs/data/uracil_0504/temp_bam/*\")\n",
    "fastq_path = \"/v/projects/nanopore/balazs/data/uracil_0504/temp_fasq/\"\n",
    "os.mkdir(fastq_path)\n",
    "\n",
    "for bam in bam_files:\n",
    "    bam_file = pysam.AlignmentFile(bam, \"rb\", check_sq=False)\n",
    "    with open(fastq_path+filename_from_path(bam)[:-3]+\"fastq\", \"w\") as fq_out:\n",
    "        for read in bam_file:\n",
    "            if read.is_unmapped:\n",
    "                # Get the tags (it returns a list of tuples)\n",
    "                tags = read.get_tags()\n",
    "                # Convert tags to a string for the FASTQ header\n",
    "                metadata = \"\\t\".join(f\"{tag}:{value}\" for tag, value in tags)\n",
    "                # Write the read to FASTQ format with metadata in the header\n",
    "                fq_out.write(f\"@{read.query_name} {metadata}\\n\")\n",
    "                fq_out.write(f\"{read.query_sequence}\\n\")\n",
    "                fq_out.write(\"+\\n\")\n",
    "                fq_out.write(f\"{read.qual}\\n\")"
   ]
  },
  {
   "cell_type": "code",
   "execution_count": null,
   "id": "5b7aed3b-b0d1-4708-974c-785e35dc3bf9",
   "metadata": {
    "scrolled": true
   },
   "outputs": [],
   "source": [
    "%%bash\n",
    "minimap2=/v/scratch/tools/minimap2/minimap2\n",
    "\n",
    "REF_SEQUENCE=\"/v/volumes/nanopore/ref/p300_ID3.fasta\"\n",
    "FASTQ_FILES=\"/v/projects/nanopore/balazs/data/uracil_0504/temp_fasq/\"\n",
    "SAM_PATH=\"/v/projects/nanopore/balazs/data/uracil_0504/\"\n",
    "\n",
    "for FASTQ in ${FASTQ_FILES}*.fastq; do\n",
    "    FASTQ_BASE=$(basename \"$FASTQ\" .fastq)\n",
    "    $minimap2 -ax map-ont -y -t 8 \"$REF_SEQUENCE\" \"${FASTQ_FILES}${FASTQ_BASE}.fastq\" > \"${SAM_PATH}mapped_${FASTQ_BASE}.sam\"\n",
    "done"
   ]
  },
  {
   "cell_type": "code",
   "execution_count": null,
   "id": "cf039043-772c-4e3a-912a-b18b900bfd0e",
   "metadata": {},
   "outputs": [],
   "source": [
    "%%bash\n",
    "BAM_FILES='/v/projects/nanopore/balazs/data/uracil_0504/temp_bam/'\n",
    "FASTQ_FILES=\"/v/projects/nanopore/balazs/data/uracil_0504/temp_fasq/\"\n",
    "\n",
    "rm -r \"${BAM_FILES}\"\n",
    "rm -r \"${FASTQ_FILES}\""
   ]
  },
  {
   "cell_type": "code",
   "execution_count": null,
   "id": "86c081f4-c38f-4d2e-84b5-4d4de4346366",
   "metadata": {
    "scrolled": true
   },
   "outputs": [],
   "source": [
    "%%bash\n",
    "SAM=\"/v/projects/nanopore/balazs/data/uracil_0504/mapped_basecalls.sam\"\n",
    "head -n 4 \"$SAM\""
   ]
  }
 ],
 "metadata": {
  "finalized": {
   "timestamp": 1732113311991,
   "trusted": true
  },
  "kernelspec": {
   "display_name": "Python [conda env:base] *",
   "language": "python",
   "name": "conda-base-py"
  },
  "language_info": {
   "codemirror_mode": {
    "name": "ipython",
    "version": 3
   },
   "file_extension": ".py",
   "mimetype": "text/x-python",
   "name": "python",
   "nbconvert_exporter": "python",
   "pygments_lexer": "ipython3",
   "version": "3.12.2"
  }
 },
 "nbformat": 4,
 "nbformat_minor": 5
}
