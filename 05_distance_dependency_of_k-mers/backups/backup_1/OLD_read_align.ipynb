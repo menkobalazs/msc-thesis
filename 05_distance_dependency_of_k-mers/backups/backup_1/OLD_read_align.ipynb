{
 "cells": [
  {
   "cell_type": "code",
   "execution_count": 1,
   "id": "79b5149f-22c6-4ba4-98cf-59f0bbfea233",
   "metadata": {},
   "outputs": [],
   "source": [
    "import re\n",
    "import numpy as np\n",
    "import pandas as pd\n",
    "import matplotlib.pyplot as plt\n",
    "from glob import glob\n",
    "\n",
    "import pysam\n",
    "\n",
    "from itertools import cycle\n",
    "color_cycle = cycle(['r', 'g', 'b', 'orange'])\n",
    "FS = 12 # fontsize"
   ]
  },
  {
   "cell_type": "code",
   "execution_count": 2,
   "id": "bfcaaa58-462b-42a1-8ab0-8f60015328d5",
   "metadata": {},
   "outputs": [],
   "source": [
    "def read_fast5(fname, single_or_multi_read, get_read_ids=False):\n",
    "    'from !bsc_szakdoga/github/python_scripts/fast5_analysis.ipynb'\n",
    "    from ont_fast5_api.fast5_interface import get_fast5_file\n",
    "    def raw_to_current(rawdata, offset, range_, digitisation):\n",
    "        return list((np.array(rawdata) + offset) * range_ / digitisation)\n",
    "    \n",
    "    if single_or_multi_read not in ['s', 'm']:\n",
    "        raise ValueError('single_or_multi variable must be \"s\" or \"m\".')\n",
    "    data = []\n",
    "    read_ids = []\n",
    "    with get_fast5_file(fname, mode=\"r\") as f:\n",
    "        for read in f.get_reads():\n",
    "            ch=read.get_channel_info()\n",
    "            data.append(raw_to_current(read.get_raw_data(), ch['offset'], ch['range'], ch['digitisation']))\n",
    "            read_ids.append(read.read_id)\n",
    "    if single_or_multi_read == 's':\n",
    "        if get_read_ids:\n",
    "            return np.array(data[0]), read_ids\n",
    "        return np.array(data[0]) # single read --> dim=1\n",
    "    elif single_or_multi_read == 'm':\n",
    "        if get_read_ids:\n",
    "            return np.array(data, dtype='object'), read_ids\n",
    "        return np.array(data, dtype='object')\n",
    "    \n",
    "def read_sam_mvt(sam_file_names): \n",
    "    ''' read sam file with move table '''\n",
    "    if  type(sam_file_names) != list:\n",
    "        raise TypeError(f'sam_file_names must be a list')\n",
    "    all_sam_data = []\n",
    "    for sam_file_name in sam_file_names:\n",
    "        with open(sam_file_name, 'r') as file:\n",
    "            sam_files = file.read().split('\\n')\n",
    "            sam_files = [line for line in sam_files if not line.startswith('@')]\n",
    "        one_sam_data = []\n",
    "        for i in range(len(sam_files)-1):\n",
    "            sam = sam_files[i].split('\\t')\n",
    "            data = {\n",
    "                'read_id': sam[0],\n",
    "                'bases': np.array(list(sam[9])), # splitted to characters,\n",
    "                'move_table':  np.array(sam[11].split(',')[2:], dtype='int'),\n",
    "                'stride': int(sam[11].split(',')[1]),\n",
    "                'ts': int(sam[19][5:]),\n",
    "                'fast5_file_name': sam[17][5:]\n",
    "                }\n",
    "            one_sam_data.append(data)\n",
    "        all_sam_data.append(np.array(one_sam_data, dtype='object'))\n",
    "    return np.hstack(all_sam_data)\n",
    "\n",
    "def read_sam_pos(sam_file_names): \n",
    "    ''' read sam file with position '''\n",
    "    if  type(sam_file_names) != list:\n",
    "        raise TypeError(f'sam_file_names must be a list')\n",
    "    all_sam_data = []\n",
    "    for sam_file_name in sam_file_names:\n",
    "        with open(sam_file_name, 'r') as file:\n",
    "            sam_files = file.read().split('\\n')\n",
    "            sam_files = [line for line in sam_files if not line.startswith('@')]\n",
    "        one_sam_data = []\n",
    "        for i in range(len(sam_files)-1):\n",
    "            sam = sam_files[i].split('\\t')\n",
    "            data = {\n",
    "                'read_id':sam[0], \n",
    "                'sam_flag':int(sam[1]),\n",
    "                'mapped_position':int(sam[3]),\n",
    "                'map_quality':int(sam[4]),\n",
    "                'sequence':np.array(list(sam[9])),\n",
    "                'mismatches_and_gaps': int(sam[11][5:]),\n",
    "               } \n",
    "            one_sam_data.append(data)\n",
    "        all_sam_data.append(np.array(one_sam_data, dtype='object'))\n",
    "    return np.hstack(all_sam_data)\n",
    "\n",
    "def find_read_id_index(string_list, search_string):\n",
    "    string_array = np.array(string_list)\n",
    "    index = np.where(np.char.find(string_array, search_string) != -1)[0]\n",
    "    if len(index) == 1:\n",
    "        return index[0]\n",
    "    print(f'Error: no or more indices found; len(index)={len(index)}')\n",
    "    return None\n",
    "\n",
    "def split_raw_signal(raw_signal, move_table, stride):\n",
    "    start_of_bases = (np.where(move_table == 1)[0]) * stride\n",
    "    signals = [raw_signal[i:j] for i, j in zip(start_of_bases, start_of_bases[1:])]\n",
    "    mean_signals = [np.mean(raw_signal[i:j]) for i, j in zip(start_of_bases, start_of_bases[1:])]\n",
    "    return start_of_bases, signals, mean_signals\n",
    "\n",
    "def replace_T_to_U(data):\n",
    "    if  type(data) not in [list, np.ndarray]:\n",
    "        raise TypeError(f'sam_file_names must be a list')\n",
    "    for record in data:\n",
    "        record['bases'] = np.array(['U' if base == 'T' else base for base in record['bases']])\n",
    "    return np.array(data)\n",
    "\n",
    "def get_feature_from_sam_data(data, feature):\n",
    "    return np.array([entry[feature] for entry in data ], dtype='object')\n",
    "\n",
    "def search_in_data(data, key, element):\n",
    "    for entry in data:\n",
    "        if entry[key] == element:\n",
    "            return entry\n",
    "    return None"
   ]
  },
  {
   "cell_type": "code",
   "execution_count": 3,
   "id": "4310ebec-c5bb-415e-8a7f-3e57eb2464cf",
   "metadata": {},
   "outputs": [],
   "source": [
    "def join_datasets(arr1, arr2):\n",
    "    dict1 = {d['read_id']: d for d in arr1}\n",
    "    dict2 = {d['read_id']: d for d in arr2}\n",
    "    \n",
    "    # Intersect keys and merge dictionaries\n",
    "    result = [\n",
    "        {**dict1[read_id], **dict2[read_id]}\n",
    "        for read_id in dict1.keys() & dict2.keys()\n",
    "    ]\n",
    "    return np.array(result, dtype=object)\n",
    "\n",
    "def read_sam_files(sam_mvt, sam_pos, min_length=0, max_length=1e5, min_MAPQ=0, max_MISMATCHES=1e5,\n",
    "                   removed_sam_flags={4, 256, 272, 2048, 2064}):\n",
    "\n",
    "    if  type(sam_mvt) != list and type(sam_pos) != list:\n",
    "        raise TypeError(f'sam_mvt and/or sam_pos must be a list')\n",
    "    all_sam_data = []\n",
    "    for sam_mvt_file_name, sam_pos_file_name in zip(sam_mvt, sam_pos):\n",
    "        with open(sam_mvt_file_name, 'r') as mvt, open(sam_pos_file_name, 'r') as pos:\n",
    "            sam_mvt_files = mvt.read().split('\\n')[:-1]\n",
    "            sam_mvt_files = [line for line in sam_mvt_files if not line.startswith('@')]\n",
    "            sam_pos_files = pos.read().split('\\n')[:-1]\n",
    "            sam_pos_files = [line for line in sam_pos_files if not line.startswith('@')]\n",
    "\n",
    "        one_sam_mwt_data = []\n",
    "        for item in sam_mvt_files:\n",
    "            sam = item.split('\\t')\n",
    "            data = {\n",
    "                'read_id': sam[0],\n",
    "                'bases': np.array(list(sam[9])), # splitted to characters,\n",
    "                'move_table':  np.array(sam[11].split(',')[2:], dtype='int'),\n",
    "                'stride': int(sam[11].split(',')[1]),\n",
    "                'ts': int(sam[19][5:]),\n",
    "                'fast5_file_name': sam[17][5:]\n",
    "                }\n",
    "            if len(data['bases']) <= max_length and len(data['bases']) >= min_length:\n",
    "                one_sam_mwt_data.append(data)\n",
    "        \n",
    "        one_sam_pos_data = []\n",
    "        for item in sam_pos_files:\n",
    "            sam = item.split('\\t')\n",
    "            data = {\n",
    "                'read_id':sam[0], \n",
    "                'sam_flag':int(sam[1]),\n",
    "                'mapped_position':int(sam[3]),\n",
    "                'map_quality':int(sam[4]),\n",
    "                'mismatches_and_gaps': int(sam[11][5:]),\n",
    "               } \n",
    "            if data['sam_flag'] not in removed_sam_flags and data['map_quality'] >= min_MAPQ and data['mismatches_and_gaps']<max_MISMATCHES:\n",
    "                one_sam_pos_data.append(data)\n",
    "\n",
    "        all_sam_data.append(join_datasets(one_sam_mwt_data, one_sam_pos_data))\n",
    "    return np.hstack(all_sam_data)\n"
   ]
  },
  {
   "cell_type": "markdown",
   "id": "9a3d4377-03de-4bea-a304-9603332eb0cb",
   "metadata": {},
   "source": [
    "---\n",
    "# Reference file"
   ]
  },
  {
   "cell_type": "code",
   "execution_count": 4,
   "id": "aa1de3d2-f5a2-427a-9f49-9f5f889769b3",
   "metadata": {},
   "outputs": [],
   "source": [
    "with open(\"/v/volumes/nanopore/ref/p300_ID3.fasta\", 'r') as file:\n",
    "    p300_ID3_ref = file.read().split('\\n')[1]"
   ]
  },
  {
   "cell_type": "markdown",
   "id": "32f72929",
   "metadata": {},
   "source": [
    "---\n",
    "# Thymine"
   ]
  },
  {
   "cell_type": "code",
   "execution_count": 5,
   "id": "b07535b9",
   "metadata": {},
   "outputs": [],
   "source": [
    "path_to_Thymine_fast5 = '/v/projects/nanopore/agnes/signal_visualization/data/timin0421/workspace/'\n",
    "T_fast5_files = glob(path_to_Thymine_fast5+'*.fast5')\n",
    "\n",
    "path_to_Thymine_sam_mvt = '/v/projects/nanopore/balazs/data/thymine_0421_sam_move_table/'\n",
    "T_sam_mvt_files = glob(path_to_Thymine_sam_mvt+'*0.sam')\n",
    "T_sam_mvt_files = sorted(T_sam_mvt_files, key=lambda x: int(re.search(r'_(\\d+)_0\\.sam$', x).group(1)))\n",
    "\n",
    "path_to_Thymine_sam_pos = '/v/projects/nanopore/balazs/data/thymine_0421_sam_position/'    \n",
    "T_sam_pos_files = glob(path_to_Thymine_sam_pos+'*0.sam')\n",
    "T_sam_pos_files = sorted(T_sam_pos_files, key=lambda x: int(re.search(r'_(\\d+)_0\\.sam$', x).group(1)))"
   ]
  },
  {
   "cell_type": "code",
   "execution_count": 6,
   "id": "de17930b-e7c2-45d8-ad46-8a4d4197f279",
   "metadata": {},
   "outputs": [
    {
     "name": "stdout",
     "output_type": "stream",
     "text": [
      "CPU times: user 12.3 s, sys: 468 ms, total: 12.7 s\n",
      "Wall time: 12.7 s\n"
     ]
    }
   ],
   "source": [
    "%%time\n",
    "T_sam_data = read_sam_files(T_sam_mvt_files, T_sam_pos_files, \n",
    "                            min_length=len(p300_ID3_ref)*0.2,\n",
    "                            max_length=len(p300_ID3_ref)*1.1,\n",
    "                            min_MAPQ=35,\n",
    "                            max_MISMATCHES=len(p300_ID3_ref)*0.05,\n",
    "                           )\n",
    "# Wall time: ~12 s"
   ]
  },
  {
   "cell_type": "code",
   "execution_count": 7,
   "id": "cd77b53d-fea1-404b-91c6-fc0d055cfe4c",
   "metadata": {},
   "outputs": [
    {
     "data": {
      "text/plain": [
       "(10822,)"
      ]
     },
     "execution_count": 7,
     "metadata": {},
     "output_type": "execute_result"
    }
   ],
   "source": [
    "T_sam_data.shape"
   ]
  },
  {
   "cell_type": "code",
   "execution_count": 8,
   "id": "404fd76d-b476-4866-8104-841c4b166218",
   "metadata": {},
   "outputs": [
    {
     "data": {
      "text/plain": [
       "10822"
      ]
     },
     "execution_count": 8,
     "metadata": {},
     "output_type": "execute_result"
    }
   ],
   "source": [
    "list1 = get_feature_from_sam_data(T_sam_data, 'read_id')\n",
    "len(list1)"
   ]
  },
  {
   "cell_type": "code",
   "execution_count": 9,
   "id": "e4f49b5b-894e-4446-91fb-f746c510b8cc",
   "metadata": {},
   "outputs": [],
   "source": [
    "idx=137"
   ]
  },
  {
   "cell_type": "code",
   "execution_count": 10,
   "id": "dc771d79-09de-46fd-920f-40b99f573505",
   "metadata": {
    "scrolled": true
   },
   "outputs": [
    {
     "data": {
      "text/plain": [
       "{'read_id': '5b7d1749-3065-4269-8265-bf7f3535a9f9',\n",
       " 'bases': array(['T', 'A', 'A', ..., 'T', 'A', 'T'], dtype='<U1'),\n",
       " 'move_table': array([1, 1, 0, ..., 0, 0, 1]),\n",
       " 'stride': 5,\n",
       " 'ts': 0,\n",
       " 'fast5_file_name': 'aoa546_pass_235c7b69_db4f2d16_18.fast5',\n",
       " 'sam_flag': 16,\n",
       " 'mapped_position': 3,\n",
       " 'map_quality': 60,\n",
       " 'mismatches_and_gaps': 49}"
      ]
     },
     "execution_count": 10,
     "metadata": {},
     "output_type": "execute_result"
    }
   ],
   "source": [
    "T_sam_data[idx]"
   ]
  },
  {
   "cell_type": "code",
   "execution_count": 11,
   "id": "969fb5a0-cf73-47fe-aaab-075bf6e9cdeb",
   "metadata": {},
   "outputs": [],
   "source": [
    "bases = T_sam_data[idx]['bases']\n",
    "map_pos=T_sam_data[idx]['mapped_position']-1"
   ]
  },
  {
   "cell_type": "code",
   "execution_count": 12,
   "id": "e9d75344-50c7-4241-9686-83bfcd090fb7",
   "metadata": {
    "scrolled": true
   },
   "outputs": [],
   "source": [
    "ref_seq = np.array(list(p300_ID3_ref))[map_pos:] "
   ]
  },
  {
   "cell_type": "code",
   "execution_count": 13,
   "id": "a18658eb-4842-4966-820f-e9a21aa16888",
   "metadata": {},
   "outputs": [
    {
     "data": {
      "text/plain": [
       "0.22719449225473323"
      ]
     },
     "execution_count": 13,
     "metadata": {},
     "output_type": "execute_result"
    }
   ],
   "source": [
    "sum(ref_seq == bases[:len(ref_seq)])/len(ref_seq)"
   ]
  },
  {
   "cell_type": "markdown",
   "id": "268f72c4-7ff4-4d10-ab92-92a524cd42b4",
   "metadata": {},
   "source": [
    "---"
   ]
  },
  {
   "cell_type": "code",
   "execution_count": 14,
   "id": "56b8359d-a8ae-4cab-b13a-ad61b6781ff7",
   "metadata": {},
   "outputs": [],
   "source": [
    "T_sam_pos_data = read_sam_pos(T_sam_pos_files)\n",
    "possible_positions = get_feature_from_sam_data(T_sam_pos_data, 'mapped_position')"
   ]
  },
  {
   "cell_type": "code",
   "execution_count": 15,
   "id": "11d247fd-faa0-4c81-b443-9cb819091d20",
   "metadata": {},
   "outputs": [
    {
     "data": {
      "text/plain": [
       "21418"
      ]
     },
     "execution_count": 15,
     "metadata": {},
     "output_type": "execute_result"
    }
   ],
   "source": [
    "len(possible_positions)"
   ]
  },
  {
   "cell_type": "code",
   "execution_count": 16,
   "id": "bf0f4413-079c-4fea-939f-f7bff434281b",
   "metadata": {},
   "outputs": [
    {
     "data": {
      "text/plain": [
       "194"
      ]
     },
     "execution_count": 16,
     "metadata": {},
     "output_type": "execute_result"
    }
   ],
   "source": [
    "sum(possible_positions == 0)"
   ]
  },
  {
   "cell_type": "code",
   "execution_count": 17,
   "id": "726dab83-9565-4443-8eaa-98fa59060ef1",
   "metadata": {},
   "outputs": [
    {
     "data": {
      "image/png": "[encoded data removed]",
      "text/plain": [
       "<Figure size 640x480 with 1 Axes>"
      ]
     },
     "metadata": {},
     "output_type": "display_data"
    }
   ],
   "source": [
    "xlim_min=0\n",
    "xlim_max=25\n",
    "\n",
    "plt.hist(possible_positions, bins=max(possible_positions), color='blue', alpha=0.7)\n",
    "plt.yscale('log')\n",
    "plt.xlim(xlim_min, xlim_max)\n",
    "plt.grid('dotted')\n",
    "plt.xticks(np.arange(xlim_min, xlim_max, 2)+0.5, np.arange(xlim_min, xlim_max, 2))\n",
    "plt.show()"
   ]
  },
  {
   "cell_type": "markdown",
   "id": "75039174-e806-4f83-9e0a-679f10b17548",
   "metadata": {},
   "source": [
    "----"
   ]
  },
  {
   "cell_type": "code",
   "execution_count": 18,
   "id": "09e505d8-a17c-4cc6-90f4-b22041485f7a",
   "metadata": {},
   "outputs": [],
   "source": [
    "T_sam_mvt_data = read_sam_mvt(T_sam_mvt_files)"
   ]
  },
  {
   "cell_type": "code",
   "execution_count": 19,
   "id": "898e763a-5c3f-430f-b9bd-ec1ee059d250",
   "metadata": {},
   "outputs": [],
   "source": [
    "mapped_position = T_sam_pos_data[0]['mapped_position']\n",
    "sequence = T_sam_pos_data[0]['sequence']"
   ]
  },
  {
   "cell_type": "code",
   "execution_count": 20,
   "id": "ff51007e-d870-40a2-bd24-d60fdaa0bd35",
   "metadata": {},
   "outputs": [
    {
     "data": {
      "text/plain": [
       "4"
      ]
     },
     "execution_count": 20,
     "metadata": {},
     "output_type": "execute_result"
    }
   ],
   "source": [
    "mapped_position"
   ]
  },
  {
   "cell_type": "code",
   "execution_count": 21,
   "id": "000956a5-5046-4de8-9ccf-0b0194d3d39b",
   "metadata": {},
   "outputs": [
    {
     "data": {
      "text/plain": [
       "(21418,)"
      ]
     },
     "execution_count": 21,
     "metadata": {},
     "output_type": "execute_result"
    }
   ],
   "source": [
    "T_sam_pos_data.shape"
   ]
  },
  {
   "cell_type": "code",
   "execution_count": 22,
   "id": "2ffa4d7f-5f0c-4cac-8f15-21acb5ee3a5b",
   "metadata": {},
   "outputs": [],
   "source": [
    "x1 = search_in_data(T_sam_pos_data, 'read_id', '00e098be-804c-4204-bfad-c4f6867ae265')\n",
    "x2 = search_in_data(T_sam_mvt_data, 'read_id', '00e098be-804c-4204-bfad-c4f6867ae265')"
   ]
  },
  {
   "cell_type": "code",
   "execution_count": 23,
   "id": "2f18f80b-0dae-430b-929f-9315b7f5e64f",
   "metadata": {},
   "outputs": [
    {
     "data": {
      "text/plain": [
       "{'read_id': '00e098be-804c-4204-bfad-c4f6867ae265',\n",
       " 'bases': array(['C', 'T', 'T', ..., 'T', 'A', 'A'], dtype='<U1'),\n",
       " 'move_table': array([1, 1, 0, ..., 1, 0, 0]),\n",
       " 'stride': 5,\n",
       " 'ts': 95,\n",
       " 'fast5_file_name': 'aoa546_pass_235c7b69_db4f2d16_2.fast5'}"
      ]
     },
     "execution_count": 23,
     "metadata": {},
     "output_type": "execute_result"
    }
   ],
   "source": [
    "x2"
   ]
  },
  {
   "cell_type": "code",
   "execution_count": 24,
   "id": "b579a824-75dd-44f5-ba89-92f278cce1d3",
   "metadata": {},
   "outputs": [
    {
     "data": {
      "text/plain": [
       "{'read_id': '00e098be-804c-4204-bfad-c4f6867ae265',\n",
       " 'sam_flag': 16,\n",
       " 'mapped_position': 6,\n",
       " 'map_quality': 60,\n",
       " 'sequence': array(['T', 'T', 'A', ..., 'A', 'A', 'G'], dtype='<U1'),\n",
       " 'mismatches_and_gaps': 40}"
      ]
     },
     "execution_count": 24,
     "metadata": {},
     "output_type": "execute_result"
    }
   ],
   "source": [
    "x1"
   ]
  },
  {
   "cell_type": "markdown",
   "id": "594b4327-7791-420c-a707-16d0f7a3d02f",
   "metadata": {},
   "source": [
    "----"
   ]
  },
  {
   "cell_type": "code",
   "execution_count": null,
   "id": "9bd523ae-c87c-46b0-bafa-6fc47a333ba3",
   "metadata": {},
   "outputs": [],
   "source": []
  },
  {
   "cell_type": "code",
   "execution_count": null,
   "id": "a18b6e03-1d7b-4412-829e-26a82cce7316",
   "metadata": {},
   "outputs": [],
   "source": []
  },
  {
   "cell_type": "code",
   "execution_count": null,
   "id": "54fd8284-7abd-4b0b-b8fe-6a9f63326751",
   "metadata": {},
   "outputs": [],
   "source": []
  },
  {
   "cell_type": "code",
   "execution_count": 25,
   "id": "55563a76-6105-4e56-8057-4ed8e06ee2ae",
   "metadata": {},
   "outputs": [],
   "source": [
    "# Read fast5 file\n",
    "\n",
    "\n",
    "= read_fast5(fast5_file_path, 'm', get_read_ids=True)"
   ]
  },
  {
   "cell_type": "code",
   "execution_count": null,
   "id": "20301568-3f5b-4de9-8fc4-4d648f6d6bb1",
   "metadata": {},
   "outputs": [],
   "source": []
  },
  {
   "cell_type": "markdown",
   "id": "6736b22f-f960-406f-ac2f-08ad2190b3d6",
   "metadata": {},
   "source": [
    "---\n",
    "# Uracil"
   ]
  },
  {
   "cell_type": "code",
   "execution_count": 26,
   "id": "02232118-1ad9-413e-826f-bcdba55265c6",
   "metadata": {},
   "outputs": [],
   "source": [
    "path_to_Uracil_fast5 = '/v/projects/nanopore/agnes/signal_visualization/uracil0504/guppy/workspace/'\n",
    "U_fast5_files = glob(path_to_Uracil_fast5+'*.fast5')\n",
    "\n",
    "\n",
    "path_to_Uracil_sam_mvt = '/v/projects/nanopore/balazs/data/uracil_0405_sam_move_table/'\n",
    "U_sam_mtv_files = glob(path_to_Uracil_sam_mvt+'*0.sam')\n",
    "U_sam_mtv_files = sorted(U_sam_mtv_files, key=lambda x: int(re.search(r'_(\\d+)_0\\.sam$', x).group(1)))"
   ]
  },
  {
   "cell_type": "code",
   "execution_count": 27,
   "id": "ea453df2-079f-4fa6-be24-0519038b5c68",
   "metadata": {},
   "outputs": [],
   "source": [
    "# Read SAM file and fast5 file\n",
    "U_sam_mvt_data = read_sam_mvt([U_sam_mtv_files[5]])\n",
    "index_of_fast5 = 0\n",
    "fast5_file_path = path_to_Uracil_fast5 + U_sam_mvt_data[index_of_fast5]['fast5_file_name']\n",
    "fast5_signals, read_ids = read_fast5(fast5_file_path, 'm', get_read_ids=True)"
   ]
  },
  {
   "cell_type": "code",
   "execution_count": 28,
   "id": "9b1f7e59-1a85-45a3-8d01-eb10ebd0b52d",
   "metadata": {},
   "outputs": [],
   "source": [
    "# Replace thymine to uracil\n",
    "U_sam_mvt_data = replace_T_to_U(U_sam_mvt_data)"
   ]
  },
  {
   "cell_type": "code",
   "execution_count": 29,
   "id": "cf9b7e7d",
   "metadata": {},
   "outputs": [],
   "source": [
    "all_bases_U = get_feature_from_sam_data(U_sam_mvt_data, 'bases')\n",
    "\n",
    "all_bases_length_U = []\n",
    "for item in all_bases_U:\n",
    "    all_bases_length_U.append(len(item))"
   ]
  },
  {
   "cell_type": "code",
   "execution_count": 30,
   "id": "d7775d86",
   "metadata": {},
   "outputs": [
    {
     "data": {
      "image/png": "[encoded data removed]",
      "text/plain": [
       "<Figure size 640x480 with 1 Axes>"
      ]
     },
     "metadata": {},
     "output_type": "display_data"
    }
   ],
   "source": [
    "plt.plot(sorted(all_bases_length_U))\n",
    "plt.grid()"
   ]
  }
 ],
 "metadata": {
  "kernelspec": {
   "display_name": "Python [conda env:base] *",
   "language": "python",
   "name": "conda-base-py"
  },
  "language_info": {
   "codemirror_mode": {
    "name": "ipython",
    "version": 3
   },
   "file_extension": ".py",
   "mimetype": "text/x-python",
   "name": "python",
   "nbconvert_exporter": "python",
   "pygments_lexer": "ipython3",
   "version": "3.12.2"
  }
 },
 "nbformat": 4,
 "nbformat_minor": 5
}
