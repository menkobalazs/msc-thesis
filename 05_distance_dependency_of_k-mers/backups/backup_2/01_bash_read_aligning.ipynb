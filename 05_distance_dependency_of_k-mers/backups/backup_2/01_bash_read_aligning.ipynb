{
 "cells": [
  {
   "cell_type": "markdown",
   "id": "e1e08347-ec6a-4308-ad07-c78ab115518f",
   "metadata": {},
   "source": [
    "# [SAM file format](https://www.metagenomics.wiki/tools/samtools/bam-sam-file-format)\n",
    "```python\n",
    "%%bash\n",
    "samtools --help\n",
    "```"
   ]
  },
  {
   "cell_type": "markdown",
   "id": "d0b01994-fafc-4d29-bc8f-d8ea6a20cb18",
   "metadata": {},
   "source": [
    "# Minimap2 - [Manual Page](https://lh3.github.io/minimap2/minimap2.html)\n",
    "\n",
    "```python\n",
    "%%bash\n",
    "minimap2=/v/scratch/tools/minimap2/minimap2\n",
    "$minimap2 --help\n",
    "```"
   ]
  },
  {
   "cell_type": "markdown",
   "id": "0c7ebb2c",
   "metadata": {},
   "source": [
    "---\n",
    "# Create SAM files from `timin0421` data"
   ]
  },
  {
   "cell_type": "code",
   "execution_count": null,
   "id": "7f5c8a4e-ab1a-4a68-9752-e2b5571f7e8a",
   "metadata": {},
   "outputs": [],
   "source": [
    "%%bash\n",
    "BAM_PATH='/v/projects/nanopore/agnes/signal_visualization/data/timin0421/pass/basecalls.bam'\n",
    "SORTED_BAM_PATH='/v/projects/nanopore/balazs/data/thymine_0421/sorted_basecalls.bam'\n",
    "\n",
    "samtools sort -n \"$BAM_PATH\" -o \"$SORTED_BAM_PATH\""
   ]
  },
  {
   "cell_type": "code",
   "execution_count": null,
   "id": "5082b8dc-4bcc-4eac-88c0-bb1ce9996e78",
   "metadata": {},
   "outputs": [],
   "source": [
    "import pysam\n",
    "bam_path='/v/projects/nanopore/balazs/data/thymine_0421/sorted_basecalls.bam'\n",
    "fastq_path='/v/projects/nanopore/balazs/data/thymine_0421/basecalls.fastq'\n",
    "\n",
    "bam_file = pysam.AlignmentFile(bam_path, \"rb\", check_sq=False)\n",
    "with open(fastq_path, \"w\") as fq_out:\n",
    "    for read in bam_file:\n",
    "        if read.is_unmapped:\n",
    "            # Get the tags (it returns a list of tuples)\n",
    "            tags = read.get_tags()\n",
    "            # Convert tags to a string for the FASTQ header\n",
    "            metadata = \" \".join(f\"{tag}:{value}\" for tag, value in tags)\n",
    "            # Write the read to FASTQ format with metadata in the header\n",
    "            fq_out.write(f\"@{read.query_name} {metadata}\\n\")\n",
    "            fq_out.write(f\"{read.query_sequence}\\n\")\n",
    "            fq_out.write(\"+\\n\")\n",
    "            fq_out.write(f\"{read.qual}\\n\")"
   ]
  },
  {
   "cell_type": "code",
   "execution_count": null,
   "id": "fab33f4d-c5ff-4055-8c91-2ce81683533b",
   "metadata": {},
   "outputs": [],
   "source": [
    "%%bash\n",
    "minimap2=/v/scratch/tools/minimap2/minimap2\n",
    "\n",
    "REF_SEQUENCE=\"/v/volumes/nanopore/ref/p300_ID3.fasta\"\n",
    "FASTQ=\"/v/projects/nanopore/balazs/data/thymine_0421/basecalls.fastq\"\n",
    "SAM=\"/v/projects/nanopore/balazs/data/thymine_0421/mapped_basecalls.sam\"\n",
    "\n",
    "$minimap2 -ax map-ont -y -t 8 \"$REF_SEQUENCE\" \"$FASTQ\" > \"$SAM\"\n",
    "\n",
    "rm \"$FASTQ\" # size ~200MB\n",
    "rm \"/v/projects/nanopore/balazs/data/thymine_0421/sorted_basecalls.bam\""
   ]
  },
  {
   "cell_type": "code",
   "execution_count": null,
   "id": "60d33ccc-12ec-423a-88ed-ab0f29249f46",
   "metadata": {},
   "outputs": [],
   "source": [
    "%%bash\n",
    "SAM=\"/v/projects/nanopore/balazs/data/thymine_0421/mapped_basecalls.sam\"\n",
    "head -n 4 \"$SAM\""
   ]
  },
  {
   "cell_type": "markdown",
   "id": "aabc0ee0-e61b-4431-940b-d968aa64a331",
   "metadata": {},
   "source": [
    "### Old Version for all bam files\n",
    "```python\n",
    "%%bash\n",
    "minimap2=/v/projects/nanopore/tools/minimap2/minimap2-2.24_x64-linux/minimap2\n",
    "\n",
    "# Define paths\n",
    "BAM_FILES=\"/v/projects/nanopore/agnes/signal_visualization/data/timin0421/pass/\"\n",
    "REF_GENOME=\"/v/volumes/nanopore/ref/p300_ID3.fasta\"\n",
    "SAM_DIR=\"/v/projects/nanopore/balazs/data/thymine_0421_sam_position/\"\n",
    "\n",
    "# Ensure the output directory exists\n",
    "mkdir -p $SAM_DIR\n",
    "\n",
    "# Iterate through BAM files\n",
    "for BAM in ${BAM_FILES}*.bam; do\n",
    "    # Extract the base name\n",
    "    BAM_BASE=$(basename \"$BAM\" .bam)\n",
    "\n",
    "    # Generate SAM path\n",
    "    SAM_SORTED=\"${SAM_DIR}${BAM_BASE}_temp.sam\"\n",
    "\n",
    "    # Convert BAM to FASTQ\n",
    "    samtools fastq \"$BAM\" > \"${SAM_DIR}${BAM_BASE}.fastq\"\n",
    "\n",
    "    # Align reads using minimap2 \n",
    "    $minimap2 -ax map-ont \"$REF_GENOME\" \"${SAM_DIR}${BAM_BASE}.fastq\" > \"$SAM_SORTED\"\n",
    "\n",
    "    # Sort SAM file\n",
    "    samtools sort -n  \"$SAM_SORTED\" -o \"${SAM_DIR}${BAM_BASE}.sam\" ## use 'sort -n' for sort by read id\n",
    "\n",
    "\n",
    "    rm \"$SAM_SORTED\"\n",
    "    rm \"${SAM_DIR}${BAM_BASE}.fastq\"\n",
    "\n",
    "done\n",
    "```"
   ]
  },
  {
   "cell_type": "markdown",
   "id": "ba394d55-0387-4172-83fa-895435854b39",
   "metadata": {},
   "source": [
    "# Create SAM files from `uracil0504` data"
   ]
  },
  {
   "cell_type": "code",
   "execution_count": null,
   "id": "5772d0db-88dc-4c2e-8043-64f317c5989e",
   "metadata": {},
   "outputs": [],
   "source": [
    "%%bash\n",
    "BAM_PATH='/v/projects/nanopore/agnes/signal_visualization/uracil0504/guppy/pass/basecalls.bam'\n",
    "SORTED_BAM_PATH='/v/projects/nanopore/balazs/data/uracil_0504/sorted_basecalls.bam'\n",
    "\n",
    "samtools sort -n \"$BAM_PATH\" -o \"$SORTED_BAM_PATH\""
   ]
  },
  {
   "cell_type": "code",
   "execution_count": null,
   "id": "66b186af-ed98-4830-b5fa-b26b21324d57",
   "metadata": {},
   "outputs": [],
   "source": [
    "import pysam\n",
    "bam_path='/v/projects/nanopore/balazs/data/uracil_0504/sorted_basecalls.bam'\n",
    "fastq_path='/v/projects/nanopore/balazs/data/uracil_0504/sorted_basecalls.fastq'\n",
    "\n",
    "bam_file = pysam.AlignmentFile(bam_path, \"rb\", check_sq=False)\n",
    "with open(fastq_path, \"w\") as fq_out:\n",
    "    for read in bam_file:\n",
    "        if read.is_unmapped:\n",
    "            # Get the tags (it returns a list of tuples)\n",
    "            tags = read.get_tags()\n",
    "            # Convert tags to a string for the FASTQ header\n",
    "            metadata = \" \".join(f\"{tag}:{value}\" for tag, value in tags)\n",
    "            # Write the read to FASTQ format with metadata in the header\n",
    "            fq_out.write(f\"@{read.query_name} {metadata}\\n\")\n",
    "            fq_out.write(f\"{read.query_sequence}\\n\")\n",
    "            fq_out.write(\"+\\n\")\n",
    "            fq_out.write(f\"{read.qual}\\n\")"
   ]
  },
  {
   "cell_type": "code",
   "execution_count": null,
   "id": "5b7aed3b-b0d1-4708-974c-785e35dc3bf9",
   "metadata": {},
   "outputs": [],
   "source": [
    "%%bash\n",
    "minimap2=/v/scratch/tools/minimap2/minimap2\n",
    "\n",
    "REF_SEQUENCE=\"/v/volumes/nanopore/ref/p300_ID3.fasta\"\n",
    "FASTQ=\"/v/projects/nanopore/balazs/data/uracil_0504/sorted_basecalls.fastq\"\n",
    "SAM=\"/v/projects/nanopore/balazs/data/uracil_0504/mapped_basecalls.sam\"\n",
    "\n",
    "$minimap2 -ax map-ont -y -t 8 \"$REF_SEQUENCE\" \"$FASTQ\" > \"$SAM\"\n",
    "\n",
    "rm \"$FASTQ\"\n",
    "rm \"/v/projects/nanopore/balazs/data/uracil_0504/sorted_basecalls.bam\""
   ]
  },
  {
   "cell_type": "code",
   "execution_count": null,
   "id": "86c081f4-c38f-4d2e-84b5-4d4de4346366",
   "metadata": {},
   "outputs": [],
   "source": [
    "%%bash\n",
    "SAM=\"/v/projects/nanopore/balazs/data/uracil_0504/mapped_basecalls.sam\"\n",
    "head -n 4 \"$SAM\""
   ]
  },
  {
   "cell_type": "markdown",
   "id": "bdfabb33-e2c4-4d6b-83bf-29f4ab33abae",
   "metadata": {},
   "source": [
    "```python\n",
    "%%bash\n",
    "minimap2=/v/projects/nanopore/tools/minimap2/minimap2-2.24_x64-linux/minimap2\n",
    "\n",
    "# Define paths\n",
    "BAM_FILES=\"/v/projects/nanopore/agnes/signal_visualization/uracil0504/guppy/pass/\"\n",
    "REF_SEQUENCE=\"/v/volumes/nanopore/ref/p300_ID3.fasta\"\n",
    "SAM_DIR=\"/v/projects/nanopore/balazs/data/uracil_0405_sam_position/\"\n",
    "\n",
    "# Ensure the output directory exists\n",
    "mkdir -p $SAM_DIR\n",
    "\n",
    "# Iterate through BAM files\n",
    "for BAM in ${BAM_FILES}*.bam; do\n",
    "    # Extract the base name\n",
    "    BAM_BASE=$(basename \"$BAM\" .bam)\n",
    "\n",
    "    # Generate SAM path\n",
    "    SAM_SORTED=\"${SAM_DIR}${BAM_BASE}_temp.sam\"\n",
    "\n",
    "    # Convert BAM to FASTQ\n",
    "    samtools fastq \"$BAM\" > \"${SAM_DIR}${BAM_BASE}.fastq\"\n",
    "\n",
    "    # Align reads using minimap2 \n",
    "    $minimap2 -ax map-ont \"$REF_SEQUENCE\" \"${SAM_DIR}${BAM_BASE}.fastq\" > \"$SAM_SORTED\"\n",
    "\n",
    "    # Sort BAM file\n",
    "    samtools sort -n \"$SAM_SORTED\" -o \"${SAM_DIR}${BAM_BASE}.sam\"\n",
    "\n",
    "    rm \"$SAM_SORTED\"\n",
    "    rm \"${SAM_DIR}${BAM_BASE}.fastq\"\n",
    "\n",
    "done\n",
    "\n",
    "```"
   ]
  }
 ],
 "metadata": {
  "finalized": {
   "timestamp": 1732113311991,
   "trusted": true
  },
  "kernelspec": {
   "display_name": "Python [conda env:base] *",
   "language": "python",
   "name": "conda-base-py"
  },
  "language_info": {
   "codemirror_mode": {
    "name": "ipython",
    "version": 3
   },
   "file_extension": ".py",
   "mimetype": "text/x-python",
   "name": "python",
   "nbconvert_exporter": "python",
   "pygments_lexer": "ipython3",
   "version": "3.12.2"
  }
 },
 "nbformat": 4,
 "nbformat_minor": 5
}
