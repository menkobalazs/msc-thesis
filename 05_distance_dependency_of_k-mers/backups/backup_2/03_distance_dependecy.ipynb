{
 "cells": [
  {
   "cell_type": "code",
   "execution_count": 1,
   "id": "b5d9e00a-6adf-40bf-9dec-b202421ae8e2",
   "metadata": {},
   "outputs": [],
   "source": [
    "import re\n",
    "import numpy as np\n",
    "import pandas as pd\n",
    "import matplotlib.pyplot as plt\n",
    "from glob import glob\n",
    "from tqdm import tqdm\n",
    "\n",
    "FS = 12 # fontsize"
   ]
  },
  {
   "cell_type": "code",
   "execution_count": 2,
   "id": "69580878-b0fa-4922-b2aa-ca09271c4941",
   "metadata": {},
   "outputs": [],
   "source": [
    "def read_fast5(fname, single_or_multi_read, get_read_ids=False):\n",
    "    'from !bsc_szakdoga/github/python_scripts/fast5_analysis.ipynb'\n",
    "    from ont_fast5_api.fast5_interface import get_fast5_file\n",
    "    def raw_to_current(rawdata, offset, range_, digitisation):\n",
    "        return list((np.array(rawdata) + offset) * range_ / digitisation)\n",
    "    \n",
    "    if single_or_multi_read not in ['s', 'm']:\n",
    "        raise ValueError('single_or_multi variable must be \"s\" or \"m\".')\n",
    "    data = []\n",
    "    read_ids = []\n",
    "    with get_fast5_file(fname, mode=\"r\") as f:\n",
    "        for read in f.get_reads():\n",
    "            ch=read.get_channel_info()\n",
    "            data.append(raw_to_current(read.get_raw_data(), ch['offset'], ch['range'], ch['digitisation']))\n",
    "            read_ids.append(read.read_id)\n",
    "    if single_or_multi_read == 's':\n",
    "        if get_read_ids:\n",
    "            return np.array(data[0]), read_ids\n",
    "        return np.array(data[0]) # single read --> dim=1\n",
    "    elif single_or_multi_read == 'm':\n",
    "        if get_read_ids:\n",
    "            return np.array(data, dtype='object'), read_ids\n",
    "        return np.array(data, dtype='object')\n",
    "\n",
    "def find_read_id_index(string_list, search_string):\n",
    "    string_array = np.array(string_list)\n",
    "    index = np.where(np.char.find(string_array, search_string) != -1)[0]\n",
    "    if len(index) == 1:\n",
    "        return index[0]\n",
    "    print(f'Error: no or more indices found; len(index)={len(index)}')\n",
    "    return None\n",
    "\n",
    "def split_raw_signal(raw_signal, move_table, stride):\n",
    "    start_of_bases = (np.where(move_table == 1)[0]) * stride\n",
    "    signals = [raw_signal[i:j] for i, j in zip(start_of_bases, start_of_bases[1:])]\n",
    "    mean_signals = [np.mean(raw_signal[i:j]) for i, j in zip(start_of_bases, start_of_bases[1:])]\n",
    "    return start_of_bases, signals, mean_signals\n",
    "\n",
    "def replace_T_to_U(data):\n",
    "    if  type(data) not in [list, np.ndarray]:\n",
    "        raise TypeError(f'sam_file_names must be a list')\n",
    "    for record in tqdm(data, total=len(data), desc='Replacing'):\n",
    "        record['sequence'] = np.array(['U' if base == 'T' else base for base in record['sequence']])\n",
    "    return np.array(data)"
   ]
  },
  {
   "cell_type": "code",
   "execution_count": 3,
   "id": "d52f027d-20ed-4d75-9108-c2cba44241ee",
   "metadata": {},
   "outputs": [],
   "source": [
    "def get_data(sam):\n",
    "    mv_table = re.findall(r\"(mv:array\\('b',.*?\\))|(\\S+:\\S+)\", sam[-1])\n",
    "    mv_table = [x[0] if x[0] else x[1] for x in mv_table]\n",
    "    return  {\n",
    "        'read_id':sam[0], \n",
    "        'sam_flag':int(sam[1]),\n",
    "        'mapped_position':int(sam[3]),\n",
    "        'map_quality':int(sam[4]),\n",
    "        'cigar_str':sam[5],\n",
    "        'sequence':np.array(list(sam[9])),\n",
    "        'move_table':np.array(mv_table[0][17:-2].split(', '), dtype='int'),\n",
    "        'stride':int(mv_table[0][15]),\n",
    "        'trim_offset':int(mv_table[8][3:]),\n",
    "        'fast5_file_name':mv_table[6][3:]\n",
    "       } \n",
    "\n",
    "\n",
    "def read_sam(sam_file_names, min_length=0, max_length=1e5, min_MAPQ=0, wrong_flags={4, 256, 272, 2048, 2064}):\n",
    "    ''' read sam file '''\n",
    "    ### For more files\n",
    "    if  type(sam_file_names) == list:\n",
    "        all_sam_data = []\n",
    "        for sam_file_name in sam_file_names:\n",
    "            with open(sam_file_name, 'r') as file:\n",
    "                sam_files = file.read().split('\\n')\n",
    "                sam_files = [line for line in sam_files if not line.startswith('@')]\n",
    "            one_sam_data = []\n",
    "            for i in range(len(sam_files)-1):\n",
    "                sam = sam_files[i].split('\\t')\n",
    "                data = get_data(sam)\n",
    "                if (len(data['sequence']) <= max_length and\n",
    "                    len(data['sequence']) >= min_length and\n",
    "                    data['map_quality'] >= min_MAPQ and\n",
    "                    data['sam_flag'] not in wrong_flags                     \n",
    "                   ): one_sam_data.append(data)\n",
    "            all_sam_data.append(np.array(one_sam_data, dtype='object'))\n",
    "        return np.hstack(all_sam_data, dtype='object')\n",
    "        \n",
    "    ### For only one file\n",
    "    elif  type(sam_file_names) == str:\n",
    "        with open(sam_file_names, 'r') as file:\n",
    "            sam_files = file.read().split('\\n')\n",
    "            sam_files = [line for line in sam_files if not line.startswith('@')]\n",
    "        sam_data = []\n",
    "        for i in tqdm(range(len(sam_files)-1),  total=len(sam_files)-1, desc=\"Loading file\"):\n",
    "            sam = sam_files[i].split('\\t')\n",
    "            data = get_data(sam)\n",
    "            if (len(data['sequence']) <= max_length and\n",
    "                len(data['sequence']) >= min_length and\n",
    "                data['map_quality'] >= min_MAPQ and\n",
    "                data['sam_flag'] not in wrong_flags                     \n",
    "               ): sam_data.append(data)\n",
    "        return np.array(sam_data, dtype='object')\n",
    "\n",
    "    else:\n",
    "        raise TypeError(f\"'sam_file_names' must be a string or list, not {type(sam_file_names)}\\n sam_file_names='{sam_file_names}'\")"
   ]
  },
  {
   "cell_type": "code",
   "execution_count": 4,
   "id": "af5a61c6-1c1a-4887-8aac-f88bc65e660f",
   "metadata": {},
   "outputs": [],
   "source": [
    "def get_feature_from_sam_data(data, feature):\n",
    "    return np.array([entry[feature] for entry in data ], dtype='object')\n",
    "\n",
    "def search_in_data(data, key, element):\n",
    "    for entry in data:\n",
    "        if entry[key] == element:\n",
    "            return entry\n",
    "    return None"
   ]
  },
  {
   "cell_type": "markdown",
   "id": "93811d14-f6be-42d7-a4ed-8bcbd3e780f0",
   "metadata": {},
   "source": [
    "---\n",
    "# Reference file"
   ]
  },
  {
   "cell_type": "code",
   "execution_count": 5,
   "id": "1ef1330a-a20f-4bf3-a9ac-9481056f0999",
   "metadata": {},
   "outputs": [
    {
     "name": "stdout",
     "output_type": "stream",
     "text": [
      "Length of ref sequence: 1164\n"
     ]
    },
    {
     "data": {
      "text/plain": [
       "array(['A', 'A', 'C', ..., 'C', 'A', 'G'], dtype='<U1')"
      ]
     },
     "execution_count": 5,
     "metadata": {},
     "output_type": "execute_result"
    }
   ],
   "source": [
    "with open(\"/v/volumes/nanopore/ref/p300_ID3.fasta\", 'r') as file:\n",
    "    p300_ID3_ref = file.read().split('\\n')[1]\n",
    "p300_ID3_ref = np.array(list(p300_ID3_ref))\n",
    "print(f'Length of ref sequence: {len(p300_ID3_ref)}')\n",
    "p300_ID3_ref"
   ]
  },
  {
   "cell_type": "markdown",
   "id": "1ccf767e-6d06-4c56-936c-4b1e84c5c048",
   "metadata": {},
   "source": [
    "---\n",
    "# Thymine"
   ]
  },
  {
   "cell_type": "code",
   "execution_count": 6,
   "id": "0f42f88f-289e-45d8-aee3-a797ad82b15d",
   "metadata": {},
   "outputs": [],
   "source": [
    "#path_to_Thymine_fast5 = '/v/projects/nanopore/agnes/signal_visualization/data/timin0421/workspace/'\n",
    "#T_fast5_files = glob(path_to_Thymine_fast5+'*.fast5')\n",
    "\n",
    "#idx1 = 0\n",
    "#fast5_file_path = path_to_Thymine_fast5 + T_sam_data[idx1]['fast5_file_name']\n",
    "#fast5_signals, read_ids "
   ]
  },
  {
   "cell_type": "code",
   "execution_count": 7,
   "id": "27426181-2b8b-4133-a47e-b711eb356b84",
   "metadata": {},
   "outputs": [
    {
     "name": "stderr",
     "output_type": "stream",
     "text": [
      "Loading file: 100%|██████████| 21418/21418 [00:14<00:00, 1451.87it/s]\n"
     ]
    }
   ],
   "source": [
    "T_sam_data = read_sam(\"/v/projects/nanopore/balazs/data/thymine_0421/mapped_basecalls.sam\",\n",
    "                      min_length=len(p300_ID3_ref)*0.6,\n",
    "                      max_length=len(p300_ID3_ref)*1.1,\n",
    "                      min_MAPQ=40,\n",
    "                     )"
   ]
  },
  {
   "cell_type": "code",
   "execution_count": 8,
   "id": "f10fa5fe-500c-4abd-8d40-c4462e3df43c",
   "metadata": {},
   "outputs": [
    {
     "data": {
      "text/plain": [
       "(19722,)"
      ]
     },
     "execution_count": 8,
     "metadata": {},
     "output_type": "execute_result"
    }
   ],
   "source": [
    "T_sam_data.shape"
   ]
  },
  {
   "cell_type": "code",
   "execution_count": 9,
   "id": "d3da0473-2eb8-4451-b934-96b56cc4410e",
   "metadata": {},
   "outputs": [
    {
     "data": {
      "text/plain": [
       "array(['000b042c-f087-49bf-8ed3-e0b385e3bb5b',\n",
       "       '000efc4f-8c7b-4c46-971d-aa9bb3699d14',\n",
       "       '00a0ba40-383c-4f6b-b206-c37c2433b12c', ...,\n",
       "       'fff89552-4aa9-48d3-b7ca-19c9e270819e',\n",
       "       'fffc6b1b-16c6-414e-bcda-9d648b994ccb',\n",
       "       'fffe2dbc-da7d-4fb2-857f-f271f0c90479'], dtype=object)"
      ]
     },
     "execution_count": 9,
     "metadata": {},
     "output_type": "execute_result"
    }
   ],
   "source": [
    "read_ids = get_feature_from_sam_data(T_sam_data, 'read_id')\n",
    "read_ids"
   ]
  },
  {
   "cell_type": "code",
   "execution_count": 10,
   "id": "dee696ae-7f80-4a83-9da4-ec8fae323a31",
   "metadata": {},
   "outputs": [],
   "source": [
    "possible_positions = get_feature_from_sam_data(T_sam_data, 'mapped_position')"
   ]
  },
  {
   "cell_type": "code",
   "execution_count": 11,
   "id": "0b35fd6b-6441-446f-a3aa-17b14ba2159f",
   "metadata": {},
   "outputs": [
    {
     "data": {
      "text/plain": [
       "748"
      ]
     },
     "execution_count": 11,
     "metadata": {},
     "output_type": "execute_result"
    }
   ],
   "source": [
    "max(possible_positions)"
   ]
  },
  {
   "cell_type": "code",
   "execution_count": 12,
   "id": "eaa890ff-b702-4747-85ee-d44e9b84eba8",
   "metadata": {},
   "outputs": [
    {
     "data": {
      "text/plain": [
       "0"
      ]
     },
     "execution_count": 12,
     "metadata": {},
     "output_type": "execute_result"
    }
   ],
   "source": [
    "sum(possible_positions == 0)"
   ]
  },
  {
   "cell_type": "code",
   "execution_count": 13,
   "id": "67f207c7-f0ec-4e1a-91b5-9addcce860f6",
   "metadata": {},
   "outputs": [
    {
     "data": {
      "text/plain": [
       "{'read_id': 'afadfb5f-2bbf-4144-9ae0-d5c0a6e5474c',\n",
       " 'sam_flag': 16,\n",
       " 'mapped_position': 4,\n",
       " 'map_quality': 60,\n",
       " 'cigar_str': '15S15M3I41M1D58M1D48M1I186M1D108M1I98M1D72M1D2M2D76M1D109M1D4M2I19M1D35M1D53M2D39M3D4M1I75M1D97M52S',\n",
       " 'sequence': array(['C', 'T', 'A', ..., 'A', 'T', 'G'], dtype='<U1'),\n",
       " 'move_table': array([1, 1, 0, ..., 0, 0, 0]),\n",
       " 'stride': 5,\n",
       " 'trim_offset': 75,\n",
       " 'fast5_file_name': 'aoa546_pass_235c7b69_db4f2d16_13.fast5'}"
      ]
     },
     "execution_count": 13,
     "metadata": {},
     "output_type": "execute_result"
    }
   ],
   "source": [
    "T_sam_data[13456] # random read from the data"
   ]
  },
  {
   "cell_type": "code",
   "execution_count": 14,
   "id": "e613ed85-31d1-4985-a1ab-2ac145cad243",
   "metadata": {},
   "outputs": [
    {
     "data": {
      "image/png": "[encoded data removed]",
      "text/plain": [
       "<Figure size 640x480 with 1 Axes>"
      ]
     },
     "metadata": {},
     "output_type": "display_data"
    }
   ],
   "source": [
    "xlim_min=0\n",
    "xlim_max=50\n",
    "\n",
    "plt.hist(possible_positions, bins=max(possible_positions), color='blue', alpha=0.7)\n",
    "plt.yscale('log')\n",
    "plt.xlim(xlim_min, xlim_max)\n",
    "plt.grid('dotted')\n",
    "plt.xticks(np.arange(xlim_min, xlim_max, 2)+0.5, np.arange(xlim_min, xlim_max, 2))\n",
    "plt.show()"
   ]
  },
  {
   "cell_type": "code",
   "execution_count": 15,
   "id": "63814b18-06b1-4896-96c6-e52348cae122",
   "metadata": {},
   "outputs": [
    {
     "data": {
      "image/png": "[encoded data removed]",
      "text/plain": [
       "<Figure size 640x480 with 1 Axes>"
      ]
     },
     "metadata": {},
     "output_type": "display_data"
    }
   ],
   "source": [
    "all_bases_T = get_feature_from_sam_data(T_sam_data, 'sequence')\n",
    "\n",
    "all_bases_length_T = []\n",
    "for item in all_bases_T:\n",
    "    all_bases_length_T.append(len(item))\n",
    "\n",
    "plt.plot(sorted(all_bases_length_T))\n",
    "plt.grid()"
   ]
  },
  {
   "cell_type": "code",
   "execution_count": null,
   "id": "016eaea2-651f-401d-9fc4-b7b94c17596a",
   "metadata": {},
   "outputs": [],
   "source": []
  },
  {
   "cell_type": "markdown",
   "id": "b090ffdb-fdbb-4dd3-bd6a-5098a87da517",
   "metadata": {},
   "source": [
    "---\n",
    "# Uracil"
   ]
  },
  {
   "cell_type": "code",
   "execution_count": 16,
   "id": "d9953916-4ba1-48d2-96a9-32538ab924f8",
   "metadata": {},
   "outputs": [
    {
     "name": "stderr",
     "output_type": "stream",
     "text": [
      "Loading file: 100%|██████████| 257207/257207 [02:52<00:00, 1488.52it/s]\n"
     ]
    }
   ],
   "source": [
    "U_sam_data = read_sam(\"/v/projects/nanopore/balazs/data/uracil_0504/mapped_basecalls.sam\",\n",
    "                      min_length=len(p300_ID3_ref)*0.5,\n",
    "                      max_length=len(p300_ID3_ref)*1.1,\n",
    "                      min_MAPQ=40,\n",
    "                     )"
   ]
  },
  {
   "cell_type": "code",
   "execution_count": 17,
   "id": "1b9de0ff-1177-4400-9362-086c7072bc7b",
   "metadata": {},
   "outputs": [
    {
     "data": {
      "text/plain": [
       "(233223,)"
      ]
     },
     "execution_count": 17,
     "metadata": {},
     "output_type": "execute_result"
    }
   ],
   "source": [
    "U_sam_data.shape"
   ]
  },
  {
   "cell_type": "code",
   "execution_count": 18,
   "id": "7e632cc6-0a72-4f42-b1a2-48d08de907d3",
   "metadata": {},
   "outputs": [],
   "source": [
    "mapq = get_feature_from_sam_data(U_sam_data, 'map_quality')"
   ]
  },
  {
   "cell_type": "code",
   "execution_count": 19,
   "id": "e8c00244-46ad-4ca2-b0ef-a75ae94425c6",
   "metadata": {},
   "outputs": [
    {
     "data": {
      "text/plain": [
       "[<matplotlib.lines.Line2D at 0x7f923b0310d0>]"
      ]
     },
     "execution_count": 19,
     "metadata": {},
     "output_type": "execute_result"
    },
    {
     "data": {
      "image/png": "[encoded data removed]",
      "text/plain": [
       "<Figure size 640x480 with 1 Axes>"
      ]
     },
     "metadata": {},
     "output_type": "display_data"
    }
   ],
   "source": [
    "plt.plot(mapq)"
   ]
  },
  {
   "cell_type": "code",
   "execution_count": 20,
   "id": "f3a905d3-83b7-4f52-9445-4ccbd80e5ecd",
   "metadata": {},
   "outputs": [],
   "source": [
    "path_to_Uracil_fast5 = '/v/projects/nanopore/agnes/signal_visualization/uracil0504/guppy/workspace/'\n",
    "U_fast5_files = glob(path_to_Uracil_fast5+'*.fast5')\n",
    "\n",
    "index_of_fast5 = 0\n",
    "fast5_file_path = path_to_Uracil_fast5 + U_sam_data[index_of_fast5]['fast5_file_name']\n",
    "fast5_signals, read_ids = read_fast5(fast5_file_path, 'm', get_read_ids=True)"
   ]
  },
  {
   "cell_type": "code",
   "execution_count": 21,
   "id": "bedfc0e7-8273-4c4a-903a-9a7efdd69232",
   "metadata": {},
   "outputs": [],
   "source": [
    "# Replace thymine to uracil\n",
    "#U_sam_data = replace_T_to_U(U_sam_data) # ~3min"
   ]
  },
  {
   "cell_type": "code",
   "execution_count": 22,
   "id": "e7bbe6d2-566d-4ffc-8b8e-0c8d2ed69365",
   "metadata": {},
   "outputs": [
    {
     "data": {
      "image/png": "[encoded data removed]",
      "text/plain": [
       "<Figure size 640x480 with 1 Axes>"
      ]
     },
     "metadata": {},
     "output_type": "display_data"
    }
   ],
   "source": [
    "all_bases_U = get_feature_from_sam_data(U_sam_data, 'sequence')\n",
    "\n",
    "all_bases_length_U = []\n",
    "for item in all_bases_U:\n",
    "    all_bases_length_U.append(len(item))\n",
    "\n",
    "plt.plot(sorted(all_bases_length_U))\n",
    "plt.grid()"
   ]
  }
 ],
 "metadata": {
  "kernelspec": {
   "display_name": "Python [conda env:base] *",
   "language": "python",
   "name": "conda-base-py"
  },
  "language_info": {
   "codemirror_mode": {
    "name": "ipython",
    "version": 3
   },
   "file_extension": ".py",
   "mimetype": "text/x-python",
   "name": "python",
   "nbconvert_exporter": "python",
   "pygments_lexer": "ipython3",
   "version": "3.12.2"
  }
 },
 "nbformat": 4,
 "nbformat_minor": 5
}
