{
 "cells": [
  {
   "cell_type": "code",
   "execution_count": 1,
   "id": "8ec9b104-ad39-470e-9685-b91717a7cffd",
   "metadata": {
    "editable": true,
    "slideshow": {
     "slide_type": ""
    },
    "tags": []
   },
   "outputs": [],
   "source": [
    "from utils import *"
   ]
  },
  {
   "cell_type": "code",
   "execution_count": 2,
   "id": "f8087013-c97c-4908-96c0-ed9928b1d886",
   "metadata": {},
   "outputs": [],
   "source": [
    "from speedup import *"
   ]
  },
  {
   "cell_type": "code",
   "execution_count": null,
   "id": "2b78e63d-7bdf-47b0-bb72-2d2427873877",
   "metadata": {},
   "outputs": [],
   "source": [
    "_=\"\"\"def get_raw_signal_with_bases(sam_data, fast5_path, reference_sequence, verbose=False):\n",
    "    import warnings\n",
    "    result = []\n",
    "\n",
    "    for entry in tqdm(sam_data, total=len(sam_data), desc='Processing data'):\n",
    "        fast5_signals, read_ids = read_fast5(fast5_path + entry['fast5_file_name'], 'm', get_read_ids=True)\n",
    "\n",
    "        # Get split raw signal\n",
    "        _, signals, _ = split_raw_signal(fast5_signals[find_read_id_index(read_ids, entry['read_id'])][entry['trim_offset']:], \n",
    "                                         entry['move_table'], entry['stride'])\n",
    "\n",
    "        counter = 0\n",
    "        ref_counter = entry['mapped_position_index']\n",
    "\n",
    "        sequence = []\n",
    "        ref_seq_with_deletions_insertions = []\n",
    "\n",
    "        signal = []\n",
    "\n",
    "        for i, (op, length) in enumerate(zip(entry['cigar_str'][1], entry['cigar_str'][0])): \n",
    "            if op == \"S\":  \n",
    "                counter += length  \n",
    "\n",
    "            elif op == \"M\":  \n",
    "                sequence.extend(entry['sequence'][counter:counter + length])  \n",
    "                signal.append(signals[counter])\n",
    "                counter += length  \n",
    "                \n",
    "                ref_seq_with_deletions_insertions.extend(reference_sequence[ref_counter:ref_counter + length]) \n",
    "                ref_counter += length  \n",
    "\n",
    "            elif op == \"I\":  \n",
    "                sequence.extend(entry['sequence'][counter:counter + length])  \n",
    "                signal.append(signals[counter])\n",
    "                counter += length  \n",
    "                \n",
    "                ref_seq_with_deletions_insertions.extend([''] * length)  \n",
    "\n",
    "            elif op == \"D\":  \n",
    "                sequence.extend([''] * length)  \n",
    "                signal.append([None] * length * entry['stride'])  # it means there is no signal due to deletion\n",
    "                \n",
    "                ref_seq_with_deletions_insertions.extend(reference_sequence[ref_counter:ref_counter + length])  \n",
    "                ref_counter += length  \n",
    "                            \n",
    "            else:  \n",
    "                warnings.warn(f\"Invalid CIGAR operator: '{op}'\", UserWarning)  \n",
    "                break  \n",
    "\n",
    "        result.append({\n",
    "            'sequence': np.array(sequence),\n",
    "            'ref_seq': np.array(ref_seq_with_deletions_insertions),\n",
    "            'signal': np.array(signal, dtype='object')\n",
    "        })\n",
    "\n",
    "    return result\n",
    "\n",
    "def test_basecall_accuracy(result_dict):\n",
    "    pct=[]\n",
    "    for i in range(len(result_dict)):\n",
    "        matching, not_matching = 0,0\n",
    "        for s, r in zip(result_dict[i]['sequence'], result_dict[i]['ref_seq']):\n",
    "            if not s=='' and not r=='' :\n",
    "                if s==r:\n",
    "                    matching +=1 \n",
    "                else: \n",
    "                    not_matching+=1\n",
    "        \n",
    "        pct.append(matching/ (matching+not_matching))\n",
    "    print(f'Min accuracy:  {100*min(pct):.3f}%')\n",
    "    print(f'Max accuracy:  {100*max(pct):.3f}%')\n",
    "    print(f'Mean accuracy: {100*np.mean(pct):.3f}%')\n",
    "    print(f'Std accuracy:  {100*np.std(pct):.3f}%')\n",
    "    return None\"\"\""
   ]
  },
  {
   "cell_type": "markdown",
   "id": "2746fef5-2ae1-4839-8cd0-da4d33b6f139",
   "metadata": {},
   "source": [
    "---\n",
    "# Reference file"
   ]
  },
  {
   "cell_type": "code",
   "execution_count": 3,
   "id": "29b7f3f1-b0c4-4b06-99ed-0d56e5194fdf",
   "metadata": {
    "editable": true,
    "slideshow": {
     "slide_type": ""
    },
    "tags": []
   },
   "outputs": [
    {
     "name": "stdout",
     "output_type": "stream",
     "text": [
      "Length of ref sequence: 1164\n"
     ]
    },
    {
     "data": {
      "text/plain": [
       "array(['A', 'A', 'C', ..., 'C', 'A', 'G'], dtype='<U1')"
      ]
     },
     "execution_count": 3,
     "metadata": {},
     "output_type": "execute_result"
    }
   ],
   "source": [
    "with open(\"/v/volumes/nanopore/ref/p300_ID3.fasta\", 'r') as file:\n",
    "    p300_ID3_ref = file.read().split('\\n')[1]\n",
    "p300_ID3_ref = np.array(list(p300_ID3_ref))\n",
    "print(f'Length of ref sequence: {len(p300_ID3_ref)}')\n",
    "p300_ID3_ref"
   ]
  },
  {
   "cell_type": "code",
   "execution_count": 4,
   "id": "4aae33d1-c874-4fbb-8826-83f91e39fed4",
   "metadata": {},
   "outputs": [
    {
     "name": "stdout",
     "output_type": "stream",
     "text": [
      "The position: 692\n",
      "Distances: [ 6 15 20  1]\n"
     ]
    },
    {
     "data": {
      "text/plain": [
       "array(['T', 'C', 'C', 'A', 'A', 'G', 'G', 'C', 'A', 'G', 'A', 'C', 'A',\n",
       "       'C', 'C', 'T', 'A', 'C', 'A', 'C', 'C', 'A', 'C', 'C', 'A', 'A',\n",
       "       'C', 'A', 'A', 'C', 'A', 'C', 'A', 'A', 'C', 'T'], dtype='<U1')"
      ]
     },
     "execution_count": 4,
     "metadata": {},
     "output_type": "execute_result"
    }
   ],
   "source": [
    "def find_the_greatest_neighbors(dst):\n",
    "    'Squared geometric mean'\n",
    "    geom_mean_sq = []\n",
    "    for i in range(len(dst)-1):\n",
    "        geom_mean_sq.append(dst[i]*dst[i+1] )\n",
    "    return np.argmax(geom_mean_sq)+1\n",
    "\n",
    "T_positions = np.where(p300_ID3_ref == 'T')[0]\n",
    "T_distances = np.diff(T_positions)\n",
    "T_max_dist_pos = find_the_greatest_neighbors(T_distances)\n",
    "T_max_pos = T_positions[T_max_dist_pos]\n",
    "print(f\"The position: {T_max_pos}\")\n",
    "print(f\"Distances: {T_distances[T_max_dist_pos-2: T_max_dist_pos+2]}\")\n",
    "p300_ID3_ref[T_max_pos-15:T_max_pos+21]"
   ]
  },
  {
   "cell_type": "markdown",
   "id": "75e25f83-0888-4e21-9bff-8a8f36d26fdf",
   "metadata": {},
   "source": [
    "---\n",
    "# Thymine dataset"
   ]
  },
  {
   "cell_type": "code",
   "execution_count": 5,
   "id": "31ded9eb-9fe6-4080-bac7-1377c468b486",
   "metadata": {},
   "outputs": [
    {
     "ename": "NameError",
     "evalue": "name 'read_sam' is not defined",
     "output_type": "error",
     "traceback": [
      "\u001b[0;31m---------------------------------------------------------------------------\u001b[0m",
      "\u001b[0;31mNameError\u001b[0m                                 Traceback (most recent call last)",
      "Cell \u001b[0;32mIn[5], line 1\u001b[0m\n\u001b[0;32m----> 1\u001b[0m T_sam_data \u001b[38;5;241m=\u001b[39m read_sam(\u001b[38;5;28msorted\u001b[39m(glob(\u001b[38;5;124m\"\u001b[39m\u001b[38;5;124m/v/projects/nanopore/balazs/data/thymine_0421/*0.sam\u001b[39m\u001b[38;5;124m\"\u001b[39m)),\n\u001b[1;32m      2\u001b[0m                       min_length\u001b[38;5;241m=\u001b[39m\u001b[38;5;28mlen\u001b[39m(p300_ID3_ref)\u001b[38;5;241m*\u001b[39m\u001b[38;5;241m0.8\u001b[39m,\n\u001b[1;32m      3\u001b[0m                       max_length\u001b[38;5;241m=\u001b[39m\u001b[38;5;28mlen\u001b[39m(p300_ID3_ref)\u001b[38;5;241m*\u001b[39m\u001b[38;5;241m1.2\u001b[39m, \n\u001b[1;32m      4\u001b[0m                       min_MAPQ\u001b[38;5;241m=\u001b[39m\u001b[38;5;241m50\u001b[39m,\n\u001b[1;32m      5\u001b[0m                       max_insertion\u001b[38;5;241m=\u001b[39m\u001b[38;5;241m7\u001b[39m, \n\u001b[1;32m      6\u001b[0m                       max_deletion\u001b[38;5;241m=\u001b[39m\u001b[38;5;241m7\u001b[39m,\n\u001b[1;32m      7\u001b[0m                       max_indel_frequency\u001b[38;5;241m=\u001b[39m\u001b[38;5;241m0.4\u001b[39m,\n\u001b[1;32m      8\u001b[0m                       \u001b[38;5;66;03m#verbose=True # Number of reads stored: 17420\u001b[39;00m\n\u001b[1;32m      9\u001b[0m                      )\n",
      "\u001b[0;31mNameError\u001b[0m: name 'read_sam' is not defined"
     ]
    }
   ],
   "source": [
    "T_sam_data = read_sam(sorted(glob(\"/v/projects/nanopore/balazs/data/thymine_0421/*0.sam\")),\n",
    "                      min_length=len(p300_ID3_ref)*0.8,\n",
    "                      max_length=len(p300_ID3_ref)*1.2, \n",
    "                      min_MAPQ=50,\n",
    "                      max_insertion=7, \n",
    "                      max_deletion=7,\n",
    "                      max_indel_frequency=0.4,\n",
    "                      #verbose=True # Number of reads stored: 17420\n",
    "                     )"
   ]
  },
  {
   "cell_type": "code",
   "execution_count": 6,
   "id": "bf1d0230-59b5-4ecf-8e7d-cca6df35265d",
   "metadata": {},
   "outputs": [
    {
     "ename": "NameError",
     "evalue": "name 'search_in_data' is not defined",
     "output_type": "error",
     "traceback": [
      "\u001b[0;31m---------------------------------------------------------------------------\u001b[0m",
      "\u001b[0;31mNameError\u001b[0m                                 Traceback (most recent call last)",
      "Cell \u001b[0;32mIn[6], line 1\u001b[0m\n\u001b[0;32m----> 1\u001b[0m T_forward_strands \u001b[38;5;241m=\u001b[39m search_in_data(T_sam_data, \u001b[38;5;124m\"\u001b[39m\u001b[38;5;124msam_flag\u001b[39m\u001b[38;5;124m\"\u001b[39m,  \u001b[38;5;241m0\u001b[39m, only_first_match\u001b[38;5;241m=\u001b[39m\u001b[38;5;28;01mFalse\u001b[39;00m)\n",
      "\u001b[0;31mNameError\u001b[0m: name 'search_in_data' is not defined"
     ]
    }
   ],
   "source": [
    "T_forward_strands = search_in_data(T_sam_data, \"sam_flag\",  0, only_first_match=False)\n",
    "#T_reverse_strands = search_in_data(T_sam_data, \"sam_flag\", 16, only_first_match=False)"
   ]
  },
  {
   "cell_type": "code",
   "execution_count": null,
   "id": "87fd6031-00b2-482e-b95a-9234a161286f",
   "metadata": {
    "scrolled": true
   },
   "outputs": [],
   "source": [
    "path_to_Thymine_fast5 = '/v/projects/nanopore/agnes/signal_visualization/data/timin0421/workspace/'\n",
    "\n",
    "thymine_data2 = get_raw_signal_with_bases(T_forward_strands[:100], path_to_Thymine_fast5, reference_sequence=p300_ID3_ref, verbose=0)"
   ]
  },
  {
   "cell_type": "code",
   "execution_count": null,
   "id": "595fde2f-e7dc-47c8-bd3a-9f245014a6b8",
   "metadata": {},
   "outputs": [],
   "source": [
    "---"
   ]
  },
  {
   "cell_type": "code",
   "execution_count": null,
   "id": "d99d045f-b900-410b-adb9-1663a5b60695",
   "metadata": {},
   "outputs": [],
   "source": [
    "thymine_data"
   ]
  },
  {
   "cell_type": "code",
   "execution_count": null,
   "id": "1608a93f-60f7-47a9-a60f-5b72a55c718a",
   "metadata": {},
   "outputs": [],
   "source": [
    "test_basecall_accuracy(thymine_data)"
   ]
  },
  {
   "cell_type": "code",
   "execution_count": null,
   "id": "523e9918-1094-4108-abf1-ad0eeacbbbb7",
   "metadata": {},
   "outputs": [],
   "source": [
    "test_basecall_accuracy(thymine_data2)"
   ]
  },
  {
   "cell_type": "markdown",
   "id": "8c3484a5-dd50-4b91-8808-16d3d28c1c08",
   "metadata": {},
   "source": [
    "---\n",
    "# Uracil dataset"
   ]
  },
  {
   "cell_type": "code",
   "execution_count": null,
   "id": "12eaa7c4-37f0-423c-982a-8580d717d812",
   "metadata": {},
   "outputs": [],
   "source": [
    "U_sam_data = read_sam(sorted(glob(\"/v/projects/nanopore/balazs/data/uracil_0504/*0.sam\")[:7]),\n",
    "                      min_length=len(p300_ID3_ref)*0.8,\n",
    "                      max_length=len(p300_ID3_ref)*1.2, \n",
    "                      min_MAPQ=40,\n",
    "                      max_insertion=7, \n",
    "                      max_deletion=7,\n",
    "                      max_indel_frequency=0.4,\n",
    "                      #verbose=True # Number of reads stored: 17420\n",
    "                     )"
   ]
  },
  {
   "cell_type": "code",
   "execution_count": null,
   "id": "29f78b2d-e1f3-4b65-806c-25ec04525a0e",
   "metadata": {},
   "outputs": [],
   "source": [
    "U_forward_strands = search_in_data(U_sam_data, \"sam_flag\",  0, only_first_match=False)\n",
    "#U_reverse_strands = search_in_data(U_sam_data, \"sam_flag\", 16, only_first_match=False)"
   ]
  },
  {
   "cell_type": "code",
   "execution_count": null,
   "id": "fb433050-333c-4598-a560-89b2fcdd22f1",
   "metadata": {},
   "outputs": [],
   "source": [
    "path_to_Uracil_fast5 = '/v/projects/nanopore/agnes/signal_visualization/uracil0504/guppy/workspace/'\n",
    "\n",
    "uracil_data = get_raw_signal_with_bases(U_forward_strands[:100], path_to_Uracil_fast5, reference_sequence=p300_ID3_ref, verbose=0)"
   ]
  },
  {
   "cell_type": "code",
   "execution_count": null,
   "id": "3706e0da-8945-4a71-8d34-a58abf93b3b2",
   "metadata": {},
   "outputs": [],
   "source": [
    "test_basecall_accuracy(uracil_data)"
   ]
  },
  {
   "cell_type": "code",
   "execution_count": null,
   "id": "1db5e3be-25c6-4ffc-b2e0-4ddb41f2eb56",
   "metadata": {},
   "outputs": [],
   "source": []
  },
  {
   "cell_type": "code",
   "execution_count": null,
   "id": "578881a2-30a5-4efc-9e7a-be2a16561875",
   "metadata": {},
   "outputs": [],
   "source": []
  },
  {
   "cell_type": "code",
   "execution_count": null,
   "id": "35fed60d-4928-4768-a802-5ae618e50149",
   "metadata": {},
   "outputs": [],
   "source": []
  },
  {
   "cell_type": "code",
   "execution_count": null,
   "id": "b6996f0e-5bf8-402d-a522-15b661438768",
   "metadata": {},
   "outputs": [],
   "source": []
  },
  {
   "cell_type": "code",
   "execution_count": null,
   "id": "44cc3d3a-3827-4157-9e5a-d3bca646bdd8",
   "metadata": {},
   "outputs": [],
   "source": []
  },
  {
   "cell_type": "code",
   "execution_count": null,
   "id": "c99de476-947b-4136-85fe-46b7e50e97b6",
   "metadata": {},
   "outputs": [],
   "source": []
  },
  {
   "cell_type": "markdown",
   "id": "2aec1623-f944-4a01-9bca-cab2fa70e6af",
   "metadata": {},
   "source": [
    "---\n",
    "---"
   ]
  },
  {
   "cell_type": "markdown",
   "id": "1e68d0e3-c0ee-48cd-99ec-35b4f6c0bd79",
   "metadata": {},
   "source": [
    "```python\n",
    "## Violin plot\n",
    "\n",
    "import seaborn as sns\n",
    "import matplotlib.pyplot as plt\n",
    "\n",
    "# Sample data\n",
    "import numpy as np\n",
    "import pandas as pd\n",
    "\n",
    "np.random.seed(10)\n",
    "df = pd.DataFrame({\n",
    "    \"Category\": np.tile([\"A\", \"B\", \"C\"], 50),\n",
    "    \"Value\": np.concatenate([np.random.normal(loc=mu, scale=1, size=50) for mu in [5, 6, 7]])\n",
    "})\n",
    "\n",
    "# Violin plot with reduced width\n",
    "plt.figure(figsize=(6, 4))\n",
    "sns.violinplot(x=\"Category\", y=\"Value\", data=df, width=1)  # Reduce width to make violins narrower\n",
    "plt.show()\n",
    "```"
   ]
  }
 ],
 "metadata": {
  "kernelspec": {
   "display_name": "Python [conda env:base] *",
   "language": "python",
   "name": "conda-base-py"
  },
  "language_info": {
   "codemirror_mode": {
    "name": "ipython",
    "version": 3
   },
   "file_extension": ".py",
   "mimetype": "text/x-python",
   "name": "python",
   "nbconvert_exporter": "python",
   "pygments_lexer": "ipython3",
   "version": "3.12.2"
  }
 },
 "nbformat": 4,
 "nbformat_minor": 5
}
