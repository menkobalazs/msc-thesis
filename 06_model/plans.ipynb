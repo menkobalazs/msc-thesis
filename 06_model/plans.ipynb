{
 "cells": [
  {
   "cell_type": "markdown",
   "id": "65b7cc37-bd6c-4158-8eb3-29d69cd8a2f5",
   "metadata": {},
   "source": [
    " # Links and ideas for the model"
   ]
  },
  {
   "cell_type": "markdown",
   "id": "548e1f00-8349-40b4-a802-1b1cf981f5d5",
   "metadata": {},
   "source": [
    "- [Sktime](https://www.sktime.net/en/stable/)\n",
    "- [ibm-granite](https://github.com/ibm-granite/granite-tsfm ) (time series foundational model)"
   ]
  }
 ],
 "metadata": {
  "kernelspec": {
   "display_name": "Python [conda env:base] *",
   "language": "python",
   "name": "conda-base-py"
  },
  "language_info": {
   "codemirror_mode": {
    "name": "ipython",
    "version": 3
   },
   "file_extension": ".py",
   "mimetype": "text/x-python",
   "name": "python",
   "nbconvert_exporter": "python",
   "pygments_lexer": "ipython3",
   "version": "3.12.2"
  }
 },
 "nbformat": 4,
 "nbformat_minor": 5
}
