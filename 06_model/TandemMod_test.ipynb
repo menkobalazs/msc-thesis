{
 "cells": [
  {
   "cell_type": "code",
   "execution_count": 4,
   "id": "98c4404f-fda6-402d-a67e-55d0a49012d6",
   "metadata": {},
   "outputs": [],
   "source": [
    "%%bash\n",
    "source activate TandemMod\n",
    "\n",
    "#INPUT='/v/projects/nanopore/agnes/signal_visualization/data/timin0421/workspace/'\n",
    "#OUTPUT='/v/projects/nanopore/balazs/data/single_reads_thymine_0421'\n",
    "#mkdir -p $OUTPUT\n",
    "#multi_to_single_fast5 -i $INPUT -s $OUTPUT --recursive ## Time: 0:01:54\n"
   ]
  },
  {
   "cell_type": "code",
   "execution_count": 3,
   "id": "f5595f8f-deda-4a7e-bc59-2af47eefe858",
   "metadata": {},
   "outputs": [
    {
     "name": "stdout",
     "output_type": "stream",
     "text": [
      "usage: tombo resquiggle [--dna] [--rna]\n",
      "                        [--obs-per-base-filter OBS_PER_BASE_FILTER [OBS_PER_BASE_FILTER ...]]\n",
      "                        [--q-score Q_SCORE]\n",
      "                        [--signal-matching-score SIGNAL_MATCHING_SCORE]\n",
      "                        [--processes PROCESSES]\n",
      "                        [--corrected-group CORRECTED_GROUP]\n",
      "                        [--basecall-group BASECALL_GROUP]\n",
      "                        [--basecall-subgroups BASECALL_SUBGROUPS [BASECALL_SUBGROUPS ...]]\n",
      "                        [--overwrite]\n",
      "                        [--failed-reads-filename FAILED_READS_FILENAME]\n",
      "                        [--num-most-common-errors NUM_MOST_COMMON_ERRORS]\n",
      "                        [--print-advanced-arguments] [--quiet] [--help]\n",
      "                        fast5s_basedir reference\n",
      "\n",
      "Required Arguments:\n",
      "  fast5s_basedir        Directory containing fast5 files. All files ending in\n",
      "                        \"fast5\" found recursively within this base directory\n",
      "                        will be processed.\n",
      "  reference             Reference genome/transcriptome FASTA file or minimap2\n",
      "                        index (with \"map-ont\" preset) for mapping.\n",
      "\n",
      "Model Parameters:\n",
      "  --dna                 Explicitly select canonical DNA model. Default:\n",
      "                        Automatically determine from FAST5s\n",
      "  --rna                 Explicitly select canonical RNA model. Default:\n",
      "                        Automatically determine from FAST5s\n",
      "\n",
      "Read Filtering Argument:\n",
      "  --obs-per-base-filter OBS_PER_BASE_FILTER [OBS_PER_BASE_FILTER ...]\n",
      "                        Filter reads based on observations per base percentile\n",
      "                        thresholds. Format thresholds as \"percentile:thresh\n",
      "                        [pctl2:thresh2 ...]\". For example to filter reads with\n",
      "                        99th pctl > 200 obs/base or max > 5k obs/base use\n",
      "                        \"99:200 100:5000\".\n",
      "  --q-score Q_SCORE     Q-score threshold for filtering low quality reads.\n",
      "                        Default: 0.000000\n",
      "  --signal-matching-score SIGNAL_MATCHING_SCORE\n",
      "                        Observed to expected signal matching score (higher\n",
      "                        score indicates poor matching). Sample type defaults:\n",
      "                        RNA : 2 || DNA : 1.1\n",
      "\n",
      "Multiprocessing Arguments:\n",
      "  --processes PROCESSES\n",
      "                        Number of processes. Default: 1\n",
      "\n",
      "FAST5 Data Arguments:\n",
      "  --corrected-group CORRECTED_GROUP\n",
      "                        FAST5 group created by resquiggle command. Default:\n",
      "                        RawGenomeCorrected_000\n",
      "  --basecall-group BASECALL_GROUP\n",
      "                        FAST5 group obtain original basecalls (under Analyses\n",
      "                        group). Default: Basecall_1D_000\n",
      "  --basecall-subgroups BASECALL_SUBGROUPS [BASECALL_SUBGROUPS ...]\n",
      "                        FAST5 subgroup(s) (under /Analyses/[--basecall-\n",
      "                        group]/) containing basecalls and created within\n",
      "                        [--corrected-group] containing re-squiggle results.\n",
      "                        Default: ['BaseCalled_template']\n",
      "  --overwrite           Overwrite previous corrected group in FAST5 files.\n",
      "                        Note: only effects --corrected-group or --new-\n",
      "                        corrected-group.\n",
      "\n",
      "Input/Output Arguments:\n",
      "  --failed-reads-filename FAILED_READS_FILENAME\n",
      "                        Output failed read filenames with assoicated error.\n",
      "                        Default: Do not store failed reads.\n",
      "  --num-most-common-errors NUM_MOST_COMMON_ERRORS\n",
      "                        Dynamically show this many most common errors so far\n",
      "                        through run. Default: 0; Just show progress\n",
      "\n",
      "Advanced Arguments:\n",
      "  --print-advanced-arguments\n",
      "                        Print advanced re-squiggle arguments and exit.\n",
      "\n",
      "Miscellaneous Arguments:\n",
      "  --quiet, -q           Don't print status information.\n",
      "  --help, -h            Print this help message and exit\n"
     ]
    }
   ],
   "source": [
    "%%bash\n",
    "source activate TandemMod\n",
    "\n",
    "SINGLE_READS='/v/projects/nanopore/balazs/data/single_reads_thymine_0421'\n",
    "REF_SEQ='/v/volumes/nanopore/ref/p300_ID3.fasta'\n",
    "\n",
    "tombo resquiggle --help \n",
    "#--overwrite --basecall-group Basecall_1D_001 $SINGLE_READS REF_SEQ --processes 40 --fit-global-scale --include-event-stdev"
   ]
  },
  {
   "cell_type": "code",
   "execution_count": null,
   "id": "27764daf-ab8f-4322-a98e-c646cf003434",
   "metadata": {},
   "outputs": [],
   "source": []
  }
 ],
 "metadata": {
  "kernelspec": {
   "display_name": "Python [conda env:base] *",
   "language": "python",
   "name": "conda-base-py"
  },
  "language_info": {
   "codemirror_mode": {
    "name": "ipython",
    "version": 3
   },
   "file_extension": ".py",
   "mimetype": "text/x-python",
   "name": "python",
   "nbconvert_exporter": "python",
   "pygments_lexer": "ipython3",
   "version": "3.12.2"
  }
 },
 "nbformat": 4,
 "nbformat_minor": 5
}
