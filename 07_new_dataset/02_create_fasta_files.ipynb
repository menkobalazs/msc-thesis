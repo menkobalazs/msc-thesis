{
 "cells": [
  {
   "cell_type": "code",
   "execution_count": 1,
   "id": "b510054a-528b-45fe-8471-93fc79109a8c",
   "metadata": {},
   "outputs": [
    {
     "ename": "SyntaxError",
     "evalue": "invalid syntax (2943938096.py, line 4)",
     "output_type": "error",
     "traceback": [
      "\u001b[0;36m  Cell \u001b[0;32mIn[1], line 4\u001b[0;36m\u001b[0m\n\u001b[0;31m    create_fasta_from_reference\u001b[0m\n\u001b[0m    ^\u001b[0m\n\u001b[0;31mSyntaxError\u001b[0m\u001b[0;31m:\u001b[0m invalid syntax\n"
     ]
    }
   ],
   "source": [
    "from generate_kmer import (PROMOTER, TERMINATOR, \n",
    "                           OV354_BPK_CLONE_F1, OV354_BPK_CLONE_R1, \n",
    "                           LONG_AMPLICON_SEQ_LEFT, LONG_AMPLICON_SEQ_RIGHT\n",
    "                           create_fasta_from_reference\n",
    "                          )"
   ]
  },
  {
   "cell_type": "markdown",
   "id": "f1dbbda7-14b6-464f-8189-e5d38d01c18d",
   "metadata": {},
   "source": [
    "# Short (PCR) oligos\n",
    "`promoter` + `OLIGO` + `terminator`"
   ]
  },
  {
   "cell_type": "code",
   "execution_count": 3,
   "id": "316e4a91-26a0-45df-b3c7-5dd964dc4e7e",
   "metadata": {},
   "outputs": [],
   "source": [
    "create_fasta_from_reference('references/1015-1541_7-mer_500-reads_7-min-overlap.txt', \n",
    "                            'references/reference_short_oligos.fasta',\n",
    "                            add_before=PROMOTER,\n",
    "                            add_after=TERMINATOR,\n",
    "                           )"
   ]
  },
  {
   "cell_type": "markdown",
   "id": "e5fd992e-74bf-439f-9306-0cb59f5adffa",
   "metadata": {},
   "source": [
    "# Long (bacteria) oligos\n",
    "`oV354_BPK_clone_F1` + `long_amplicon_seq_left` + `promoter` + `OLIGO` + `terminator` + `long_amplicon_seq_right` + `oV355_BPK_clone_R1`"
   ]
  },
  {
   "cell_type": "code",
   "execution_count": 4,
   "id": "9c88b319-0614-49c7-a896-334c7965ac21",
   "metadata": {},
   "outputs": [],
   "source": [
    "create_fasta_from_reference('references/1015-1541_7-mer_500-reads_7-min-overlap.txt', \n",
    "                            'references/reference_long_oligos.fasta',\n",
    "                            add_before = OV354_BPK_CLONE_F1 + LONG_AMPLICON_SEQ_LEFT + PROMOTER,\n",
    "                            add_after = TERMINATOR + LONG_AMPLICON_SEQ_RIGHT + OV354_BPK_CLONE_R1,\n",
    "                           )"
   ]
  },
  {
   "cell_type": "code",
   "execution_count": 5,
   "id": "ab3a24a5-7ea4-48e9-84ef-9b54646731fc",
   "metadata": {},
   "outputs": [
    {
     "name": "stdout",
     "output_type": "stream",
     "text": [
      "Lenght of bacteria generated reads: 768\n"
     ]
    }
   ],
   "source": [
    "print('Lenght of bacteria generated reads: ', end='')\n",
    "print(len(OV354_BPK_CLONE_F1+LONG_AMPLICON_SEQ_LEFT+PROMOTER)+252+len(TERMINATOR+LONG_AMPLICON_SEQ_RIGHT+OV354_BPK_CLONE_R1))"
   ]
  },
  {
   "cell_type": "markdown",
   "id": "1408f08e-90df-4e4b-b31c-7386a33b16a7",
   "metadata": {},
   "source": [
    "### `oV354_BPK_clone_F1` + `long_amplicon_seq_left` + `promoter` + `OLIGO`"
   ]
  },
  {
   "cell_type": "code",
   "execution_count": 6,
   "id": "260a11e0-9a5e-44a9-8493-1e9c460e4be3",
   "metadata": {},
   "outputs": [],
   "source": [
    "create_fasta_from_reference('references/1015-1541_7-mer_500-reads_7-min-overlap.txt', \n",
    "                            'references/reference_left_ampl_and_oligo.fasta',\n",
    "                            add_before=OV354_BPK_CLONE_F1 + LONG_AMPLICON_SEQ_LEFT + PROMOTER,\n",
    "                           )"
   ]
  },
  {
   "cell_type": "markdown",
   "id": "489b6fcf-16e2-41c8-a9b4-f5fd9061cb64",
   "metadata": {},
   "source": [
    "### `oV354_BPK_clone_F1` + `long_amplicon_seq_left` + `promoter`"
   ]
  },
  {
   "cell_type": "code",
   "execution_count": 7,
   "id": "d57b774c-f74e-415e-8fbb-36f3a3b1989c",
   "metadata": {},
   "outputs": [],
   "source": [
    "with open('references/reference_left_amplicons.fasta', 'w') as f_out:\n",
    "    f_out.write(f\">left_amplicons\\n\")\n",
    "    f_out.write(f\"{OV354_BPK_CLONE_F1 + LONG_AMPLICON_SEQ_LEFT + PROMOTER}\\n\")"
   ]
  },
  {
   "cell_type": "markdown",
   "id": "57608034-0213-43a0-bed2-847210ed4904",
   "metadata": {},
   "source": [
    "---\n",
    "---"
   ]
  },
  {
   "cell_type": "code",
   "execution_count": 8,
   "id": "35ca52e7-a13c-4a46-a48e-0d0b2a50ef5a",
   "metadata": {},
   "outputs": [],
   "source": [
    "import pandas as pd\n",
    "\n",
    "input_file = 'references/reference_oligos.xlsx'\n",
    "output_file = 'references/ref_sequences_xlsx.fasta'\n",
    "df = pd.read_excel(input_file)\n",
    "\n",
    "with open(output_file, 'w') as fasta_file:\n",
    "    for index, row in df.iterrows():\n",
    "        sequence_id = row['Sequence ID']\n",
    "        sequence = row['Sequence']\n",
    "        fasta_file.write(f'>sequence{sequence_id.split('_')[1]}\\n')\n",
    "        fasta_file.write(f'{sequence}\\n')"
   ]
  }
 ],
 "metadata": {
  "kernelspec": {
   "display_name": "Python [conda env:base] *",
   "language": "python",
   "name": "conda-base-py"
  },
  "language_info": {
   "codemirror_mode": {
    "name": "ipython",
    "version": 3
   },
   "file_extension": ".py",
   "mimetype": "text/x-python",
   "name": "python",
   "nbconvert_exporter": "python",
   "pygments_lexer": "ipython3",
   "version": "3.12.2"
  }
 },
 "nbformat": 4,
 "nbformat_minor": 5
}
