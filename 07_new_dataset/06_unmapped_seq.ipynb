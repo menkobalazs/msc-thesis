{
 "cells": [
  {
   "cell_type": "code",
   "execution_count": 1,
   "id": "e50d90c4-32cf-4c65-9422-26b494461b13",
   "metadata": {},
   "outputs": [
    {
     "name": "stdout",
     "output_type": "stream",
     "text": [
      "--- Warning! This version of speedup.py can cause errors. ---\n"
     ]
    }
   ],
   "source": [
    "from utils import *\n",
    "from speedup import *\n",
    "from generate_kmer import *\n",
    "max_num_of_files = None\n",
    "\n",
    "def check_sam_data(sam_data):\n",
    "    result = np.array([\n",
    "        [read['contig_name'], read['map_quality']] for read in sam_data if read['contig_name']!='*'\n",
    "    ])\n",
    "    plt.figure(figsize=(6,4))\n",
    "    plt.hist(result[:,0], bins=499, label=f'{len(np.unique(result[:,0]))}/500 reads')\n",
    "    #plt.title('PCR dataset')\n",
    "    plt.xlabel('Sequence number')\n",
    "    plt.ylabel('Count')\n",
    "    plt.legend(loc='center right')\n",
    "    plt.show()\n",
    "    x=np.histogram(result[:,0], bins=499)\n",
    "    print(f\"highest peak at position={int(x[1][np.argmax(x[0])])}\")\n",
    "    \n",
    "    plt.figure(figsize=(6,4))\n",
    "    plt.hist(result[:,1], bins=max(result[:,1])-min(result[:,1]))\n",
    "    #plt.title('dataset')\n",
    "    plt.xlabel('MapQuality')\n",
    "    plt.ylabel('Count')\n",
    "    plt.yscale('log')\n",
    "    plt.show()\n",
    "\n",
    "def write_fastq(sequences, qualities, output_file):\n",
    "    with open(output_file, \"w\") as f:\n",
    "        for i, (seq, qual) in enumerate(zip(sequences, qualities)):\n",
    "            seq_id = f\"seq_{i+1}\"\n",
    "            f.write(f\"@{seq_id}\\n\")\n",
    "            f.write(f\"{''.join(seq.astype(str))}\\n\")\n",
    "            f.write(\"+\\n\")\n",
    "            f.write(f\"{qual}\\n\")"
   ]
  },
  {
   "cell_type": "markdown",
   "id": "a1d4bfc1-ace6-4485-b6fc-cf7235e9a947",
   "metadata": {},
   "source": [
    "## long read high accuracy - minimap2\n",
    "```python\n",
    "%%bash\n",
    "minimap2=\"/v/scratch/tools/minimap2/minimap2\"\n",
    "\n",
    "REF=\"references/ref_sequences_xlsx.fasta\" \n",
    "READS_DIR=\"/v/volumes/nanopore/timin_uracil/oligos/timin20250417/basecall/20250507/bam_to_fastq\"\n",
    "OUT_DIR=\"/v/projects/nanopore/balazs/data/new_dataset/thymine_250417/minimap2/dorado_bam2fastq_alignments\"\n",
    "\n",
    "mkdir -p \"$OUT_DIR\"\n",
    "\n",
    "for READ_FILE in \"$READS_DIR\"/*.fastq; do\n",
    "    BASENAME=$(basename \"$READ_FILE\" .fastq)\n",
    "    $minimap2 -x lr:hq --frag=yes -a \"$REF\" \"$READ_FILE\" > \"$OUT_DIR/${BASENAME}.sam\"\n",
    "done\n",
    "```\n"
   ]
  },
  {
   "cell_type": "code",
   "execution_count": 2,
   "id": "77accac8-272f-4908-a182-12279dd54db0",
   "metadata": {},
   "outputs": [
    {
     "name": "stderr",
     "output_type": "stream",
     "text": [
      "Loading files: 100%|██████████| 1/1 [00:39<00:00, 39.09s/file]"
     ]
    },
    {
     "name": "stdout",
     "output_type": "stream",
     "text": [
      "Number of reads stored: 386489\n",
      "Number of reads dropped: 1007952\n"
     ]
    },
    {
     "name": "stderr",
     "output_type": "stream",
     "text": [
      "\n"
     ]
    }
   ],
   "source": [
    "dorado_alignments_path_mm2 = \"/v/projects/nanopore/balazs/data/new_dataset/thymine_250417/minimap2/dorado_bam2fastq_alignments/*.sam\"\n",
    "dorado_alignments_files_mm2 = sorted(glob(dorado_alignments_path_mm2))\n",
    "\n",
    "dorado_sam_data_mm2 = read_sam(dorado_alignments_files_mm2,\n",
    "                               verbose=True,\n",
    "                               has_movetable=False,\n",
    "                               get_ReadQuality=True,\n",
    "                               #min_MAPQ=30, \n",
    "                               min_length=490,\n",
    "                               max_length=600,\n",
    "                               #max_deletion=50,\n",
    "                               #max_insertion=50,\n",
    "                               #max_indel_frequency=0.4,\n",
    "                               possible_sam_flags={4}, ## possible in the dataset: [0,4,16] == [forward, unmapped, reverse]\n",
    "                              )"
   ]
  },
  {
   "cell_type": "code",
   "execution_count": 3,
   "id": "d76617d5-d7cd-46cc-b3fb-18744861e8ad",
   "metadata": {},
   "outputs": [],
   "source": [
    "sequences = get_feature_from_sam_data(dorado_sam_data_mm2, 'sequence')\n",
    "qualities = get_feature_from_sam_data(dorado_sam_data_mm2, 'read_quality')"
   ]
  },
  {
   "cell_type": "code",
   "execution_count": 4,
   "id": "ce5627cb-6f10-4f40-9f4b-f7bf5d678f81",
   "metadata": {},
   "outputs": [],
   "source": [
    "#write_fastq(sequences, qualities, \n",
    "#            \"/v/projects/nanopore/balazs/data/new_dataset/thymine_250417/unmapped_sequences/unmapped_sequnces.fastq\")"
   ]
  },
  {
   "cell_type": "code",
   "execution_count": 5,
   "id": "9e9b25cc-b153-49e0-92ff-b4d5c03dde90",
   "metadata": {},
   "outputs": [],
   "source": [
    "from collections import Counter\n",
    "\n",
    "sequence_strings = [\"\".join(seq.astype(str)) for seq in sequences]\n",
    "\n",
    "counts = Counter(sequence_strings)\n",
    "sorted_counts = sorted(counts.items(), key=lambda x: x[1], reverse=True)"
   ]
  },
  {
   "cell_type": "code",
   "execution_count": 6,
   "id": "e1ddfccc-2637-4f28-b7d7-65a169e24772",
   "metadata": {},
   "outputs": [
    {
     "name": "stdout",
     "output_type": "stream",
     "text": [
      "1 TAAGG...TGGTT\n",
      "1 GTTAT...TGGTG\n",
      "1 TAAGG...TTCAT\n",
      "1 TTATG...CGTTG\n",
      "1 TAAGG...TTACC\n",
      "1 TGTTT...GTTTA\n"
     ]
    }
   ],
   "source": [
    "for i, (seq, count) in enumerate(sorted_counts):\n",
    "    print(f\"{count} {seq[:5]}...{seq[len(seq)-5:]}\")\n",
    "    if i == 5:\n",
    "        break"
   ]
  },
  {
   "cell_type": "markdown",
   "id": "bed9280f-33b6-49cf-8a1b-8a86aaf928c6",
   "metadata": {},
   "source": [
    "---"
   ]
  },
  {
   "cell_type": "markdown",
   "id": "049acf1f-c0b5-450c-ae92-0e52e4a81f96",
   "metadata": {},
   "source": [
    "# self aligning from unmapped sequences"
   ]
  },
  {
   "cell_type": "markdown",
   "id": "c353d3cc-7d7a-4516-8b53-8a6b224f8aed",
   "metadata": {},
   "source": [
    "```python\n",
    "%%bash\n",
    "minimap2=\"/v/scratch/tools/minimap2/minimap2\"\n",
    "\n",
    "READS_DIR=\"/v/projects/nanopore/balazs/data/new_dataset/thymine_250417/unmapped_sequences\"\n",
    "OUT_DIR=\"/v/projects/nanopore/balazs/data/new_dataset/thymine_250417/minimap2/unmapped_self_aligning\"\n",
    "\n",
    "mkdir -p \"$OUT_DIR\"\n",
    "\n",
    "for READ_FILE in \"$READS_DIR\"/*.fastq; do\n",
    "    BASENAME=$(basename \"$READ_FILE\" .fastq)\n",
    "    $minimap2 -x ava-ont --frag=yes -a \"$READ_FILE\" \"$READ_FILE\" > \"$OUT_DIR/${BASENAME}.sam\"\n",
    "done\n",
    "```"
   ]
  },
  {
   "cell_type": "code",
   "execution_count": 7,
   "id": "ed474900-7419-4307-bfec-eb41906d153f",
   "metadata": {},
   "outputs": [
    {
     "name": "stderr",
     "output_type": "stream",
     "text": [
      "Loading files: 100%|██████████| 1/1 [02:34<00:00, 154.13s/file]"
     ]
    },
    {
     "name": "stdout",
     "output_type": "stream",
     "text": [
      "Number of reads stored: 521242\n",
      "Number of reads dropped: 2503818\n"
     ]
    },
    {
     "name": "stderr",
     "output_type": "stream",
     "text": [
      "\n"
     ]
    }
   ],
   "source": [
    "unmapped_seq_fname = \"/v/projects/nanopore/balazs/data/new_dataset/thymine_250417/minimap2/unmapped_self_aligning/unmapped_sequences.sam\"\n",
    "\n",
    "unmapped_seq_sam_data = read_sam(unmapped_seq_fname,\n",
    "                                 verbose=True,\n",
    "                                 has_movetable=False,\n",
    "                                 #min_MAPQ=30, \n",
    "                                 #min_length=150,\n",
    "                                 #max_length=2000,\n",
    "                                 #max_deletion=50,\n",
    "                                 #max_insertion=50,\n",
    "                                 #max_indel_frequency=0.4,\n",
    "                                 possible_sam_flags={0,4,16}, ## possible in the dataset: [0,4,16] == [forward, unmapped, reverse]\n",
    "                                )"
   ]
  },
  {
   "cell_type": "markdown",
   "id": "2a7c4700-7193-4226-a20d-3f6da33c35ae",
   "metadata": {},
   "source": [
    "```python\n",
    "reads = np.array[''.join(read['sequence'].astype(str)) for read in tqdm(unmapped_seq_sam_data)], dtype=object)\n",
    "np.save('/v/projects/nanopore/balazs/data/new_dataset/thymine_250417/minimap2/unmapped_self_aligning/unmapped_sequences.npy', reads)\n",
    "```"
   ]
  },
  {
   "cell_type": "code",
   "execution_count": 8,
   "id": "fc037759-5c77-4c71-b8ce-f38d395be182",
   "metadata": {},
   "outputs": [],
   "source": [
    "reads = np.load('/v/projects/nanopore/balazs/data/new_dataset/thymine_250417/minimap2/unmapped_self_aligning/unmapped_sequences.npy', \n",
    "                allow_pickle=True\n",
    "               )"
   ]
  },
  {
   "cell_type": "code",
   "execution_count": 18,
   "id": "f60070c1-e132-4028-8388-1c826ea0f8da",
   "metadata": {},
   "outputs": [],
   "source": [
    "with open('/v/projects/nanopore/balazs/data/new_dataset/thymine_250417/minimap2/unmapped_self_aligning/unmapped_sequneces_smaller.fasta', 'w') as f_out:\n",
    "    for i, r in enumerate(reads[::600]):\n",
    "        f_out.write(f\">unmapped_seq{i}\\n\")\n",
    "        f_out.write(f\"{r}\\n\")"
   ]
  },
  {
   "cell_type": "code",
   "execution_count": 19,
   "id": "43e9defa-d04c-4204-87ae-f18c5aeec66c",
   "metadata": {},
   "outputs": [],
   "source": [
    "with open('/v/projects/nanopore/balazs/data/new_dataset/thymine_250417/minimap2/unmapped_self_aligning/unmapped_sequneces_first300.fasta', 'w') as f_out:\n",
    "    for i, r in enumerate(reads[:300]):\n",
    "        f_out.write(f\">unmapped_seq{i}\\n\")\n",
    "        f_out.write(f\"{r}\\n\")"
   ]
  },
  {
   "cell_type": "code",
   "execution_count": 23,
   "id": "a6244a96-0849-43d6-a5c1-d7687c5a70b8",
   "metadata": {},
   "outputs": [
    {
     "name": "stdout",
     "output_type": "stream",
     "text": [
      "0 - TAAGGGAATAGAGCCATACGGAAATGTTGAATACTTCATACTCTATTTTGAATATTATTGAAGCATTTATCAGGGTTATCTCTCATGAGCGGATACATATTTGAATGTATTTAGAAAAATAAACAAATAGGGGTTCCGCGCACATTTCCCGAAAAGTGCCACCTCATAGTCGCTAGCTGTACAAAAAAGCAGGCTTTAAAGGAACCAATTCAGTCGACTGGATCCTCTTGTGGAAAGGACGAAACGCCGTGTACTGCTCCAGCATAGCTCTTAAACAAGCGGGCCGCTCGAGGTACCTCTCTACATATGACATGTGAGCAAAAGGCCAGCAAAAGGCCAGGAACCGTAAAAAGGCCGCGTTGCTGGCGTTTTTTACCATAGGCTCCGCCCCCTCCGACGAGCATCACAAAAATCGACGCTCAAGTCAGAGGTGGCGAAGTTCCGACGGACTATCAAGATTGCCCGGCGTTTCCCCTGGAAGCTCCCTCGTGCGCTCTCCTGTTCCGACCCTGCCGCTTACCGGATACCTGTCAGCAATTGGTT\n",
      "\n",
      "5 - TGTTTTGGCCTATTACTGGACCGTTGCGTATTGCTGACAGGTATCCGGTAAGCGGCAGGGTCGGAACAGGAGAGCGCACAGAGGGAGCTTCCGGGGGAAACGCTGGTATCTTTATAGTCCTGTCGGGTTTCGCCACCTCTGACTGAGCGTCGATTTTTGTGATGCTCGTCAGGGGGGCGGAGCCTATGGAAAACGCCAGCAACGCAGCCTCGGTTCCTGGCCTTTTGCTGGCCTTTTGCTCACATGTCATATGTAGAGAGGTACCTCGAGCGGCCCAGACTTCTTTAAGAGCTATGCTGGAAACAGTACACGGTGTTTCGTCCTTTCCACAGAGGATCCAGTCGACTGATTTGGTTCCTTAAAGCCTGCTTTTACAGCTAGCGACGTCAGGTGGCACTTTTGGGGAAATGTGCGCGGAACCCCTATTTGTTTATTTTTCTAAATACATTCAAATATGTATCCGCTCATGAGACAATAACCCTGATAAAATGCTTCAATAATATTGAAAAAGGAAGAGTATGAGTATTCAACATTTCCGTGTCGCCCTTATTCCCTTAGCAATACGTTTA\n",
      "\n",
      "10 - TAAGGGAATAAGGGCGACACGGAAATGTTGAATACTCATCTCTTCCTTTTTCAATATTATTGAAGCATTTATCAGTATGTTCATGACGGATACATCTTTAAAGTATTTAGAAAAATAAACAAATAGGGGTTCGCGCACGTTTAGAAAAGTGCAGGCCTGACGTCGCTAGCTGTACAAAAAAGCAGGCTTTAAAGGAACCAATTCAGTACGACTGGATCCTCTTGTGGAAAGGACGAAACACCGCTCGCTCTGTTTCCGGCGTCGCTCTTAAACAAGCTTGGGCCGCTCGAGGTACCTCTCGTATTGAGCATGTACGACAAAAGGCCAGCAAAAGGCCAGGAACCGTAAAAAGGCCGCGTTGCTGGCATTTTCCCATAGCTCGCCCTGACGAGCATCACAAAAATCGACGCTCAAGTCAGAGGTGGCGAAACCCCGACAGGACTATCGGTACCGGCGTTTCCCTGGAAGCTCCCTCAGGTGCGCTCTCCTGTTCCGACCCTGCCGG\n",
      "\n",
      "15 - TAAGGAAATGGCAACGTTTCGGAAATGTTGAATACTCATACTCTTCCTTTTTCAATATTATTGAACGTTGTCGGGGTTATTGTCTACCGTGGCCGGATACATATTTGAATGTGTTCGAAAAATAAACAAATGGGGTTTTGTCACATTTCCCCGAAAAGTGCCACCTGACGTCGCTAGCTGTACAAAAAAGCAGGCTTTAAAGGAACCGATACGATTCGACTGGATCCTCTTGTGGAAAGGACAAACACCGCTCGCTCTGTTCCCGGCGTTAAGCTTCTAAACAAGCTGGGCGCTGAGAGGTACCTCTCTACATATGACATGTGAGCAAAAGGCCAGCAAAAGGCCAGGAACCGTAAAAAGGCCGCGTTGCTGGCGTTTTCCCATAGGCTCCGCCCCCCTGACGAGCATACACAAAAATCGACGCTCAAGTCAGAGGTGGCGAAACCCCGACAGGACTATAAAGATACCAGCGTTCCCTGGAAGCTGCCTCGTGCGCTCTACCTGTTCCGACCCTGCCGCTTACCAATCTTGCTGCGATACGTGG\n",
      "\n",
      "20 - TGACAGGTATCCGGTAAGCGGCAGGGTCGGAACAGGAGAGCGCGCGAGGGAGCTTCCAGGGGGAAGCGCCTGGTATCTTTATAGTCCTGTCGGGTTTCGCCACCTCTGACTTGAGCGTCGATTTTTGTGATGCTCGTCAGGGGGGCGGAGCCTATGGAAAAACGCCAGCAACGCGGCCTTTTTACGGTTCCTGGCCTTTTGCTGGCCTTTTGCTCACATGTCATATGTAGAGGTGCTCGAGCGGCCCAAGCTTGTTTAAGAGCTATGCTGGAAACGATCACGGTGTTTTCGTCCTTTCCACAAGAGGATCCAGTCGACTGAATTGGTTCCTTTAAGACCTATTTTTGTACAGCTAGCGACGTCAGGTGGCACTTTTCGGGGAAATGTGCGCGGGACCCCCTGTTTGTTTATTTTTCTAAATACATTCAAATATGTATCCACTCATGAGACAATAACCCTGATAAATGCTTCAATAATATTGAAAAAGGAAGAGTATGAGTATTCAACATTTAGTGTCGCCCTTATTCCCTTAGCAATTGGT\n",
      "\n",
      "25 - TCACGGGAATAAGGGCGACACGGAAATGTTGAATACTCATACTCTTCCTTTTCAGATATTATTGAAAGACGTATCAGGGTTATTGTACATAAGCGGAGGTACATATTTGAATGTATTTAGAAAAATAAACGAATAGGGGTTCGCGCACATTTCCCCGAAAAGTGCCACCTGACGTCGCTAGCTGTACAAAAAAGCAGGCTTTAAAGGAACCAATTCAGTCGACTGGATCCTCTTGTGGAAAGGACGAAACGCTCGCTTCTGTTTCCAGCATAGCTCTTAACAGACTCAGCCTTCAGGTACCTCTCTACATATGACATGTGAGCAAAAGGCCAGCAAAAGGCCAGGAACCGTAAAAAGGCCGCGTTGCTGGCGTTTTTCAGTAGGCTTACGCCCCTGACGAGCATCACAAAAATCGACGCTCAAGTCAGAGGTGGCGAAACCCGACAGGACTATAAAGATACCAGGCGTTTCCCCCTGGAAGCTCCCTCGTGCGCTCTCCTGTTCCGACCCTGCCGCTTACT\n",
      "\n",
      "30 - TAGGGGATGAGGCGTTGGGAATGTTGAATACTCATATTCTTCCTTTTGACAATATTGTTTGAAGACATTTATAAGGGTATGTTACCATTGACAAATACATGTAATGTACTTAGAAAATAAACAAATAAGGGGACTCCTCACACATTTTTCCCAAAAGTATAACACTTGTAACATCAGCTAGCTGTAGCAAAAAAAGCAGCTGAACCAGTTCAGTGAGCTCTGGATCCTGTTGTGGAAGGGGAAGGAAACACCGTGTACTGTTTGCCACATCCTTGCTAAACAAGCTCTTCAGCCTGGGTGTGTCTCTACATATGAGCATGTAAGCAAAGGCAAGCAAAGGCAGGGAACCGTGAAAAAGGCCGCGTTGCTGGCGCATTTTCCATCACTACACCCTGACGAGCATCAGCAAAATGACACTCATGAGAGGTGGCTGGGGAAACCCCGACAGACTGTGTATGAAGATTAGCATCCCCTGGAAGCTCCCTCCGTGCACTCTCCTGTTCCAGAGCCCTACTGCCTT\n",
      "\n",
      "35 - TAAGGGAATAAGGGCAACACGGAAATGTTAAATACTCATCTCTTCCTTTTTCAATATTATTGAAGCATTTATCAGGGTTGTATCATGAGCGGATACATATTTGAATGTATTTAGAAAAATAAACAAATAGGGGGTTTTCACATTTCCCGAAAAGTGCCACCTGACGTCGCTAGCTGTACAAAAAAGCAGGCTTTAAAGGAACCAATTCAGTCAACTGGATCCTCTTGTGGAAAGGACGAAACACCGTGTACTGTTTCCAGCATAGCTCTTAAACAAGCTTGGGCCACTAGAGGTACCTTCTCTACATATGACATGTGAGCAAAAGGCCACAAAAGGCCAGGAACCGTAAAAAGGCCGCGTTGCTGGCGTTTTTCCCCATAGGCTTCGCCCCCCTGACGAGCATCACAAAAATCGACGCTCAAGTCAGAGGTGGCGAAACCCGACAGGACTATAAAGATACCAGCGTTCCCTTGGAAGCTCCCTCGTGCGCTCCTGTTCCGACCCTGCCGCTTC\n",
      "\n",
      "40 - TAAGGGAATGGCGACGCGGAAATGTTGAATACTCATACTCTTCCTTTTTCAATATTATTGAAGCATTTATCAGGGTTATTGTCTCATGAGCGGATACATATTTGAATGTATTTCAAAGATAAACGGATGGAGTTCGCACGTTCCGAAAAGTGCCACCTGACGTCGCTAGCTGTACAAAAAAGCAGGCTTTAAAGGAACCGATTCAGTAGACTGGATCCTCTTGTGGAAAGGACGAAACACCGTGTACTGTTTCCAGCATAGCTCTTAAACAAGCTTGGGCCGCTCGAGGATCCTCTCTCATGACATGTGAGCAAAAGGCCAGCAAAAGGCCAGGAACCGTAAAAAGGCCGCGTTGCTGGCGTTTTTCCATAGGCTCCGCCCCCCTGACGAGCATCACAAAAATCGACGCTCAAGTCAGAGGTGGCGAAACCCGACAGGACTATAAAGATACCCAGCGTTCCCCTGGAAGCTCCCTCGTGCGCTCTCCTGTTCCGACCCTGCCGCTTC\n",
      "\n"
     ]
    }
   ],
   "source": [
    "for i in np.arange(0,41,5):\n",
    "    print(i, '-', ''.join((unmapped_seq_sam_data[i]['sequence']).astype(str)))\n",
    "    print()"
   ]
  }
 ],
 "metadata": {
  "kernelspec": {
   "display_name": "Python [conda env:base] *",
   "language": "python",
   "name": "conda-base-py"
  },
  "language_info": {
   "codemirror_mode": {
    "name": "ipython",
    "version": 3
   },
   "file_extension": ".py",
   "mimetype": "text/x-python",
   "name": "python",
   "nbconvert_exporter": "python",
   "pygments_lexer": "ipython3",
   "version": "3.12.2"
  }
 },
 "nbformat": 4,
 "nbformat_minor": 5
}
