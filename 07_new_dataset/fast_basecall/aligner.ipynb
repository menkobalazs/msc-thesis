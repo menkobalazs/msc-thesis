{
 "cells": [
  {
   "cell_type": "markdown",
   "id": "f0c2f8dd-d370-4178-b2c7-89c515b29902",
   "metadata": {},
   "source": [
    "# Aligning with minimap2\n"
   ]
  },
  {
   "cell_type": "markdown",
   "id": "7892e882-9311-45f0-b35a-b61a32f6088e",
   "metadata": {},
   "source": [
    "- alignment for short amplicons -- runtime: ~3min\n",
    "```python\n",
    "%%bash\n",
    "minimap2=\"/v/scratch/tools/minimap2/minimap2\"\n",
    "\n",
    "REF=\"references/reference_short_oligos.fasta\" \n",
    "READS_DIR=\"/v/volumes/nanopore/timin_uracil/oligos/timin20250417/timin_oligos_20250417/20250417_1447_MC-114328_AXB238_56275db9/fastq_pass\"\n",
    "OUT_DIR=\"/v/projects/nanopore/balazs/data/new_dataset/thymine_250417/short_alignments\"\n",
    "\n",
    "mkdir -p \"$OUT_DIR\"\n",
    "\n",
    "for READ_FILE in \"$READS_DIR\"/*.fastq.gz; do\n",
    "    BASENAME=$(basename \"$READ_FILE\" .fastq.gz)\n",
    "    $minimap2 -a \"$REF\" \"$READ_FILE\" > \"$OUT_DIR/${BASENAME}.sam\"\n",
    "done\n",
    "```"
   ]
  },
  {
   "cell_type": "markdown",
   "id": "3c9d1074-a0de-4086-9565-c88ee048f75d",
   "metadata": {},
   "source": [
    "- alignment for long amplicons -- runtime: ~17min\n",
    "```python\n",
    "%%bash\n",
    "minimap2=\"/v/scratch/tools/minimap2/minimap2\"\n",
    "\n",
    "REF=\"references/reference_long_oligos.fasta\" \n",
    "READS_DIR=\"/v/volumes/nanopore/timin_uracil/oligos/timin20250417/timin_oligos_20250417/20250417_1447_MC-114328_AXB238_56275db9/fastq_pass\"\n",
    "OUT_DIR=\"/v/projects/nanopore/balazs/data/new_dataset/thymine_250417/long_alignments\"\n",
    "\n",
    "mkdir -p \"$OUT_DIR\"\n",
    "\n",
    "for READ_FILE in \"$READS_DIR\"/*.fastq.gz; do\n",
    "    BASENAME=$(basename \"$READ_FILE\" .fastq.gz)\n",
    "    $minimap2 -a \"$REF\" \"$READ_FILE\" > \"$OUT_DIR/${BASENAME}.sam\"\n",
    "done\n",
    "```"
   ]
  },
  {
   "cell_type": "markdown",
   "id": "bf6a4d6f-408d-40ab-8159-721c36499aab",
   "metadata": {
    "scrolled": true
   },
   "source": [
    "```python\n",
    "%%bash\n",
    "minimap2=\"/v/scratch/tools/minimap2/minimap2\"\n",
    "\n",
    "REF=\"references/reference_oligos.fasta\" \n",
    "READS_DIR=\"/v/volumes/nanopore/timin_uracil/oligos/timin20250417/timin_oligos_20250417/20250417_1447_MC-114328_AXB238_56275db9/fastq_pass\"\n",
    "OUT_DIR=\"/v/projects/nanopore/balazs/data/new_dataset/thymine_250417/alignments\"\n",
    "\n",
    "mkdir -p \"$OUT_DIR\"\n",
    "\n",
    "for READ_FILE in \"$READS_DIR\"/*.fastq.gz; do\n",
    "    BASENAME=$(basename \"$READ_FILE\" .fastq.gz)\n",
    "    $minimap2 -a \"$REF\" \"$READ_FILE\" > \"$OUT_DIR/${BASENAME}.sam\" \n",
    "done\n",
    "```"
   ]
  },
  {
   "cell_type": "code",
   "execution_count": null,
   "id": "f85161b1-6a2a-4db0-9e45-8798f4194e56",
   "metadata": {},
   "outputs": [],
   "source": [
    "alignments_path = \"/v/projects/nanopore/balazs/data/new_dataset/thymine_250417/alignments/*\"\n",
    "alignments_files = sorted(glob(alignments_path))"
   ]
  },
  {
   "cell_type": "code",
   "execution_count": null,
   "id": "059d6aa9-8a0b-4cd8-a39f-d3e730160ea0",
   "metadata": {},
   "outputs": [],
   "source": [
    "sam_data = read_sam(alignments_files,\n",
    "                          verbose=True,\n",
    "                          has_movetable=False,\n",
    "                          #min_MAPQ=30\n",
    "                         )"
   ]
  },
  {
   "cell_type": "code",
   "execution_count": null,
   "id": "47f7258f-3158-4dd8-bc99-00b9aa29647e",
   "metadata": {},
   "outputs": [],
   "source": [
    "result = np.array([\n",
    "    [read['contig_name'], read['map_quality']] for read in sam_data \n",
    "])\n",
    "\n",
    "plt.hist(result[:,0], bins=500, label=f'{np.unique(result[:,0]).shape[0]}/500 reads')\n",
    "plt.title('PCR dataset')\n",
    "plt.xlabel('Sequence number')\n",
    "plt.ylabel('Count')\n",
    "plt.legend(loc='center right')\n",
    "#plt.savefig('figures/pcr_histogram_minMQ=0.pdf')\n",
    "plt.show()"
   ]
  },
  {
   "cell_type": "code",
   "execution_count": null,
   "id": "f18e0769-f261-4558-9919-563268f7e41e",
   "metadata": {},
   "outputs": [],
   "source": []
  },
  {
   "cell_type": "markdown",
   "id": "1729d4af-22ab-4f19-b6b3-f1fe42babe1c",
   "metadata": {},
   "source": [
    "---\n",
    "# Exlopre aligned files\n"
   ]
  },
  {
   "cell_type": "code",
   "execution_count": null,
   "id": "8c9f878f-7c3f-4c91-9eee-ada9aaa6c377",
   "metadata": {},
   "outputs": [],
   "source": [
    "from utils import *\n",
    "from speedup import *\n",
    "max_num_of_files = None"
   ]
  },
  {
   "cell_type": "code",
   "execution_count": null,
   "id": "2ce9134f-4f86-4b84-926a-ef7af1ab19fe",
   "metadata": {},
   "outputs": [],
   "source": [
    "short_alignments_path = \"/v/projects/nanopore/balazs/data/new_dataset/thymine_250417/short_alignments/*\"\n",
    "short_alignments_files = sorted(glob(short_alignments_path))[:max_num_of_files]\n",
    "long_alignments_path = \"/v/projects/nanopore/balazs/data/new_dataset/thymine_250417/long_alignments/*\"\n",
    "long_alignments_files = sorted(glob(long_alignments_path))[:max_num_of_files]"
   ]
  },
  {
   "cell_type": "code",
   "execution_count": null,
   "id": "3651c4d5-0820-4c07-b615-800d640d07da",
   "metadata": {},
   "outputs": [],
   "source": [
    "short_sam_data = read_sam(short_alignments_files,\n",
    "                          verbose=True,\n",
    "                          has_movetable=False,\n",
    "                          #min_MAPQ=30\n",
    "                         )"
   ]
  },
  {
   "cell_type": "code",
   "execution_count": null,
   "id": "999398d9-36d2-4c84-a841-d18d25953c97",
   "metadata": {},
   "outputs": [],
   "source": [
    "long_sam_data = read_sam(long_alignments_files,\n",
    "                         verbose=True,\n",
    "                         has_movetable=False,\n",
    "                         #min_MAPQ=30\n",
    "                        )"
   ]
  },
  {
   "cell_type": "code",
   "execution_count": null,
   "id": "20cf1c95-3208-4879-9938-404cbca680f5",
   "metadata": {},
   "outputs": [],
   "source": [
    "short_sam_read_ids = get_feature_from_sam_data(short_sam_data, 'read_id')\n",
    "long_sam_read_ids = get_feature_from_sam_data(long_sam_data, 'read_id')"
   ]
  },
  {
   "cell_type": "markdown",
   "id": "08956a13-ab5b-4eba-a063-a354a5bf9cd0",
   "metadata": {},
   "source": [
    "\n",
    "### Read sorting to `short` and `long` datasets"
   ]
  },
  {
   "cell_type": "code",
   "execution_count": null,
   "id": "40ecdd6d-1458-4e08-97ca-f3b517bf7760",
   "metadata": {},
   "outputs": [],
   "source": [
    "set_short_sam_read_ids = set(short_sam_read_ids)\n",
    "set_long_sam_read_ids = set(long_sam_read_ids)\n",
    "\n",
    "reads_only_in_short_version = set_short_sam_read_ids - set_long_sam_read_ids\n",
    "print(\"Reads in only PCR dataset:\", len(reads_only_in_short_version))\n",
    "reads_only_in_long_version = set_long_sam_read_ids - set_short_sam_read_ids\n",
    "print(\"Reads in only Bacteria dataset:\", len(reads_only_in_long_version))\n",
    "reads_in_both_sets = set_short_sam_read_ids.intersection(set_long_sam_read_ids)\n",
    "print(\"Reads in both datasets:\", len(reads_in_both_sets))"
   ]
  },
  {
   "cell_type": "code",
   "execution_count": null,
   "id": "cf90ea88-1a5d-4793-b0d4-7f5aa08da68d",
   "metadata": {},
   "outputs": [],
   "source": [
    "short_result = np.array([\n",
    "    [read['contig_name'], read['map_quality']] for read in short_sam_data if read['read_id'] in reads_only_in_short_version\n",
    "])\n",
    "\n",
    "plt.hist(short_result[:,0], bins=500, label=f'{np.unique(short_result[:,0]).shape[0]}/500 reads')\n",
    "plt.title('PCR dataset')\n",
    "plt.xlabel('Sequence number')\n",
    "plt.ylabel('Count')\n",
    "plt.legend(loc='center right')\n",
    "plt.savefig('figures/pcr_histogram_minMQ=0.pdf')\n",
    "plt.show()"
   ]
  },
  {
   "cell_type": "code",
   "execution_count": null,
   "id": "0b0a9153-d50e-4af5-b79b-f96a5c430ba5",
   "metadata": {},
   "outputs": [],
   "source": [
    "long_result = np.array([\n",
    "    [read['contig_name'], read['map_quality']] for read in long_sam_data if read['read_id'] in reads_only_in_long_version\n",
    "])\n",
    "\n",
    "x= plt.hist(long_result[:,0], bins=500, label=f'{np.unique(long_result[:,0]).shape[0]}/500 reads',  )\n",
    "\n",
    "plt.title('Bacteria generated dataset')\n",
    "plt.xlabel('Sequence number')\n",
    "plt.ylabel('Count')\n",
    "plt.legend(loc='center right')\n",
    "plt.savefig('figures/bacteria_histogram_minMQ=0.pdf')\n",
    "plt.show()"
   ]
  },
  {
   "cell_type": "code",
   "execution_count": null,
   "id": "825b80ee-3422-4149-87b6-95d47c027bb0",
   "metadata": {},
   "outputs": [],
   "source": [
    "x=np.histogram(long_result[:,0], bins=500)"
   ]
  },
  {
   "cell_type": "code",
   "execution_count": null,
   "id": "da4272c9-dfeb-4525-8695-2b7b1a473710",
   "metadata": {},
   "outputs": [],
   "source": [
    "len(x[0])"
   ]
  },
  {
   "cell_type": "code",
   "execution_count": null,
   "id": "00e2eee8-b26d-491c-9ec8-93e3288e80e5",
   "metadata": {},
   "outputs": [],
   "source": [
    "plt.scatter( x[1][:-1], x[0])"
   ]
  },
  {
   "cell_type": "markdown",
   "id": "793b4438-e12b-4efa-ab96-54eda948bd91",
   "metadata": {},
   "source": [
    "---\n",
    "# Filtered reads by MapQual"
   ]
  },
  {
   "cell_type": "code",
   "execution_count": null,
   "id": "b462357b-be6f-4183-8cde-01140342e15f",
   "metadata": {},
   "outputs": [],
   "source": [
    "short_sam_data_filt = read_sam(short_alignments_files,\n",
    "                          verbose=True,\n",
    "                          has_movetable=False,\n",
    "                          min_MAPQ=10\n",
    "                         )"
   ]
  },
  {
   "cell_type": "code",
   "execution_count": null,
   "id": "8ab2f955-5fd5-4b94-8e4c-34dab2384937",
   "metadata": {},
   "outputs": [],
   "source": [
    "long_sam_data_filt = read_sam(long_alignments_files,\n",
    "                         verbose=True,\n",
    "                         has_movetable=False,\n",
    "                         min_MAPQ=10\n",
    "                        )"
   ]
  },
  {
   "cell_type": "code",
   "execution_count": null,
   "id": "5c010c3c-bdfc-4e8f-814a-4bcc1670f9ac",
   "metadata": {},
   "outputs": [],
   "source": [
    "short_sam_read_ids_filt = get_feature_from_sam_data(short_sam_data_filt, 'read_id')\n",
    "long_sam_read_ids_filt = get_feature_from_sam_data(long_sam_data_filt, 'read_id')"
   ]
  },
  {
   "cell_type": "code",
   "execution_count": null,
   "id": "ca1d86fe-5865-461c-bd73-aa0029eb435e",
   "metadata": {},
   "outputs": [],
   "source": [
    "set_short_sam_read_ids_filt = set(short_sam_read_ids_filt)\n",
    "set_long_sam_read_ids_filt = set(long_sam_read_ids_filt)\n",
    "\n",
    "reads_only_in_short_version_filt = set_short_sam_read_ids_filt - set_long_sam_read_ids_filt\n",
    "print(\"Reads in only PCR dataset:\", len(reads_only_in_short_version_filt))\n",
    "reads_only_in_long_version_filt = set_long_sam_read_ids_filt - set_short_sam_read_ids_filt\n",
    "print(\"Reads in only Bacteria dataset:\", len(reads_only_in_long_version_filt))\n",
    "reads_in_both_sets_filt = set_short_sam_read_ids_filt.intersection(set_long_sam_read_ids_filt)\n",
    "print(\"Reads in both datasets:\", len(reads_in_both_sets_filt))"
   ]
  },
  {
   "cell_type": "code",
   "execution_count": null,
   "id": "5b493ad8-122b-4cde-9885-12c6f9ba6a06",
   "metadata": {},
   "outputs": [],
   "source": [
    "short_result_filt = np.array([\n",
    "    [read['contig_name'], read['map_quality']] for read in short_sam_data_filt if read['read_id'] in reads_only_in_short_version_filt\n",
    "])\n",
    "\n",
    "plt.hist(short_result_filt[:,0], bins=500, label=f'{np.unique(short_result_filt[:,0]).shape[0]}/500 reads')\n",
    "plt.title('PCR dataset')\n",
    "plt.xlabel('Sequence number')\n",
    "plt.ylabel('Count')\n",
    "plt.legend(loc='center right')\n",
    "plt.savefig('figures/pcr_histogram_minMQ=10.pdf')\n",
    "plt.show()"
   ]
  },
  {
   "cell_type": "code",
   "execution_count": null,
   "id": "24724479-8f67-448b-b251-f952b244e072",
   "metadata": {},
   "outputs": [],
   "source": [
    "long_result_filt = np.array([\n",
    "    [read['contig_name'], read['map_quality']] for read in long_sam_data_filt if read['read_id'] in reads_only_in_long_version_filt\n",
    "])\n",
    "\n",
    "plt.hist(long_result_filt[:,0], bins=500, label=f'{np.unique(long_result_filt[:,0]).shape[0]}/500 reads' )\n",
    "plt.title('Bacteria generated dataset')\n",
    "plt.xlabel('Sequence number')\n",
    "plt.ylabel('Count')\n",
    "plt.legend(loc='center right')\n",
    "plt.savefig('figures/bacteria_histogram_minMQ=10.pdf')\n",
    "plt.show()"
   ]
  },
  {
   "cell_type": "code",
   "execution_count": null,
   "id": "ecdf2614-8bfa-471b-9058-c6e0704fd3fb",
   "metadata": {},
   "outputs": [],
   "source": []
  },
  {
   "cell_type": "code",
   "execution_count": null,
   "id": "194e98b4-c4ad-48c6-a4f2-0413bc8b4ae2",
   "metadata": {},
   "outputs": [],
   "source": []
  },
  {
   "cell_type": "markdown",
   "id": "bee4d178-4f37-4e11-885c-2333f0d19611",
   "metadata": {},
   "source": [
    "----\n",
    "# Phred scale / MapQual: (see [here](https://samtools.github.io/hts-specs/SAMv1.pdf) on p3.) \n",
    "Given a probability $0 < p ≤ 1$, the phred scale of\n",
    "$$Phred =  \\left\\lfloor −10 \\cdot \\log_{10} (p) \\right\\rceil $$"
   ]
  },
  {
   "cell_type": "code",
   "execution_count": null,
   "id": "fdaf89cb-f5eb-484a-abf1-9470229c07b2",
   "metadata": {},
   "outputs": [],
   "source": [
    "p = np.linspace(1e-6,1, 100000)\n",
    "phred = np.round(-10*np.log10(p))\n",
    "plt.plot(p, phred, '--', c='b')\n",
    "plt.xlabel('probability that the base is incorrectly called')\n",
    "plt.ylabel('PHRED score')\n",
    "plt.savefig('figures/phred_score.pdf')\n",
    "plt.grid()"
   ]
  }
 ],
 "metadata": {
  "kernelspec": {
   "display_name": "Python [conda env:base] *",
   "language": "python",
   "name": "conda-base-py"
  },
  "language_info": {
   "codemirror_mode": {
    "name": "ipython",
    "version": 3
   },
   "file_extension": ".py",
   "mimetype": "text/x-python",
   "name": "python",
   "nbconvert_exporter": "python",
   "pygments_lexer": "ipython3",
   "version": "3.12.2"
  }
 },
 "nbformat": 4,
 "nbformat_minor": 5
}
