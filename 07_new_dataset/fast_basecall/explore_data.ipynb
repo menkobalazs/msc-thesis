{
 "cells": [
  {
   "cell_type": "markdown",
   "id": "37f73c6a-d7ad-4739-9182-3219b6ee7ead",
   "metadata": {},
   "source": [
    "### Email:\n",
    "\n",
    "Az volna az elso kerdes, hogy a jelenlegi adatokbol hogy latjuk vissza az 500 altalunk tervezett oligot, vagyis milyen azok reprezentacioja.\n",
    "\n",
    "Technikailag ket dolgot csinaltunk, ezert van egy rovidebb es egy hosszabb amplikon. A rovidebb, közvetlenül a hatarszekvenciakkal kezdodik es vegzodik.\n",
    "\n",
    "- oV869_P7NP_fw TCTTGTGGAAAGGACGAAACACCG\n",
    "- oV870_P7NP_rev GTTTAAGAGCTATGCTGGAAACAG\n",
    "\n",
    "A hosszabbnak ezek kb pont a kozepen vannak. Nagyjából fele-fele aranyban kevertuk ossze a ket PCR termeket, a kerdes az volna, hogy melyik hasznalhatobb minoseg es reprezentacio szempontjából, azzal mennénk majd tovabb."
   ]
  },
  {
   "cell_type": "code",
   "execution_count": 1,
   "id": "0eaa8c61-8123-43b6-9334-0ba5ad39eb56",
   "metadata": {},
   "outputs": [
    {
     "name": "stdout",
     "output_type": "stream",
     "text": [
      "--- Warning! This version of speedup.py can cause errors. ---\n"
     ]
    }
   ],
   "source": [
    "#imports\n",
    "from utils import *\n",
    "from speedup import *"
   ]
  },
  {
   "cell_type": "code",
   "execution_count": 2,
   "id": "eac622f9-d4d8-4287-a227-717d3ba32e6b",
   "metadata": {},
   "outputs": [],
   "source": [
    "thymine_path = \"/v/volumes/nanopore/timin_uracil/oligos/timin20250417/\"+\\\n",
    "               \"timin_oligos_20250417/20250417_1447_MC-114328_AXB238_56275db9/\""
   ]
  },
  {
   "cell_type": "markdown",
   "id": "c53e0d19-75df-4570-ba1d-133d9af5945e",
   "metadata": {},
   "source": [
    "---\n",
    "# Reference oligos"
   ]
  },
  {
   "cell_type": "code",
   "execution_count": 3,
   "id": "757f56cb-3473-449f-a0f0-b1e20be4ab64",
   "metadata": {},
   "outputs": [],
   "source": [
    "import pandas as pd\n",
    "reference_oligos = pd.read_excel(\"references/reference_oligos.xlsx\").Sequence.values\n"
   ]
  },
  {
   "cell_type": "code",
   "execution_count": 4,
   "id": "fa9c517a-a9ae-4d46-a3ca-e4aa7f60bc04",
   "metadata": {},
   "outputs": [
    {
     "data": {
      "text/plain": [
       "300"
      ]
     },
     "execution_count": 4,
     "metadata": {},
     "output_type": "execute_result"
    }
   ],
   "source": [
    "len(reference_oligos[0])"
   ]
  },
  {
   "cell_type": "code",
   "execution_count": 5,
   "id": "a902f3c0-ca1b-4477-8744-df15f72b2fd3",
   "metadata": {},
   "outputs": [],
   "source": [
    "import generate_kmer\n",
    "k_mer_num, num_of_reads, min_overlap = 7, 500, 7"
   ]
  },
  {
   "cell_type": "code",
   "execution_count": 6,
   "id": "d2824977-5b6e-422b-890c-dd89fb33d090",
   "metadata": {},
   "outputs": [
    {
     "name": "stdout",
     "output_type": "stream",
     "text": [
      "True\n",
      "True\n"
     ]
    }
   ],
   "source": [
    "print(generate_kmer.PROMOTER == 'TCTTGTGGAAAGGACGAAACACCG') \n",
    "print(generate_kmer.TERMINATOR == 'GTTTAAGAGCTATGCTGGAAACAG')"
   ]
  },
  {
   "cell_type": "code",
   "execution_count": 7,
   "id": "611aac26-9a49-4ccf-95f6-c1df32dd82ec",
   "metadata": {},
   "outputs": [
    {
     "data": {
      "text/plain": [
       "array(['AAAAAAA', 'AAAAAAT', 'AAAAAAC', ..., 'GGGGGGT', 'GGGGGGC',\n",
       "       'GGGGGGG'], dtype='<U7')"
      ]
     },
     "execution_count": 7,
     "metadata": {},
     "output_type": "execute_result"
    }
   ],
   "source": [
    "k_mers_list = generate_kmer.generate_k_mer_list('ATCG', k_mer_num)\n",
    "k_mers_list"
   ]
  },
  {
   "cell_type": "markdown",
   "id": "8380028e-02ad-4d35-a6d9-7de2f135776f",
   "metadata": {},
   "source": [
    "---\n",
    "# Pod5 dataset"
   ]
  },
  {
   "cell_type": "code",
   "execution_count": 8,
   "id": "4bb93237-ff33-4e15-b5bd-a16062e45c8c",
   "metadata": {},
   "outputs": [
    {
     "name": "stdout",
     "output_type": "stream",
     "text": [
      "Read ID: af9e7db1-de4f-48bd-aded-4907f4a3378d\n",
      "ADC signal: [574 517 530 ... 612 617 651]\n",
      " pA signal: [131.9991   118.959335 121.93332  ... 140.69229  141.83612  149.61424 ]\n"
     ]
    }
   ],
   "source": [
    "import pod5\n",
    "thymine_pod5_path = thymine_path + \"pod5/\"\n",
    "thymine_pod5_files = glob(thymine_pod5_path+\"*\")\n",
    "\n",
    "with pod5.Reader(thymine_pod5_files[0]) as reader:\n",
    "    for read in reader.reads():\n",
    "        print\n",
    "        print(\"Read ID:\", read.read_id)\n",
    "        print(\"ADC signal:\", read.signal)\n",
    "        print(\" pA signal:\", read.signal_pa)\n",
    "        break"
   ]
  },
  {
   "cell_type": "markdown",
   "id": "9d6e81ba-0955-447e-b1b7-e4fb0e0687ae",
   "metadata": {},
   "source": [
    "---\n",
    "# Fastq dataset"
   ]
  },
  {
   "cell_type": "code",
   "execution_count": 9,
   "id": "153060f0-8ecb-4ef3-bc56-9c443531c035",
   "metadata": {},
   "outputs": [],
   "source": [
    "thymine_fastq_path = thymine_path + \"fastq_pass/\"\n",
    "thymine_fastq_files = glob(thymine_fastq_path+\"*\")"
   ]
  },
  {
   "cell_type": "code",
   "execution_count": 10,
   "id": "2c5c1705-73ce-44f2-8e9a-8b5e619058cb",
   "metadata": {},
   "outputs": [
    {
     "name": "stderr",
     "output_type": "stream",
     "text": [
      "Loading data: 100%|██████████| 117/117 [01:12<00:00,  1.61it/s]\n"
     ]
    }
   ],
   "source": [
    "def read_fastq_gz(filepath):\n",
    "    import gzip\n",
    "    with gzip.open(filepath, 'rt') as f:  \n",
    "        while True:\n",
    "            header = f.readline().strip()\n",
    "            if not header:\n",
    "                break\n",
    "            sequence = f.readline().strip()\n",
    "            plus = f.readline().strip()\n",
    "            quality = f.readline().strip()\n",
    "            yield header, sequence, plus, quality\n",
    "\n",
    "read_ids = []\n",
    "fastq_sequences = []\n",
    "len_sequences = []\n",
    "max_idx=117 ##len(thymine_fastq_files) #== 234\n",
    "iter_idx = 0\n",
    "for file in tqdm(thymine_fastq_files[:max_idx], total=len(thymine_fastq_files[:max_idx]), desc=\"Loading data\"):\n",
    "    for header, sequence, plus, quality in read_fastq_gz(file):\n",
    "        read_ids.append(header.split(' ')[0][1:])\n",
    "        fastq_sequences.append(sequence)\n",
    "        len_sequences.append(len(sequence))"
   ]
  },
  {
   "cell_type": "code",
   "execution_count": 11,
   "id": "34fd6e82-25b7-4a0f-bb65-8d523267c6d7",
   "metadata": {
    "scrolled": true
   },
   "outputs": [],
   "source": [
    "filter_idx = np.array(fastq_sequences)"
   ]
  },
  {
   "cell_type": "code",
   "execution_count": 16,
   "id": "4e3cd56b-c47a-4acf-9422-ff31706dc3cb",
   "metadata": {},
   "outputs": [
    {
     "data": {
      "image/png": "[encoded data removed]",
      "text/plain": [
       "<Figure size 900x400 with 1 Axes>"
      ]
     },
     "metadata": {},
     "output_type": "display_data"
    }
   ],
   "source": [
    "plt.figure(figsize=(9, 4))\n",
    "plt.hist(len_sequences, bins=3500)\n",
    "plt.title('Sequence lenght based on fastq files')\n",
    "plt.xlabel('number of bases in a sequence')\n",
    "plt.ylabel('frequency')\n",
    "plt.xlim(100, 1000)\n",
    "plt.savefig('figures/seq_lengths.pdf')\n",
    "plt.show()"
   ]
  },
  {
   "cell_type": "code",
   "execution_count": 13,
   "id": "fc51e568-f225-4fda-8f02-6b1229efdf32",
   "metadata": {},
   "outputs": [
    {
     "data": {
      "text/plain": [
       "595206"
      ]
     },
     "execution_count": 13,
     "metadata": {},
     "output_type": "execute_result"
    }
   ],
   "source": [
    "len(fastq_sequences)"
   ]
  },
  {
   "cell_type": "code",
   "execution_count": 14,
   "id": "311f2026-77a7-49bb-977a-882a62b71a4e",
   "metadata": {},
   "outputs": [
    {
     "name": "stdout",
     "output_type": "stream",
     "text": [
      "Fastq start/end          Ref. promoter/terminator\n",
      "\n",
      "TGCTACTGGTTCGTTACGTATTGC TCTTGTGGAAAGGACGAAACACCG\n",
      "CTGTTCCGACCCTGCCGCTTTTCT GTTTAAGAGCTATGCTGGAAACAG\n",
      "\n",
      "ATGTTTTGCGTCTGCTTCGTTCAA TCTTGTGGAAAGGACGAAACACCG\n",
      "TTACCGGATACCTGTCAGCAATAC GTTTAAGAGCTATGCTGGAAACAG\n",
      "\n",
      "TTTGTTGTAACCTACTCGTTCAGT TCTTGTGGAAAGGACGAAACACCG\n",
      "GTTCCGACCCTGCCGCTTGGAAAT GTTTAAGAGCTATGCTGGAAACAG\n",
      "\n",
      "GTTTATGTTAGCCTACTTGGTTCA TCTTGTGGAAAGGACGAAACACCG\n",
      "CTCCTGTTCCGACCCTGCCGCTTA GTTTAAGAGCTATGCTGGAAACAG\n",
      "\n",
      "TTTTGTGGTATTTACTTGGTTCAC TCTTGTGGAAAGGACGAAACACCG\n",
      "CGGATACCTGTCAGCAATACGTAC GTTTAAGAGCTATGCTGGAAACAG\n",
      "\n"
     ]
    }
   ],
   "source": [
    "print('Fastq start/end          Ref. promoter/terminator')\n",
    "print()\n",
    "for i in np.random.choice(len(fastq_sequences), 5):\n",
    "    print(fastq_sequences[i][:len(generate_kmer.PROMOTER)], generate_kmer.PROMOTER)\n",
    "    print(fastq_sequences[i][-len(generate_kmer.TERMINATOR):], generate_kmer.TERMINATOR)\n",
    "    print()"
   ]
  },
  {
   "cell_type": "markdown",
   "id": "c3401340-96bd-478f-bc0e-9fd39c4cd0c0",
   "metadata": {},
   "source": [
    "----"
   ]
  },
  {
   "cell_type": "code",
   "execution_count": null,
   "id": "05abcfdb-60eb-484e-b016-1a1f1ff13f20",
   "metadata": {},
   "outputs": [],
   "source": []
  }
 ],
 "metadata": {
  "kernelspec": {
   "display_name": "Python [conda env:base] *",
   "language": "python",
   "name": "conda-base-py"
  },
  "language_info": {
   "codemirror_mode": {
    "name": "ipython",
    "version": 3
   },
   "file_extension": ".py",
   "mimetype": "text/x-python",
   "name": "python",
   "nbconvert_exporter": "python",
   "pygments_lexer": "ipython3",
   "version": "3.12.2"
  }
 },
 "nbformat": 4,
 "nbformat_minor": 5
}
