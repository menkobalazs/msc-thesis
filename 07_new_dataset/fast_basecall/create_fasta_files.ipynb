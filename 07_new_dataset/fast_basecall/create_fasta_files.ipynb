{
 "cells": [
  {
   "cell_type": "code",
   "execution_count": 1,
   "id": "b510054a-528b-45fe-8471-93fc79109a8c",
   "metadata": {},
   "outputs": [],
   "source": [
    "import generate_kmer"
   ]
  },
  {
   "cell_type": "code",
   "execution_count": 2,
   "id": "5fdb61a4-6dd9-4344-bd6d-d62e9d344af5",
   "metadata": {},
   "outputs": [],
   "source": [
    "def create_fasta_from_reference(input_file, output_file, add_before='', add_after=''):\n",
    "    with open(input_file, 'r') as f_in, open(output_file, 'w') as f_out:\n",
    "        seq_num = 1\n",
    "        for line in f_in:\n",
    "            line = line.strip()\n",
    "            if line:  # skip empty lines\n",
    "                f_out.write(f\">sequence{seq_num}\\n\")\n",
    "                f_out.write(f\"{add_before + line + add_after}\\n\")\n",
    "                seq_num += 1"
   ]
  },
  {
   "cell_type": "markdown",
   "id": "f1dbbda7-14b6-464f-8189-e5d38d01c18d",
   "metadata": {},
   "source": [
    "# Short (PCR) oligos\n",
    "`promoter` + `OLIGO` + `terminator`"
   ]
  },
  {
   "cell_type": "code",
   "execution_count": 3,
   "id": "316e4a91-26a0-45df-b3c7-5dd964dc4e7e",
   "metadata": {},
   "outputs": [],
   "source": [
    "create_fasta_from_reference('references/1015-1541_7-mer_500-reads_7-min-overlap.txt', \n",
    "                            'references/reference_short_oligos.fasta',\n",
    "                            add_before=generate_kmer.PROMOTER,\n",
    "                            add_after=generate_kmer.TERMINATOR,\n",
    "                           )"
   ]
  },
  {
   "cell_type": "markdown",
   "id": "e5fd992e-74bf-439f-9306-0cb59f5adffa",
   "metadata": {},
   "source": [
    "# Long (bacteria) oligos\n",
    "`oV354_BPK_clone_F1` + `long_amplicon_seq_left` + `promoter` + `OLIGO` + `terminator` + `long_amplicon_seq_right` + `oV355_BPK_clone_R1`"
   ]
  },
  {
   "cell_type": "code",
   "execution_count": 4,
   "id": "996c2dc3-6aa9-40ef-86b1-0fad3280a004",
   "metadata": {},
   "outputs": [],
   "source": [
    "oV354_BPK_clone_F1=\"cctgacgtcgctagctgtac\".upper()\n",
    "oV355_BPK_clone_R1=\"tttgctggccttttgctcac\".upper()\n",
    "long_amplicon_seq_left=\"cctgacgtcgctagctgtacaaaaaagcaggctttaaaggaaccaattcagtcgactggatccggtaccaaggtcgggcaggaagagggcctatttcccatgattccttcatatttgcatatacgatacaaggctgttagagagataattagaattaatttgactgtaaacacaaagatattagtacaaaatacgtgacgtagaaagtaataatttcttgggtagtttgcagttttaaaattatgttttaaaatggactatcatatgcttaccgtaacttgaaagtatttcgatttcttggctttatata\".upper()\n",
    "long_amplicon_seq_right=\"taaaataaggctagtccgttatcaacttgaaaaagtggcaccgagtcggtgctttttttaagcttgggccgctcgaggtacctctctacatatgacatgtgagcaaaaggccagcaaa\".upper()"
   ]
  },
  {
   "cell_type": "code",
   "execution_count": 5,
   "id": "9c88b319-0614-49c7-a896-334c7965ac21",
   "metadata": {},
   "outputs": [],
   "source": [
    "create_fasta_from_reference('references/1015-1541_7-mer_500-reads_7-min-overlap.txt', \n",
    "                            'references/reference_long_oligos.fasta',\n",
    "                            add_before=oV354_BPK_clone_F1 + long_amplicon_seq_left + generate_kmer.PROMOTER,\n",
    "                            add_after=generate_kmer.TERMINATOR + long_amplicon_seq_right + oV355_BPK_clone_R1,\n",
    "                           )"
   ]
  },
  {
   "cell_type": "code",
   "execution_count": 7,
   "id": "260a11e0-9a5e-44a9-8493-1e9c460e4be3",
   "metadata": {},
   "outputs": [
    {
     "data": {
      "text/plain": [
       "768"
      ]
     },
     "execution_count": 7,
     "metadata": {},
     "output_type": "execute_result"
    }
   ],
   "source": [
    "300 + len(oV354_BPK_clone_F1+oV355_BPK_clone_R1+ long_amplicon_seq_left + long_amplicon_seq_right)"
   ]
  }
 ],
 "metadata": {
  "kernelspec": {
   "display_name": "Python [conda env:base] *",
   "language": "python",
   "name": "conda-base-py"
  },
  "language_info": {
   "codemirror_mode": {
    "name": "ipython",
    "version": 3
   },
   "file_extension": ".py",
   "mimetype": "text/x-python",
   "name": "python",
   "nbconvert_exporter": "python",
   "pygments_lexer": "ipython3",
   "version": "3.12.2"
  }
 },
 "nbformat": 4,
 "nbformat_minor": 5
}
