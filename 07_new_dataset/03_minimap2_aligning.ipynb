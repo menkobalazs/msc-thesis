{
 "cells": [
  {
   "cell_type": "markdown",
   "id": "f0c2f8dd-d370-4178-b2c7-89c515b29902",
   "metadata": {},
   "source": [
    "# Aligning with `minimap2`"
   ]
  },
  {
   "cell_type": "markdown",
   "id": "224b441c-e487-40ac-a632-a5a13ed19405",
   "metadata": {},
   "source": [
    "## Fast basecall"
   ]
  },
  {
   "cell_type": "markdown",
   "id": "8655af1c-07df-40ff-856c-cd5eb93371ab",
   "metadata": {},
   "source": [
    "- alignment for no amplicons\n",
    "```python\n",
    "%%bash\n",
    "minimap2=\"/v/scratch/tools/minimap2/minimap2\"\n",
    "\n",
    "REF=\"references/reference_oligos.fasta\" \n",
    "READS_DIR=\"/v/volumes/nanopore/timin_uracil/oligos/timin20250417/20250417_1447_MC-114328_AXB238_56275db9/fastq_pass\"\n",
    "OUT_DIR=\"/v/projects/nanopore/balazs/data/new_dataset/thymine_250417/minimap2/alignments\"\n",
    "\n",
    "mkdir -p \"$OUT_DIR\"\n",
    "\n",
    "for READ_FILE in \"$READS_DIR\"/*.fastq.gz; do\n",
    "    BASENAME=$(basename \"$READ_FILE\" .fastq.gz)\n",
    "    $minimap2 -x sr --sam-hit-only -a \"$REF\" \"$READ_FILE\" > \"$OUT_DIR/${BASENAME}.sam\"\n",
    "done\n",
    "```"
   ]
  },
  {
   "cell_type": "markdown",
   "id": "7892e882-9311-45f0-b35a-b61a32f6088e",
   "metadata": {},
   "source": [
    "- alignment for short amplicons\n",
    "```python\n",
    "%%bash\n",
    "minimap2=\"/v/scratch/tools/minimap2/minimap2\"\n",
    "\n",
    "REF=\"references/reference_short_oligos.fasta\" \n",
    "READS_DIR=\"/v/volumes/nanopore/timin_uracil/oligos/timin20250417/20250417_1447_MC-114328_AXB238_56275db9/fastq_pass\"\n",
    "OUT_DIR=\"/v/projects/nanopore/balazs/data/new_dataset/thymine_250417/minimap2/alignments_short\"\n",
    "\n",
    "mkdir -p \"$OUT_DIR\"\n",
    "\n",
    "for READ_FILE in \"$READS_DIR\"/*.fastq.gz; do\n",
    "    BASENAME=$(basename \"$READ_FILE\" .fastq.gz)\n",
    "    $minimap2 -x sr --sam-hit-only -a \"$REF\" \"$READ_FILE\" > \"$OUT_DIR/${BASENAME}.sam\"\n",
    "done\n",
    "```"
   ]
  },
  {
   "cell_type": "markdown",
   "id": "3c9d1074-a0de-4086-9565-c88ee048f75d",
   "metadata": {},
   "source": [
    "- alignment for long amplicons\n",
    "```python\n",
    "%%bash\n",
    "minimap2=\"/v/scratch/tools/minimap2/minimap2\"\n",
    "\n",
    "REF=\"references/reference_long_oligos.fasta\" \n",
    "READS_DIR=\"/v/volumes/nanopore/timin_uracil/oligos/timin20250417/20250417_1447_MC-114328_AXB238_56275db9/fastq_pass\"\n",
    "OUT_DIR=\"/v/projects/nanopore/balazs/data/new_dataset/thymine_250417/minimap2/alignments_long\"\n",
    "\n",
    "mkdir -p \"$OUT_DIR\"\n",
    "\n",
    "for READ_FILE in \"$READS_DIR\"/*.fastq.gz; do\n",
    "    BASENAME=$(basename \"$READ_FILE\" .fastq.gz)\n",
    "    $minimap2 -x sr --sam-hit-only -a \"$REF\" \"$READ_FILE\" > \"$OUT_DIR/${BASENAME}.sam\"\n",
    "done\n",
    "```"
   ]
  },
  {
   "cell_type": "markdown",
   "id": "d31c437f-24ba-4a23-b3bf-205d91ab5b13",
   "metadata": {},
   "source": [
    "## Dorado basecall"
   ]
  },
  {
   "cell_type": "markdown",
   "id": "9ac02b43-ae58-4a59-ac29-13a117e86477",
   "metadata": {},
   "source": [
    "- alignment for no amplicons \n",
    "```python\n",
    "%%bash\n",
    "minimap2=\"/v/scratch/tools/minimap2/minimap2\"\n",
    "\n",
    "REF=\"references/reference_oligos.fasta\" \n",
    "READS_DIR=\"/v/volumes/nanopore/timin_uracil/oligos/timin20250417/basecall/20250430/fastq\"\n",
    "OUT_DIR=\"/v/projects/nanopore/balazs/data/new_dataset/thymine_250417/minimap2/dorado_alignments\"\n",
    "\n",
    "mkdir -p \"$OUT_DIR\"\n",
    "\n",
    "for READ_FILE in \"$READS_DIR\"/*.fastq; do\n",
    "    BASENAME=$(basename \"$READ_FILE\" .fastq)\n",
    "    $minimap2 -x sr --sam-hit-only -a \"$REF\" \"$READ_FILE\" > \"$OUT_DIR/${BASENAME}.sam\"\n",
    "done\n",
    "```"
   ]
  },
  {
   "cell_type": "markdown",
   "id": "abc34683-2920-41b9-a7a5-69ff8409e738",
   "metadata": {},
   "source": [
    "- alignment for short amplicons \n",
    "```python\n",
    "%%bash\n",
    "minimap2=\"/v/scratch/tools/minimap2/minimap2\"\n",
    "\n",
    "REF=\"references/reference_short_oligos.fasta\" \n",
    "READS_DIR=\"/v/volumes/nanopore/timin_uracil/oligos/timin20250417/basecall/20250430/fastq\"\n",
    "OUT_DIR=\"/v/projects/nanopore/balazs/data/new_dataset/thymine_250417/minimap2/dorado_alignments_short\"\n",
    "\n",
    "mkdir -p \"$OUT_DIR\"\n",
    "\n",
    "for READ_FILE in \"$READS_DIR\"/*.fastq; do\n",
    "    BASENAME=$(basename \"$READ_FILE\" .fastq)\n",
    "    $minimap2 -x sr --sam-hit-only -a \"$REF\" \"$READ_FILE\" > \"$OUT_DIR/${BASENAME}.sam\"\n",
    "done\n",
    "```"
   ]
  },
  {
   "cell_type": "markdown",
   "id": "dcef58a1-749f-456e-8e68-207e9c0bc555",
   "metadata": {},
   "source": [
    "- alignment for long amplicons \n",
    "```python\n",
    "%%bash\n",
    "minimap2=\"/v/scratch/tools/minimap2/minimap2\"\n",
    "\n",
    "REF=\"references/reference_long_oligos.fasta\" \n",
    "READS_DIR=\"/v/volumes/nanopore/timin_uracil/oligos/timin20250417/basecall/20250430/fastq\"\n",
    "OUT_DIR=\"/v/projects/nanopore/balazs/data/new_dataset/thymine_250417/minimap2/dorado_alignments_long\"\n",
    "\n",
    "mkdir -p \"$OUT_DIR\"\n",
    "\n",
    "for READ_FILE in \"$READS_DIR\"/*.fastq; do\n",
    "    BASENAME=$(basename \"$READ_FILE\" .fastq)\n",
    "    $minimap2 -x sr --sam-hit-only -a \"$REF\" \"$READ_FILE\" > \"$OUT_DIR/${BASENAME}.sam\"\n",
    "done\n",
    "```"
   ]
  },
  {
   "cell_type": "markdown",
   "id": "4b642844-89ef-40b2-a1c3-270757fe488d",
   "metadata": {},
   "source": [
    "---\n",
    "# Exlopre aligned files"
   ]
  },
  {
   "cell_type": "code",
   "execution_count": 2,
   "id": "f18e0769-f261-4558-9919-563268f7e41e",
   "metadata": {},
   "outputs": [
    {
     "name": "stdout",
     "output_type": "stream",
     "text": [
      "--- Warning! This version of speedup.py can cause errors. ---\n"
     ]
    }
   ],
   "source": [
    "from utils import *\n",
    "from speedup import *\n",
    "max_num_of_files = None\n",
    "\n",
    "def check_sam_data(sam_data):\n",
    "    result = np.array([\n",
    "        [read['contig_name'], read['map_quality']] for read in sam_data \n",
    "    ])\n",
    "    plt.figure(figsize=(6,4))\n",
    "    plt.hist(result[:,0], bins=499, label=f'{len(np.unique(result[:,0]))}/500 reads')\n",
    "    #plt.title('PCR dataset')\n",
    "    plt.xlabel('Sequence number')\n",
    "    plt.ylabel('Count')\n",
    "    plt.legend(loc='center right')\n",
    "    plt.show()\n",
    "    x=np.histogram(result[:,0], bins=499)\n",
    "    print(f\"highest peak at position={int(x[1][np.argmax(x[0])])}\")\n",
    "    \n",
    "    plt.figure(figsize=(6,4))\n",
    "    plt.hist(result[:,1], bins=max(result[:,1])-min(result[:,1]))\n",
    "    #plt.title('dataset')\n",
    "    plt.xlabel('MapQuality')\n",
    "    plt.ylabel('Count')\n",
    "    plt.yscale('log')\n",
    "    plt.show()"
   ]
  },
  {
   "cell_type": "markdown",
   "id": "1729d4af-22ab-4f19-b6b3-f1fe42babe1c",
   "metadata": {},
   "source": [
    "## Dorado basecall"
   ]
  },
  {
   "cell_type": "code",
   "execution_count": 5,
   "id": "3fcefcd4-57ac-4552-9876-4307e5f9eb91",
   "metadata": {},
   "outputs": [
    {
     "name": "stderr",
     "output_type": "stream",
     "text": [
      "Loading files: 100%|██████████| 1/1 [00:46<00:00, 46.71s/file]"
     ]
    },
    {
     "name": "stdout",
     "output_type": "stream",
     "text": [
      "Number of reads stored: 867350\n",
      "Number of reads dropped: 28236\n"
     ]
    },
    {
     "name": "stderr",
     "output_type": "stream",
     "text": [
      "\n"
     ]
    }
   ],
   "source": [
    "dorado_alignments_path = \"/v/projects/nanopore/balazs/data/new_dataset/thymine_250417/minimap2/dorado_alignments/*\"\n",
    "dorado_alignments_files = sorted(glob(dorado_alignments_path))[2]\n",
    "\n",
    "dorado_sam_data = read_sam(dorado_alignments_files,\n",
    "                          verbose=True,\n",
    "                          has_movetable=False,\n",
    "                          max_deletion=10,\n",
    "                          max_insertion=10,\n",
    "                          max_indel_frequency=0.4,\n",
    "                          #wrong_flags={}\n",
    "                          )"
   ]
  },
  {
   "cell_type": "code",
   "execution_count": 3,
   "id": "723dda15-6f7d-4cb3-8a0c-6dd8e4c55721",
   "metadata": {},
   "outputs": [
    {
     "data": {
      "image/png": "[encoded data removed]",
      "text/plain": [
       "<Figure size 600x400 with 1 Axes>"
      ]
     },
     "metadata": {},
     "output_type": "display_data"
    },
    {
     "name": "stdout",
     "output_type": "stream",
     "text": [
      "highest peak at position=229\n"
     ]
    },
    {
     "data": {
      "image/png": "[encoded data removed]",
      "text/plain": [
       "<Figure size 600x400 with 1 Axes>"
      ]
     },
     "metadata": {},
     "output_type": "display_data"
    }
   ],
   "source": [
    "check_sam_data(dorado_sam_data)"
   ]
  },
  {
   "cell_type": "code",
   "execution_count": 5,
   "id": "b8ef8470-139b-4357-9357-920940a070b8",
   "metadata": {},
   "outputs": [
    {
     "name": "stderr",
     "output_type": "stream",
     "text": [
      "Loading files: 100%|██████████| 5/5 [02:11<00:00, 26.38s/file]\n"
     ]
    },
    {
     "name": "stdout",
     "output_type": "stream",
     "text": [
      "Number of reads stored: 2294575\n",
      "Number of reads dropped: 697799\n"
     ]
    }
   ],
   "source": [
    "dorado_short_alignments_path = \"/v/projects/nanopore/balazs/data/new_dataset/thymine_250417/minimap2/dorado_alignments_short/*.sam\"\n",
    "dorado_short_alignments_files = sorted(glob(dorado_short_alignments_path))\n",
    "\n",
    "dorado_short_sam_data = read_sam(dorado_short_alignments_files,\n",
    "                          verbose=True,\n",
    "                          has_movetable=False,\n",
    "                          max_deletion=10,\n",
    "                          max_insertion=10,\n",
    "                          max_indel_frequency=0.4,\n",
    "                          #wrong_flags={}\n",
    "                          )"
   ]
  },
  {
   "cell_type": "code",
   "execution_count": 6,
   "id": "3a1d1e1e-7583-4906-baac-cc36f9c9aede",
   "metadata": {},
   "outputs": [
    {
     "data": {
      "image/png": "[encoded data removed]",
      "text/plain": [
       "<Figure size 600x400 with 1 Axes>"
      ]
     },
     "metadata": {},
     "output_type": "display_data"
    },
    {
     "name": "stdout",
     "output_type": "stream",
     "text": [
      "highest peak at position=229\n"
     ]
    },
    {
     "data": {
      "image/png": "[encoded data removed]",
      "text/plain": [
       "<Figure size 600x400 with 1 Axes>"
      ]
     },
     "metadata": {},
     "output_type": "display_data"
    }
   ],
   "source": [
    "check_sam_data(dorado_short_sam_data)"
   ]
  },
  {
   "cell_type": "code",
   "execution_count": 7,
   "id": "936ba93d-81eb-4995-ae74-40243c865437",
   "metadata": {},
   "outputs": [
    {
     "name": "stderr",
     "output_type": "stream",
     "text": [
      "Loading files: 100%|██████████| 5/5 [03:17<00:00, 39.44s/file]\n"
     ]
    },
    {
     "name": "stdout",
     "output_type": "stream",
     "text": [
      "Number of reads stored: 3156014\n",
      "Number of reads dropped: 2780420\n"
     ]
    }
   ],
   "source": [
    "dorado_long_alignments_path = \"/v/projects/nanopore/balazs/data/new_dataset/thymine_250417/minimap2/dorado_alignments_long/*.sam\"\n",
    "dorado_long_alignments_files = sorted(glob(dorado_long_alignments_path))\n",
    "\n",
    "dorado_long_sam_data = read_sam(dorado_long_alignments_files,\n",
    "                          verbose=True,\n",
    "                          has_movetable=False,\n",
    "                          max_deletion=10,\n",
    "                          max_insertion=10,\n",
    "                          max_indel_frequency=0.4,\n",
    "                          #wrong_flags={}\n",
    "                          )"
   ]
  },
  {
   "cell_type": "code",
   "execution_count": 8,
   "id": "99b5947a-7cd0-416b-bd09-2ddcc35eb4f6",
   "metadata": {},
   "outputs": [
    {
     "data": {
      "image/png": "[encoded data removed]",
      "text/plain": [
       "<Figure size 600x400 with 1 Axes>"
      ]
     },
     "metadata": {},
     "output_type": "display_data"
    },
    {
     "name": "stdout",
     "output_type": "stream",
     "text": [
      "highest peak at position=229\n"
     ]
    },
    {
     "data": {
      "image/png": "[encoded data removed]",
      "text/plain": [
       "<Figure size 600x400 with 1 Axes>"
      ]
     },
     "metadata": {},
     "output_type": "display_data"
    }
   ],
   "source": [
    "check_sam_data(dorado_long_sam_data)"
   ]
  },
  {
   "cell_type": "code",
   "execution_count": 9,
   "id": "1cd9ef41-c5ad-47c9-b2b0-e0f733e053ec",
   "metadata": {},
   "outputs": [
    {
     "name": "stderr",
     "output_type": "stream",
     "text": [
      "Loading files: 100%|██████████| 5/5 [02:56<00:00, 35.27s/file]"
     ]
    },
    {
     "name": "stdout",
     "output_type": "stream",
     "text": [
      "Number of reads stored: 1822479\n",
      "Number of reads dropped: 4113955\n"
     ]
    },
    {
     "name": "stderr",
     "output_type": "stream",
     "text": [
      "\n"
     ]
    }
   ],
   "source": [
    "dorado_long_sam_data_mapq = read_sam(dorado_long_alignments_files,\n",
    "                          verbose=True,\n",
    "                          has_movetable=False,\n",
    "                          max_deletion=10,\n",
    "                          max_insertion=10,\n",
    "                          max_indel_frequency=0.4,\n",
    "                          min_MAPQ=30\n",
    "                          )"
   ]
  },
  {
   "cell_type": "code",
   "execution_count": null,
   "id": "a0a1118d-664f-45e9-bcd6-756225db3b60",
   "metadata": {},
   "outputs": [],
   "source": [
    "check_sam_data(dorado_long_sam_data_mapq)"
   ]
  },
  {
   "cell_type": "markdown",
   "id": "5d5809b5-78b0-4248-a91b-6cd0b694e33f",
   "metadata": {},
   "source": [
    "---\n",
    "## Fast basecall"
   ]
  },
  {
   "cell_type": "code",
   "execution_count": null,
   "id": "2ce9134f-4f86-4b84-926a-ef7af1ab19fe",
   "metadata": {},
   "outputs": [],
   "source": [
    "short_alignments_path = \"/v/projects/nanopore/balazs/data/new_dataset/thymine_250417/minimap2/alignments_short/*\"\n",
    "short_alignments_files = sorted(glob(short_alignments_path))[:max_num_of_files]\n",
    "long_alignments_path = \"/v/projects/nanopore/balazs/data/new_dataset/thymine_250417/minimap2/alignments_long/*\"\n",
    "long_alignments_files = sorted(glob(long_alignments_path))[:max_num_of_files]"
   ]
  },
  {
   "cell_type": "code",
   "execution_count": null,
   "id": "3651c4d5-0820-4c07-b615-800d640d07da",
   "metadata": {},
   "outputs": [],
   "source": [
    "short_sam_data = read_sam(short_alignments_files,\n",
    "                          verbose=True,\n",
    "                          has_movetable=False,\n",
    "                          #min_MAPQ=30\n",
    "                         )"
   ]
  },
  {
   "cell_type": "code",
   "execution_count": null,
   "id": "999398d9-36d2-4c84-a841-d18d25953c97",
   "metadata": {},
   "outputs": [],
   "source": [
    "long_sam_data = read_sam(long_alignments_files,\n",
    "                         verbose=True,\n",
    "                         has_movetable=False,\n",
    "                         #min_MAPQ=30\n",
    "                        )"
   ]
  },
  {
   "cell_type": "code",
   "execution_count": null,
   "id": "20cf1c95-3208-4879-9938-404cbca680f5",
   "metadata": {},
   "outputs": [],
   "source": [
    "short_sam_read_ids = get_feature_from_sam_data(short_sam_data, 'read_id')\n",
    "long_sam_read_ids = get_feature_from_sam_data(long_sam_data, 'read_id')"
   ]
  },
  {
   "cell_type": "markdown",
   "id": "08956a13-ab5b-4eba-a063-a354a5bf9cd0",
   "metadata": {},
   "source": [
    "#### Read sorting to `short` and `long` datasets"
   ]
  },
  {
   "cell_type": "code",
   "execution_count": null,
   "id": "40ecdd6d-1458-4e08-97ca-f3b517bf7760",
   "metadata": {},
   "outputs": [],
   "source": [
    "set_short_sam_read_ids = set(short_sam_read_ids)\n",
    "set_long_sam_read_ids = set(long_sam_read_ids)\n",
    "\n",
    "reads_only_in_short_version = set_short_sam_read_ids - set_long_sam_read_ids\n",
    "print(\"Reads in only PCR dataset:\", len(reads_only_in_short_version))\n",
    "reads_only_in_long_version = set_long_sam_read_ids - set_short_sam_read_ids\n",
    "print(\"Reads in only Bacteria dataset:\", len(reads_only_in_long_version))\n",
    "reads_in_both_sets = set_short_sam_read_ids.intersection(set_long_sam_read_ids)\n",
    "print(\"Reads in both datasets:\", len(reads_in_both_sets))"
   ]
  },
  {
   "cell_type": "code",
   "execution_count": null,
   "id": "af95bae0-944f-49ba-8a55-1341bccfa19f",
   "metadata": {},
   "outputs": [],
   "source": [
    "reads_only_in_short_version"
   ]
  },
  {
   "cell_type": "code",
   "execution_count": null,
   "id": "cf90ea88-1a5d-4793-b0d4-7f5aa08da68d",
   "metadata": {},
   "outputs": [],
   "source": [
    "short_result = np.array([\n",
    "    [read['contig_name'], read['map_quality']] for read in short_sam_data if read['read_id'] in reads_only_in_short_version\n",
    "])\n",
    "\n",
    "plt.hist(short_result[:,0], bins=500, label=f'{np.unique(short_result[:,0]).shape[0]}/500 reads')\n",
    "plt.title('PCR dataset')\n",
    "plt.xlabel('Sequence number')\n",
    "plt.ylabel('Count')\n",
    "plt.legend(loc='center right')\n",
    "plt.savefig('figures/pcr_histogram_minMQ=0.pdf')\n",
    "plt.show()"
   ]
  },
  {
   "cell_type": "code",
   "execution_count": null,
   "id": "0b0a9153-d50e-4af5-b79b-f96a5c430ba5",
   "metadata": {},
   "outputs": [],
   "source": [
    "long_result = np.array([\n",
    "    [read['contig_name'], read['map_quality']] for read in long_sam_data if read['read_id'] in reads_only_in_long_version\n",
    "])\n",
    "\n",
    "x= plt.hist(long_result[:,0], bins=500, label=f'{np.unique(long_result[:,0]).shape[0]}/500 reads',  )\n",
    "\n",
    "plt.title('Bacteria generated dataset')\n",
    "plt.xlabel('Sequence number')\n",
    "plt.ylabel('Count')\n",
    "plt.legend(loc='center right')\n",
    "plt.savefig('figures/bacteria_histogram_minMQ=0.pdf')\n",
    "plt.show()"
   ]
  },
  {
   "cell_type": "code",
   "execution_count": null,
   "id": "825b80ee-3422-4149-87b6-95d47c027bb0",
   "metadata": {},
   "outputs": [],
   "source": [
    "x=np.histogram(long_result[:,0], bins=500)\n",
    "plt.scatter( x[1][:-1], x[0])\n",
    "len(x[0])"
   ]
  },
  {
   "cell_type": "markdown",
   "id": "793b4438-e12b-4efa-ab96-54eda948bd91",
   "metadata": {},
   "source": [
    "---\n",
    "# Filtered reads by MapQual"
   ]
  },
  {
   "cell_type": "code",
   "execution_count": null,
   "id": "b462357b-be6f-4183-8cde-01140342e15f",
   "metadata": {},
   "outputs": [],
   "source": [
    "short_sam_data_filt = read_sam(short_alignments_files,\n",
    "                          verbose=True,\n",
    "                          has_movetable=False,\n",
    "                          min_MAPQ=10\n",
    "                         )"
   ]
  },
  {
   "cell_type": "code",
   "execution_count": null,
   "id": "8ab2f955-5fd5-4b94-8e4c-34dab2384937",
   "metadata": {},
   "outputs": [],
   "source": [
    "long_sam_data_filt = read_sam(long_alignments_files,\n",
    "                         verbose=True,\n",
    "                         has_movetable=False,\n",
    "                         min_MAPQ=10\n",
    "                        )"
   ]
  },
  {
   "cell_type": "code",
   "execution_count": null,
   "id": "5c010c3c-bdfc-4e8f-814a-4bcc1670f9ac",
   "metadata": {},
   "outputs": [],
   "source": [
    "short_sam_read_ids_filt = get_feature_from_sam_data(short_sam_data_filt, 'read_id')\n",
    "long_sam_read_ids_filt = get_feature_from_sam_data(long_sam_data_filt, 'read_id')"
   ]
  },
  {
   "cell_type": "code",
   "execution_count": null,
   "id": "ca1d86fe-5865-461c-bd73-aa0029eb435e",
   "metadata": {},
   "outputs": [],
   "source": [
    "set_short_sam_read_ids_filt = set(short_sam_read_ids_filt)\n",
    "set_long_sam_read_ids_filt = set(long_sam_read_ids_filt)\n",
    "\n",
    "reads_only_in_short_version_filt = set_short_sam_read_ids_filt - set_long_sam_read_ids_filt\n",
    "print(\"Reads in only PCR dataset:\", len(reads_only_in_short_version_filt))\n",
    "reads_only_in_long_version_filt = set_long_sam_read_ids_filt - set_short_sam_read_ids_filt\n",
    "print(\"Reads in only Bacteria dataset:\", len(reads_only_in_long_version_filt))\n",
    "reads_in_both_sets_filt = set_short_sam_read_ids_filt.intersection(set_long_sam_read_ids_filt)\n",
    "print(\"Reads in both datasets:\", len(reads_in_both_sets_filt))"
   ]
  },
  {
   "cell_type": "code",
   "execution_count": null,
   "id": "5b493ad8-122b-4cde-9885-12c6f9ba6a06",
   "metadata": {},
   "outputs": [],
   "source": [
    "short_result_filt = np.array([\n",
    "    [read['contig_name'], read['map_quality']] for read in short_sam_data_filt if read['read_id'] in reads_only_in_short_version_filt\n",
    "])\n",
    "\n",
    "plt.hist(short_result_filt[:,0], bins=500, label=f'{np.unique(short_result_filt[:,0]).shape[0]}/500 reads')\n",
    "plt.title('PCR dataset')\n",
    "plt.xlabel('Sequence number')\n",
    "plt.ylabel('Count')\n",
    "plt.legend(loc='center right')\n",
    "plt.savefig('figures/pcr_histogram_minMQ=10.pdf')\n",
    "plt.show()"
   ]
  },
  {
   "cell_type": "code",
   "execution_count": null,
   "id": "24724479-8f67-448b-b251-f952b244e072",
   "metadata": {},
   "outputs": [],
   "source": [
    "long_result_filt = np.array([\n",
    "    [read['contig_name'], read['map_quality']] for read in long_sam_data_filt if read['read_id'] in reads_only_in_long_version_filt\n",
    "])\n",
    "\n",
    "plt.hist(long_result_filt[:,0], bins=500, label=f'{np.unique(long_result_filt[:,0]).shape[0]}/500 reads' )\n",
    "plt.title('Bacteria generated dataset')\n",
    "plt.xlabel('Sequence number')\n",
    "plt.ylabel('Count')\n",
    "plt.legend(loc='center right')\n",
    "plt.savefig('figures/bacteria_histogram_minMQ=10.pdf')\n",
    "plt.show()"
   ]
  },
  {
   "cell_type": "markdown",
   "id": "bee4d178-4f37-4e11-885c-2333f0d19611",
   "metadata": {},
   "source": [
    "----\n",
    "# Phred scale / MapQual: (see [here](https://samtools.github.io/hts-specs/SAMv1.pdf) on p3.) \n",
    "Given a probability $0 < p ≤ 1$, the phred scale of\n",
    "$$Phred =  \\left\\lfloor −10 \\cdot \\log_{10} (p) \\right\\rceil $$\n",
    "\n",
    "**Phred quality scores are logarithmically linked to error probabilities**\n",
    "\n",
    "| Phred Quality Score | Probability of incorrect base call | Base call accuracy |\n",
    "|---------------------|------------------------------------|--------------------|\n",
    "| 10                  | 1 in 10                            | 90%                |\n",
    "| 20                  | 1 in 100                           | 99%                |\n",
    "| 30                  | 1 in 1000                          | 99.9%              |\n",
    "| 40                  | 1 in 10,000                        | 99.99%             |\n",
    "| 50                  | 1 in 100,000                       | 99.999%            |\n",
    "| 60                  | 1 in 1,000,000                     | 99.9999%           |\n",
    "\n",
    "Source: [Wikipedia/Phred_Score](https://en.wikipedia.org/wiki/Phred_quality_score#Definition)"
   ]
  },
  {
   "cell_type": "code",
   "execution_count": null,
   "id": "fdaf89cb-f5eb-484a-abf1-9470229c07b2",
   "metadata": {},
   "outputs": [],
   "source": [
    "p = np.linspace(1e-6, 1, 100000)\n",
    "phred = np.round(-10*np.log10(p))\n",
    "plt.plot(p, phred, '--', c='b')\n",
    "plt.xlabel('probability that the base is incorrectly called')\n",
    "plt.ylabel('PHRED score')\n",
    "plt.savefig('figures/phred_score.pdf')\n",
    "plt.grid()"
   ]
  }
 ],
 "metadata": {
  "kernelspec": {
   "display_name": "Python [conda env:base] *",
   "language": "python",
   "name": "conda-base-py"
  },
  "language_info": {
   "codemirror_mode": {
    "name": "ipython",
    "version": 3
   },
   "file_extension": ".py",
   "mimetype": "text/x-python",
   "name": "python",
   "nbconvert_exporter": "python",
   "pygments_lexer": "ipython3",
   "version": "3.12.2"
  }
 },
 "nbformat": 4,
 "nbformat_minor": 5
}
