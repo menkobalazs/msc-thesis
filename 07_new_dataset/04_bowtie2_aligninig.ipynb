{
 "cells": [
  {
   "cell_type": "markdown",
   "id": "6d7de7cc-f808-46cb-83ed-b3afe1e9efb3",
   "metadata": {},
   "source": [
    "# Aligning with `bowtie2`"
   ]
  },
  {
   "cell_type": "markdown",
   "id": "8d2ae442-e131-47ff-9f53-b1ab83c19a84",
   "metadata": {},
   "source": [
    "## fast basecall"
   ]
  },
  {
   "cell_type": "markdown",
   "id": "4d1cdf26-ab28-4b7f-ae12-8953fb43d57e",
   "metadata": {},
   "source": [
    "- alignment for no amplicons\n",
    "```python\n",
    "%%bash\n",
    "REF=\"references/reference_oligos.fasta\" \n",
    "READS_DIR=\"/v/volumes/nanopore/timin_uracil/oligos/timin20250417/20250417_1447_MC-114328_AXB238_56275db9/fastq_pass\"\n",
    "OUT_DIR=\"/v/projects/nanopore/balazs/data/new_dataset/thymine_250417/bowtie2/alignments\"\n",
    "\n",
    "mkdir -p \"$OUT_DIR\"\n",
    "mkdir -p \"$OUT_DIR/ref_idx\"\n",
    "bowtie2-build \"$REF\" \"$OUT_DIR/ref_idx/reference_index\"\n",
    "\n",
    "for READ_FILE in \"$READS_DIR\"/*.fastq.gz; do\n",
    "    BASENAME=$(basename \"$READ_FILE\" .fastq.gz)\n",
    "    bowtie2 -x \"$OUT_DIR/ref_idx/reference_index\" -U \"$READ_FILE\" -S \"$OUT_DIR/${BASENAME}.sam\" \\\n",
    "      --very-sensitive-local \\\n",
    "      -p 8\n",
    "done\n",
    "```"
   ]
  },
  {
   "cell_type": "markdown",
   "id": "fa477428-b706-4565-bcc9-99442ee281d8",
   "metadata": {},
   "source": [
    "- alignment for short amplicons\n",
    "```python\n",
    "%%bash\n",
    "REF=\"references/reference_short_oligos.fasta\"\n",
    "READS_DIR=\"/v/volumes/nanopore/timin_uracil/oligos/timin20250417/20250417_1447_MC-114328_AXB238_56275db9/fastq_pass\"\n",
    "OUT_DIR=\"/v/projects/nanopore/balazs/data/new_dataset/thymine_250417/bowtie2/alignments\"\n",
    "\n",
    "mkdir -p \"$OUT_DIR\"\n",
    "mkdir -p \"$OUT_DIR/ref_idx\"\n",
    "bowtie2-build \"$REF\" \"$OUT_DIR/ref_idx/reference_index\"\n",
    "\n",
    "for READ_FILE in \"$READS_DIR\"/*.fastq.gz; do\n",
    "    BASENAME=$(basename \"$READ_FILE\" .fastq.gz)\n",
    "    bowtie2 -x \"$OUT_DIR/ref_idx/reference_index\" -U \"$READ_FILE\" -S \"$OUT_DIR/${BASENAME}.sam\" \\\n",
    "      --very-sensitive-local \\\n",
    "      -p 8\n",
    "done\n",
    "```"
   ]
  },
  {
   "cell_type": "markdown",
   "id": "f0b658b7-7f59-414f-b13f-12b148e7b4da",
   "metadata": {},
   "source": [
    "- alignment for long amplicons\n",
    "```python\n",
    "%%bash\n",
    "REF=\"references/reference_long_oligos.fasta\" \n",
    "READS_DIR=\"/v/volumes/nanopore/timin_uracil/oligos/timin20250417/20250417_1447_MC-114328_AXB238_56275db9/fastq_pass\"\n",
    "OUT_DIR=\"/v/projects/nanopore/balazs/data/new_dataset/thymine_250417/bowtie2/alignments\"\n",
    "\n",
    "mkdir -p \"$OUT_DIR\"\n",
    "mkdir -p \"$OUT_DIR/ref_idx\"\n",
    "bowtie2-build \"$REF\" \"$OUT_DIR/ref_idx/reference_index\"\n",
    "\n",
    "for READ_FILE in \"$READS_DIR\"/*.fastq.gz; do\n",
    "    BASENAME=$(basename \"$READ_FILE\" .fastq.gz)\n",
    "    bowtie2 -x \"$OUT_DIR/ref_idx/reference_index\" -U \"$READ_FILE\" -S \"$OUT_DIR/${BASENAME}.sam\" \\\n",
    "      --very-sensitive-local \\\n",
    "      -p 8\n",
    "done\n",
    "```"
   ]
  },
  {
   "cell_type": "markdown",
   "id": "7b65d0ec-17d3-40a3-8173-9a08e7b95ac3",
   "metadata": {},
   "source": [
    "## Dorado basecall"
   ]
  },
  {
   "cell_type": "markdown",
   "id": "c6cd2671-df20-4d37-8ab4-8469291a3862",
   "metadata": {},
   "source": [
    "- alignment for no amplicons\n",
    "```python\n",
    "%%bash\n",
    "REF=\"references/reference_oligos.fasta\" \n",
    "READS_DIR=\"/v/volumes/nanopore/timin_uracil/oligos/timin20250417/basecall/20250430/fastq\"\n",
    "OUT_DIR=\"/v/projects/nanopore/balazs/data/new_dataset/thymine_250417/bowtie2/dorado_alignments\"\n",
    "\n",
    "mkdir -p \"$OUT_DIR\"\n",
    "mkdir -p \"$OUT_DIR/ref_idx\"\n",
    "bowtie2-build \"$REF\" \"$OUT_DIR/ref_idx/reference_index\"\n",
    "\n",
    "for READ_FILE in \"$READS_DIR\"/*.fastq; do\n",
    "    BASENAME=$(basename \"$READ_FILE\" .fastq)\n",
    "    bowtie2 -x \"$OUT_DIR/ref_idx/reference_index\" -U \"$READ_FILE\" -S \"$OUT_DIR/${BASENAME}.sam\" \\\n",
    "      --very-sensitive-local \\\n",
    "      -p 8\n",
    "done\n",
    "```\n",
    "- Result\n",
    "```bash\n",
    "Unable to read file magic number\n",
    "0 reads\n",
    "0.00% overall alignment rate\n",
    "69321 reads; of these:\n",
    "  69321 (100.00%) were unpaired; of these:\n",
    "    24616 (35.51%) aligned 0 times\n",
    "    42875 (61.85%) aligned exactly 1 time\n",
    "    1830 (2.64%) aligned >1 times\n",
    "64.49% overall alignment rate\n",
    "1365961 reads; of these:\n",
    "  1365961 (100.00%) were unpaired; of these:\n",
    "    489905 (35.87%) aligned 0 times\n",
    "    841237 (61.59%) aligned exactly 1 time\n",
    "    34819 (2.55%) aligned >1 times\n",
    "64.13% overall alignment rate\n",
    "Error: Read fbc00cfc-dd14-4a3c-8bf7-9fa5b1176292\tqs:f:7.96798\tst:Z:2025-04-17T13:02:32.655+00:00\tRG:Z:56275db9-fe1b-45d0-8b5b-b72c83e7c85d_dna_r10.4.1_e8.2_400bps_hac@v5.0.0\tDS:Z:gpu:Tesla V100-PCIE-16GB has more read characters than quality values.\n",
    "terminate called after throwing an instance of 'int'\n",
    "Aborted (core dumped)\n",
    "(ERR): bowtie2-align exited with value 134\n",
    "1365961 reads; of these:\n",
    "  1365961 (100.00%) were unpaired; of these:\n",
    "    489905 (35.87%) aligned 0 times\n",
    "    841237 (61.59%) aligned exactly 1 time\n",
    "    34819 (2.55%) aligned >1 times\n",
    "64.13% overall alignment rate\n",
    "```"
   ]
  },
  {
   "cell_type": "markdown",
   "id": "1d8a749a-12c8-4c8c-a648-37f5a5509475",
   "metadata": {},
   "source": [
    "- alignment for short amplicons \n",
    "```python\n",
    "%%bash\n",
    "REF=\"references/reference_short_oligos.fasta\" \n",
    "READS_DIR=\"/v/volumes/nanopore/timin_uracil/oligos/timin20250417/basecall/20250430/fastq\"\n",
    "OUT_DIR=\"/v/projects/nanopore/balazs/data/new_dataset/thymine_250417/bowtie2/dorado_alignments_short\"\n",
    "\n",
    "mkdir -p \"$OUT_DIR\"\n",
    "mkdir -p \"$OUT_DIR/ref_idx\"\n",
    "bowtie2-build \"$REF\" \"$OUT_DIR/ref_idx/reference_index\"\n",
    "\n",
    "for READ_FILE in \"$READS_DIR\"/*.fastq; do\n",
    "    BASENAME=$(basename \"$READ_FILE\" .fastq)\n",
    "    bowtie2 -x \"$OUT_DIR/ref_idx/reference_index\" -U \"$READ_FILE\" -S \"$OUT_DIR/${BASENAME}.sam\" \\\n",
    "      --very-sensitive-local \\\n",
    "      -p 8\n",
    "done\n",
    "```\n",
    "```bash\n",
    "69321 reads; of these:\n",
    "  69321 (100.00%) were unpaired; of these:\n",
    "    15910 (22.95%) aligned 0 times\n",
    "    51415 (74.17%) aligned exactly 1 time\n",
    "    1996 (2.88%) aligned >1 times\n",
    "77.05% overall alignment rate\n",
    "Error: Read fbc00cfc-dd14-4a3c-8bf7-9fa5b1176292\tqs:f:7.96798\tst:Z:2025-04-17T13:02:32.655+00:00\tRG:Z:56275db9-fe1b-45d0-8b5b-b72c83e7c85d_dna_r10.4.1_e8.2_400bps_hac@v5.0.0\tDS:Z:gpu:Tesla V100-PCIE-16GB has more read characters than quality values.\n",
    "terminate called after throwing an instance of 'int'\n",
    "Aborted (core dumped)\n",
    "(ERR): bowtie2-align exited with value 134\n",
    "1365961 reads; of these:\n",
    "  1365961 (100.00%) were unpaired; of these:\n",
    "    313456 (22.95%) aligned 0 times\n",
    "    1014580 (74.28%) aligned exactly 1 time\n",
    "    37925 (2.78%) aligned >1 times\n",
    "77.05% overall alignment rate\n",
    "1365961 reads; of these:\n",
    "  1365961 (100.00%) were unpaired; of these:\n",
    "    313456 (22.95%) aligned 0 times\n",
    "    1014580 (74.28%) aligned exactly 1 time\n",
    "    37925 (2.78%) aligned >1 times\n",
    "77.05% overall alignment rate\n",
    "Error: Read fbc00cfc-dd14-4a3c-8bf7-9fa5b1176292\tqs:f:7.96798\tst:Z:2025-04-17T13:02:32.655+00:00\tRG:Z:56275db9-fe1b-45d0-8b5b-b72c83e7c85d_dna_r10.4.1_e8.2_400bps_hac@v5.0.0\tDS:Z:gpu:Tesla V100-PCIE-16GB has more read characters than quality values.\n",
    "terminate called after throwing an instance of 'int'\n",
    "Aborted (core dumped)\n",
    "(ERR): bowtie2-align exited with value 134\n",
    "```\n"
   ]
  },
  {
   "cell_type": "markdown",
   "id": "0db2a304-9ef7-44ba-a7de-c2ae96bd1c0a",
   "metadata": {},
   "source": [
    "- alignment for long amplicons \n",
    "```python\n",
    "%%bash\n",
    "REF=\"references/reference_left_ampl_and_oligo.fasta\" \n",
    "READS_DIR=\"/v/volumes/nanopore/timin_uracil/oligos/timin20250417/basecall/20250430/fastq\"\n",
    "OUT_DIR=\"/v/projects/nanopore/balazs/data/new_dataset/thymine_250417/bowtie2/dorado_alignments_long\"\n",
    "\n",
    "mkdir -p \"$OUT_DIR\"\n",
    "mkdir -p \"$OUT_DIR/ref_idx\"\n",
    "bowtie2-build \"$REF\" \"$OUT_DIR/ref_idx/reference_index\"\n",
    "\n",
    "for READ_FILE in \"$READS_DIR\"/*.fastq; do\n",
    "    BASENAME=$(basename \"$READ_FILE\" .fastq)\n",
    "    bowtie2 -x \"$OUT_DIR/ref_idx/reference_index\" -U \"$READ_FILE\" -S \"$OUT_DIR/${BASENAME}.sam\" \\\n",
    "      --very-sensitive-local \\\n",
    "      -p 8\n",
    "done\n",
    "```"
   ]
  },
  {
   "cell_type": "markdown",
   "id": "018d0b8a-f40e-433c-a325-9a92123d6337",
   "metadata": {},
   "source": [
    "Dorado - `promoter` + `oligo`"
   ]
  },
  {
   "cell_type": "markdown",
   "id": "3c98d168-9cda-46cd-915f-2842c7d78a14",
   "metadata": {},
   "source": [
    "```python\n",
    "%%bash\n",
    "REF=\"references/reference_left_amplicons.fasta\" \n",
    "READS_DIR=\"/v/volumes/nanopore/timin_uracil/oligos/timin20250417/basecall/20250430/fastq\"\n",
    "OUT_DIR=\"/v/projects/nanopore/balazs/data/new_dataset/thymine_250417/bowtie2/dorado_alignments_left_amplicons\"\n",
    "\n",
    "mkdir -p \"$OUT_DIR\"\n",
    "mkdir -p \"$OUT_DIR/ref_idx\"\n",
    "bowtie2-build \"$REF\" \"$OUT_DIR/ref_idx/reference_index\"\n",
    "\n",
    "for READ_FILE in \"$READS_DIR\"/*.fastq; do\n",
    "    BASENAME=$(basename \"$READ_FILE\" .fastq)\n",
    "    bowtie2 -x \"$OUT_DIR/ref_idx/reference_index\" -U \"$READ_FILE\" -S \"$OUT_DIR/${BASENAME}.sam\" \\\n",
    "      --very-sensitive-local \\\n",
    "      -p 8\n",
    "done\n",
    "```\n",
    "\n",
    "```bash\n",
    "69321 reads; of these:\n",
    "  69321 (100.00%) were unpaired; of these:\n",
    "    27164 (39.19%) aligned 0 times\n",
    "    41580 (59.98%) aligned exactly 1 time\n",
    "    577 (0.83%) aligned >1 times\n",
    "60.81% overall alignment rate\n",
    "\n",
    "1365961 reads; of these:\n",
    "  1365961 (100.00%) were unpaired; of these:\n",
    "    469951 (34.40%) aligned 0 times\n",
    "    883811 (64.70%) aligned exactly 1 time\n",
    "    12199 (0.89%) aligned >1 times\n",
    "65.60% overall alignment rate\n",
    "\n",
    "Error: Read fbc00cfc-dd14-4a3c-8bf7-9fa5b1176292\tqs:f:7.96798\tst:Z:2025-04-17T13:02:32.655+00:00\tRG:Z:56275db9-fe1b-45d0-8b5b-b72c83e7c85d_dna_r10.4.1_e8.2_400bps_hac@v5.0.0\tDS:Z:gpu:Tesla V100-PCIE-16GB has more read characters than quality values.\n",
    "terminate called after throwing an instance of 'int'\n",
    "Aborted (core dumped)\n",
    "(ERR): bowtie2-align exited with value 134\n",
    "\n",
    "1365961 reads; of these:\n",
    "  1365961 (100.00%) were unpaired; of these:\n",
    "    469951 (34.40%) aligned 0 times\n",
    "    883811 (64.70%) aligned exactly 1 time\n",
    "    12199 (0.89%) aligned >1 times\n",
    "65.60% overall alignment rate\n",
    "\n",
    "Error: ...\n",
    "```"
   ]
  },
  {
   "cell_type": "markdown",
   "id": "d85ac1b4-a9b7-42f5-90e0-26f215f6fc46",
   "metadata": {},
   "source": [
    "---\n",
    "# Exlopre aligned files\n"
   ]
  },
  {
   "cell_type": "code",
   "execution_count": 1,
   "id": "7e94d8fe-be61-4349-a80e-990927f453b5",
   "metadata": {},
   "outputs": [
    {
     "name": "stdout",
     "output_type": "stream",
     "text": [
      "--- Warning! This version of speedup.py can cause errors. ---\n"
     ]
    }
   ],
   "source": [
    "from utils import *\n",
    "from speedup import *\n",
    "from generate_kmer import *\n",
    "max_num_of_files = None\n",
    "\n",
    "def check_sam_data(sam_data):\n",
    "    result = np.array([\n",
    "        [read['contig_name'], read['map_quality']] for read in sam_data if read['contig_name']!='*'\n",
    "    ])\n",
    "    plt.figure(figsize=(6,4))\n",
    "    plt.hist(result[:,0], bins=499, label=f'{len(np.unique(result[:,0]))}/500 reads')\n",
    "    #plt.title('PCR dataset')\n",
    "    plt.xlabel('Sequence number')\n",
    "    plt.ylabel('Count')\n",
    "    plt.legend(loc='center right')\n",
    "    plt.show()\n",
    "    x=np.histogram(result[:,0], bins=499)\n",
    "    print(f\"highest peak at position={int(x[1][np.argmax(x[0])])}\")\n",
    "    \n",
    "    plt.figure(figsize=(6,4))\n",
    "    plt.hist(result[:,1], bins=max(result[:,1])-min(result[:,1]))\n",
    "    #plt.title('dataset')\n",
    "    plt.xlabel('MapQuality')\n",
    "    plt.ylabel('Count')\n",
    "    plt.yscale('log')\n",
    "    plt.show()"
   ]
  },
  {
   "cell_type": "markdown",
   "id": "ca4a6718-b88d-47b8-a2f2-066690d3904b",
   "metadata": {},
   "source": [
    "## Dorado basecall"
   ]
  },
  {
   "cell_type": "code",
   "execution_count": null,
   "id": "7ab24c58-65bb-489a-8d82-8fd0ed705039",
   "metadata": {},
   "outputs": [],
   "source": []
  },
  {
   "cell_type": "markdown",
   "id": "92de769e-f844-4165-a4ae-e07d60cc4299",
   "metadata": {},
   "source": [
    "### Unmapped sequences:"
   ]
  },
  {
   "cell_type": "code",
   "execution_count": 2,
   "id": "5a543310-b3d7-4406-a6b4-7a951f202dbf",
   "metadata": {},
   "outputs": [
    {
     "name": "stderr",
     "output_type": "stream",
     "text": [
      "Loading files: 100%|██████████| 5/5 [01:28<00:00, 17.60s/file]"
     ]
    },
    {
     "name": "stdout",
     "output_type": "stream",
     "text": [
      "Number of reads stored: 1063079\n",
      "Number of reads dropped: 1963221\n"
     ]
    },
    {
     "name": "stderr",
     "output_type": "stream",
     "text": [
      "\n"
     ]
    }
   ],
   "source": [
    "dorado_alignments_path = \"/v/projects/nanopore/balazs/data/new_dataset/thymine_250417/bowtie2/dorado_alignments/*.sam\"\n",
    "dorado_alignments_files = sorted(glob(dorado_alignments_path))\n",
    "\n",
    "dorado_sam_data = read_sam(dorado_alignments_files,\n",
    "                           verbose=True,\n",
    "                           has_movetable=False,\n",
    "                           min_length=100,\n",
    "                           max_length=1000,\n",
    "                           #max_deletion=50,\n",
    "                           #max_insertion=50,\n",
    "                           #max_indel_frequency=0.4,\n",
    "                           possible_sam_flags={4}, ## possible in the dataset: [0,4,16]\n",
    "                          )"
   ]
  },
  {
   "cell_type": "code",
   "execution_count": 3,
   "id": "dc8699e6-13cd-4031-9815-6fd391600e00",
   "metadata": {},
   "outputs": [],
   "source": [
    "unmapped_sequences_bytes = get_feature_from_sam_data(dorado_sam_data, 'sequence')"
   ]
  },
  {
   "cell_type": "code",
   "execution_count": null,
   "id": "4d8bfaf8-8889-4d8f-b6c4-1992adc32560",
   "metadata": {},
   "outputs": [],
   "source": []
  },
  {
   "cell_type": "code",
   "execution_count": 4,
   "id": "a3848324-f40b-4dec-b3b0-1e370a100023",
   "metadata": {},
   "outputs": [
    {
     "name": "stderr",
     "output_type": "stream",
     "text": [
      "Processing: 100%|██████████| 1063079/1063079 [03:07<00:00, 5667.18it/s]\n"
     ]
    }
   ],
   "source": [
    "seq_lengths=[]\n",
    "unmapped_sequences = []\n",
    "for seq in tqdm(unmapped_sequences_bytes, total=len(unmapped_sequences_bytes), desc='Processing'):\n",
    "    seq_lengths.append(len(seq))\n",
    "    #unmapped_sequences.append(combine_strings(seq.astype(str)))\n",
    "seq_lengths = np.array(seq_lengths)\n",
    "unmapped_sequences = np.array(unmapped_sequences, dtype=object)"
   ]
  },
  {
   "cell_type": "code",
   "execution_count": 5,
   "id": "d84a40b4-edcf-40fc-8ab8-c90fb1af4717",
   "metadata": {},
   "outputs": [
    {
     "data": {
      "text/plain": [
       "(1019680,)"
      ]
     },
     "execution_count": 5,
     "metadata": {},
     "output_type": "execute_result"
    }
   ],
   "source": [
    "normal_long_sequences_idx = (seq_lengths>=200) & (seq_lengths<=800)\n",
    "\n",
    "seq_lengths[normal_long_sequences_idx].shape"
   ]
  },
  {
   "cell_type": "code",
   "execution_count": 10,
   "id": "5186906b-37b6-42b7-8602-f79b64b4922c",
   "metadata": {},
   "outputs": [
    {
     "data": {
      "image/png": "[encoded data removed]",
      "text/plain": [
       "<Figure size 900x450 with 1 Axes>"
      ]
     },
     "metadata": {},
     "output_type": "display_data"
    }
   ],
   "source": [
    "plt.figure(figsize=(9, 4.5))\n",
    "plt.hist(seq_lengths, bins=900, color='b')\n",
    "plt.title('Sequence length - unmapped sequences', fontsize=FS+3)\n",
    "plt.xlabel('number of bases in a sequence', fontsize=FS)\n",
    "plt.ylabel('frequency', fontsize=FS)\n",
    "plt.xlim(100, 1000)\n",
    "plt.grid()\n",
    "plt.savefig('figures/unmapped_seq_lengths.pdf')\n",
    "plt.show()"
   ]
  },
  {
   "cell_type": "code",
   "execution_count": null,
   "id": "da01f7f6-3663-4d40-bb51-94b2fc3a726f",
   "metadata": {},
   "outputs": [],
   "source": [
    "normal_long_sequences_idx = (seq_lengths>=490) & (seq_lengths<=600)\n",
    "\n",
    "peak_unmapped_sequences = unmapped_sequences[normal_long_sequences_idx]"
   ]
  },
  {
   "cell_type": "code",
   "execution_count": null,
   "id": "0b41f110-1e5b-49c7-a956-4493d7a1a498",
   "metadata": {},
   "outputs": [],
   "source": [
    "get_feature_from_sam_data()"
   ]
  },
  {
   "cell_type": "code",
   "execution_count": null,
   "id": "29394103-7387-4bfc-a74d-bb585c6cc8a9",
   "metadata": {},
   "outputs": [],
   "source": [
    "heptamers = generate_k_mer_list('ACTG', k_mer=7)"
   ]
  },
  {
   "cell_type": "code",
   "execution_count": null,
   "id": "0ad0eeec-c1fa-4651-b0c9-e34e03504537",
   "metadata": {},
   "outputs": [],
   "source": [
    "len(peak_unmapped_sequences)"
   ]
  },
  {
   "cell_type": "markdown",
   "id": "1f42a49f-e233-40ae-a41f-457d33b2d807",
   "metadata": {},
   "source": [
    "---\n",
    "## Fast basecall"
   ]
  },
  {
   "cell_type": "code",
   "execution_count": null,
   "id": "cd557890-a6b0-4e75-b04f-3c649aaf5b1a",
   "metadata": {},
   "outputs": [],
   "source": []
  }
 ],
 "metadata": {
  "kernelspec": {
   "display_name": "Python [conda env:base] *",
   "language": "python",
   "name": "conda-base-py"
  },
  "language_info": {
   "codemirror_mode": {
    "name": "ipython",
    "version": 3
   },
   "file_extension": ".py",
   "mimetype": "text/x-python",
   "name": "python",
   "nbconvert_exporter": "python",
   "pygments_lexer": "ipython3",
   "version": "3.12.2"
  }
 },
 "nbformat": 4,
 "nbformat_minor": 5
}
