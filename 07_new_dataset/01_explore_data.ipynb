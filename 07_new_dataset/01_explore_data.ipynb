{
 "cells": [
  {
   "cell_type": "markdown",
   "id": "37f73c6a-d7ad-4739-9182-3219b6ee7ead",
   "metadata": {},
   "source": [
    "### Email:\n",
    "\n",
    "Az volna az elso kerdes, hogy a jelenlegi adatokbol hogy latjuk vissza az 500 altalunk tervezett oligot, vagyis milyen azok reprezentacioja.\n",
    "\n",
    "Technikailag ket dolgot csinaltunk, ezert van egy rovidebb es egy hosszabb amplikon. A rovidebb, közvetlenül a hatarszekvenciakkal kezdodik es vegzodik.\n",
    "\n",
    "- oV869_P7NP_fw TCTTGTGGAAAGGACGAAACACCG\n",
    "- oV870_P7NP_rev GTTTAAGAGCTATGCTGGAAACAG\n",
    "\n",
    "A hosszabbnak ezek kb pont a kozepen vannak. Nagyjából fele-fele aranyban kevertuk ossze a ket PCR termeket, a kerdes az volna, hogy melyik hasznalhatobb minoseg es reprezentacio szempontjából, azzal mennénk majd tovabb."
   ]
  },
  {
   "cell_type": "code",
   "execution_count": 1,
   "id": "0eaa8c61-8123-43b6-9334-0ba5ad39eb56",
   "metadata": {},
   "outputs": [
    {
     "name": "stdout",
     "output_type": "stream",
     "text": [
      "--- Warning! This version of speedup.py can cause errors. ---\n"
     ]
    }
   ],
   "source": [
    "#imports\n",
    "from utils import *\n",
    "from speedup import *\n",
    "\n",
    "import pod5"
   ]
  },
  {
   "cell_type": "code",
   "execution_count": null,
   "id": "af6160b3-7c5e-4c27-8226-e2030138293d",
   "metadata": {},
   "outputs": [],
   "source": [
    "thymine_path = \"/v/volumes/nanopore/timin_uracil/oligos/timin20250417/20250417_1447_MC-114328_AXB238_56275db9/\""
   ]
  },
  {
   "cell_type": "markdown",
   "id": "8380028e-02ad-4d35-a6d9-7de2f135776f",
   "metadata": {},
   "source": [
    "---\n",
    "# Pod5 dataset"
   ]
  },
  {
   "cell_type": "code",
   "execution_count": null,
   "id": "e921a215-61ff-4846-9439-b78fa5c1252e",
   "metadata": {},
   "outputs": [],
   "source": [
    "thymine_pod5_path  = thymine_path + \"pod5/\"\n",
    "thymine_pod5_files = glob(thymine_pod5_path+\"*\")"
   ]
  },
  {
   "cell_type": "code",
   "execution_count": null,
   "id": "fb4cf4e9-f19b-491b-a543-624549284f66",
   "metadata": {},
   "outputs": [],
   "source": [
    "len(thymine_pod5_files)"
   ]
  },
  {
   "cell_type": "code",
   "execution_count": null,
   "id": "4bb93237-ff33-4e15-b5bd-a16062e45c8c",
   "metadata": {},
   "outputs": [],
   "source": [
    "c = 0\n",
    "for file in thymine_pod5_files:\n",
    "    with pod5.Reader(file) as reader:\n",
    "        for read in reader.reads():\n",
    "            c+=1"
   ]
  },
  {
   "cell_type": "code",
   "execution_count": null,
   "id": "33543202-7141-4b28-8ec3-92a5cdee754b",
   "metadata": {},
   "outputs": [],
   "source": [
    "c"
   ]
  },
  {
   "cell_type": "markdown",
   "id": "9d6e81ba-0955-447e-b1b7-e4fb0e0687ae",
   "metadata": {},
   "source": [
    "---\n",
    "# Fastq dataset"
   ]
  },
  {
   "cell_type": "code",
   "execution_count": null,
   "id": "153060f0-8ecb-4ef3-bc56-9c443531c035",
   "metadata": {},
   "outputs": [],
   "source": [
    "thymine_fastq_path = thymine_path + \"fastq_pass/\"\n",
    "thymine_fastq_files = glob(thymine_fastq_path+\"*\")"
   ]
  },
  {
   "cell_type": "code",
   "execution_count": null,
   "id": "2c5c1705-73ce-44f2-8e9a-8b5e619058cb",
   "metadata": {},
   "outputs": [],
   "source": [
    "def read_fastq_gz(filepath):\n",
    "    import gzip\n",
    "    with gzip.open(filepath, 'rt') as f:  \n",
    "        while True:\n",
    "            header = f.readline().strip()\n",
    "            if not header:\n",
    "                break\n",
    "            sequence = f.readline().strip()\n",
    "            plus = f.readline().strip()\n",
    "            quality = f.readline().strip()\n",
    "            yield header, sequence, plus, quality\n",
    "\n",
    "read_ids = []\n",
    "fastq_sequences = []\n",
    "len_sequences = []\n",
    "max_idx=234 ##len(thymine_fastq_files) #== 234\n",
    "iter_idx = 0\n",
    "for file in tqdm(thymine_fastq_files[:max_idx], total=len(thymine_fastq_files[:max_idx]), desc=\"Loading data\"):\n",
    "    for header, sequence, plus, quality in read_fastq_gz(file):\n",
    "        read_ids.append(header.split(' ')[0][1:])\n",
    "        fastq_sequences.append(sequence)\n",
    "        len_sequences.append(len(sequence))"
   ]
  },
  {
   "cell_type": "code",
   "execution_count": null,
   "id": "2464c710-5e9e-4677-9b60-39e914b672fc",
   "metadata": {},
   "outputs": [],
   "source": [
    "len_sequences_arr =  np.array(len_sequences)\n",
    "len_sequences_arr = len_sequences_arr[(len_sequences_arr>=100) & (len_sequences_arr<=1000)]"
   ]
  },
  {
   "cell_type": "code",
   "execution_count": null,
   "id": "4e3cd56b-c47a-4acf-9422-ff31706dc3cb",
   "metadata": {},
   "outputs": [],
   "source": [
    "plt.figure(figsize=(9, 4.5))\n",
    "plt.hist(len_sequences_arr, bins=900, color='b')\n",
    "plt.title('Sequence lenght based on fastq files', fontsize=FS+3)\n",
    "plt.xlabel('number of bases in a sequence', fontsize=FS)\n",
    "plt.ylabel('frequency', fontsize=FS)\n",
    "plt.xlim(100, 1000)\n",
    "plt.grid()\n",
    "plt.savefig('figures/seq_lengths.pdf')\n",
    "plt.show()"
   ]
  },
  {
   "cell_type": "code",
   "execution_count": null,
   "id": "fc51e568-f225-4fda-8f02-6b1229efdf32",
   "metadata": {},
   "outputs": [],
   "source": [
    "len(fastq_sequences)"
   ]
  },
  {
   "cell_type": "markdown",
   "id": "ca09765b-1b7d-4911-9ece-8202eab42c8d",
   "metadata": {},
   "source": [
    "---\n",
    "# Dorado basecall -  mapped vs unmapped lengths"
   ]
  },
  {
   "cell_type": "markdown",
   "id": "bcd090b6-1833-4192-8ece-d820bfdcac60",
   "metadata": {},
   "source": [
    "```python\n",
    "%%bash\n",
    "minimap2=\"/v/scratch/tools/minimap2/minimap2\"\n",
    "\n",
    "REF=\"references/reference_oligos.fasta\" \n",
    "READS_DIR=\"/v/volumes/nanopore/timin_uracil/oligos/timin20250417/basecall/20250507/bam_to_fastq\"\n",
    "OUT_DIR=\"/v/projects/nanopore/balazs/data/new_dataset/thymine_250417/minimap2/dorado_alignments\"\n",
    "\n",
    "mkdir -p \"$OUT_DIR\"\n",
    "\n",
    "for READ_FILE in \"$READS_DIR\"/*.fastq; do\n",
    "    BASENAME=$(basename \"$READ_FILE\" .fastq)\n",
    "    $minimap2 -x sr -a \"$REF\" \"$READ_FILE\" > \"$OUT_DIR/${BASENAME}.sam\"\n",
    "done\n",
    "```"
   ]
  },
  {
   "cell_type": "code",
   "execution_count": 2,
   "id": "3af21a89-a088-450a-881b-b7741463a92b",
   "metadata": {},
   "outputs": [],
   "source": [
    "dorado_alignments_file = \"/v/projects/nanopore/balazs/data/new_dataset/thymine_250417/\"+\\\n",
    "                         \"minimap2/dorado_alignments/calls_2025-05-08_T08-20-58.sam\""
   ]
  },
  {
   "cell_type": "code",
   "execution_count": 8,
   "id": "15fab0a9-2e17-4496-b3c1-aac28bd0a68a",
   "metadata": {},
   "outputs": [
    {
     "name": "stderr",
     "output_type": "stream",
     "text": [
      "Loading files: 100%|██████████| 1/1 [00:56<00:00, 56.65s/file]"
     ]
    },
    {
     "name": "stdout",
     "output_type": "stream",
     "text": [
      "Number of reads stored: 854223\n",
      "Number of reads dropped: 546801\n"
     ]
    },
    {
     "name": "stderr",
     "output_type": "stream",
     "text": [
      "\n"
     ]
    }
   ],
   "source": [
    "sam_data_mapped = read_sam(dorado_alignments_file,\n",
    "                           min_length=100,\n",
    "                           max_length=1000,\n",
    "                           verbose=True,\n",
    "                           has_movetable=False,\n",
    "                           possible_sam_flags={0,16}\n",
    "                           )\n",
    "len_seq_mapped = get_feature_from_sam_data(sam_data_mapped, 'len_sequence')\n"
   ]
  },
  {
   "cell_type": "code",
   "execution_count": 12,
   "id": "2c0dcb49-9e35-4eaf-88ab-7240dd528d49",
   "metadata": {},
   "outputs": [
    {
     "name": "stderr",
     "output_type": "stream",
     "text": [
      "Loading files: 100%|██████████| 1/1 [00:39<00:00, 39.30s/file]"
     ]
    },
    {
     "name": "stdout",
     "output_type": "stream",
     "text": [
      "Number of reads stored: 494396\n",
      "Number of reads dropped: 906628\n"
     ]
    },
    {
     "name": "stderr",
     "output_type": "stream",
     "text": [
      "\n"
     ]
    }
   ],
   "source": [
    "sam_data_unmapped = read_sam(dorado_alignments_file,\n",
    "                             min_length=100,\n",
    "                             max_length=1000,\n",
    "                             verbose=True,\n",
    "                             has_movetable=False,\n",
    "                             possible_sam_flags={4}\n",
    "                             )\n",
    "len_seq_unmapped = get_feature_from_sam_data(sam_data_unmapped, 'len_sequence')"
   ]
  },
  {
   "cell_type": "code",
   "execution_count": 21,
   "id": "6b1c00da-7618-4cbb-a16d-30155360502d",
   "metadata": {},
   "outputs": [
    {
     "data": {
      "image/png": "[encoded data removed]",
      "text/plain": [
       "<Figure size 900x450 with 1 Axes>"
      ]
     },
     "metadata": {},
     "output_type": "display_data"
    }
   ],
   "source": [
    "plt.figure(figsize=(9, 4.5))\n",
    "plt.hist(len_seq_mapped, bins=900, color='b', label='mapped sequences', alpha=0.8)\n",
    "plt.hist(len_seq_unmapped, bins=900, color='orange', label='unmapped sequences', alpha=0.8)\n",
    "plt.title('Distribution of Sequence Lengths', fontsize=FS+3)\n",
    "plt.xlabel('number of bases in a sequence', fontsize=FS)\n",
    "plt.ylabel('frequency', fontsize=FS)\n",
    "plt.xlim(100, 1000)\n",
    "plt.grid()\n",
    "plt.legend()\n",
    "plt.savefig('figures/seq_lengths.pdf')\n",
    "plt.show()"
   ]
  }
 ],
 "metadata": {
  "kernelspec": {
   "display_name": "Python [conda env:base] *",
   "language": "python",
   "name": "conda-base-py"
  },
  "language_info": {
   "codemirror_mode": {
    "name": "ipython",
    "version": 3
   },
   "file_extension": ".py",
   "mimetype": "text/x-python",
   "name": "python",
   "nbconvert_exporter": "python",
   "pygments_lexer": "ipython3",
   "version": "3.12.2"
  }
 },
 "nbformat": 4,
 "nbformat_minor": 5
}
