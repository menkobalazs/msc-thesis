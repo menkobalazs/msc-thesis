{
 "cells": [
  {
   "cell_type": "markdown",
   "metadata": {},
   "source": [
    "# ChatGPT o1 code "
   ]
  },
  {
   "cell_type": "code",
   "execution_count": 1,
   "metadata": {},
   "outputs": [],
   "source": [
    "import itertools\n",
    "import random\n",
    "random.seed(137) # random seed for reproduction\n",
    "\n",
    "import numpy as np\n",
    "import matplotlib.pyplot as plt\n",
    "\n",
    "from functions import *"
   ]
  },
  {
   "cell_type": "code",
   "execution_count": 2,
   "metadata": {},
   "outputs": [],
   "source": [
    "def calculate_gc_content(sequence):\n",
    "    if type(sequence) == str:\n",
    "        gc_count = sequence.count('G') + sequence.count('C')\n",
    "        return (gc_count / len(sequence)) * 100  # GC percentage\n",
    "    else:\n",
    "        gc_content = []\n",
    "        for seq in sequence:\n",
    "            gc_content.append( (seq.count('G') + seq.count('C'))/len(seq) )\n",
    "        return gc_content\n",
    "        \n",
    "\n",
    "def run_gpt_code(kmer, num_segments):\n",
    "    # Step 1: Generate all possible 6-mer DNA sequences\n",
    "    \n",
    "    if type(kmer) == int:\n",
    "        nucleotides = ['A', 'C', 'G', 'T']\n",
    "        all_kmers = [''.join(p) for p in itertools.product(nucleotides, repeat=kmer)]\n",
    "    elif type(kmer) == list:\n",
    "        all_kmers = kmer\n",
    "    else:\n",
    "        assert False, \"kmer must be either an int or a list\"\n",
    "\n",
    "    # Step 2: Calculate GC content for each 6-mer and bin them by GC count\n",
    "    gc_bins = {i: [] for i in range(8)}  # GC content can range from 0 to 6\n",
    "    for seq in all_kmers:\n",
    "        gc_count = seq.count('G') + seq.count('C')\n",
    "        gc_bins[gc_count].append(seq)\n",
    "\n",
    "    # Shuffle sequences in each GC bin to randomize their order\n",
    "    for gc_content in gc_bins:\n",
    "        random.shuffle(gc_bins[gc_content])\n",
    "\n",
    "    # Step 3: Initialize segment capacities\n",
    "    total_sequences = len(all_kmers)\n",
    "    #num_segments = 478  # 102 segments of size 40, 1 segment of size 16 (adjusted later)\n",
    "    base_capacity = total_sequences // num_segments  # Base number of sequences per segment\n",
    "    extra_sequences = total_sequences % num_segments  # Sequences remaining after base distribution\n",
    "\n",
    "    segment_capacities = [base_capacity] * num_segments\n",
    "    for i in range(extra_sequences):\n",
    "        segment_capacities[i] += 1  # Distribute extra sequences among the first segments\n",
    "\n",
    "    # Adjust last segment to reach 240nt by adding padding sequences if necessary\n",
    "    max_segment_size = 40  # Maximum number of 6-mers per segment to reach 240nt\n",
    "    for i in range(len(segment_capacities)):\n",
    "        if segment_capacities[i] < max_segment_size:\n",
    "            segment_capacities[i] = max_segment_size  # Pad with random sequences later\n",
    "\n",
    "    # Step 4: Initialize segments\n",
    "    segments = [{'sequences': [], 'current_size': 0, 'capacity': cap} for cap in segment_capacities]\n",
    "\n",
    "    # Step 5: Distribute sequences from GC bins into segments\n",
    "    segment_index = 0\n",
    "    for gc_content in range(7):\n",
    "        bin_sequences = gc_bins[gc_content]\n",
    "        for seq in bin_sequences:\n",
    "            # Find the next segment that has capacity\n",
    "            while segments[segment_index % num_segments]['current_size'] >= segments[segment_index % num_segments]['capacity']:\n",
    "                segment_index += 1\n",
    "            # Assign sequence to the segment\n",
    "            segment = segments[segment_index % num_segments]\n",
    "            segment['sequences'].append(seq)\n",
    "            segment['current_size'] += 1\n",
    "            segment_index += 1\n",
    "\n",
    "    # Step 6: Pad segments with fewer sequences to reach 240nt\n",
    "    for segment in segments:\n",
    "        while len(segment['sequences']) < max_segment_size:\n",
    "            # Add random 6-mer to pad the segment\n",
    "            random_seq = random.choice(all_kmers)\n",
    "            segment['sequences'].append(random_seq)\n",
    "            segment['current_size'] += 1\n",
    "\n",
    "    # Step 7: Concatenate sequences in each segment and calculate GC content\n",
    "        ### See the function above\n",
    "    #def calculate_gc_content(sequence):\n",
    "    #    gc_count = sequence.count('G') + sequence.count('C')\n",
    "    #    return (gc_count / len(sequence)) * 100  # GC percentage\n",
    "\n",
    "    segment_results = []\n",
    "    for idx, segment in enumerate(segments):\n",
    "        concatenated_seq = ''.join(segment['sequences'])\n",
    "        gc_content = calculate_gc_content(concatenated_seq)\n",
    "        segment_results.append({\n",
    "            'segment_index': idx + 1,\n",
    "            'sequence': concatenated_seq,\n",
    "            'gc_content': gc_content\n",
    "        })\n",
    "           \n",
    "    sequences = [item['sequence'] for item in segment_results]\n",
    "    gc_content = [item['gc_content'] for item in segment_results]\n",
    "            \n",
    "    return sequences, gc_content\n",
    "\n",
    "def plot_GC_content(gc_con, title=''):\n",
    "    plt.plot(gc_con, 'o', c='b')\n",
    "    plt.title(title, fontsize=12)\n",
    "    plt.xlabel('read id', fontsize=9)\n",
    "    plt.ylabel('GC content [%]', fontsize=9)\n",
    "    plt.show()\n",
    "    return None"
   ]
  },
  {
   "cell_type": "markdown",
   "metadata": {},
   "source": [
    "# Heptamers in 500 segment\n",
    "\n",
    "**Todo**:\n",
    "- generate a 478 read long segment\n",
    "- find the rare heptamers\n",
    "- complete it to 500 reads: take care about GC-content\n",
    "- check the frequency and GC-content\n",
    "- save segments to `.fasta` and `.xlsx`\n"
   ]
  },
  {
   "cell_type": "code",
   "execution_count": 3,
   "metadata": {},
   "outputs": [],
   "source": [
    "sequences, gc_content = run_gpt_code(7, 478)"
   ]
  },
  {
   "cell_type": "code",
   "execution_count": 4,
   "metadata": {},
   "outputs": [
    {
     "data": {
      "image/png": "[encoded data removed]",
      "text/plain": [
       "<Figure size 432x288 with 1 Axes>"
      ]
     },
     "metadata": {
      "needs_background": "light"
     },
     "output_type": "display_data"
    }
   ],
   "source": [
    "plot_GC_content(gc_content, 'GC content for 478 reads')"
   ]
  },
  {
   "cell_type": "code",
   "execution_count": 5,
   "metadata": {},
   "outputs": [],
   "source": [
    "heptamers = generate_k_mer_list('ACTG', 7)\n",
    "hexamers = generate_k_mer_list('ACTG', 6)"
   ]
  },
  {
   "cell_type": "code",
   "execution_count": 6,
   "metadata": {},
   "outputs": [
    {
     "data": {
      "text/plain": [
       "754"
      ]
     },
     "execution_count": 6,
     "metadata": {},
     "output_type": "execute_result"
    }
   ],
   "source": [
    "# In the empty reads how many hexamers can be paste?\n",
    "# (number of reads left) * (lenght of a read) / (lenght of hexamer)\n",
    "how_many_7mer_slots_left =  int((500-478) *240 / 7)\n",
    "how_many_7mer_slots_left"
   ]
  },
  {
   "cell_type": "code",
   "execution_count": 7,
   "metadata": {},
   "outputs": [],
   "source": [
    "# Get the firts `how_many_6mer_slots_left` rare hexamers.\n",
    "kmer_counts = kmers_sorted_by_frequency(sequences, heptamers)\n",
    "rare_7mers = kmer_counts[:how_many_7mer_slots_left, 0]"
   ]
  },
  {
   "cell_type": "code",
   "execution_count": 8,
   "metadata": {},
   "outputs": [],
   "source": [
    "rare_7mer_sequence, rare_7mer_gc_content =  run_gpt_code(list(rare_7mers), 500-478)"
   ]
  },
  {
   "cell_type": "code",
   "execution_count": 9,
   "metadata": {},
   "outputs": [
    {
     "data": {
      "image/png": "[encoded data removed]",
      "text/plain": [
       "<Figure size 432x288 with 1 Axes>"
      ]
     },
     "metadata": {
      "needs_background": "light"
     },
     "output_type": "display_data"
    }
   ],
   "source": [
    "plot_GC_content(rare_7mer_gc_content, 'GC content of rare reads')"
   ]
  },
  {
   "cell_type": "markdown",
   "metadata": {},
   "source": [
    "---"
   ]
  },
  {
   "cell_type": "code",
   "execution_count": 10,
   "metadata": {},
   "outputs": [],
   "source": [
    "all500_sequences = sequences + rare_7mer_sequence\n",
    "all500_gc_content = gc_content + rare_7mer_gc_content"
   ]
  },
  {
   "cell_type": "code",
   "execution_count": 11,
   "metadata": {},
   "outputs": [
    {
     "data": {
      "image/png": "[encoded data removed]",
      "text/plain": [
       "<Figure size 432x288 with 1 Axes>"
      ]
     },
     "metadata": {
      "needs_background": "light"
     },
     "output_type": "display_data"
    }
   ],
   "source": [
    "plot_GC_content(all500_gc_content, 'GC content of all 500 reads')"
   ]
  },
  {
   "cell_type": "code",
   "execution_count": 12,
   "metadata": {},
   "outputs": [
    {
     "name": "stdout",
     "output_type": "stream",
     "text": [
      "\\begin{run_chech()}\n",
      "  frequency - the number of k-mers:\n",
      "  2 - 13\n",
      "  3 - 112\n",
      "  4 - 914\n",
      "  5 - 1555\n",
      "  6 - 1972\n",
      "  7 - 2216\n",
      "  8 - 2358\n",
      "  9 - 2095\n",
      "  10 - 1689\n",
      "  11 - 1260\n",
      "  12 - 851\n",
      "  13 - 581\n",
      "  14 - 357\n",
      "  15 - 202\n",
      "  16 - 109\n",
      "  17 - 50\n",
      "  18 - 24\n",
      "  19 - 19\n",
      "  20 - 6\n",
      "  21 - 1\n",
      "\\end{run_chech()}\n"
     ]
    }
   ],
   "source": [
    "check_frequency(all500_sequences, heptamers)"
   ]
  },
  {
   "cell_type": "code",
   "execution_count": 13,
   "metadata": {},
   "outputs": [
    {
     "name": "stdout",
     "output_type": "stream",
     "text": [
      "\\begin{run_chech()}\n",
      "  frequency - the number of k-mers:\n",
      "  18 - 1\n",
      "  20 - 5\n",
      "  21 - 17\n",
      "  22 - 25\n",
      "  23 - 39\n",
      "  24 - 79\n",
      "  25 - 112\n",
      "  26 - 144\n",
      "  27 - 192\n",
      "  28 - 189\n",
      "  29 - 246\n",
      "  30 - 275\n",
      "  31 - 271\n",
      "  32 - 301\n",
      "  33 - 292\n",
      "  34 - 272\n",
      "  35 - 261\n",
      "  36 - 226\n",
      "  37 - 207\n",
      "  38 - 175\n",
      "  39 - 162\n",
      "  40 - 125\n",
      "  41 - 97\n",
      "  42 - 76\n",
      "  43 - 66\n",
      "  44 - 62\n",
      "  45 - 39\n",
      "  46 - 37\n",
      "  47 - 31\n",
      "  48 - 26\n",
      "  49 - 12\n",
      "  50 - 8\n",
      "  51 - 5\n",
      "  52 - 10\n",
      "  53 - 5\n",
      "  54 - 4\n",
      "  55 - 2\n",
      "\\end{run_chech()}\n"
     ]
    }
   ],
   "source": [
    "check_frequency(all500_sequences, hexamers)"
   ]
  },
  {
   "cell_type": "markdown",
   "metadata": {},
   "source": [
    "---\n",
    "## Add the start and end basis to reads"
   ]
  },
  {
   "cell_type": "code",
   "execution_count": 14,
   "metadata": {},
   "outputs": [],
   "source": [
    "promoter = \"TCTTGTGGAAAGGACGAAACACCG\"\n",
    "terminator = \"GTTTAAGAGCTATGCTGGAAACAG\"\n",
    "\n",
    "all500_sequences_with_limit_seq = []\n",
    "for seq in all500_sequences:\n",
    "    all500_sequences_with_limit_seq.append(promoter + seq + terminator)"
   ]
  },
  {
   "cell_type": "code",
   "execution_count": 15,
   "metadata": {},
   "outputs": [
    {
     "data": {
      "image/png": "[encoded data removed]",
      "text/plain": [
       "<Figure size 432x288 with 1 Axes>"
      ]
     },
     "metadata": {
      "needs_background": "light"
     },
     "output_type": "display_data"
    }
   ],
   "source": [
    "plot_GC_content(calculate_gc_content(all500_sequences_with_limit_seq), 'GC content of all 500 reads with limit sequences')\n"
   ]
  },
  {
   "cell_type": "markdown",
   "metadata": {},
   "source": [
    "---\n",
    "## Save data to `.fasta` and `.csv`/`.xlsx`"
   ]
  },
  {
   "cell_type": "code",
   "execution_count": 16,
   "metadata": {},
   "outputs": [],
   "source": [
    "def save_to_fasta(sequences, file_name):\n",
    "    with open(file_name, 'w') as fasta_file:\n",
    "        for i, sequence in enumerate(sequences):\n",
    "            fasta_file.write(f\">sequence_{i + 1}\\n\")\n",
    "            fasta_file.write(f\"{sequence}\\n\")\n",
    "    return None\n",
    "\n",
    "save_to_fasta(all500_sequences_with_limit_seq, 'data/sequences.txt')\n",
    "save_to_fasta(all500_sequences_with_limit_seq, 'data/sequences.fasta')"
   ]
  },
  {
   "cell_type": "code",
   "execution_count": 17,
   "metadata": {},
   "outputs": [],
   "source": [
    "def save_to_excel(sequences, file_name):\n",
    "    import pandas as pd\n",
    "    seq_ids = [f\"sequence_{i + 1}\" for i in range(len(sequences))]\n",
    "    df = pd.DataFrame({'Sequence ID': seq_ids, 'Sequence': sequences})\n",
    "    df.to_excel(file_name, index=False)\n",
    "    return None\n",
    "    \n",
    "save_to_excel(all500_sequences_with_limit_seq, 'data/sequences.xlsx')\n"
   ]
  }
 ],
 "metadata": {
  "kernelspec": {
   "display_name": "base",
   "language": "python",
   "name": "python3"
  },
  "language_info": {
   "codemirror_mode": {
    "name": "ipython",
    "version": 3
   },
   "file_extension": ".py",
   "mimetype": "text/x-python",
   "name": "python",
   "nbconvert_exporter": "python",
   "pygments_lexer": "ipython3",
   "version": "3.8.5"
  }
 },
 "nbformat": 4,
 "nbformat_minor": 4
}
