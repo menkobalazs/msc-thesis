{
 "cells": [
  {
   "cell_type": "markdown",
   "metadata": {},
   "source": [
    "# A legrövidebb lánc, mely tartalmazza az 5 bázisból álló hexa-/heptamerek mindegyikét."
   ]
  },
  {
   "cell_type": "markdown",
   "metadata": {},
   "source": [
    "Lehetséges bázisok:\n",
    "- Adenin\n",
    "- Timin\n",
    "- Citozin\n",
    "- Guanin\n",
    "- Uracil"
   ]
  },
  {
   "cell_type": "code",
   "execution_count": 1,
   "metadata": {},
   "outputs": [],
   "source": [
    "# packages\n",
    "import numpy as np\n",
    "import itertools"
   ]
  },
  {
   "cell_type": "code",
   "execution_count": 2,
   "metadata": {},
   "outputs": [],
   "source": [
    "# functions\n",
    "def combine_strings(string):\n",
    "    ''' Add strings to each other. '''\n",
    "    return ''.join(string)\n",
    "\n",
    "\n",
    "def generate_k_mer_list(possible_bases, k_mer):\n",
    "    ''' All possible repeated variations of k-mers. '''\n",
    "    itr_prod = itertools.product(possible_bases, repeat=k_mer)\n",
    "    k_mer_list = []\n",
    "    for i in range(len(possible_bases)**k_mer):\n",
    "        k_mer_list.append(combine_strings(next(itr_prod)))\n",
    "    return np.array(k_mer_list)\n",
    "\n",
    "\n",
    "def shortest_chain(k_mers): ## --> ChatGPT code, promt: given the following array; create the shortest string which contains all element of the given array\n",
    "    '''\n",
    "    With the help of ChatGPT, the shortest string that contains all possible hexamers,\n",
    "    extending it only as much as necessary so that if a given k-mer already exists in the chain, it is not added again.\n",
    "    '''\n",
    "    result = k_mers[0]\n",
    "    for i in range(1, len(k_mers)):\n",
    "        overlap = len(k_mers[i]) - 1\n",
    "        # If the k-mer already exists in the word chain, do not append it to the result.\n",
    "        if k_mers[i] not in result: # added to chatGPT code\n",
    "            while overlap >= 0: # Backtracking until the k-mer matches the end of the chain.\n",
    "                if result.endswith(k_mers[i][:overlap]):\n",
    "                    break\n",
    "                overlap -= 1\n",
    "            result += k_mers[i][overlap:]\n",
    "    return result\n",
    "\n",
    "\n",
    "def sorted_by_numbers(string, k_mers):\n",
    "    ''' The frequency of possible k-mers in a given sequence in descending order. '''\n",
    "    numbers = {}\n",
    "    for element in k_mers:\n",
    "        n = string.count(element)\n",
    "        numbers[element] = n\n",
    "    sort_numbers = np.array(sorted(numbers.items(), key=lambda x:x[1], reverse=True))\n",
    "    return sort_numbers\n",
    "\n",
    "\n",
    "def run_chech(chain, k_mers, print_count=True):\n",
    "    ''' Counting identical frequencies --> how many k-mers appear n times in a sequence. '''\n",
    "    sort_numbers = sorted_by_numbers(chain, k_mers)\n",
    "    count = []\n",
    "    for i in range(1,int(sort_numbers[0,1])+1):\n",
    "        count.append([sum(np.array(sort_numbers[:,1], dtype=int) == i), i])\n",
    "    if print_count:\n",
    "        print('\\\\begin{run_chech()}')\n",
    "        print(f'  Length of the chain: {len(chain)}')\n",
    "        print('  Frequency - number of k-mers:')\n",
    "        for i in range(len(count)):\n",
    "            print(f'  {count[i][1]} - {count[i][0]}')\n",
    "        print('\\end{run_chech()}')\n",
    "    else:\n",
    "        return count  \n",
    "    return None\n",
    "\n",
    "\n",
    "def count_bases(shortest_chain, print_count=True):\n",
    "    ''' Count and print the number of bases. '''\n",
    "    count = [] \n",
    "    bases = ['A', 'C', 'G', 'T', 'U']\n",
    "    print('\\\\begin{count_bases()}')\n",
    "    for b in bases:\n",
    "        count.append(shortest_chain.count(b))\n",
    "    if print_count:\n",
    "        for i, b in enumerate(bases):\n",
    "            print(f'  {b}: {count[i]}')\n",
    "        print('\\end{count_bases()}')\n",
    "        return None\n",
    "    print('\\end{count_bases()}')    \n",
    "    return count\n",
    "\n",
    "\n",
    "def delete_k_mers(k_mer_list, k_mers_to_del=None):\n",
    "    ''' Delete given k-mers from a generated k-mer list. '''\n",
    "    mask = np.isin(k_mer_list, k_mers_to_del, invert=True)\n",
    "    k_mers_modified = k_mer_list[mask]\n",
    "    shortest_modified_k_mer_chain = shortest_chain(k_mers_modified)\n",
    "\n",
    "    run_chech(shortest_modified_k_mer_chain, k_mers_modified)\n",
    "    print('return the k-mers whose number is greater than one:')\n",
    "    s = sorted_by_numbers(shortest_modified_k_mer_chain, k_mers_modified)\n",
    "    return s[np.array(s[:,1], dtype=int) > 1]\n"
   ]
  },
  {
   "cell_type": "code",
   "execution_count": 3,
   "metadata": {},
   "outputs": [
    {
     "data": {
      "text/plain": [
       "'AAAATATGATCUCAAAAA'"
      ]
     },
     "execution_count": 3,
     "metadata": {},
     "output_type": "execute_result"
    }
   ],
   "source": [
    "# Testing the `shortest_string` function with different concatenations\n",
    "shortest_chain(['AAAATAT', 'TAT', 'AT', 'G', 'TGA', 'ATC', 'TCU', 'UC', 'ATC', 'AAA', 'AAAAA'])"
   ]
  },
  {
   "cell_type": "markdown",
   "metadata": {},
   "source": [
    "---\n",
    "## Hexamer A,C,T,G,U bázisokból\n",
    "\n",
    "Ismétléses variáció\n",
    "\n",
    "$5^6= 15625$ darab hexamer (lásd: $\\texttt{hexamers}$ variable)\n",
    "\n",
    "$ 6 \\cdot 5^6= 93750$ bázispár hosszú szakasz tartalmaz minden lehetséges hexamert **átfedés nélkül**"
   ]
  },
  {
   "cell_type": "code",
   "execution_count": 4,
   "metadata": {},
   "outputs": [
    {
     "name": "stdout",
     "output_type": "stream",
     "text": [
      "There are 5**6=15625 possible hexamers.\n",
      "Length of the chain without overlap 6*5**6=93750.\n"
     ]
    }
   ],
   "source": [
    "print(f'There are 5**6={5**6} possible hexamers.')\n",
    "print(f'Length of the chain without overlap 6*5**6={6*5**6}.')"
   ]
  },
  {
   "cell_type": "code",
   "execution_count": 5,
   "metadata": {},
   "outputs": [
    {
     "name": "stdout",
     "output_type": "stream",
     "text": [
      "Length without overlap: 93750\n",
      "Length of the shortest string: 15635\n",
      "It became 83.323% shorter compared to the concatenated chain.\n"
     ]
    }
   ],
   "source": [
    "hexamers = generate_k_mer_list('ACGTU', 6)\n",
    "print(f'Length without overlap: {len(combine_strings(hexamers))}')\n",
    "shortest_hexamer_chain = shortest_chain(hexamers)\n",
    "print(f'Length of the shortest string: {len(shortest_hexamer_chain)}')\n",
    "print(f'It became {round(100 - len(shortest_hexamer_chain)/len(combine_strings(hexamers))*100, 3)}% shorter compared to the concatenated chain.')"
   ]
  },
  {
   "cell_type": "code",
   "execution_count": 6,
   "metadata": {},
   "outputs": [
    {
     "name": "stdout",
     "output_type": "stream",
     "text": [
      "\\begin{run_chech()}\n",
      "  Length of the chain: 15635\n",
      "  Frequency - number of k-mers:\n",
      "  1 - 15620\n",
      "  2 - 5\n",
      "\\end{run_chech()}\n"
     ]
    }
   ],
   "source": [
    "run_chech(shortest_hexamer_chain, hexamers)"
   ]
  },
  {
   "cell_type": "code",
   "execution_count": 7,
   "metadata": {},
   "outputs": [
    {
     "name": "stdout",
     "output_type": "stream",
     "text": [
      "\\begin{count_bases()}\n",
      "  A: 3130\n",
      "  C: 3125\n",
      "  G: 3125\n",
      "  T: 3125\n",
      "  U: 3130\n",
      "\\end{count_bases()}\n"
     ]
    }
   ],
   "source": [
    "count_bases(shortest_hexamer_chain)"
   ]
  },
  {
   "cell_type": "code",
   "execution_count": 8,
   "metadata": {},
   "outputs": [],
   "source": [
    "if False: # Write shortest chain to txt file.\n",
    "    with open(\"shortest_hexamer_chain.txt\", \"w\") as file:\n",
    "        file.write(shortest_hexamer_chain)"
   ]
  },
  {
   "cell_type": "markdown",
   "metadata": {},
   "source": [
    "---\n",
    "### Lánc adott hexamerek nélkül"
   ]
  },
  {
   "cell_type": "code",
   "execution_count": 9,
   "metadata": {},
   "outputs": [
    {
     "name": "stdout",
     "output_type": "stream",
     "text": [
      "\\begin{run_chech()}\n",
      "  Length of the chain: 15670\n",
      "  Frequency - number of k-mers:\n",
      "  1 - 15588\n",
      "  2 - 33\n",
      "  3 - 3\n",
      "\\end{run_chech()}\n",
      "return the k-mers whose number is greater than one:\n"
     ]
    },
    {
     "data": {
      "text/plain": [
       "array([['TTTTUU', '3'],\n",
       "       ['TTTUUU', '3'],\n",
       "       ['TTUUUU', '3'],\n",
       "       ['AAAAAT', '2'],\n",
       "       ['AAAACU', '2'],\n",
       "       ['AAAATT', '2'],\n",
       "       ['AAAAUA', '2'],\n",
       "       ['AAACUT', '2'],\n",
       "       ['AAATTT', '2'],\n",
       "       ['AAAUAA', '2'],\n",
       "       ['AACUTT', '2'],\n",
       "       ['AATTTT', '2'],\n",
       "       ['AAUAAA', '2'],\n",
       "       ['ACUTTT', '2'],\n",
       "       ['ATTTTT', '2'],\n",
       "       ['AUAAAA', '2'],\n",
       "       ['CUTTTT', '2'],\n",
       "       ['TAAAAC', '2'],\n",
       "       ['TTTTTU', '2'],\n",
       "       ['TTTUUT', '2'],\n",
       "       ['TTUUTT', '2'],\n",
       "       ['TTUUUT', '2'],\n",
       "       ['TUUTTT', '2'],\n",
       "       ['TUUUTT', '2'],\n",
       "       ['TUUUUT', '2'],\n",
       "       ['TUUUUU', '2'],\n",
       "       ['UTAAAA', '2'],\n",
       "       ['UTTTTU', '2'],\n",
       "       ['UTTTUU', '2'],\n",
       "       ['UTTUUU', '2'],\n",
       "       ['UUTAAA', '2'],\n",
       "       ['UUTTTU', '2'],\n",
       "       ['UUTTUU', '2'],\n",
       "       ['UUUTAA', '2'],\n",
       "       ['UUUTTU', '2'],\n",
       "       ['UUUUTA', '2']], dtype='<U11')"
      ]
     },
     "execution_count": 9,
     "metadata": {},
     "output_type": "execute_result"
    }
   ],
   "source": [
    "hexamers_to_delete = 'AAAAAU'\n",
    "delete_k_mers(hexamers, hexamers_to_delete)"
   ]
  },
  {
   "cell_type": "markdown",
   "metadata": {},
   "source": [
    "---"
   ]
  },
  {
   "cell_type": "markdown",
   "metadata": {},
   "source": [
    "# Heptamer  A,C,T,G,U bázisokból\n",
    "\n",
    "Ismétléses variáció\n",
    "\n",
    "$5^7= 78125$ darab hexamer (lásd: $\\texttt{heptamers}$ variable)\n",
    "\n",
    "$ 7 \\cdot 5^7= 546875$ bázispár hosszú szakasz tartalmaz minden lehetséges heptamert **átfedés nélkül**"
   ]
  },
  {
   "cell_type": "code",
   "execution_count": 10,
   "metadata": {},
   "outputs": [
    {
     "name": "stdout",
     "output_type": "stream",
     "text": [
      "There are 5**7=78125 possible heptamers.\n",
      "Length of the chain without overlap 7*5**7=546875.\n"
     ]
    }
   ],
   "source": [
    "print(f'There are 5**7={5**7} possible heptamers.')\n",
    "print(f'Length of the chain without overlap 7*5**7={7*5**7}.')"
   ]
  },
  {
   "cell_type": "code",
   "execution_count": 11,
   "metadata": {},
   "outputs": [
    {
     "name": "stdout",
     "output_type": "stream",
     "text": [
      "Length without overlap: 546875\n",
      "Length of the shortest string: 78137\n",
      "It became 85.712% shorter compared to the concatenated chain.\n"
     ]
    }
   ],
   "source": [
    "heptamers = generate_k_mer_list('ACGTU', 7)\n",
    "print(f'Length without overlap: {len(combine_strings(heptamers))}')\n",
    "shortest_heptamer_chain = shortest_chain(heptamers)\n",
    "print(f'Length of the shortest string: {len(shortest_heptamer_chain)}')\n",
    "print(f'It became {round(100 - len(shortest_heptamer_chain)/len(combine_strings(heptamers))*100, 3)}% shorter compared to the concatenated chain.')"
   ]
  },
  {
   "cell_type": "code",
   "execution_count": 12,
   "metadata": {},
   "outputs": [
    {
     "name": "stdout",
     "output_type": "stream",
     "text": [
      "\\begin{run_chech()}\n",
      "  Length of the chain: 78137\n",
      "  Frequency - number of k-mers:\n",
      "  1 - 78119\n",
      "  2 - 6\n",
      "\\end{run_chech()}\n"
     ]
    }
   ],
   "source": [
    "run_chech(shortest_heptamer_chain, heptamers)"
   ]
  },
  {
   "cell_type": "code",
   "execution_count": 13,
   "metadata": {},
   "outputs": [
    {
     "name": "stdout",
     "output_type": "stream",
     "text": [
      "\\begin{count_bases()}\n",
      "  A: 15631\n",
      "  C: 15625\n",
      "  G: 15625\n",
      "  T: 15625\n",
      "  U: 15631\n",
      "\\end{count_bases()}\n"
     ]
    }
   ],
   "source": [
    "count_bases(shortest_heptamer_chain)"
   ]
  },
  {
   "cell_type": "code",
   "execution_count": 14,
   "metadata": {},
   "outputs": [],
   "source": [
    "if False: # Write shortest chain to txt file.\n",
    "    with open(\"shortest_heptamer_chain.txt\", \"w\") as file:\n",
    "        file.write(shortest_heptamer_chain)"
   ]
  },
  {
   "cell_type": "markdown",
   "metadata": {},
   "source": [
    "---\n",
    "### Lánc adott heptamerek nélkül"
   ]
  },
  {
   "cell_type": "code",
   "execution_count": 15,
   "metadata": {},
   "outputs": [
    {
     "name": "stdout",
     "output_type": "stream",
     "text": [
      "\\begin{run_chech()}\n",
      "  Length of the chain: 78126\n",
      "  Frequency - number of k-mers:\n",
      "  1 - 78120\n",
      "\\end{run_chech()}\n",
      "return the k-mers whose number is greater than one:\n"
     ]
    },
    {
     "data": {
      "text/plain": [
       "array([], shape=(0, 2), dtype='<U11')"
      ]
     },
     "execution_count": 15,
     "metadata": {},
     "output_type": "execute_result"
    }
   ],
   "source": [
    "heptamers_to_delete =  [7*'A', 7*'T', 7*'C', 7*'G', 7*'U']\n",
    "delete_k_mers(heptamers, heptamers_to_delete)"
   ]
  }
 ],
 "metadata": {
  "kernelspec": {
   "display_name": "Python [conda env:base] *",
   "language": "python",
   "name": "conda-base-py"
  },
  "language_info": {
   "codemirror_mode": {
    "name": "ipython",
    "version": 3
   },
   "file_extension": ".py",
   "mimetype": "text/x-python",
   "name": "python",
   "nbconvert_exporter": "python",
   "pygments_lexer": "ipython3",
   "version": "3.12.2"
  }
 },
 "nbformat": 4,
 "nbformat_minor": 4
}
