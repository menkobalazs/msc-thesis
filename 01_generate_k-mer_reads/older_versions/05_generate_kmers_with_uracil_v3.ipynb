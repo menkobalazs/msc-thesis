{
 "cells": [
  {
   "cell_type": "markdown",
   "metadata": {},
   "source": [
    "# The shortest chain which contains all hexamers from all 5 bases (A,T,C,G,U).\n",
    "\n",
    "## How to generate the reads?\n",
    "Create a slots (`np.array`) for reads.\\\n",
    "If the given hexamer does not exists in any reads, then append it somewhere with the following rules:\n",
    "- Append the hexamer to the read where the overlap is the biggest. \n",
    "    - If more than one exists append the shortest read.\n",
    "- If there is no overlap anywhere, then \n",
    "    - append the hexamert to a new read (if it is possible) OR\n",
    "    - append to the shorthest existing read\n",
    "\n",
    "### Todo\n",
    "- how can the `Too many frequently occurring hexamers.` problem solved?\n",
    "\n",
    "## Todo later\n",
    "- check the G-C frequency for all reads"
   ]
  },
  {
   "cell_type": "code",
   "execution_count": 1,
   "metadata": {},
   "outputs": [],
   "source": [
    "# packages\n",
    "import numpy as np\n",
    "import itertools"
   ]
  },
  {
   "cell_type": "code",
   "execution_count": 2,
   "metadata": {},
   "outputs": [],
   "source": [
    "# functions\n",
    "def combine_strings(string):\n",
    "    ''' Add strings to each other. '''\n",
    "    return ''.join(string)\n",
    "\n",
    "\n",
    "def generate_k_mer_list(possible_bases, k_mer):\n",
    "    ''' All possible repeated variations of k-mers. '''\n",
    "    itr_prod = itertools.product(possible_bases, repeat=k_mer)\n",
    "    k_mer_list = []\n",
    "    for i in range(len(possible_bases)**k_mer):\n",
    "        k_mer_list.append(combine_strings(next(itr_prod)))\n",
    "    return np.array(k_mer_list)\n",
    "\n",
    "\n",
    "def shortest_chain(k_mers): ## --> ChatGPT code, promt: given the following array; create the shortest string which contains all element of the given array\n",
    "    '''\n",
    "    With the help of ChatGPT, the shortest string that contains all possible hexamers,\n",
    "    extending it only as much as necessary so that if a given k-mer already exists in the chain, it is not added again.\n",
    "    '''\n",
    "    result = k_mers[0]\n",
    "    for i in range(1, len(k_mers)):\n",
    "        overlap = len(k_mers[i]) - 1\n",
    "        # If the k-mer already exists in the word chain, do not append it to the result.\n",
    "        if result.count(k_mers[i]) == 0: # added to chatGPT code\n",
    "            while overlap >= 0: # Backtracking until the k-mer matches the end of the chain.\n",
    "                if result.endswith(k_mers[i][:overlap]):\n",
    "                    break\n",
    "                overlap -= 1\n",
    "            result += k_mers[i][overlap:]\n",
    "    return result\n",
    "\n",
    "\n",
    "def kmers_sorted_by_frequency(chains, k_mers):\n",
    "    ''' The frequency of possible k-mers in a given sequence in descending order. '''\n",
    "    numbers = {}\n",
    "    for element in k_mers:\n",
    "        n=0\n",
    "        for chain in chains:\n",
    "            n += chain.count(element)\n",
    "            numbers[element] = n\n",
    "    sort_numbers = np.array(sorted(numbers.items(), key=lambda x:x[1], reverse=True))\n",
    "    return sort_numbers\n",
    "\n",
    "\n",
    "def run_chech(chains, k_mers, print_count=True, num_of_skipped_bases=0):\n",
    "    ''' Counting identical frequencies --> how many k-mers appear n times in a sequence. '''\n",
    "    sort_numbers = kmers_sorted_by_frequency(chains, k_mers)\n",
    "    count = []\n",
    "    for i in range(1, int(sort_numbers[0,1])+1):\n",
    "        count.append([i, sum(np.array(sort_numbers[:,1], dtype=int) == i)])\n",
    "    # missing elemets \n",
    "    count.append([0, sum(np.array(sort_numbers[:,1], dtype=int) == 0)])\n",
    "    if print_count:\n",
    "        print('\\\\begin{run_chech()}')\n",
    "        print(f'  Length of the chain: {len(combine_strings(chains)) + num_of_skipped_bases}')\n",
    "        print('  frequency - the number of k-mers:')\n",
    "        for i in range(len(count)):\n",
    "            # print if element type is not missing\n",
    "            if count[i][1] !=0:\n",
    "                print(f'  {count[i][0]} - {count[i][1]}')\n",
    "        print('\\end{run_chech()}')\n",
    "    else:\n",
    "        return count  \n",
    "    return None\n",
    "\n",
    "\n",
    "def count_bases(shortest_chain, print_count=True):\n",
    "    ''' Count and print the number of bases. '''\n",
    "    bases = ['A', 'T', 'C', 'G', 'U']\n",
    "    count = {b: shortest_chain.count(b) for b in bases}\n",
    "    # Order the dictionary by count in descending order\n",
    "    count = dict(sorted(count.items(), key=lambda item: item[1], reverse=True))\n",
    "    if print_count:\n",
    "        print('\\\\begin{count_bases()}')\n",
    "        for base, cnt in count.items():\n",
    "            print(f'  {base}: {cnt}')\n",
    "        print('\\end{count_bases()}')\n",
    "        return None\n",
    "    return count\n",
    "\n",
    "\n",
    "def calculate_GC_ratio(reads, tolerance=0.03, print_out_of_tolerance=False):\n",
    "    ''' Calculate the GC ration. '''\n",
    "    G_ratios, C_ratios = [], []\n",
    "    out_of_tolerance = []\n",
    "    for read in reads:\n",
    "        num_of_G = read.count('G')\n",
    "        num_of_C = read.count('C')\n",
    "        sum_GC = num_of_G + num_of_C\n",
    "        G_ratio = num_of_G/sum_GC\n",
    "        G_ratios.append(G_ratio) \n",
    "        C_ratios.append(1 - G_ratio) \n",
    "        if G_ratio >= 0.5+tolerance or G_ratio <= 0.5-tolerance:\n",
    "            out_of_tolerance.append(True)\n",
    "        else:\n",
    "            out_of_tolerance.append(False)\n",
    "    if print_out_of_tolerance:\n",
    "        print(f'{sum(out_of_tolerance)}/{len(reads)} (={(sum(out_of_tolerance)/len(reads)):.2f}) are out of tolerance.')\n",
    "    return G_ratios, C_ratios, out_of_tolerance "
   ]
  },
  {
   "cell_type": "code",
   "execution_count": 3,
   "metadata": {},
   "outputs": [
    {
     "name": "stdout",
     "output_type": "stream",
     "text": [
      "Length without overlap: 93750\n",
      "Length of the shortest string: 15635\n",
      "It became 83.323% shorter compared to the concatenated chain.\n"
     ]
    }
   ],
   "source": [
    "hexamers = generate_k_mer_list('ACTGU', 6)\n",
    "\n",
    "print(f'Length without overlap: {len(combine_strings(hexamers))}')\n",
    "shortest_hexamer_chain = shortest_chain(hexamers)\n",
    "print(f'Length of the shortest string: {len(shortest_hexamer_chain)}')\n",
    "print(f'It became {round(100 - len(shortest_hexamer_chain)/len(combine_strings(hexamers))*100, 3)}% shorter compared to the concatenated chain.')"
   ]
  },
  {
   "cell_type": "markdown",
   "metadata": {},
   "source": [
    "#### Randomizations is needed better for G-C ratio."
   ]
  },
  {
   "cell_type": "code",
   "execution_count": 4,
   "metadata": {},
   "outputs": [],
   "source": [
    "# random seed for reproduction\n",
    "np.random.seed(137)\n",
    "np.random.shuffle(hexamers)"
   ]
  },
  {
   "cell_type": "markdown",
   "metadata": {},
   "source": [
    "---\n",
    "---\n",
    "---"
   ]
  },
  {
   "cell_type": "markdown",
   "metadata": {},
   "source": [
    "Calculate the minimum number of slots.\n",
    "- Each slot must have 240 bases or fewer.\n",
    "- The maximum length of the combined chain must be less than 20,000 bases.\n",
    "\n",
    "$\\xrightarrow{} 20000/240\\simeq 83$ **or more** slots needed"
   ]
  },
  {
   "cell_type": "code",
   "execution_count": 5,
   "metadata": {},
   "outputs": [],
   "source": [
    "def fill_k_mers_into_reads(reads, k_mers, min_overlap, num_of_while_loops):\n",
    "    \n",
    "    # an empty list for the skipped k-mers\n",
    "    skipped_k_mers = []\n",
    "    \n",
    "    for i, k_mer in enumerate(k_mers):\n",
    "            \n",
    "        # if the k-mer does not exists in any read, then put append it using the rules.\n",
    "        if not any(k_mer in read for read in reads):\n",
    "                        \n",
    "            overlaps_in_reads = []\n",
    "            # Iterate trough all reads\n",
    "            for j in range(len(reads)):   \n",
    "                # the number of possible overlapping bases\n",
    "                overlap = len(k_mer) - 1\n",
    "                # backtracking until the k-mer matches to the end of read j REWRITE\n",
    "                while overlap >= 0: \n",
    "                        # if the read end with the same character(s) as the hexamer begin.\n",
    "                        if reads[j].endswith(k_mer[:overlap]):\n",
    "                            # save the number of overlapping characters\n",
    "                            overlaps_in_reads.append(overlap)\n",
    "                            # break the while loop\n",
    "                            break\n",
    "                        # there is no overlap with n character --> try with n-1\n",
    "                        overlap -= 1\n",
    "        \n",
    "            # if all overlaps are less then or equal to the minimal overlap \n",
    "            if np.all(np.array(overlaps_in_reads) <= min_overlap):\n",
    "                # skip the k-mer\n",
    "                skipped_k_mers.append(k_mer)                                  \n",
    "            # else there is/are overlap(s) somewhere \n",
    "            else:          \n",
    "                # find the indices of maximal overlaps\n",
    "                max_overlaps_indices = np.where(overlaps_in_reads == np.max(overlaps_in_reads))[0]\n",
    "                # find too long reads \n",
    "                too_long_reads = np.where((np.vectorize(len)(reads) + max(overlaps_in_reads)) >= 239)[0]    \n",
    "                # use only those indices what are not too long\n",
    "                selected_reads = np.setdiff1d(max_overlaps_indices, too_long_reads)\n",
    "                \n",
    "                # if more than one minimal overlap exists\n",
    "                if len(selected_reads) > 1:                   \n",
    "                    # get the length of selected reads\n",
    "                    length_of_selected_reads = np.vectorize(len)(reads[selected_reads])\n",
    "                    # find the indices of the minimal read lenght\n",
    "                    min_read_len_idx = np.where(length_of_selected_reads == np.min(length_of_selected_reads))[0]\n",
    "                    # random seed for reproduction\n",
    "                    np.random.seed(137)\n",
    "                    # append the hexamer (w/o overlap) to one of the shortest read                  \n",
    "                    reads[selected_reads[np.random.choice(min_read_len_idx)]] += k_mer[max(overlaps_in_reads):]\n",
    "                    \n",
    "                # else one minimal overlap exists\n",
    "                elif len(selected_reads) == 1:\n",
    "                    #append the hexamer (w/o overlap)\n",
    "                    reads[selected_reads[0]] += k_mer[max(overlaps_in_reads):]\n",
    "                else:\n",
    "                    # skip the k-mer\n",
    "                    skipped_k_mers.append(k_mer)\n",
    "     \n",
    "        # print \n",
    "        print(f'{((i+1)/len(k_mers)*100):.0f}% finished, {num_of_while_loops} while loop(s) remaining.\\t', end='\\r')\n",
    "              \n",
    "    return reads, skipped_k_mers"
   ]
  },
  {
   "cell_type": "code",
   "execution_count": 6,
   "metadata": {},
   "outputs": [],
   "source": [
    "def generate_reads_v3(k_mers, num_of_reads, min_overlap=None, max_while_counter=5):\n",
    "    ''' Generate reads '''\n",
    "    # the result will be stored in 'reads' var. as a numpy array\n",
    "    reads = np.empty(num_of_reads, dtype='U300')\n",
    "    \n",
    "    \n",
    "    # fill all reads with an initial k-mer\n",
    "    reads[:num_of_reads] = k_mers[:num_of_reads]\n",
    "    \n",
    "    skipped_k_mers = k_mers[num_of_reads:].copy()\n",
    "\n",
    "\n",
    "    if min_overlap == None:\n",
    "        min_overlap = len(k_mers[0]) // 2\n",
    "        print(f'minimum overlap set to {min_overlap}')\n",
    "\n",
    "    while_counter = 0\n",
    "    \n",
    "    #k_mers_copy = k_mers.copy()\n",
    "    while max_while_counter >= while_counter:\n",
    "        k_mers_len_before = len(skipped_k_mers)\n",
    "        reads, skipped_k_mers = fill_k_mers_into_reads(reads, skipped_k_mers, min_overlap, \n",
    "                                                       max_while_counter-while_counter)\n",
    "        k_mers_len_after = len(skipped_k_mers)\n",
    "        \n",
    "        if len(skipped_k_mers) == 0:\n",
    "            break\n",
    "        if k_mers_len_before == k_mers_len_after:\n",
    "            break \n",
    "        \n",
    "        while_counter+=1\n",
    "        \n",
    "        \n",
    "        \n",
    "    print(f'Number of skipped k-mers: {len(skipped_k_mers)}  {20*\" \"}')\n",
    "    if any(np.vectorize(len)(reads) > 240):\n",
    "        print('something went wrong: there is a too long read.')\n",
    "\n",
    "    return reads, skipped_k_mers"
   ]
  },
  {
   "cell_type": "code",
   "execution_count": 20,
   "metadata": {},
   "outputs": [
    {
     "name": "stdout",
     "output_type": "stream",
     "text": [
      "Number of skipped k-mers: 150                      \n"
     ]
    }
   ],
   "source": [
    "reads, skipped_hexamers = generate_reads_v3(hexamers, num_of_reads=100, min_overlap=2, max_while_counter=7)"
   ]
  },
  {
   "cell_type": "code",
   "execution_count": 21,
   "metadata": {},
   "outputs": [
    {
     "name": "stdout",
     "output_type": "stream",
     "text": [
      "\\begin{run_chech()}\n",
      "  Length of the chain: 23864\n",
      "  frequency - the number of k-mers:\n",
      "  1 - 9630\n",
      "  2 - 4809\n",
      "  3 - 939\n",
      "  4 - 90\n",
      "  5 - 7\n",
      "  0 - 150\n",
      "\\end{run_chech()}\n"
     ]
    }
   ],
   "source": [
    "run_chech(reads, hexamers, num_of_skipped_bases=6*len(skipped_hexamers))"
   ]
  },
  {
   "cell_type": "code",
   "execution_count": 22,
   "metadata": {},
   "outputs": [
    {
     "data": {
      "text/plain": [
       "array([219, 222, 221, 218, 236, 226, 236, 225, 232, 236, 233, 235, 234,\n",
       "       235, 226, 233, 221, 237, 227, 237, 219, 219, 229, 219, 216, 231,\n",
       "       237, 237, 236, 224, 235, 226, 237, 237, 238, 216, 233, 237, 227,\n",
       "       228, 217, 222, 236, 238, 236, 237, 237, 228, 233, 237, 229, 237,\n",
       "       236, 218, 220, 231, 214, 221, 237, 224, 229, 232, 237, 234, 225,\n",
       "       236, 213, 236, 220, 236, 213, 238, 238, 234, 235, 229, 229, 238,\n",
       "       226, 230, 227, 237, 222, 236, 234, 236, 223, 233, 219, 223, 216,\n",
       "       230, 216, 238, 233, 234, 237, 236, 230, 238])"
      ]
     },
     "execution_count": 22,
     "metadata": {},
     "output_type": "execute_result"
    }
   ],
   "source": [
    "np.vectorize(len)(reads)"
   ]
  },
  {
   "cell_type": "code",
   "execution_count": 23,
   "metadata": {},
   "outputs": [
    {
     "name": "stdout",
     "output_type": "stream",
     "text": [
      "58/100 (=0.58) are out of tolerance.\n"
     ]
    }
   ],
   "source": [
    "G_ratios, C_ratios, out_of_tolerance = calculate_GC_ratio(reads, print_out_of_tolerance=True)"
   ]
  }
 ],
 "metadata": {
  "kernelspec": {
   "display_name": "Python 3",
   "language": "python",
   "name": "python3"
  },
  "language_info": {
   "codemirror_mode": {
    "name": "ipython",
    "version": 3
   },
   "file_extension": ".py",
   "mimetype": "text/x-python",
   "name": "python",
   "nbconvert_exporter": "python",
   "pygments_lexer": "ipython3",
   "version": "3.8.5"
  }
 },
 "nbformat": 4,
 "nbformat_minor": 4
}
