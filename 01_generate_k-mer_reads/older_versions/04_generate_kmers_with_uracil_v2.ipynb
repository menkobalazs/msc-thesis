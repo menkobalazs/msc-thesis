{
 "cells": [
  {
   "cell_type": "markdown",
   "metadata": {},
   "source": [
    "# The shortest chain which contains all hexamers from all 5 bases (A,T,C,G,U).\n",
    "\n",
    "## How to generate the reads?\n",
    "Create a slots (`np.array`) for reads.\\\n",
    "If the given hexamer does not exists in any reads, then append it somewhere with the following rules:\n",
    "- Append the hexamer to the read where the overlap is the biggest. \n",
    "    - If more than one exists append the shortest read.\n",
    "- If there is no overlap anywhere, then \n",
    "    - append the hexamert to a new read (if it is possible) OR\n",
    "    - append to the shorthest existing read\n",
    "\n",
    "### Todo\n",
    "- how can the `Too many frequently occurring hexamers.` problem solved?\n",
    "\n",
    "## Todo later\n",
    "- check the G-C frequency for all reads"
   ]
  },
  {
   "cell_type": "code",
   "execution_count": 1,
   "metadata": {},
   "outputs": [],
   "source": [
    "# packages\n",
    "import numpy as np\n",
    "import itertools"
   ]
  },
  {
   "cell_type": "code",
   "execution_count": 2,
   "metadata": {},
   "outputs": [],
   "source": [
    "# functions\n",
    "def combine_strings(string):\n",
    "    ''' Add strings to each other. '''\n",
    "    return ''.join(string)\n",
    "\n",
    "\n",
    "def generate_k_mer_list(possible_bases, k_mer):\n",
    "    ''' All possible repeated variations of k-mers. '''\n",
    "    itr_prod = itertools.product(possible_bases, repeat=k_mer)\n",
    "    k_mer_list = []\n",
    "    for i in range(len(possible_bases)**k_mer):\n",
    "        k_mer_list.append(combine_strings(next(itr_prod)))\n",
    "    return np.array(k_mer_list)\n",
    "\n",
    "\n",
    "def shortest_chain(k_mers): ## --> ChatGPT code, promt: given the following array; create the shortest string which contains all element of the given array\n",
    "    '''\n",
    "    With the help of ChatGPT, the shortest string that contains all possible hexamers,\n",
    "    extending it only as much as necessary so that if a given k-mer already exists in the chain, it is not added again.\n",
    "    '''\n",
    "    result = k_mers[0]\n",
    "    for i in range(1, len(k_mers)):\n",
    "        overlap = len(k_mers[i]) - 1\n",
    "        # If the k-mer already exists in the word chain, do not append it to the result.\n",
    "        if result.count(k_mers[i]) == 0: # added to chatGPT code\n",
    "            while overlap >= 0: # Backtracking until the k-mer matches the end of the chain.\n",
    "                if result.endswith(k_mers[i][:overlap]):\n",
    "                    break\n",
    "                overlap -= 1\n",
    "            result += k_mers[i][overlap:]\n",
    "    return result\n",
    "\n",
    "\n",
    "def kmers_sorted_by_frequency(chains, k_mers):\n",
    "    ''' The frequency of possible k-mers in a given sequence in descending order. '''\n",
    "    numbers = {}\n",
    "    for element in k_mers:\n",
    "        n=0\n",
    "        for chain in chains:\n",
    "            n += chain.count(element)\n",
    "            numbers[element] = n\n",
    "    sort_numbers = np.array(sorted(numbers.items(), key=lambda x:x[1], reverse=True))\n",
    "    return sort_numbers\n",
    "\n",
    "\n",
    "def run_chech(chains, k_mers, print_count=True, num_of_skipped_bases=0):\n",
    "    ''' Counting identical frequencies --> how many k-mers appear n times in a sequence. '''\n",
    "    sort_numbers = kmers_sorted_by_frequency(chains, k_mers)\n",
    "    count = []\n",
    "    for i in range(1, int(sort_numbers[0,1])+1):\n",
    "        count.append([i, sum(np.array(sort_numbers[:,1], dtype=int) == i)])\n",
    "    # missing elemets \n",
    "    count.append([0, sum(np.array(sort_numbers[:,1], dtype=int) == 0)])\n",
    "    if print_count:\n",
    "        print('\\\\begin{run_chech()}')\n",
    "        print(f'  Length of the chain: {len(combine_strings(chains)) + num_of_skipped_bases}')\n",
    "        print('  frequency - the number of k-mers:')\n",
    "        for i in range(len(count)):\n",
    "            # print if element type is not missing\n",
    "            if count[i][1] !=0:\n",
    "                print(f'  {count[i][0]} - {count[i][1]}')\n",
    "        print('\\end{run_chech()}')\n",
    "    else:\n",
    "        return count  \n",
    "    return None\n",
    "\n",
    "\n",
    "def count_bases(shortest_chain, print_count=True):\n",
    "    ''' Count and print the number of bases. '''\n",
    "    bases = ['A', 'T', 'C', 'G', 'U']\n",
    "    count = {b: shortest_chain.count(b) for b in bases}\n",
    "    # Order the dictionary by count in descending order\n",
    "    count = dict(sorted(count.items(), key=lambda item: item[1], reverse=True))\n",
    "    if print_count:\n",
    "        print('\\\\begin{count_bases()}')\n",
    "        for base, cnt in count.items():\n",
    "            print(f'  {base}: {cnt}')\n",
    "        print('\\end{count_bases()}')\n",
    "        return None\n",
    "    return count\n",
    "\n",
    "\n",
    "def calculate_GC_ratio(reads, tolerance=0.03, print_out_of_tolerance=False):\n",
    "    ''' Calculate the GC ration. '''\n",
    "    G_ratios, C_ratios = [], []\n",
    "    out_of_tolerance = []\n",
    "    for read in reads:\n",
    "        num_of_G = read.count('G')\n",
    "        num_of_C = read.count('C')\n",
    "        sum_GC = num_of_G + num_of_C\n",
    "        G_ratio = num_of_G/sum_GC\n",
    "        G_ratios.append(G_ratio) \n",
    "        C_ratios.append(1 - G_ratio) \n",
    "        if G_ratio >= 0.5+tolerance or G_ratio <= 0.5-tolerance:\n",
    "            out_of_tolerance.append(True)\n",
    "        else:\n",
    "            out_of_tolerance.append(False)\n",
    "    if print_out_of_tolerance:\n",
    "        print(f'{sum(out_of_tolerance)}/{len(reads)} (={(sum(out_of_tolerance)/len(reads)):.2f}) are out of tolerance.')\n",
    "    return G_ratios, C_ratios, out_of_tolerance "
   ]
  },
  {
   "cell_type": "code",
   "execution_count": 3,
   "metadata": {},
   "outputs": [
    {
     "name": "stdout",
     "output_type": "stream",
     "text": [
      "Length without overlap: 93750\n",
      "Length of the shortest string: 15635\n",
      "It became 83.323% shorter compared to the concatenated chain.\n"
     ]
    }
   ],
   "source": [
    "hexamers = generate_k_mer_list('ATCGU', 6)\n",
    "\n",
    "print(f'Length without overlap: {len(combine_strings(hexamers))}')\n",
    "shortest_hexamer_chain = shortest_chain(hexamers)\n",
    "print(f'Length of the shortest string: {len(shortest_hexamer_chain)}')\n",
    "print(f'It became {round(100 - len(shortest_hexamer_chain)/len(combine_strings(hexamers))*100, 3)}% shorter compared to the concatenated chain.')"
   ]
  },
  {
   "cell_type": "markdown",
   "metadata": {},
   "source": [
    "---\n",
    "---\n",
    "---"
   ]
  },
  {
   "cell_type": "markdown",
   "metadata": {},
   "source": [
    "Calculate the minimum number of slots.\n",
    "- Each slot must have 240 bases or fewer.\n",
    "- The maximum length of the combined chain must be less than 20,000 bases.\n",
    "\n",
    "$\\xrightarrow{} 20000/240\\simeq 83$ **or more** slots needed"
   ]
  },
  {
   "cell_type": "code",
   "execution_count": 4,
   "metadata": {},
   "outputs": [],
   "source": [
    "def generate_reads_v2(k_mers, num_of_reads, sorted_k_mers, print_rand_choiches=False):\n",
    "    # random seed for reproducible result\n",
    "    np.random.seed(137)\n",
    "\n",
    "    fill_next_read = 1\n",
    "    counter_for_random_choices = 0\n",
    "    # the result will be stored in 'reads' var. as a numpy array\n",
    "    reads = np.empty(num_of_reads, dtype='U300')\n",
    "    # fill only the first read (originl case)\n",
    "    if sorted_k_mers:\n",
    "        reads[0] = k_mers[0]\n",
    "        start_for_loop = 1\n",
    "    # or fill all read with an element  (shuffled case)\n",
    "    else:  \n",
    "        for i in range(num_of_reads):\n",
    "            reads[i] = k_mers[i]\n",
    "        start_for_loop = num_of_reads\n",
    "\n",
    "    for i in range(start_for_loop, len(k_mers)):\n",
    "            \n",
    "        # if the k-mer does not exists in any read, then put append it using the rules.\n",
    "        if not any(k_mers[i] in read for read in reads):\n",
    "                        \n",
    "            overlaps_in_reads = []\n",
    "            # Iterate trough all reads\n",
    "            for j in range(len(reads)):   \n",
    "                # the number of possible overlapping bases\n",
    "                overlap = len(k_mers[0]) - 1\n",
    "                # backtracking until the k-mer matches to the end of read j\n",
    "                while overlap >= 0: \n",
    "                        # if the read end with the same character(s) as the hexamer begin.\n",
    "                        if reads[j].endswith(k_mers[i][:overlap]):\n",
    "                            # save the number of overlapping characters\n",
    "                            overlaps_in_reads.append(overlap)\n",
    "                            # break the while loop\n",
    "                            break\n",
    "                        # there is no overlap with n character --> try with n-1\n",
    "                        overlap -= 1\n",
    "        \n",
    "            # if no overlap --> all elements are 0 in 'overlaps_in_reads'\n",
    "            if np.all(np.array(overlaps_in_reads) == 0):\n",
    "                # fill a new slot until there are no unfilled ones remaining\n",
    "                if fill_next_read < num_of_reads:\n",
    "                        reads[fill_next_read]+=k_mers[i]\n",
    "                        fill_next_read+=1\n",
    "                # else find the shortest read, and append the hexamer\n",
    "                else:\n",
    "                        # get the length of all read\n",
    "                        length_of_all_read = np.vectorize(len)(reads)\n",
    "                        # find all indices of the reads that are the shortest\n",
    "                        min_read_len_idx = np.where(length_of_all_read == np.min(length_of_all_read))[0]\n",
    "                        # randomly append the k-mer to the shortest read\n",
    "                        reads[np.random.choice(min_read_len_idx)] += k_mers[i]\n",
    "                        # add one to 'counter_for_random_choices' if it is needed\n",
    "                        if len(min_read_len_idx) > 1: counter_for_random_choices +=1\n",
    "                \n",
    "            # else there is/are overlap(s) somewhere\n",
    "            else:          \n",
    "                # find the indices of maximal overlaps\n",
    "                max_overlaps_indices = np.where(overlaps_in_reads == np.max(overlaps_in_reads))[0]\n",
    "                # if more than one minimal overlap exists\n",
    "                if len(max_overlaps_indices) > 1:\n",
    "                        # get the length of selected reads\n",
    "                        length_of_selected_reads = np.vectorize(len)(reads[max_overlaps_indices])\n",
    "                        #too_long_reads = np.where(np.vectorize(len)(reads) > 235)[0]\n",
    "                        #length_of_selected_reads = np.setdiff1d(length_of_selected_reads, too_long_reads)\n",
    "                        # find the indices of the minimal read lenght\n",
    "                        min_read_len_idx = np.where(length_of_selected_reads == np.min(length_of_selected_reads))[0]\n",
    "                        # append the hexamer (w/o overlap) to the shortest read\n",
    "                        reads[max_overlaps_indices[np.random.choice(min_read_len_idx)]] += k_mers[i][max(overlaps_in_reads):]\n",
    "                        if len(min_read_len_idx) > 1: counter_for_random_choices +=1 \n",
    "                # else one minimal overlap exists\n",
    "                else:\n",
    "                        #append the hexamer (w/o overlap)\n",
    "                        reads[max_overlaps_indices[0]] += k_mers[i][max(overlaps_in_reads):]\n",
    "                \n",
    "    if print_rand_choiches:\n",
    "        print('number of random choices:', counter_for_random_choices)\n",
    "    return reads"
   ]
  },
  {
   "cell_type": "code",
   "execution_count": 5,
   "metadata": {},
   "outputs": [],
   "source": [
    "reads = generate_reads_v2(hexamers, num_of_reads=115, sorted_k_mers=True)"
   ]
  },
  {
   "cell_type": "code",
   "execution_count": 6,
   "metadata": {},
   "outputs": [
    {
     "data": {
      "text/plain": [
       "array([227, 237, 227, 227, 229, 227, 235, 228, 232, 229, 240, 225, 225,\n",
       "       227, 231, 234, 226, 230, 226, 227, 228, 227, 231, 225, 226, 229,\n",
       "       230, 230, 233, 225, 228, 235, 228, 226, 230, 227, 229, 230, 228,\n",
       "       229, 230, 234, 229, 228, 231, 226, 228, 228, 230, 229, 228, 228,\n",
       "       230, 235, 227, 230, 227, 225, 239, 230, 227, 230, 228, 226, 230,\n",
       "       228, 229, 227, 225, 228, 228, 230, 229, 228, 227, 227, 228, 225,\n",
       "       225, 228, 235, 229, 236, 227, 227, 228, 225, 230, 230, 228, 240,\n",
       "       230, 227, 226, 229, 228, 228, 233, 242, 229, 228, 230, 227, 226,\n",
       "       231, 230, 236, 225, 228, 230, 230, 226, 229, 226, 230])"
      ]
     },
     "execution_count": 6,
     "metadata": {},
     "output_type": "execute_result"
    }
   ],
   "source": [
    "np.vectorize(len)(reads)"
   ]
  },
  {
   "cell_type": "code",
   "execution_count": 7,
   "metadata": {},
   "outputs": [
    {
     "data": {
      "text/plain": [
       "242"
      ]
     },
     "execution_count": 7,
     "metadata": {},
     "output_type": "execute_result"
    }
   ],
   "source": [
    "max(np.vectorize(len)(reads))"
   ]
  },
  {
   "cell_type": "code",
   "execution_count": 8,
   "metadata": {},
   "outputs": [
    {
     "name": "stdout",
     "output_type": "stream",
     "text": [
      "\\begin{run_chech()}\n",
      "  Length of the chain: 26347\n",
      "  frequency - the number of k-mers:\n",
      "  1 - 7973\n",
      "  2 - 5548\n",
      "  3 - 1802\n",
      "  4 - 263\n",
      "  5 - 35\n",
      "  6 - 3\n",
      "  7 - 1\n",
      "\\end{run_chech()}\n"
     ]
    }
   ],
   "source": [
    "run_chech(reads, hexamers)"
   ]
  },
  {
   "cell_type": "code",
   "execution_count": 9,
   "metadata": {},
   "outputs": [
    {
     "name": "stdout",
     "output_type": "stream",
     "text": [
      "53/115 (=0.46) are out of tolerance.\n"
     ]
    }
   ],
   "source": [
    "G_ratios, C_ratios, out_of_tolerance = calculate_GC_ratio(reads, print_out_of_tolerance=True)"
   ]
  },
  {
   "cell_type": "markdown",
   "metadata": {},
   "source": [
    "### --> Still too many frequently occurring hexamers.\n",
    "### --> And more longer chain lenght.\n",
    "The problem of ratio is unsolved here also."
   ]
  },
  {
   "cell_type": "markdown",
   "metadata": {},
   "source": [
    "---\n",
    "# With  random shuffle: (v4.2)"
   ]
  },
  {
   "cell_type": "code",
   "execution_count": 10,
   "metadata": {},
   "outputs": [],
   "source": [
    "hexamers2 = hexamers.copy()\n",
    "np.random.seed(137)\n",
    "np.random.shuffle(hexamers2)\n",
    "reads2 = generate_reads_v2(hexamers2, num_of_reads=110, sorted_k_mers=False)"
   ]
  },
  {
   "cell_type": "code",
   "execution_count": 11,
   "metadata": {},
   "outputs": [
    {
     "data": {
      "text/plain": [
       "244"
      ]
     },
     "execution_count": 11,
     "metadata": {},
     "output_type": "execute_result"
    }
   ],
   "source": [
    "max(np.vectorize(len)(reads2))"
   ]
  },
  {
   "cell_type": "code",
   "execution_count": 12,
   "metadata": {},
   "outputs": [
    {
     "data": {
      "text/plain": [
       "array([232, 226, 224, 228, 226, 227, 231, 239, 228, 235, 232, 230, 226,\n",
       "       234, 232, 227, 235, 231, 225, 232, 235, 234, 231, 232, 238, 223,\n",
       "       223, 231, 225, 227, 223, 231, 229, 222, 229, 229, 228, 233, 229,\n",
       "       226, 231, 228, 225, 217, 231, 225, 224, 230, 224, 228, 223, 225,\n",
       "       228, 226, 223, 240, 229, 230, 233, 229, 232, 227, 224, 233, 232,\n",
       "       234, 224, 235, 227, 235, 228, 228, 232, 230, 233, 229, 227, 224,\n",
       "       226, 232, 244, 234, 236, 238, 228, 221, 223, 225, 229, 231, 225,\n",
       "       229, 224, 228, 226, 233, 230, 228, 222, 226, 229, 225, 226, 232,\n",
       "       227, 231, 232, 236, 228, 234])"
      ]
     },
     "execution_count": 12,
     "metadata": {},
     "output_type": "execute_result"
    }
   ],
   "source": [
    "np.vectorize(len)(reads2)"
   ]
  },
  {
   "cell_type": "code",
   "execution_count": 13,
   "metadata": {},
   "outputs": [
    {
     "name": "stdout",
     "output_type": "stream",
     "text": [
      "\\begin{run_chech()}\n",
      "  Length of the chain: 25199\n",
      "  frequency - the number of k-mers:\n",
      "  1 - 8616\n",
      "  2 - 5272\n",
      "  3 - 1494\n",
      "  4 - 213\n",
      "  5 - 30\n",
      "\\end{run_chech()}\n"
     ]
    }
   ],
   "source": [
    "run_chech(reads2, hexamers2)"
   ]
  },
  {
   "cell_type": "code",
   "execution_count": 14,
   "metadata": {},
   "outputs": [
    {
     "name": "stdout",
     "output_type": "stream",
     "text": [
      "62/110 (=0.56) are out of tolerance.\n"
     ]
    }
   ],
   "source": [
    "G_ratios2, C_ratios2, out_of_tolerance2 = calculate_GC_ratio(reads2, print_out_of_tolerance=True)"
   ]
  }
 ],
 "metadata": {
  "kernelspec": {
   "display_name": "Python 3",
   "language": "python",
   "name": "python3"
  },
  "language_info": {
   "codemirror_mode": {
    "name": "ipython",
    "version": 3
   },
   "file_extension": ".py",
   "mimetype": "text/x-python",
   "name": "python",
   "nbconvert_exporter": "python",
   "pygments_lexer": "ipython3",
   "version": "3.8.5"
  }
 },
 "nbformat": 4,
 "nbformat_minor": 4
}
