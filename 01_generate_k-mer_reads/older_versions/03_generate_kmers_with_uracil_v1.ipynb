{
 "cells": [
  {
   "cell_type": "markdown",
   "metadata": {},
   "source": [
    "# The shortest chain which contains all hexamers from all 5 bases (A,T,C,G,U)."
   ]
  },
  {
   "cell_type": "code",
   "execution_count": 1,
   "metadata": {},
   "outputs": [],
   "source": [
    "# packages\n",
    "import numpy as np\n",
    "import itertools"
   ]
  },
  {
   "cell_type": "code",
   "execution_count": 2,
   "metadata": {},
   "outputs": [],
   "source": [
    "# functions\n",
    "def combine_strings(string):\n",
    "    ''' Add strings to each other. '''\n",
    "    return ''.join(string)\n",
    "\n",
    "\n",
    "def generate_k_mer_list(possible_bases, k_mer):\n",
    "    ''' All possible repeated variations of k-mers. '''\n",
    "    itr_prod = itertools.product(possible_bases, repeat=k_mer)\n",
    "    k_mer_list = []\n",
    "    for i in range(len(possible_bases)**k_mer):\n",
    "        k_mer_list.append(combine_strings(next(itr_prod)))\n",
    "    return np.array(k_mer_list)\n",
    "\n",
    "\n",
    "def shortest_chain(k_mers): ## --> ChatGPT code, promt: given the following array; create the shortest string which contains all element of the given array\n",
    "    '''\n",
    "    With the help of ChatGPT, the shortest string that contains all possible hexamers,\n",
    "    extending it only as much as necessary so that if a given k-mer already exists in the chain, it is not added again.\n",
    "    '''\n",
    "    result = k_mers[0]\n",
    "    for i in range(1, len(k_mers)):\n",
    "        overlap = len(k_mers[i]) - 1\n",
    "        # If the k-mer already exists in the word chain, do not append it to the result.\n",
    "        if result.count(k_mers[i]) == 0: # added to chatGPT code\n",
    "            while overlap >= 0: # Backtracking until the k-mer matches the end of the chain.\n",
    "                if result.endswith(k_mers[i][:overlap]):\n",
    "                    break\n",
    "                overlap -= 1\n",
    "            result += k_mers[i][overlap:]\n",
    "    return result\n",
    "\n",
    "\n",
    "def kmers_sorted_by_frequency(chains, k_mers):\n",
    "    ''' The frequency of possible k-mers in a given sequence in descending order. '''\n",
    "    numbers = {}\n",
    "    for element in k_mers:\n",
    "        n=0\n",
    "        for chain in chains:\n",
    "            n += chain.count(element)\n",
    "            numbers[element] = n\n",
    "    sort_numbers = np.array(sorted(numbers.items(), key=lambda x:x[1], reverse=True))\n",
    "    return sort_numbers\n",
    "\n",
    "\n",
    "def run_chech(chains, k_mers, print_count=True, num_of_skipped_bases=0):\n",
    "    ''' Counting identical frequencies --> how many k-mers appear n times in a sequence. '''\n",
    "    sort_numbers = kmers_sorted_by_frequency(chains, k_mers)\n",
    "    count = []\n",
    "    for i in range(1, int(sort_numbers[0,1])+1):\n",
    "        count.append([i, sum(np.array(sort_numbers[:,1], dtype=int) == i)])\n",
    "    # missing elemets \n",
    "    count.append([0, sum(np.array(sort_numbers[:,1], dtype=int) == 0)])\n",
    "    if print_count:\n",
    "        print('\\\\begin{run_chech()}')\n",
    "        print(f'  Length of the chain: {len(combine_strings(chains)) + num_of_skipped_bases}')\n",
    "        print('  frequency - the number of k-mers:')\n",
    "        for i in range(len(count)):\n",
    "            # print if element type is not missing\n",
    "            if count[i][1] !=0:\n",
    "                print(f'  {count[i][0]} - {count[i][1]}')\n",
    "        print('\\end{run_chech()}')\n",
    "    else:\n",
    "        return count  \n",
    "    return None\n",
    "\n",
    "\n",
    "def count_bases(shortest_chain, print_count=True):\n",
    "    ''' Count and print the number of bases. '''\n",
    "    bases = ['A', 'T', 'C', 'G', 'U']\n",
    "    count = {b: shortest_chain.count(b) for b in bases}\n",
    "    # Order the dictionary by count in descending order\n",
    "    count = dict(sorted(count.items(), key=lambda item: item[1], reverse=True))\n",
    "    if print_count:\n",
    "        print('\\\\begin{count_bases()}')\n",
    "        for base, cnt in count.items():\n",
    "            print(f'  {base}: {cnt}')\n",
    "        print('\\end{count_bases()}')\n",
    "        return None\n",
    "    return count\n",
    "\n",
    "\n",
    "def calculate_GC_ratio(reads, tolerance=0.03, print_out_of_tolerance=False):\n",
    "    ''' Calculate the GC ration. '''\n",
    "    G_ratios, C_ratios = [], []\n",
    "    out_of_tolerance = []\n",
    "    for read in reads:\n",
    "        num_of_G = read.count('G')\n",
    "        num_of_C = read.count('C')\n",
    "        sum_GC = num_of_G + num_of_C\n",
    "        G_ratio = num_of_G/sum_GC\n",
    "        G_ratios.append(G_ratio) \n",
    "        C_ratios.append(1 - G_ratio) \n",
    "        if G_ratio >= 0.5+tolerance or G_ratio <= 0.5-tolerance:\n",
    "            out_of_tolerance.append(True)\n",
    "        else:\n",
    "            out_of_tolerance.append(False)\n",
    "    if print_out_of_tolerance:\n",
    "        print(f'{sum(out_of_tolerance)}/{len(reads)} (={(sum(out_of_tolerance)/len(reads)):.2f}) are out of tolerance.')\n",
    "    return G_ratios, C_ratios, out_of_tolerance "
   ]
  },
  {
   "cell_type": "code",
   "execution_count": 3,
   "metadata": {},
   "outputs": [
    {
     "name": "stdout",
     "output_type": "stream",
     "text": [
      "Length without overlap: 93750\n",
      "Length of the shortest string: 15635\n",
      "It became 83.323% shorter compared to the concatenated chain.\n"
     ]
    }
   ],
   "source": [
    "hexamers = generate_k_mer_list('ATCGU', 6)\n",
    "\n",
    "print(f'Length without overlap: {len(combine_strings(hexamers))}')\n",
    "shortest_hexamer_chain = shortest_chain(hexamers)\n",
    "print(f'Length of the shortest string: {len(shortest_hexamer_chain)}')\n",
    "print(f'It became {round(100 - len(shortest_hexamer_chain)/len(combine_strings(hexamers))*100, 3)}% shorter compared to the concatenated chain.')"
   ]
  },
  {
   "cell_type": "markdown",
   "metadata": {},
   "source": [
    "---\n",
    "---\n",
    "---"
   ]
  },
  {
   "cell_type": "code",
   "execution_count": 4,
   "metadata": {},
   "outputs": [],
   "source": [
    "def generate_reads_v1(k_mers, max_read_len=240):\n",
    "    # the result will be stored in 'reads' var. \n",
    "    reads = [k_mers[0]]\n",
    "\n",
    "    for i in range(1, len(k_mers)):\n",
    "        # the number of possible overlapping bases\n",
    "        overlap = len(k_mers[0]) - 1\n",
    "        # If the k-mer already exists in a read, do not append it to the result.\n",
    "        if not any(k_mers[i] in s for s in reads): \n",
    "            # backtracking until the k-mer matches the end of the read.\n",
    "            while overlap >= 0: \n",
    "                # if the read end with the same character(s) as the hexamer begin.\n",
    "                if reads[-1].endswith(k_mers[i][:overlap]):\n",
    "                    # break the while loop\n",
    "                    break\n",
    "                # there is no overlap with n character --> try with n-1\n",
    "                overlap -= 1\n",
    "            # check if the hexamer can be appended\n",
    "            if len(reads[-1]) + len(k_mers[i][overlap:]) <= max_read_len:\n",
    "                # append if it is possible\n",
    "                reads[-1] += k_mers[i][overlap:]\n",
    "            else:\n",
    "                # create a new read \n",
    "                reads.append(k_mers[i])        \n",
    "                \n",
    "    return np.array(reads)               "
   ]
  },
  {
   "cell_type": "code",
   "execution_count": 5,
   "metadata": {},
   "outputs": [
    {
     "data": {
      "text/plain": [
       "array(['AAAAAATAAAAACAAAAAGAAAAAUAAAATTAAAATCAAAATGAAAATUAAAACTAAAACCAAAACGAAAACUAAAAGTAAAAGCAAAAGGAAAAGUAAAAUTAAAAUCAAAAUGAAAAUUAAATATAAATACAAATAGAAATAUAAATTTAAATTCAAATTGAAATTUAAATCTAAATCCAAATCGAAATCUAAATGTAAATGCAAATGGAAATGUAAATUTAAATUCAAATUG',\n",
       "       'AAUAAUATTAAUATCAAUATGAAUATUAAUACTAAUACCAAUACGAAUACUAAUAGTAAUAGCAAUAGGAAUAGUAAUAUTAAUAUCAAUAUGAAUAUUAAUTATAAUTACAAUTAGAAUTAUAAUTTTAAUTTCAAUTTGAAUTTUAAUTCTAAUTCCAAUTCGAAUTCUAAUTGTAAUTGCAAUTGGAAUTGUAAUTUTAAUTUCAAUTUGAAUTUUAAUCATAAUCACAAUCAG',\n",
       "       'ATGCTUATGCCTATGCCCATGCCGATGCCUATGCGTATGCGCATGCGGATGCGUATGCUTATGCUCATGCUGATGCUUATGGACATGGAGATGGAUATGGTTATGGTCATGGTGATGGTUATGGCTATGGCCATGGCGATGGCUATGGGTATGGGCATGGGGATGGGUATGGUTATGGUCATGGUGATGGUUATGUACATGUAGATGUAUATGUTTATGUTCATGUTGATGUTUATGUCT',\n",
       "       'ACGCCTACGCCCACGCCGACGCCUACGCGTACGCGCACGCGGACGCGUACGCUTACGCUCACGCUGACGCUUACGGAGACGGAUACGGTTACGGTCACGGTGACGGTUACGGCTACGGCCACGGCGACGGCUACGGGTACGGGCACGGGGACGGGUACGGUTACGGUCACGGUGACGGUUACGUAGACGUAUACGUTTACGUTCACGUTGACGUTUACGUCTACGUCCACGUCGACGUCU',\n",
       "       'AGUTTTAGUTTCAGUTTGAGUTTUAGUTCTAGUTCCAGUTCGAGUTCUAGUTGTAGUTGCAGUTGGAGUTGUAGUTUTAGUTUCAGUTUGAGUTUUAGUCAUAGUCTTAGUCTCAGUCTGAGUCTUAGUCCTAGUCCCAGUCCGAGUCCUAGUCGTAGUCGCAGUCGGAGUCGUAGUCUTAGUCUCAGUCUGAGUCUUAGUGAUAGUGTTAGUGTCAGUGTGAGUGTUAGUGCTAGUGCC',\n",
       "       'TTTGUCTTTGUGTTTGUUTTTUTCTTTUTGTTTUTUTTTUCCTTTUCGTTTUCUTTTUGCTTTUGGTTTUGUTTTUUCTTTUUGTTTUUUTTCTTCTTGTTCTTUTTCTCCTTCTCGTTCTCUTTCTGCTTCTGGTTCTGUTTCTUCTTCTUGTTCTUUTTCCTCTTCCTGTTCCTUTTCCCCTTCCCGTTCCCUTTCCGCTTCCGGTTCCGUTTCCUCTTCCUGTTCCUUTTCGTC',\n",
       "       'TGGGCGTGGGCUTGGGGCTGGGGGTGGGGUTGGGUCTGGGUGTGGGUUTGGUTUTGGUCCTGGUCGTGGUCUTGGUGCTGGUGGTGGUGUTGGUUCTGGUUGTGGUUUTGUAUGTGUTGUTUCTGUTUGTGUTUUTGUCTUTGUCCCTGUCCGTGUCCUTGUCGCTGUCGGTGUCGUTGUCUCTGUCUGTGUCUUTGUGTUTGUGCCTGUGCGTGUGCUTGUGGCTGUGGGTGUGGU',\n",
       "       'UUTUTUUTUGTUUCCCCUUCCGCUUCGCGUUCUCUUGGGGUUGGUGUUGUGUUUTTTUUUTCTUUUTGTUUUTUTUUUCCCUUUCUCUUUGGGUUUGUGUUUUTTUUUUCCUUUUGGUUUUUCUUUUUU'],\n",
       "      dtype='<U240')"
      ]
     },
     "execution_count": 5,
     "metadata": {},
     "output_type": "execute_result"
    }
   ],
   "source": [
    "reads = generate_reads_v1(hexamers, max_read_len=240)\n",
    "# show each tenth rows\n",
    "reads[::10]"
   ]
  },
  {
   "cell_type": "code",
   "execution_count": 6,
   "metadata": {},
   "outputs": [
    {
     "name": "stdout",
     "output_type": "stream",
     "text": [
      "235, 240, 237, 240, 239, 237, 240, 237, 240, 239, 237, 240, 236, 240, 236, 240, 237, 240, 239, 237, \n",
      "240, 237, 240, 239, 237, 240, 239, 237, 240, 237, 240, 236, 238, 236, 237, 240, 237, 240, 240, 237, \n",
      "240, 239, 237, 237, 240, 235, 240, 237, 240, 239, 237, 237, 236, 240, 239, 236, 240, 237, 238, 237, \n",
      "237, 240, 237, 237, 240, 238, 236, 237, 238, 235, 129, "
     ]
    }
   ],
   "source": [
    "# lenght of all rows\n",
    "for i, r in enumerate(reads):\n",
    "    print(len(r), end=', ')\n",
    "    if i%20 == 19: print()"
   ]
  },
  {
   "cell_type": "code",
   "execution_count": 7,
   "metadata": {},
   "outputs": [
    {
     "name": "stdout",
     "output_type": "stream",
     "text": [
      "\\begin{run_chech()}\n",
      "  Length of the chain: 16798\n",
      "  frequency - the number of k-mers:\n",
      "  1 - 14869\n",
      "  2 - 713\n",
      "  3 - 38\n",
      "  4 - 5\n",
      "\\end{run_chech()}\n"
     ]
    }
   ],
   "source": [
    "run_chech(reads, hexamers)"
   ]
  },
  {
   "cell_type": "code",
   "execution_count": 8,
   "metadata": {},
   "outputs": [
    {
     "name": "stdout",
     "output_type": "stream",
     "text": [
      "51/71 (=0.72) are out of tolerance.\n"
     ]
    }
   ],
   "source": [
    "_ = calculate_GC_ratio(reads, print_out_of_tolerance=True)"
   ]
  },
  {
   "cell_type": "markdown",
   "metadata": {},
   "source": [
    "### --> Too many frequently occurring hexamers.\n",
    "The problem of ratio is unsolved here."
   ]
  }
 ],
 "metadata": {
  "kernelspec": {
   "display_name": "Python 3",
   "language": "python",
   "name": "python3"
  },
  "language_info": {
   "codemirror_mode": {
    "name": "ipython",
    "version": 3
   },
   "file_extension": ".py",
   "mimetype": "text/x-python",
   "name": "python",
   "nbconvert_exporter": "python",
   "pygments_lexer": "ipython3",
   "version": "3.8.5"
  }
 },
 "nbformat": 4,
 "nbformat_minor": 4
}
