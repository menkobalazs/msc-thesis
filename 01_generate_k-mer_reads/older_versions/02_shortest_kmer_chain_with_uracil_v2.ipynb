{
 "cells": [
  {
   "cell_type": "markdown",
   "metadata": {},
   "source": [
    "# The shortest chain which contains all hexamers from all 5 bases (A,T,C,G,U)."
   ]
  },
  {
   "cell_type": "markdown",
   "metadata": {},
   "source": [
    "Possible bases\n",
    "- Adenine\n",
    "- Thymine\n",
    "- Cytosine\n",
    "- Guanine\n",
    "- Uracil"
   ]
  },
  {
   "cell_type": "code",
   "execution_count": 1,
   "metadata": {},
   "outputs": [],
   "source": [
    "# packages\n",
    "import numpy as np\n",
    "import itertools"
   ]
  },
  {
   "cell_type": "code",
   "execution_count": 2,
   "metadata": {},
   "outputs": [],
   "source": [
    "# functions\n",
    "def combine_strings(string):\n",
    "    ''' Add strings to each other. '''\n",
    "    return ''.join(string)\n",
    "\n",
    "\n",
    "def generate_k_mer_list(possible_bases, k_mer):\n",
    "    ''' All possible repeated variations of k-mers. '''\n",
    "    itr_prod = itertools.product(possible_bases, repeat=k_mer)\n",
    "    k_mer_list = []\n",
    "    for i in range(len(possible_bases)**k_mer):\n",
    "        k_mer_list.append(combine_strings(next(itr_prod)))\n",
    "    return np.array(k_mer_list)\n",
    "\n",
    "\n",
    "def shortest_chain(k_mers): ## --> ChatGPT code, promt: given the following array; create the shortest string which contains all element of the given array\n",
    "    '''\n",
    "    With the help of ChatGPT, the shortest string that contains all possible hexamers,\n",
    "    extending it only as much as necessary so that if a given k-mer already exists in the chain, it is not added again.\n",
    "    '''\n",
    "    result = k_mers[0]\n",
    "    for i in range(1, len(k_mers)):\n",
    "        overlap = len(k_mers[i]) - 1\n",
    "        # If the k-mer already exists in the word chain, do not append it to the result.\n",
    "        if k_mers[i] not in result: # added to chatGPT code\n",
    "\n",
    "            while overlap >= 0: # Backtracking until the k-mer matches the end of the chain.\n",
    "                if result.endswith(k_mers[i][:overlap]):\n",
    "                    break\n",
    "                overlap -= 1\n",
    "            result += k_mers[i][overlap:]\n",
    "    return result\n",
    "\n",
    "\n",
    "def kmers_sorted_by_frequency(chain, k_mers):\n",
    "    ''' The frequency of possible k-mers in a given sequence in descending order. '''\n",
    "    numbers = {}\n",
    "    for element in k_mers:\n",
    "        n = chain.count(element)\n",
    "        numbers[element] = n\n",
    "    sort_numbers = np.array(sorted(numbers.items(), key=lambda x:x[1], reverse=True))\n",
    "    return sort_numbers\n",
    "\n",
    "\n",
    "def run_chech(chains, k_mers, print_count=True, num_of_skipped_bases=0):\n",
    "    ''' Counting identical frequencies --> how many k-mers appear n times in a sequence. '''\n",
    "    sort_numbers = kmers_sorted_by_frequency(chains, k_mers)\n",
    "    count = []\n",
    "    for i in range(1, int(sort_numbers[0,1])+1):\n",
    "        count.append([i, sum(np.array(sort_numbers[:,1], dtype=int) == i)])\n",
    "    # missing elemets \n",
    "    count.append([0, sum(np.array(sort_numbers[:,1], dtype=int) == 0)])\n",
    "    if print_count:\n",
    "        print('\\\\begin{run_chech()}')\n",
    "        print(f'  Length of the chain: {len(combine_strings(chains)) + num_of_skipped_bases}')\n",
    "        print('  frequency - the number of k-mers:')\n",
    "        for i in range(len(count)):\n",
    "            # print if element type is not missing\n",
    "            if count[i][1] !=0:\n",
    "                print(f'  {count[i][0]} - {count[i][1]}')\n",
    "        print('\\end{run_chech()}')\n",
    "    else:\n",
    "        return count  \n",
    "    return None\n",
    "\n",
    "\n",
    "def count_bases(shortest_chain_list, print_count=True):\n",
    "    ''' Count and print the number of bases. '''\n",
    "    bases = ['A', 'T', 'C', 'G', 'U']\n",
    "    count = {b: shortest_chain_list.count(b) for b in bases}\n",
    "    # Order the dictionary by count in descending order\n",
    "    count = dict(sorted(count.items(), key=lambda item: item[1], reverse=True))\n",
    "    if print_count:\n",
    "        print('\\\\begin{count_bases()}')\n",
    "        for base, cnt in count.items():\n",
    "            print(f'  {base}: {cnt}')\n",
    "        print('\\end{count_bases()}')\n",
    "        return None\n",
    "    return count\n",
    "\n",
    "\n",
    "\n",
    "def delete_k_mers(k_mer_list, k_mers_to_del=None):\n",
    "    ''' Delete given k-mers from a generated k-mer list. '''\n",
    "    mask = np.isin(k_mer_list, k_mers_to_del, invert=True)\n",
    "    k_mers_modified = k_mer_list[mask]\n",
    "    shortest_modified_k_mer_chain = shortest_chain(k_mers_modified)\n",
    "\n",
    "    run_chech(shortest_modified_k_mer_chain, k_mers_modified)\n",
    "\n",
    "    s = kmers_sorted_by_frequency(shortest_modified_k_mer_chain, k_mers_modified)\n",
    "    return s[np.array(s[:,1], dtype=int) == 2]\n",
    "\n",
    "\n",
    "def split_to_sequences(long_string, seq_length=240):\n",
    "    return np.array([long_string[i:i+seq_length] for i in range(0, len(long_string), seq_length)])"
   ]
  },
  {
   "cell_type": "markdown",
   "metadata": {},
   "source": [
    "---\n",
    "## Hexamers\n",
    "\n",
    "Permutation with Repetition:\n",
    "\n",
    "There are $5^6= 15625$ possible hexamers (see:  $\\texttt{hexamers}$ variable)\n",
    "\n",
    "$ 6 \\cdot 5^6= 93750$ base length chain which contains all hexamer **without overlapping**"
   ]
  },
  {
   "cell_type": "code",
   "execution_count": 3,
   "metadata": {},
   "outputs": [
    {
     "name": "stdout",
     "output_type": "stream",
     "text": [
      "There are 5**6=15625 possible hexamers.\n",
      "Length of the chain without overlap 6*5**6=93750.\n"
     ]
    }
   ],
   "source": [
    "print(f'There are 5**6={5**6} possible hexamers.')\n",
    "print(f'Length of the chain without overlap 6*5**6={6*5**6}.')"
   ]
  },
  {
   "cell_type": "code",
   "execution_count": 4,
   "metadata": {},
   "outputs": [
    {
     "name": "stdout",
     "output_type": "stream",
     "text": [
      "Length without overlap: 93750\n",
      "Length of the shortest string: 15635\n",
      "It became 83.323% shorter compared to the concatenated chain.\n"
     ]
    }
   ],
   "source": [
    "hexamers = generate_k_mer_list('GCTAU', 6)\n",
    "\n",
    "print(f'Length without overlap: {len(combine_strings(hexamers))}')\n",
    "shortest_hexamer_chain = shortest_chain(hexamers)\n",
    "print(f'Length of the shortest string: {len(shortest_hexamer_chain)}')\n",
    "print(f'It became {round(100 - len(shortest_hexamer_chain)/len(combine_strings(hexamers))*100, 3)}% shorter compared to the concatenated chain.')"
   ]
  },
  {
   "cell_type": "code",
   "execution_count": 5,
   "metadata": {},
   "outputs": [
    {
     "name": "stdout",
     "output_type": "stream",
     "text": [
      "\\begin{run_chech()}\n",
      "  Length of the chain: 15635\n",
      "  frequency - the number of k-mers:\n",
      "  1 - 15620\n",
      "  2 - 5\n",
      "\\end{run_chech()}\n"
     ]
    }
   ],
   "source": [
    "run_chech(shortest_hexamer_chain, hexamers)"
   ]
  },
  {
   "cell_type": "code",
   "execution_count": 6,
   "metadata": {},
   "outputs": [
    {
     "name": "stdout",
     "output_type": "stream",
     "text": [
      "\\begin{count_bases()}\n",
      "  G: 3130\n",
      "  U: 3130\n",
      "  A: 3125\n",
      "  T: 3125\n",
      "  C: 3125\n",
      "\\end{count_bases()}\n"
     ]
    }
   ],
   "source": [
    "count_bases(shortest_hexamer_chain)"
   ]
  },
  {
   "cell_type": "code",
   "execution_count": 7,
   "metadata": {},
   "outputs": [
    {
     "name": "stdout",
     "output_type": "stream",
     "text": [
      "Length without overlap: 93750\n",
      "Length of the shortest string: 31759\n",
      "It became 66.124% shorter compared to the concatenated chain.\n"
     ]
    }
   ],
   "source": [
    "### With random order --> worse solution\n",
    "hexamers2 = hexamers.copy()\n",
    "np.random.seed(42)\n",
    "np.random.shuffle(hexamers2)\n",
    "print(f'Length without overlap: {len(combine_strings(hexamers2))}')\n",
    "shortest_hexamer_chain2 = shortest_chain(hexamers2)\n",
    "print(f'Length of the shortest string: {len(shortest_hexamer_chain2)}')\n",
    "print(f'It became {round(100 - len(shortest_hexamer_chain2)/len(combine_strings(hexamers2))*100, 3)}% shorter compared to the concatenated chain.')\n"
   ]
  },
  {
   "cell_type": "code",
   "execution_count": 8,
   "metadata": {},
   "outputs": [
    {
     "name": "stdout",
     "output_type": "stream",
     "text": [
      "\\begin{run_chech()}\n",
      "  Length of the chain: 31759\n",
      "  frequency - the number of k-mers:\n",
      "  1 - 5786\n",
      "  2 - 5398\n",
      "  3 - 3034\n",
      "  4 - 1042\n",
      "  5 - 304\n",
      "  6 - 50\n",
      "  7 - 8\n",
      "  8 - 3\n",
      "\\end{run_chech()}\n"
     ]
    }
   ],
   "source": [
    "run_chech(shortest_hexamer_chain2, hexamers2)\n"
   ]
  },
  {
   "cell_type": "code",
   "execution_count": 9,
   "metadata": {},
   "outputs": [
    {
     "name": "stdout",
     "output_type": "stream",
     "text": [
      "\\begin{count_bases()}\n",
      "  C: 6421\n",
      "  U: 6355\n",
      "  T: 6352\n",
      "  A: 6323\n",
      "  G: 6308\n",
      "\\end{count_bases()}\n"
     ]
    }
   ],
   "source": [
    "count_bases(shortest_hexamer_chain2)"
   ]
  },
  {
   "cell_type": "code",
   "execution_count": 10,
   "metadata": {},
   "outputs": [],
   "source": [
    "if False: # Write shortest chain to txt file.\n",
    "    with open(\"shortest_hexamer_chain.txt\", \"w\") as file:\n",
    "        file.write(shortest_hexamer_chain)"
   ]
  },
  {
   "cell_type": "markdown",
   "metadata": {},
   "source": [
    "---\n",
    "---\n",
    "---"
   ]
  },
  {
   "cell_type": "code",
   "execution_count": 11,
   "metadata": {},
   "outputs": [
    {
     "data": {
      "text/plain": [
       "66"
      ]
     },
     "execution_count": 11,
     "metadata": {},
     "output_type": "execute_result"
    }
   ],
   "source": [
    "sequences = split_to_sequences(shortest_hexamer_chain)\n",
    "len(sequences)"
   ]
  },
  {
   "cell_type": "markdown",
   "metadata": {},
   "source": [
    "---\n",
    "\\* Solution 2) A part of the 240-chain is the useful hexamers, while the other part consists of G and C bases to restore the G-C ratio.\n",
    "For example: 200 characters are the useful hexamer, and the rest are C, to ensure the correct ratio.\n",
    "\n",
    "// not enough good\n"
   ]
  },
  {
   "cell_type": "code",
   "execution_count": 12,
   "metadata": {},
   "outputs": [],
   "source": [
    "shorter_seq = sequences[0][:200] + 40*'C'"
   ]
  },
  {
   "cell_type": "code",
   "execution_count": 13,
   "metadata": {},
   "outputs": [],
   "source": [
    "hex_count_example =  count_bases(shorter_seq, print_count=False)"
   ]
  },
  {
   "cell_type": "code",
   "execution_count": 14,
   "metadata": {},
   "outputs": [
    {
     "data": {
      "text/plain": [
       "(0.648, 0.352)"
      ]
     },
     "execution_count": 14,
     "metadata": {},
     "output_type": "execute_result"
    }
   ],
   "source": [
    "round(hex_count_example['G'] / (hex_count_example['G'] + hex_count_example['C']), 3) , round(hex_count_example['C'] / (hex_count_example['G'] + hex_count_example['C']), 3)"
   ]
  },
  {
   "cell_type": "code",
   "execution_count": 15,
   "metadata": {},
   "outputs": [
    {
     "data": {
      "text/plain": [
       "'GGGGGGCGGGGGTGGGGGAGGGGGUGGGGCCGGGGCTGGGGCAGGGGCUGGGGTCGGGGTTGGGGTAGGGGTUGGGGACGGGGATGGGGAAGGGGAUGGGGUCGGGGUTGGGGUAGGGGUUGGGCGCGGGCGTGGGCGAGGGCGUGGGCCCGGGCCTGGGCCAGGGCCUGGGCTCGGGCTTGGGCTAGGGCTUGGGCACGCCCCCCCCCCCCCCCCCCCCCCCCCCCCCCCCCCCCCCCC'"
      ]
     },
     "execution_count": 15,
     "metadata": {},
     "output_type": "execute_result"
    }
   ],
   "source": [
    "shorter_seq"
   ]
  }
 ],
 "metadata": {
  "kernelspec": {
   "display_name": "Python 3",
   "language": "python",
   "name": "python3"
  },
  "language_info": {
   "codemirror_mode": {
    "name": "ipython",
    "version": 3
   },
   "file_extension": ".py",
   "mimetype": "text/x-python",
   "name": "python",
   "nbconvert_exporter": "python",
   "pygments_lexer": "ipython3",
   "version": "3.8.5"
  }
 },
 "nbformat": 4,
 "nbformat_minor": 4
}
