{
 "cells": [
  {
   "cell_type": "markdown",
   "metadata": {},
   "source": [
    "# Generate reads which contains all $k$-mers from all 4 bases (A,T,C,G)."
   ]
  },
  {
   "cell_type": "code",
   "execution_count": 1,
   "metadata": {},
   "outputs": [],
   "source": [
    "# functions with packages\n",
    "from functions import *"
   ]
  },
  {
   "cell_type": "code",
   "execution_count": 2,
   "metadata": {},
   "outputs": [],
   "source": [
    "k, num_of_reads, min_overlap = 7, 500, 7"
   ]
  },
  {
   "cell_type": "code",
   "execution_count": 3,
   "metadata": {},
   "outputs": [],
   "source": [
    "# Generate all possible k-mers:\n",
    "kmers = generate_k_mer_list('ACTG', k)\n",
    "np.random.seed(137) # random seed for reproduction\n",
    "np.random.shuffle(kmers)"
   ]
  },
  {
   "cell_type": "code",
   "execution_count": 4,
   "metadata": {},
   "outputs": [
    {
     "name": "stdout",
     "output_type": "stream",
     "text": [
      "CPU times: user 1min 33s, sys: 2.68 ms, total: 1min 33s\n",
      "Wall time: 1min 33s\n"
     ]
    }
   ],
   "source": [
    "%%time\n",
    "reads, skipped_kmers = generate_reads(kmers, min_overlap=min_overlap, num_of_reads=num_of_reads, print_infos=0)"
   ]
  },
  {
   "cell_type": "code",
   "execution_count": 5,
   "metadata": {},
   "outputs": [
    {
     "name": "stdout",
     "output_type": "stream",
     "text": [
      "\\begin{run_chech()}\n",
      "  frequency - the number of k-mers:\n",
      "  2 - 14\n",
      "  3 - 107\n",
      "  4 - 897\n",
      "  5 - 2048\n",
      "  6 - 2797\n",
      "  7 - 2850\n",
      "  8 - 2692\n",
      "  9 - 2076\n",
      "  10 - 1377\n",
      "  11 - 790\n",
      "  12 - 403\n",
      "  13 - 205\n",
      "  14 - 80\n",
      "  15 - 33\n",
      "  16 - 13\n",
      "  17 - 2\n",
      "\\end{run_chech()}\n"
     ]
    }
   ],
   "source": [
    "# Append the skipped k-mers to the reads\n",
    "reads2 = append_skipped_k_mers(reads, skipped_kmers)\n",
    "#fill with rare bases to READ_LENGHT long sequence.\n",
    "reads3 = fill_reads_to_READ_LENGHT(reads2, kmers)\n",
    "check_frequency(reads3, kmers)"
   ]
  },
  {
   "cell_type": "code",
   "execution_count": 6,
   "metadata": {},
   "outputs": [
    {
     "name": "stdout",
     "output_type": "stream",
     "text": [
      "Data saved to 'data/1015-1541_7-mer_500-reads_7-min-overlap.txt'\n"
     ]
    }
   ],
   "source": [
    "if int(kmers_sorted_by_frequency(reads3, kmers)[0,1]):\n",
    "    save_to_txt(reads3, default_params=[k, num_of_reads, min_overlap]) \n",
    "else:\n",
    "    print('Data was not saved due to missing k-mer(s).')"
   ]
  },
  {
   "cell_type": "code",
   "execution_count": 7,
   "metadata": {},
   "outputs": [
    {
     "name": "stdout",
     "output_type": "stream",
     "text": [
      "\\begin{run_chech()}\n",
      "  frequency - the number of k-mers:\n",
      "  1 - 19254\n",
      "  2 - 19440\n",
      "  3 - 11600\n",
      "  4 - 4805\n",
      "  5 - 1477\n",
      "  6 - 384\n",
      "  7 - 77\n",
      "  8 - 5\n",
      "  9 - 6\n",
      "  0 - 8488\n",
      "\\end{run_chech()}\n"
     ]
    }
   ],
   "source": [
    "octamers  = generate_k_mer_list('ACTG', 8)\n",
    "check_frequency(reads3, octamers)"
   ]
  },
  {
   "cell_type": "code",
   "execution_count": 8,
   "metadata": {},
   "outputs": [],
   "source": [
    "if False:\n",
    "    save_to_excel(add_limit_sequences(reads3), 'data/sequences.xlsx') "
   ]
  }
 ],
 "metadata": {
  "finalized": {
   "timestamp": 1728981438588,
   "trusted": true
  },
  "kernelspec": {
   "display_name": "Python [conda env:base] *",
   "language": "python",
   "name": "conda-base-py"
  },
  "language_info": {
   "codemirror_mode": {
    "name": "ipython",
    "version": 3
   },
   "file_extension": ".py",
   "mimetype": "text/x-python",
   "name": "python",
   "nbconvert_exporter": "python",
   "pygments_lexer": "ipython3",
   "version": "3.12.2"
  }
 },
 "nbformat": 4,
 "nbformat_minor": 4
}
